{
 "cells": [
  {
   "cell_type": "code",
   "execution_count": 1,
   "metadata": {
    "tags": []
   },
   "outputs": [],
   "source": [
    "import pandas as pd\n",
    "credits = pd.read_csv('credits.csv')\n",
    "titles = pd.read_csv('titles.csv')"
   ]
  },
  {
   "cell_type": "code",
   "execution_count": 2,
   "metadata": {
    "tags": []
   },
   "outputs": [
    {
     "name": "stdout",
     "output_type": "stream",
     "text": [
      "(1854, 15)\n"
     ]
    },
    {
     "data": {
      "text/html": [
       "<div>\n",
       "<style scoped>\n",
       "    .dataframe tbody tr th:only-of-type {\n",
       "        vertical-align: middle;\n",
       "    }\n",
       "\n",
       "    .dataframe tbody tr th {\n",
       "        vertical-align: top;\n",
       "    }\n",
       "\n",
       "    .dataframe thead th {\n",
       "        text-align: right;\n",
       "    }\n",
       "</style>\n",
       "<table border=\"1\" class=\"dataframe\">\n",
       "  <thead>\n",
       "    <tr style=\"text-align: right;\">\n",
       "      <th></th>\n",
       "      <th>id</th>\n",
       "      <th>title</th>\n",
       "      <th>type</th>\n",
       "      <th>description</th>\n",
       "      <th>release_year</th>\n",
       "      <th>age_certification</th>\n",
       "      <th>runtime</th>\n",
       "      <th>genres</th>\n",
       "      <th>production_countries</th>\n",
       "      <th>seasons</th>\n",
       "      <th>imdb_id</th>\n",
       "      <th>imdb_score</th>\n",
       "      <th>imdb_votes</th>\n",
       "      <th>tmdb_popularity</th>\n",
       "      <th>tmdb_score</th>\n",
       "    </tr>\n",
       "  </thead>\n",
       "  <tbody>\n",
       "    <tr>\n",
       "      <th>0</th>\n",
       "      <td>tm89464</td>\n",
       "      <td>Miracle on 34th Street</td>\n",
       "      <td>MOVIE</td>\n",
       "      <td>Kris Kringle, seemingly the embodiment of Sant...</td>\n",
       "      <td>1947</td>\n",
       "      <td>G</td>\n",
       "      <td>96</td>\n",
       "      <td>['family', 'comedy', 'drama']</td>\n",
       "      <td>['US']</td>\n",
       "      <td>NaN</td>\n",
       "      <td>tt0039628</td>\n",
       "      <td>7.9</td>\n",
       "      <td>50969.0</td>\n",
       "      <td>23.515</td>\n",
       "      <td>7.388</td>\n",
       "    </tr>\n",
       "    <tr>\n",
       "      <th>1</th>\n",
       "      <td>tm61729</td>\n",
       "      <td>The Adventures of Ichabod and Mr. Toad</td>\n",
       "      <td>MOVIE</td>\n",
       "      <td>The Wind in the Willows: Concise version of Ke...</td>\n",
       "      <td>1950</td>\n",
       "      <td>G</td>\n",
       "      <td>68</td>\n",
       "      <td>['horror', 'fantasy', 'animation', 'family', '...</td>\n",
       "      <td>['US']</td>\n",
       "      <td>NaN</td>\n",
       "      <td>tt0041094</td>\n",
       "      <td>6.9</td>\n",
       "      <td>16502.0</td>\n",
       "      <td>16.194</td>\n",
       "      <td>6.500</td>\n",
       "    </tr>\n",
       "  </tbody>\n",
       "</table>\n",
       "</div>"
      ],
      "text/plain": [
       "        id                                   title   type  \\\n",
       "0  tm89464                  Miracle on 34th Street  MOVIE   \n",
       "1  tm61729  The Adventures of Ichabod and Mr. Toad  MOVIE   \n",
       "\n",
       "                                         description  release_year  \\\n",
       "0  Kris Kringle, seemingly the embodiment of Sant...          1947   \n",
       "1  The Wind in the Willows: Concise version of Ke...          1950   \n",
       "\n",
       "  age_certification  runtime  \\\n",
       "0                 G       96   \n",
       "1                 G       68   \n",
       "\n",
       "                                              genres production_countries  \\\n",
       "0                      ['family', 'comedy', 'drama']               ['US']   \n",
       "1  ['horror', 'fantasy', 'animation', 'family', '...               ['US']   \n",
       "\n",
       "   seasons    imdb_id  imdb_score  imdb_votes  tmdb_popularity  tmdb_score  \n",
       "0      NaN  tt0039628         7.9     50969.0           23.515       7.388  \n",
       "1      NaN  tt0041094         6.9     16502.0           16.194       6.500  "
      ]
     },
     "execution_count": 2,
     "metadata": {},
     "output_type": "execute_result"
    }
   ],
   "source": [
    "print(titles.shape)\n",
    "titles.head(2)"
   ]
  },
  {
   "cell_type": "code",
   "execution_count": 3,
   "metadata": {
    "tags": []
   },
   "outputs": [
    {
     "data": {
      "text/html": [
       "<div>\n",
       "<style scoped>\n",
       "    .dataframe tbody tr th:only-of-type {\n",
       "        vertical-align: middle;\n",
       "    }\n",
       "\n",
       "    .dataframe tbody tr th {\n",
       "        vertical-align: top;\n",
       "    }\n",
       "\n",
       "    .dataframe thead th {\n",
       "        text-align: right;\n",
       "    }\n",
       "</style>\n",
       "<table border=\"1\" class=\"dataframe\">\n",
       "  <thead>\n",
       "    <tr style=\"text-align: right;\">\n",
       "      <th></th>\n",
       "      <th>person_id</th>\n",
       "      <th>id</th>\n",
       "      <th>name</th>\n",
       "      <th>character</th>\n",
       "      <th>role</th>\n",
       "    </tr>\n",
       "  </thead>\n",
       "  <tbody>\n",
       "    <tr>\n",
       "      <th>0</th>\n",
       "      <td>35549</td>\n",
       "      <td>tm89464</td>\n",
       "      <td>Maureen O'Hara</td>\n",
       "      <td>Doris Walker</td>\n",
       "      <td>ACTOR</td>\n",
       "    </tr>\n",
       "    <tr>\n",
       "      <th>1</th>\n",
       "      <td>57832</td>\n",
       "      <td>tm89464</td>\n",
       "      <td>John Payne</td>\n",
       "      <td>Fred Gailey</td>\n",
       "      <td>ACTOR</td>\n",
       "    </tr>\n",
       "    <tr>\n",
       "      <th>2</th>\n",
       "      <td>57833</td>\n",
       "      <td>tm89464</td>\n",
       "      <td>Edmund Gwenn</td>\n",
       "      <td>Kris Kringle</td>\n",
       "      <td>ACTOR</td>\n",
       "    </tr>\n",
       "    <tr>\n",
       "      <th>3</th>\n",
       "      <td>25096</td>\n",
       "      <td>tm89464</td>\n",
       "      <td>Natalie Wood</td>\n",
       "      <td>Susan Walker</td>\n",
       "      <td>ACTOR</td>\n",
       "    </tr>\n",
       "    <tr>\n",
       "      <th>4</th>\n",
       "      <td>27185</td>\n",
       "      <td>tm89464</td>\n",
       "      <td>Porter Hall</td>\n",
       "      <td>Granville Sawyer</td>\n",
       "      <td>ACTOR</td>\n",
       "    </tr>\n",
       "  </tbody>\n",
       "</table>\n",
       "</div>"
      ],
      "text/plain": [
       "   person_id       id            name         character   role\n",
       "0      35549  tm89464  Maureen O'Hara      Doris Walker  ACTOR\n",
       "1      57832  tm89464      John Payne       Fred Gailey  ACTOR\n",
       "2      57833  tm89464    Edmund Gwenn      Kris Kringle  ACTOR\n",
       "3      25096  tm89464    Natalie Wood      Susan Walker  ACTOR\n",
       "4      27185  tm89464     Porter Hall  Granville Sawyer  ACTOR"
      ]
     },
     "execution_count": 3,
     "metadata": {},
     "output_type": "execute_result"
    }
   ],
   "source": [
    "credits.head()"
   ]
  },
  {
   "cell_type": "code",
   "execution_count": 4,
   "metadata": {
    "tags": []
   },
   "outputs": [
    {
     "data": {
      "text/plain": [
       "{'ACTOR', 'DIRECTOR'}"
      ]
     },
     "execution_count": 4,
     "metadata": {},
     "output_type": "execute_result"
    }
   ],
   "source": [
    "set(credits.role)"
   ]
  },
  {
   "cell_type": "code",
   "execution_count": 5,
   "metadata": {
    "tags": []
   },
   "outputs": [],
   "source": [
    "director = credits[credits['role'] == 'DIRECTOR']"
   ]
  },
  {
   "cell_type": "code",
   "execution_count": 6,
   "metadata": {
    "tags": []
   },
   "outputs": [],
   "source": [
    "director = director[['id','name']]"
   ]
  },
  {
   "cell_type": "code",
   "execution_count": 7,
   "metadata": {
    "tags": []
   },
   "outputs": [
    {
     "data": {
      "text/html": [
       "<div>\n",
       "<style scoped>\n",
       "    .dataframe tbody tr th:only-of-type {\n",
       "        vertical-align: middle;\n",
       "    }\n",
       "\n",
       "    .dataframe tbody tr th {\n",
       "        vertical-align: top;\n",
       "    }\n",
       "\n",
       "    .dataframe thead th {\n",
       "        text-align: right;\n",
       "    }\n",
       "</style>\n",
       "<table border=\"1\" class=\"dataframe\">\n",
       "  <thead>\n",
       "    <tr style=\"text-align: right;\">\n",
       "      <th></th>\n",
       "      <th>id</th>\n",
       "      <th>name</th>\n",
       "    </tr>\n",
       "  </thead>\n",
       "  <tbody>\n",
       "    <tr>\n",
       "      <th>65</th>\n",
       "      <td>tm89464</td>\n",
       "      <td>George Seaton</td>\n",
       "    </tr>\n",
       "    <tr>\n",
       "      <th>79</th>\n",
       "      <td>tm61729</td>\n",
       "      <td>James Algar</td>\n",
       "    </tr>\n",
       "    <tr>\n",
       "      <th>80</th>\n",
       "      <td>tm61729</td>\n",
       "      <td>Clyde Geronimi</td>\n",
       "    </tr>\n",
       "    <tr>\n",
       "      <th>81</th>\n",
       "      <td>tm61729</td>\n",
       "      <td>Jack Kinney</td>\n",
       "    </tr>\n",
       "    <tr>\n",
       "      <th>105</th>\n",
       "      <td>tm61052</td>\n",
       "      <td>Wilfred Jackson</td>\n",
       "    </tr>\n",
       "    <tr>\n",
       "      <th>...</th>\n",
       "      <td>...</td>\n",
       "      <td>...</td>\n",
       "    </tr>\n",
       "    <tr>\n",
       "      <th>30674</th>\n",
       "      <td>tm1314337</td>\n",
       "      <td>Brendan Walter</td>\n",
       "    </tr>\n",
       "    <tr>\n",
       "      <th>30675</th>\n",
       "      <td>tm1314337</td>\n",
       "      <td>Jacob Bixenman</td>\n",
       "    </tr>\n",
       "    <tr>\n",
       "      <th>30680</th>\n",
       "      <td>tm1299578</td>\n",
       "      <td>William Pinkney III</td>\n",
       "    </tr>\n",
       "    <tr>\n",
       "      <th>30687</th>\n",
       "      <td>tm1075680</td>\n",
       "      <td>Kevin Bachar</td>\n",
       "    </tr>\n",
       "    <tr>\n",
       "      <th>30688</th>\n",
       "      <td>tm1227149</td>\n",
       "      <td>Adam Geiger</td>\n",
       "    </tr>\n",
       "  </tbody>\n",
       "</table>\n",
       "<p>1567 rows × 2 columns</p>\n",
       "</div>"
      ],
      "text/plain": [
       "              id                 name\n",
       "65       tm89464        George Seaton\n",
       "79       tm61729          James Algar\n",
       "80       tm61729       Clyde Geronimi\n",
       "81       tm61729          Jack Kinney\n",
       "105      tm61052      Wilfred Jackson\n",
       "...          ...                  ...\n",
       "30674  tm1314337       Brendan Walter\n",
       "30675  tm1314337       Jacob Bixenman\n",
       "30680  tm1299578  William Pinkney III\n",
       "30687  tm1075680         Kevin Bachar\n",
       "30688  tm1227149          Adam Geiger\n",
       "\n",
       "[1567 rows x 2 columns]"
      ]
     },
     "execution_count": 7,
     "metadata": {},
     "output_type": "execute_result"
    }
   ],
   "source": [
    "director"
   ]
  },
  {
   "cell_type": "code",
   "execution_count": 8,
   "metadata": {},
   "outputs": [],
   "source": [
    "#create colume of all actors in each movie id\n",
    "director2 = director.groupby('id').agg({'name':lambda x: list(x)})"
   ]
  },
  {
   "cell_type": "code",
   "execution_count": 9,
   "metadata": {},
   "outputs": [],
   "source": [
    "director2 = director.groupby(['id'], as_index=False)\n",
    "director3 = director2.agg({'name':lambda x: list(x)})"
   ]
  },
  {
   "cell_type": "code",
   "execution_count": 10,
   "metadata": {},
   "outputs": [
    {
     "data": {
      "text/html": [
       "<div>\n",
       "<style scoped>\n",
       "    .dataframe tbody tr th:only-of-type {\n",
       "        vertical-align: middle;\n",
       "    }\n",
       "\n",
       "    .dataframe tbody tr th {\n",
       "        vertical-align: top;\n",
       "    }\n",
       "\n",
       "    .dataframe thead th {\n",
       "        text-align: right;\n",
       "    }\n",
       "</style>\n",
       "<table border=\"1\" class=\"dataframe\">\n",
       "  <thead>\n",
       "    <tr style=\"text-align: right;\">\n",
       "      <th></th>\n",
       "      <th>id</th>\n",
       "      <th>name</th>\n",
       "    </tr>\n",
       "  </thead>\n",
       "  <tbody>\n",
       "    <tr>\n",
       "      <th>0</th>\n",
       "      <td>tm1</td>\n",
       "      <td>[George Lucas]</td>\n",
       "    </tr>\n",
       "    <tr>\n",
       "      <th>1</th>\n",
       "      <td>tm100013</td>\n",
       "      <td>[Robert Vince]</td>\n",
       "    </tr>\n",
       "    <tr>\n",
       "      <th>2</th>\n",
       "      <td>tm1001876</td>\n",
       "      <td>[Scott Bateman]</td>\n",
       "    </tr>\n",
       "    <tr>\n",
       "      <th>3</th>\n",
       "      <td>tm1002567</td>\n",
       "      <td>[Elizabeth Allen Rosenbaum]</td>\n",
       "    </tr>\n",
       "    <tr>\n",
       "      <th>4</th>\n",
       "      <td>tm1002614</td>\n",
       "      <td>[Mark Davis]</td>\n",
       "    </tr>\n",
       "    <tr>\n",
       "      <th>...</th>\n",
       "      <td>...</td>\n",
       "      <td>...</td>\n",
       "    </tr>\n",
       "    <tr>\n",
       "      <th>1286</th>\n",
       "      <td>ts81805</td>\n",
       "      <td>[Stephen Mizelas]</td>\n",
       "    </tr>\n",
       "    <tr>\n",
       "      <th>1287</th>\n",
       "      <td>ts81977</td>\n",
       "      <td>[Matt Danner]</td>\n",
       "    </tr>\n",
       "    <tr>\n",
       "      <th>1288</th>\n",
       "      <td>ts82077</td>\n",
       "      <td>[Nadège Laici]</td>\n",
       "    </tr>\n",
       "    <tr>\n",
       "      <th>1289</th>\n",
       "      <td>ts83336</td>\n",
       "      <td>[Eric Beaufils]</td>\n",
       "    </tr>\n",
       "    <tr>\n",
       "      <th>1290</th>\n",
       "      <td>ts88328</td>\n",
       "      <td>[Guillermo Navarro]</td>\n",
       "    </tr>\n",
       "  </tbody>\n",
       "</table>\n",
       "<p>1291 rows × 2 columns</p>\n",
       "</div>"
      ],
      "text/plain": [
       "             id                         name\n",
       "0           tm1               [George Lucas]\n",
       "1      tm100013               [Robert Vince]\n",
       "2     tm1001876              [Scott Bateman]\n",
       "3     tm1002567  [Elizabeth Allen Rosenbaum]\n",
       "4     tm1002614                 [Mark Davis]\n",
       "...         ...                          ...\n",
       "1286    ts81805            [Stephen Mizelas]\n",
       "1287    ts81977                [Matt Danner]\n",
       "1288    ts82077               [Nadège Laici]\n",
       "1289    ts83336              [Eric Beaufils]\n",
       "1290    ts88328          [Guillermo Navarro]\n",
       "\n",
       "[1291 rows x 2 columns]"
      ]
     },
     "execution_count": 10,
     "metadata": {},
     "output_type": "execute_result"
    }
   ],
   "source": [
    "director3"
   ]
  },
  {
   "cell_type": "code",
   "execution_count": 11,
   "metadata": {},
   "outputs": [
    {
     "data": {
      "text/html": [
       "<div>\n",
       "<style scoped>\n",
       "    .dataframe tbody tr th:only-of-type {\n",
       "        vertical-align: middle;\n",
       "    }\n",
       "\n",
       "    .dataframe tbody tr th {\n",
       "        vertical-align: top;\n",
       "    }\n",
       "\n",
       "    .dataframe thead th {\n",
       "        text-align: right;\n",
       "    }\n",
       "</style>\n",
       "<table border=\"1\" class=\"dataframe\">\n",
       "  <thead>\n",
       "    <tr style=\"text-align: right;\">\n",
       "      <th></th>\n",
       "      <th>id</th>\n",
       "      <th>name</th>\n",
       "    </tr>\n",
       "  </thead>\n",
       "  <tbody>\n",
       "    <tr>\n",
       "      <th>934</th>\n",
       "      <td>tm61729</td>\n",
       "      <td>[James Algar, Clyde Geronimi, Jack Kinney]</td>\n",
       "    </tr>\n",
       "  </tbody>\n",
       "</table>\n",
       "</div>"
      ],
      "text/plain": [
       "          id                                        name\n",
       "934  tm61729  [James Algar, Clyde Geronimi, Jack Kinney]"
      ]
     },
     "execution_count": 11,
     "metadata": {},
     "output_type": "execute_result"
    }
   ],
   "source": [
    "#check\n",
    "\n",
    "check_df = director3[director3['id'] == 'tm61729']  \n",
    "check_df"
   ]
  },
  {
   "cell_type": "code",
   "execution_count": 13,
   "metadata": {},
   "outputs": [
    {
     "data": {
      "text/plain": [
       "(1291, 2)"
      ]
     },
     "execution_count": 13,
     "metadata": {},
     "output_type": "execute_result"
    }
   ],
   "source": [
    "director3.shape"
   ]
  },
  {
   "cell_type": "code",
   "execution_count": 14,
   "metadata": {
    "tags": []
   },
   "outputs": [],
   "source": [
    "merged = titles.merge(director3, on='id', how='left')"
   ]
  },
  {
   "cell_type": "code",
   "execution_count": 15,
   "metadata": {
    "tags": []
   },
   "outputs": [],
   "source": [
    "merged = merged.rename(columns={'name': 'director'})"
   ]
  },
  {
   "cell_type": "code",
   "execution_count": 17,
   "metadata": {
    "tags": []
   },
   "outputs": [
    {
     "data": {
      "text/plain": [
       "(1854, 16)"
      ]
     },
     "execution_count": 17,
     "metadata": {},
     "output_type": "execute_result"
    }
   ],
   "source": [
    "merged.shape"
   ]
  },
  {
   "cell_type": "code",
   "execution_count": 18,
   "metadata": {},
   "outputs": [
    {
     "data": {
      "text/plain": [
       "True"
      ]
     },
     "execution_count": 18,
     "metadata": {},
     "output_type": "execute_result"
    }
   ],
   "source": [
    "merged['id'].is_unique"
   ]
  },
  {
   "cell_type": "code",
   "execution_count": 19,
   "metadata": {
    "tags": []
   },
   "outputs": [
    {
     "data": {
      "text/plain": [
       "id                       object\n",
       "title                    object\n",
       "type                     object\n",
       "description              object\n",
       "release_year              int64\n",
       "age_certification        object\n",
       "runtime                   int64\n",
       "genres                   object\n",
       "production_countries     object\n",
       "seasons                 float64\n",
       "imdb_id                  object\n",
       "imdb_score              float64\n",
       "imdb_votes              float64\n",
       "tmdb_popularity         float64\n",
       "tmdb_score              float64\n",
       "director                 object\n",
       "dtype: object"
      ]
     },
     "execution_count": 19,
     "metadata": {},
     "output_type": "execute_result"
    }
   ],
   "source": [
    "merged.dtypes"
   ]
  },
  {
   "cell_type": "code",
   "execution_count": 20,
   "metadata": {},
   "outputs": [
    {
     "data": {
      "text/html": [
       "<div>\n",
       "<style scoped>\n",
       "    .dataframe tbody tr th:only-of-type {\n",
       "        vertical-align: middle;\n",
       "    }\n",
       "\n",
       "    .dataframe tbody tr th {\n",
       "        vertical-align: top;\n",
       "    }\n",
       "\n",
       "    .dataframe thead th {\n",
       "        text-align: right;\n",
       "    }\n",
       "</style>\n",
       "<table border=\"1\" class=\"dataframe\">\n",
       "  <thead>\n",
       "    <tr style=\"text-align: right;\">\n",
       "      <th></th>\n",
       "      <th>id</th>\n",
       "      <th>title</th>\n",
       "      <th>type</th>\n",
       "      <th>description</th>\n",
       "      <th>release_year</th>\n",
       "      <th>age_certification</th>\n",
       "      <th>runtime</th>\n",
       "      <th>genres</th>\n",
       "      <th>production_countries</th>\n",
       "      <th>seasons</th>\n",
       "      <th>imdb_id</th>\n",
       "      <th>imdb_score</th>\n",
       "      <th>imdb_votes</th>\n",
       "      <th>tmdb_popularity</th>\n",
       "      <th>tmdb_score</th>\n",
       "      <th>director</th>\n",
       "    </tr>\n",
       "  </thead>\n",
       "  <tbody>\n",
       "    <tr>\n",
       "      <th>0</th>\n",
       "      <td>tm89464</td>\n",
       "      <td>Miracle on 34th Street</td>\n",
       "      <td>MOVIE</td>\n",
       "      <td>Kris Kringle, seemingly the embodiment of Sant...</td>\n",
       "      <td>1947</td>\n",
       "      <td>G</td>\n",
       "      <td>96</td>\n",
       "      <td>['family', 'comedy', 'drama']</td>\n",
       "      <td>['US']</td>\n",
       "      <td>NaN</td>\n",
       "      <td>tt0039628</td>\n",
       "      <td>7.9</td>\n",
       "      <td>50969.0</td>\n",
       "      <td>23.515</td>\n",
       "      <td>7.388</td>\n",
       "      <td>[George Seaton]</td>\n",
       "    </tr>\n",
       "  </tbody>\n",
       "</table>\n",
       "</div>"
      ],
      "text/plain": [
       "        id                   title   type  \\\n",
       "0  tm89464  Miracle on 34th Street  MOVIE   \n",
       "\n",
       "                                         description  release_year  \\\n",
       "0  Kris Kringle, seemingly the embodiment of Sant...          1947   \n",
       "\n",
       "  age_certification  runtime                         genres  \\\n",
       "0                 G       96  ['family', 'comedy', 'drama']   \n",
       "\n",
       "  production_countries  seasons    imdb_id  imdb_score  imdb_votes  \\\n",
       "0               ['US']      NaN  tt0039628         7.9     50969.0   \n",
       "\n",
       "   tmdb_popularity  tmdb_score         director  \n",
       "0           23.515       7.388  [George Seaton]  "
      ]
     },
     "execution_count": 20,
     "metadata": {},
     "output_type": "execute_result"
    }
   ],
   "source": [
    "merged.head(1)"
   ]
  },
  {
   "cell_type": "code",
   "execution_count": 21,
   "metadata": {
    "tags": []
   },
   "outputs": [
    {
     "data": {
      "text/plain": [
       "id                         0\n",
       "title                      0\n",
       "type                       0\n",
       "description                9\n",
       "release_year               0\n",
       "age_certification        451\n",
       "runtime                    0\n",
       "genres                     0\n",
       "production_countries       0\n",
       "seasons                 1314\n",
       "imdb_id                  478\n",
       "imdb_score               515\n",
       "imdb_votes               526\n",
       "tmdb_popularity           15\n",
       "tmdb_score               146\n",
       "director                 563\n",
       "dtype: int64"
      ]
     },
     "execution_count": 21,
     "metadata": {},
     "output_type": "execute_result"
    }
   ],
   "source": [
    "merged.isna().sum()"
   ]
  },
  {
   "cell_type": "code",
   "execution_count": 26,
   "metadata": {},
   "outputs": [],
   "source": [
    "#replace director Nan with\n",
    "merged['director'] = merged['director'].fillna('')"
   ]
  },
  {
   "cell_type": "code",
   "execution_count": 27,
   "metadata": {},
   "outputs": [
    {
     "data": {
      "text/plain": [
       "id                         0\n",
       "title                      0\n",
       "type                       0\n",
       "description                9\n",
       "release_year               0\n",
       "age_certification        451\n",
       "runtime                    0\n",
       "genres                     0\n",
       "production_countries       0\n",
       "seasons                 1314\n",
       "imdb_id                  478\n",
       "imdb_score               515\n",
       "imdb_votes               526\n",
       "tmdb_popularity           15\n",
       "tmdb_score               146\n",
       "director                   0\n",
       "dtype: int64"
      ]
     },
     "execution_count": 27,
     "metadata": {},
     "output_type": "execute_result"
    }
   ],
   "source": [
    "merged.isna().sum()"
   ]
  },
  {
   "cell_type": "code",
   "execution_count": 29,
   "metadata": {
    "tags": []
   },
   "outputs": [
    {
     "name": "stdout",
     "output_type": "stream",
     "text": [
      "type\n",
      "MOVIE    1314\n",
      "SHOW      540\n",
      "dtype: int64\n",
      "All Movies have a seasons type of NA:\n",
      "type  seasons\n",
      "SHOW  1.0        251\n",
      "      2.0        103\n",
      "      3.0         82\n",
      "      4.0         38\n",
      "      5.0         21\n",
      "      6.0         14\n",
      "      7.0          9\n",
      "      8.0          7\n",
      "      9.0          3\n",
      "      10.0         3\n",
      "      11.0         1\n",
      "      12.0         1\n",
      "      13.0         1\n",
      "      14.0         1\n",
      "      20.0         1\n",
      "      22.0         1\n",
      "      32.0         1\n",
      "      34.0         1\n",
      "      36.0         1\n",
      "dtype: int64\n",
      "\n",
      "All movies have NA Value - 1475 movies, 1475 NA value for seasons:\n"
     ]
    },
    {
     "data": {
      "text/plain": [
       "type\n",
       "MOVIE    1314\n",
       "SHOW      540\n",
       "dtype: int64"
      ]
     },
     "execution_count": 29,
     "metadata": {},
     "output_type": "execute_result"
    }
   ],
   "source": [
    "#see if NA value are from movie\n",
    "print(merged.groupby(['type']).size())\n",
    "\n",
    "print(\"All Movies have a seasons type of NA:\")\n",
    "print(merged.groupby(['type', 'seasons']).size())\n"
   ]
  },
  {
   "cell_type": "code",
   "execution_count": 30,
   "metadata": {
    "tags": []
   },
   "outputs": [
    {
     "data": {
      "text/plain": [
       "id                        0\n",
       "title                     0\n",
       "type                      0\n",
       "description               9\n",
       "release_year              0\n",
       "age_certification       451\n",
       "runtime                   0\n",
       "genres                    0\n",
       "production_countries      0\n",
       "seasons                   0\n",
       "imdb_id                 478\n",
       "imdb_score              515\n",
       "imdb_votes              526\n",
       "tmdb_popularity          15\n",
       "tmdb_score              146\n",
       "director                  0\n",
       "dtype: int64"
      ]
     },
     "execution_count": 30,
     "metadata": {},
     "output_type": "execute_result"
    }
   ],
   "source": [
    "#replace NA with zero for Movies & shows missing\n",
    "merged['seasons'].fillna(0, inplace=True)\n",
    "\n",
    "#check\n",
    "merged.isna().sum()"
   ]
  },
  {
   "cell_type": "code",
   "execution_count": 31,
   "metadata": {
    "tags": []
   },
   "outputs": [
    {
     "data": {
      "text/html": [
       "<div>\n",
       "<style scoped>\n",
       "    .dataframe tbody tr th:only-of-type {\n",
       "        vertical-align: middle;\n",
       "    }\n",
       "\n",
       "    .dataframe tbody tr th {\n",
       "        vertical-align: top;\n",
       "    }\n",
       "\n",
       "    .dataframe thead th {\n",
       "        text-align: right;\n",
       "    }\n",
       "</style>\n",
       "<table border=\"1\" class=\"dataframe\">\n",
       "  <thead>\n",
       "    <tr style=\"text-align: right;\">\n",
       "      <th></th>\n",
       "      <th>id</th>\n",
       "      <th>title</th>\n",
       "      <th>type</th>\n",
       "      <th>description</th>\n",
       "      <th>release_year</th>\n",
       "      <th>age_certification</th>\n",
       "      <th>runtime</th>\n",
       "      <th>genres</th>\n",
       "      <th>production_countries</th>\n",
       "      <th>seasons</th>\n",
       "      <th>imdb_id</th>\n",
       "      <th>imdb_score</th>\n",
       "      <th>imdb_votes</th>\n",
       "      <th>tmdb_popularity</th>\n",
       "      <th>tmdb_score</th>\n",
       "      <th>director</th>\n",
       "    </tr>\n",
       "  </thead>\n",
       "  <tbody>\n",
       "    <tr>\n",
       "      <th>7</th>\n",
       "      <td>tm165060</td>\n",
       "      <td>The Tortoise and the Hare</td>\n",
       "      <td>MOVIE</td>\n",
       "      <td>The Tortoise and the Hare is an animated short...</td>\n",
       "      <td>1935</td>\n",
       "      <td>NaN</td>\n",
       "      <td>9</td>\n",
       "      <td>['animation', 'documentation']</td>\n",
       "      <td>['US']</td>\n",
       "      <td>0.0</td>\n",
       "      <td>NaN</td>\n",
       "      <td>NaN</td>\n",
       "      <td>NaN</td>\n",
       "      <td>9.286</td>\n",
       "      <td>6.686</td>\n",
       "      <td>[Wilfred Jackson]</td>\n",
       "    </tr>\n",
       "    <tr>\n",
       "      <th>9</th>\n",
       "      <td>tm67239</td>\n",
       "      <td>Lonesome Ghosts</td>\n",
       "      <td>MOVIE</td>\n",
       "      <td>On a dark and stormy night, four bored ghosts ...</td>\n",
       "      <td>1937</td>\n",
       "      <td>NaN</td>\n",
       "      <td>9</td>\n",
       "      <td>['comedy']</td>\n",
       "      <td>['US']</td>\n",
       "      <td>0.0</td>\n",
       "      <td>NaN</td>\n",
       "      <td>NaN</td>\n",
       "      <td>NaN</td>\n",
       "      <td>5.929</td>\n",
       "      <td>6.733</td>\n",
       "      <td>[Burt Gillett]</td>\n",
       "    </tr>\n",
       "    <tr>\n",
       "      <th>10</th>\n",
       "      <td>tm62671</td>\n",
       "      <td>Treasure Island</td>\n",
       "      <td>MOVIE</td>\n",
       "      <td>Enchanted by the idea of locating treasure bur...</td>\n",
       "      <td>1950</td>\n",
       "      <td>NaN</td>\n",
       "      <td>96</td>\n",
       "      <td>['family', 'action']</td>\n",
       "      <td>['GB', 'US']</td>\n",
       "      <td>0.0</td>\n",
       "      <td>tt0043067</td>\n",
       "      <td>6.9</td>\n",
       "      <td>8772.0</td>\n",
       "      <td>8.872</td>\n",
       "      <td>6.500</td>\n",
       "      <td>[Byron Haskin]</td>\n",
       "    </tr>\n",
       "    <tr>\n",
       "      <th>12</th>\n",
       "      <td>tm87968</td>\n",
       "      <td>Early to Bed</td>\n",
       "      <td>MOVIE</td>\n",
       "      <td>Donald has to get up early, but everything see...</td>\n",
       "      <td>1941</td>\n",
       "      <td>NaN</td>\n",
       "      <td>8</td>\n",
       "      <td>['animation']</td>\n",
       "      <td>['US']</td>\n",
       "      <td>0.0</td>\n",
       "      <td>NaN</td>\n",
       "      <td>NaN</td>\n",
       "      <td>NaN</td>\n",
       "      <td>4.764</td>\n",
       "      <td>6.713</td>\n",
       "      <td>[Jack King]</td>\n",
       "    </tr>\n",
       "    <tr>\n",
       "      <th>15</th>\n",
       "      <td>tm77407</td>\n",
       "      <td>Saludos Amigos</td>\n",
       "      <td>MOVIE</td>\n",
       "      <td>Live-action segments show members of the Disne...</td>\n",
       "      <td>1943</td>\n",
       "      <td>NaN</td>\n",
       "      <td>41</td>\n",
       "      <td>['animation', 'comedy', 'family', 'fantasy']</td>\n",
       "      <td>['US']</td>\n",
       "      <td>0.0</td>\n",
       "      <td>tt0036326</td>\n",
       "      <td>6.1</td>\n",
       "      <td>6506.0</td>\n",
       "      <td>17.765</td>\n",
       "      <td>5.876</td>\n",
       "      <td>[William Roberts, Norman Ferguson, Jack Kinney...</td>\n",
       "    </tr>\n",
       "    <tr>\n",
       "      <th>...</th>\n",
       "      <td>...</td>\n",
       "      <td>...</td>\n",
       "      <td>...</td>\n",
       "      <td>...</td>\n",
       "      <td>...</td>\n",
       "      <td>...</td>\n",
       "      <td>...</td>\n",
       "      <td>...</td>\n",
       "      <td>...</td>\n",
       "      <td>...</td>\n",
       "      <td>...</td>\n",
       "      <td>...</td>\n",
       "      <td>...</td>\n",
       "      <td>...</td>\n",
       "      <td>...</td>\n",
       "      <td>...</td>\n",
       "    </tr>\n",
       "    <tr>\n",
       "      <th>1834</th>\n",
       "      <td>ts313654</td>\n",
       "      <td>The Low Tone Club</td>\n",
       "      <td>SHOW</td>\n",
       "      <td>Amaranto Molina is a peculiar professor. With ...</td>\n",
       "      <td>2023</td>\n",
       "      <td>NaN</td>\n",
       "      <td>32</td>\n",
       "      <td>['comedy', 'drama', 'music']</td>\n",
       "      <td>['CO']</td>\n",
       "      <td>1.0</td>\n",
       "      <td>tt15559540</td>\n",
       "      <td>8.3</td>\n",
       "      <td>76.0</td>\n",
       "      <td>24.965</td>\n",
       "      <td>10.000</td>\n",
       "      <td></td>\n",
       "    </tr>\n",
       "    <tr>\n",
       "      <th>1837</th>\n",
       "      <td>tm1298257</td>\n",
       "      <td>Schoolhouse Rock! 50th Anniversary Singalong</td>\n",
       "      <td>MOVIE</td>\n",
       "      <td>Dust off your dictionaries and grab that hairb...</td>\n",
       "      <td>2023</td>\n",
       "      <td>NaN</td>\n",
       "      <td>40</td>\n",
       "      <td>['comedy', 'family', 'history', 'music']</td>\n",
       "      <td>['US']</td>\n",
       "      <td>0.0</td>\n",
       "      <td>tt26231144</td>\n",
       "      <td>4.5</td>\n",
       "      <td>70.0</td>\n",
       "      <td>3.767</td>\n",
       "      <td>2.000</td>\n",
       "      <td>[Lauren Quinn, Nick Florez, R.J. Durell]</td>\n",
       "    </tr>\n",
       "    <tr>\n",
       "      <th>1844</th>\n",
       "      <td>ts300548</td>\n",
       "      <td>@Gina Yei: #WithAllMyHeartAndMore</td>\n",
       "      <td>SHOW</td>\n",
       "      <td>Yei!— Is what Gina says in positive situations...</td>\n",
       "      <td>2023</td>\n",
       "      <td>NaN</td>\n",
       "      <td>43</td>\n",
       "      <td>['drama', 'comedy']</td>\n",
       "      <td>['PR']</td>\n",
       "      <td>1.0</td>\n",
       "      <td>tt15539452</td>\n",
       "      <td>8.3</td>\n",
       "      <td>84.0</td>\n",
       "      <td>40.633</td>\n",
       "      <td>7.000</td>\n",
       "      <td></td>\n",
       "    </tr>\n",
       "    <tr>\n",
       "      <th>1846</th>\n",
       "      <td>ts378918</td>\n",
       "      <td>Voices Rising: The Music of Wakanda Forever</td>\n",
       "      <td>SHOW</td>\n",
       "      <td>A new documentary series focusing on the music...</td>\n",
       "      <td>2023</td>\n",
       "      <td>NaN</td>\n",
       "      <td>31</td>\n",
       "      <td>['documentation', 'music']</td>\n",
       "      <td>['US']</td>\n",
       "      <td>1.0</td>\n",
       "      <td>tt26345409</td>\n",
       "      <td>7.2</td>\n",
       "      <td>30.0</td>\n",
       "      <td>10.123</td>\n",
       "      <td>NaN</td>\n",
       "      <td></td>\n",
       "    </tr>\n",
       "    <tr>\n",
       "      <th>1850</th>\n",
       "      <td>tm1308301</td>\n",
       "      <td>Disney100 | Special Look</td>\n",
       "      <td>MOVIE</td>\n",
       "      <td>In 2023, Disney’s 100-year milestone provides ...</td>\n",
       "      <td>2023</td>\n",
       "      <td>NaN</td>\n",
       "      <td>1</td>\n",
       "      <td>[]</td>\n",
       "      <td>[]</td>\n",
       "      <td>0.0</td>\n",
       "      <td>NaN</td>\n",
       "      <td>NaN</td>\n",
       "      <td>NaN</td>\n",
       "      <td>1.960</td>\n",
       "      <td>NaN</td>\n",
       "      <td></td>\n",
       "    </tr>\n",
       "  </tbody>\n",
       "</table>\n",
       "<p>451 rows × 16 columns</p>\n",
       "</div>"
      ],
      "text/plain": [
       "             id                                         title   type  \\\n",
       "7      tm165060                     The Tortoise and the Hare  MOVIE   \n",
       "9       tm67239                               Lonesome Ghosts  MOVIE   \n",
       "10      tm62671                               Treasure Island  MOVIE   \n",
       "12      tm87968                                  Early to Bed  MOVIE   \n",
       "15      tm77407                                Saludos Amigos  MOVIE   \n",
       "...         ...                                           ...    ...   \n",
       "1834   ts313654                             The Low Tone Club   SHOW   \n",
       "1837  tm1298257  Schoolhouse Rock! 50th Anniversary Singalong  MOVIE   \n",
       "1844   ts300548             @Gina Yei: #WithAllMyHeartAndMore   SHOW   \n",
       "1846   ts378918   Voices Rising: The Music of Wakanda Forever   SHOW   \n",
       "1850  tm1308301                      Disney100 | Special Look  MOVIE   \n",
       "\n",
       "                                            description  release_year  \\\n",
       "7     The Tortoise and the Hare is an animated short...          1935   \n",
       "9     On a dark and stormy night, four bored ghosts ...          1937   \n",
       "10    Enchanted by the idea of locating treasure bur...          1950   \n",
       "12    Donald has to get up early, but everything see...          1941   \n",
       "15    Live-action segments show members of the Disne...          1943   \n",
       "...                                                 ...           ...   \n",
       "1834  Amaranto Molina is a peculiar professor. With ...          2023   \n",
       "1837  Dust off your dictionaries and grab that hairb...          2023   \n",
       "1844  Yei!— Is what Gina says in positive situations...          2023   \n",
       "1846  A new documentary series focusing on the music...          2023   \n",
       "1850  In 2023, Disney’s 100-year milestone provides ...          2023   \n",
       "\n",
       "     age_certification  runtime                                        genres  \\\n",
       "7                  NaN        9                ['animation', 'documentation']   \n",
       "9                  NaN        9                                    ['comedy']   \n",
       "10                 NaN       96                          ['family', 'action']   \n",
       "12                 NaN        8                                 ['animation']   \n",
       "15                 NaN       41  ['animation', 'comedy', 'family', 'fantasy']   \n",
       "...                ...      ...                                           ...   \n",
       "1834               NaN       32                  ['comedy', 'drama', 'music']   \n",
       "1837               NaN       40      ['comedy', 'family', 'history', 'music']   \n",
       "1844               NaN       43                           ['drama', 'comedy']   \n",
       "1846               NaN       31                    ['documentation', 'music']   \n",
       "1850               NaN        1                                            []   \n",
       "\n",
       "     production_countries  seasons     imdb_id  imdb_score  imdb_votes  \\\n",
       "7                  ['US']      0.0         NaN         NaN         NaN   \n",
       "9                  ['US']      0.0         NaN         NaN         NaN   \n",
       "10           ['GB', 'US']      0.0   tt0043067         6.9      8772.0   \n",
       "12                 ['US']      0.0         NaN         NaN         NaN   \n",
       "15                 ['US']      0.0   tt0036326         6.1      6506.0   \n",
       "...                   ...      ...         ...         ...         ...   \n",
       "1834               ['CO']      1.0  tt15559540         8.3        76.0   \n",
       "1837               ['US']      0.0  tt26231144         4.5        70.0   \n",
       "1844               ['PR']      1.0  tt15539452         8.3        84.0   \n",
       "1846               ['US']      1.0  tt26345409         7.2        30.0   \n",
       "1850                   []      0.0         NaN         NaN         NaN   \n",
       "\n",
       "      tmdb_popularity  tmdb_score  \\\n",
       "7               9.286       6.686   \n",
       "9               5.929       6.733   \n",
       "10              8.872       6.500   \n",
       "12              4.764       6.713   \n",
       "15             17.765       5.876   \n",
       "...               ...         ...   \n",
       "1834           24.965      10.000   \n",
       "1837            3.767       2.000   \n",
       "1844           40.633       7.000   \n",
       "1846           10.123         NaN   \n",
       "1850            1.960         NaN   \n",
       "\n",
       "                                               director  \n",
       "7                                     [Wilfred Jackson]  \n",
       "9                                        [Burt Gillett]  \n",
       "10                                       [Byron Haskin]  \n",
       "12                                          [Jack King]  \n",
       "15    [William Roberts, Norman Ferguson, Jack Kinney...  \n",
       "...                                                 ...  \n",
       "1834                                                     \n",
       "1837           [Lauren Quinn, Nick Florez, R.J. Durell]  \n",
       "1844                                                     \n",
       "1846                                                     \n",
       "1850                                                     \n",
       "\n",
       "[451 rows x 16 columns]"
      ]
     },
     "execution_count": 31,
     "metadata": {},
     "output_type": "execute_result"
    }
   ],
   "source": [
    "#see more detail on null age_certification\n",
    "merged[merged['age_certification'].isna()]"
   ]
  },
  {
   "cell_type": "code",
   "execution_count": 32,
   "metadata": {
    "tags": []
   },
   "outputs": [
    {
     "data": {
      "text/plain": [
       "id                        0\n",
       "title                     0\n",
       "type                      0\n",
       "description               9\n",
       "release_year              0\n",
       "age_certification         0\n",
       "runtime                   0\n",
       "genres                    0\n",
       "production_countries      0\n",
       "seasons                   0\n",
       "imdb_id                 478\n",
       "imdb_score              515\n",
       "imdb_votes              526\n",
       "tmdb_popularity          15\n",
       "tmdb_score              146\n",
       "director                  0\n",
       "dtype: int64"
      ]
     },
     "execution_count": 32,
     "metadata": {},
     "output_type": "execute_result"
    }
   ],
   "source": [
    "#replace NA with unrated for age_certification\n",
    "merged['age_certification'].fillna('unrated', inplace=True)\n",
    "\n",
    "#check\n",
    "merged.isna().sum()"
   ]
  },
  {
   "cell_type": "code",
   "execution_count": 33,
   "metadata": {
    "tags": []
   },
   "outputs": [
    {
     "data": {
      "text/html": [
       "<div>\n",
       "<style scoped>\n",
       "    .dataframe tbody tr th:only-of-type {\n",
       "        vertical-align: middle;\n",
       "    }\n",
       "\n",
       "    .dataframe tbody tr th {\n",
       "        vertical-align: top;\n",
       "    }\n",
       "\n",
       "    .dataframe thead th {\n",
       "        text-align: right;\n",
       "    }\n",
       "</style>\n",
       "<table border=\"1\" class=\"dataframe\">\n",
       "  <thead>\n",
       "    <tr style=\"text-align: right;\">\n",
       "      <th></th>\n",
       "      <th>id</th>\n",
       "      <th>title</th>\n",
       "      <th>type</th>\n",
       "      <th>description</th>\n",
       "      <th>release_year</th>\n",
       "      <th>age_certification</th>\n",
       "      <th>runtime</th>\n",
       "      <th>genres</th>\n",
       "      <th>production_countries</th>\n",
       "      <th>seasons</th>\n",
       "      <th>tmdb_popularity</th>\n",
       "      <th>tmdb_score</th>\n",
       "      <th>director</th>\n",
       "    </tr>\n",
       "  </thead>\n",
       "  <tbody>\n",
       "    <tr>\n",
       "      <th>0</th>\n",
       "      <td>tm89464</td>\n",
       "      <td>Miracle on 34th Street</td>\n",
       "      <td>MOVIE</td>\n",
       "      <td>Kris Kringle, seemingly the embodiment of Sant...</td>\n",
       "      <td>1947</td>\n",
       "      <td>G</td>\n",
       "      <td>96</td>\n",
       "      <td>['family', 'comedy', 'drama']</td>\n",
       "      <td>['US']</td>\n",
       "      <td>0.0</td>\n",
       "      <td>23.515</td>\n",
       "      <td>7.388</td>\n",
       "      <td>[George Seaton]</td>\n",
       "    </tr>\n",
       "    <tr>\n",
       "      <th>1</th>\n",
       "      <td>tm61729</td>\n",
       "      <td>The Adventures of Ichabod and Mr. Toad</td>\n",
       "      <td>MOVIE</td>\n",
       "      <td>The Wind in the Willows: Concise version of Ke...</td>\n",
       "      <td>1950</td>\n",
       "      <td>G</td>\n",
       "      <td>68</td>\n",
       "      <td>['horror', 'fantasy', 'animation', 'family', '...</td>\n",
       "      <td>['US']</td>\n",
       "      <td>0.0</td>\n",
       "      <td>16.194</td>\n",
       "      <td>6.500</td>\n",
       "      <td>[James Algar, Clyde Geronimi, Jack Kinney]</td>\n",
       "    </tr>\n",
       "    <tr>\n",
       "      <th>2</th>\n",
       "      <td>tm61052</td>\n",
       "      <td>Cinderella</td>\n",
       "      <td>MOVIE</td>\n",
       "      <td>Cinderella has faith her dreams of a better li...</td>\n",
       "      <td>1950</td>\n",
       "      <td>G</td>\n",
       "      <td>74</td>\n",
       "      <td>['fantasy', 'animation', 'family', 'romance']</td>\n",
       "      <td>['US']</td>\n",
       "      <td>0.0</td>\n",
       "      <td>93.547</td>\n",
       "      <td>7.035</td>\n",
       "      <td>[Wilfred Jackson, Hamilton Luske, Clyde Geronimi]</td>\n",
       "    </tr>\n",
       "    <tr>\n",
       "      <th>3</th>\n",
       "      <td>tm87946</td>\n",
       "      <td>Dumbo</td>\n",
       "      <td>MOVIE</td>\n",
       "      <td>Dumbo is a baby elephant born with over-sized ...</td>\n",
       "      <td>1941</td>\n",
       "      <td>G</td>\n",
       "      <td>64</td>\n",
       "      <td>['animation', 'drama', 'family', 'fantasy']</td>\n",
       "      <td>['US']</td>\n",
       "      <td>0.0</td>\n",
       "      <td>54.265</td>\n",
       "      <td>6.999</td>\n",
       "      <td>[Ben Sharpsteen, Jack Kinney, William Roberts,...</td>\n",
       "    </tr>\n",
       "    <tr>\n",
       "      <th>4</th>\n",
       "      <td>tm74391</td>\n",
       "      <td>Fantasia</td>\n",
       "      <td>MOVIE</td>\n",
       "      <td>Walt Disney's timeless masterpiece is an extra...</td>\n",
       "      <td>1941</td>\n",
       "      <td>G</td>\n",
       "      <td>119</td>\n",
       "      <td>['animation', 'family', 'fantasy', 'music']</td>\n",
       "      <td>['US']</td>\n",
       "      <td>0.0</td>\n",
       "      <td>43.609</td>\n",
       "      <td>7.382</td>\n",
       "      <td>[Paul Satterfield, Hamilton Luske, Jim Handley...</td>\n",
       "    </tr>\n",
       "  </tbody>\n",
       "</table>\n",
       "</div>"
      ],
      "text/plain": [
       "        id                                   title   type  \\\n",
       "0  tm89464                  Miracle on 34th Street  MOVIE   \n",
       "1  tm61729  The Adventures of Ichabod and Mr. Toad  MOVIE   \n",
       "2  tm61052                              Cinderella  MOVIE   \n",
       "3  tm87946                                   Dumbo  MOVIE   \n",
       "4  tm74391                                Fantasia  MOVIE   \n",
       "\n",
       "                                         description  release_year  \\\n",
       "0  Kris Kringle, seemingly the embodiment of Sant...          1947   \n",
       "1  The Wind in the Willows: Concise version of Ke...          1950   \n",
       "2  Cinderella has faith her dreams of a better li...          1950   \n",
       "3  Dumbo is a baby elephant born with over-sized ...          1941   \n",
       "4  Walt Disney's timeless masterpiece is an extra...          1941   \n",
       "\n",
       "  age_certification  runtime  \\\n",
       "0                 G       96   \n",
       "1                 G       68   \n",
       "2                 G       74   \n",
       "3                 G       64   \n",
       "4                 G      119   \n",
       "\n",
       "                                              genres production_countries  \\\n",
       "0                      ['family', 'comedy', 'drama']               ['US']   \n",
       "1  ['horror', 'fantasy', 'animation', 'family', '...               ['US']   \n",
       "2      ['fantasy', 'animation', 'family', 'romance']               ['US']   \n",
       "3        ['animation', 'drama', 'family', 'fantasy']               ['US']   \n",
       "4        ['animation', 'family', 'fantasy', 'music']               ['US']   \n",
       "\n",
       "   seasons  tmdb_popularity  tmdb_score  \\\n",
       "0      0.0           23.515       7.388   \n",
       "1      0.0           16.194       6.500   \n",
       "2      0.0           93.547       7.035   \n",
       "3      0.0           54.265       6.999   \n",
       "4      0.0           43.609       7.382   \n",
       "\n",
       "                                            director  \n",
       "0                                    [George Seaton]  \n",
       "1         [James Algar, Clyde Geronimi, Jack Kinney]  \n",
       "2  [Wilfred Jackson, Hamilton Luske, Clyde Geronimi]  \n",
       "3  [Ben Sharpsteen, Jack Kinney, William Roberts,...  \n",
       "4  [Paul Satterfield, Hamilton Luske, Jim Handley...  "
      ]
     },
     "execution_count": 33,
     "metadata": {},
     "output_type": "execute_result"
    }
   ],
   "source": [
    "#drop imdb since almost 30% is missing - will use tmdb instead\n",
    "\n",
    "merged.drop('imdb_id', axis=1, inplace=True)\n",
    "merged.drop('imdb_score', axis=1, inplace=True)\n",
    "merged.drop('imdb_votes', axis=1, inplace=True)\n",
    "merged.head()"
   ]
  },
  {
   "cell_type": "code",
   "execution_count": null,
   "metadata": {},
   "outputs": [],
   "source": [
    "#I do age and genre"
   ]
  },
  {
   "cell_type": "code",
   "execution_count": null,
   "metadata": {},
   "outputs": [],
   "source": [
    "#Genre"
   ]
  },
  {
   "cell_type": "code",
   "execution_count": 34,
   "metadata": {
    "tags": []
   },
   "outputs": [
    {
     "data": {
      "text/html": [
       "<div>\n",
       "<style scoped>\n",
       "    .dataframe tbody tr th:only-of-type {\n",
       "        vertical-align: middle;\n",
       "    }\n",
       "\n",
       "    .dataframe tbody tr th {\n",
       "        vertical-align: top;\n",
       "    }\n",
       "\n",
       "    .dataframe thead th {\n",
       "        text-align: right;\n",
       "    }\n",
       "</style>\n",
       "<table border=\"1\" class=\"dataframe\">\n",
       "  <thead>\n",
       "    <tr style=\"text-align: right;\">\n",
       "      <th></th>\n",
       "      <th>id</th>\n",
       "      <th>title</th>\n",
       "      <th>type</th>\n",
       "      <th>description</th>\n",
       "      <th>release_year</th>\n",
       "      <th>age_certification</th>\n",
       "      <th>runtime</th>\n",
       "      <th>genres</th>\n",
       "      <th>production_countries</th>\n",
       "      <th>seasons</th>\n",
       "      <th>tmdb_popularity</th>\n",
       "      <th>tmdb_score</th>\n",
       "      <th>director</th>\n",
       "    </tr>\n",
       "  </thead>\n",
       "  <tbody>\n",
       "    <tr>\n",
       "      <th>0</th>\n",
       "      <td>tm89464</td>\n",
       "      <td>Miracle on 34th Street</td>\n",
       "      <td>MOVIE</td>\n",
       "      <td>Kris Kringle, seemingly the embodiment of Sant...</td>\n",
       "      <td>1947</td>\n",
       "      <td>G</td>\n",
       "      <td>96</td>\n",
       "      <td>family,comedy,drama</td>\n",
       "      <td>['US']</td>\n",
       "      <td>0.0</td>\n",
       "      <td>23.515</td>\n",
       "      <td>7.388</td>\n",
       "      <td>[George Seaton]</td>\n",
       "    </tr>\n",
       "    <tr>\n",
       "      <th>1</th>\n",
       "      <td>tm61729</td>\n",
       "      <td>The Adventures of Ichabod and Mr. Toad</td>\n",
       "      <td>MOVIE</td>\n",
       "      <td>The Wind in the Willows: Concise version of Ke...</td>\n",
       "      <td>1950</td>\n",
       "      <td>G</td>\n",
       "      <td>68</td>\n",
       "      <td>horror,fantasy,animation,family,comedy</td>\n",
       "      <td>['US']</td>\n",
       "      <td>0.0</td>\n",
       "      <td>16.194</td>\n",
       "      <td>6.500</td>\n",
       "      <td>[James Algar, Clyde Geronimi, Jack Kinney]</td>\n",
       "    </tr>\n",
       "  </tbody>\n",
       "</table>\n",
       "</div>"
      ],
      "text/plain": [
       "        id                                   title   type  \\\n",
       "0  tm89464                  Miracle on 34th Street  MOVIE   \n",
       "1  tm61729  The Adventures of Ichabod and Mr. Toad  MOVIE   \n",
       "\n",
       "                                         description  release_year  \\\n",
       "0  Kris Kringle, seemingly the embodiment of Sant...          1947   \n",
       "1  The Wind in the Willows: Concise version of Ke...          1950   \n",
       "\n",
       "  age_certification  runtime                                  genres  \\\n",
       "0                 G       96                     family,comedy,drama   \n",
       "1                 G       68  horror,fantasy,animation,family,comedy   \n",
       "\n",
       "  production_countries  seasons  tmdb_popularity  tmdb_score  \\\n",
       "0               ['US']      0.0           23.515       7.388   \n",
       "1               ['US']      0.0           16.194       6.500   \n",
       "\n",
       "                                     director  \n",
       "0                             [George Seaton]  \n",
       "1  [James Algar, Clyde Geronimi, Jack Kinney]  "
      ]
     },
     "execution_count": 34,
     "metadata": {},
     "output_type": "execute_result"
    }
   ],
   "source": [
    "#remove square brackets, quotations and spaces from genres\n",
    "\n",
    "merged['genres'] = pd.DataFrame([str(line).strip('[').strip(']') for line in merged['genres']])\n",
    "merged['genres'] = merged['genres'].str.replace(r\"'\", r\"\")\n",
    "merged['genres'] = merged['genres'].str.replace(r\" \", r\"\")\n",
    "merged.head(2)"
   ]
  },
  {
   "cell_type": "code",
   "execution_count": 35,
   "metadata": {
    "tags": []
   },
   "outputs": [
    {
     "data": {
      "text/html": [
       "<div>\n",
       "<style scoped>\n",
       "    .dataframe tbody tr th:only-of-type {\n",
       "        vertical-align: middle;\n",
       "    }\n",
       "\n",
       "    .dataframe tbody tr th {\n",
       "        vertical-align: top;\n",
       "    }\n",
       "\n",
       "    .dataframe thead th {\n",
       "        text-align: right;\n",
       "    }\n",
       "</style>\n",
       "<table border=\"1\" class=\"dataframe\">\n",
       "  <thead>\n",
       "    <tr style=\"text-align: right;\">\n",
       "      <th></th>\n",
       "      <th>action</th>\n",
       "      <th>animation</th>\n",
       "      <th>comedy</th>\n",
       "      <th>crime</th>\n",
       "      <th>documentation</th>\n",
       "      <th>drama</th>\n",
       "      <th>european</th>\n",
       "      <th>family</th>\n",
       "      <th>fantasy</th>\n",
       "      <th>history</th>\n",
       "      <th>horror</th>\n",
       "      <th>music</th>\n",
       "      <th>reality</th>\n",
       "      <th>romance</th>\n",
       "      <th>scifi</th>\n",
       "      <th>sport</th>\n",
       "      <th>thriller</th>\n",
       "      <th>war</th>\n",
       "      <th>western</th>\n",
       "    </tr>\n",
       "  </thead>\n",
       "  <tbody>\n",
       "    <tr>\n",
       "      <th>0</th>\n",
       "      <td>0</td>\n",
       "      <td>0</td>\n",
       "      <td>1</td>\n",
       "      <td>0</td>\n",
       "      <td>0</td>\n",
       "      <td>1</td>\n",
       "      <td>0</td>\n",
       "      <td>1</td>\n",
       "      <td>0</td>\n",
       "      <td>0</td>\n",
       "      <td>0</td>\n",
       "      <td>0</td>\n",
       "      <td>0</td>\n",
       "      <td>0</td>\n",
       "      <td>0</td>\n",
       "      <td>0</td>\n",
       "      <td>0</td>\n",
       "      <td>0</td>\n",
       "      <td>0</td>\n",
       "    </tr>\n",
       "    <tr>\n",
       "      <th>1</th>\n",
       "      <td>0</td>\n",
       "      <td>1</td>\n",
       "      <td>1</td>\n",
       "      <td>0</td>\n",
       "      <td>0</td>\n",
       "      <td>0</td>\n",
       "      <td>0</td>\n",
       "      <td>1</td>\n",
       "      <td>1</td>\n",
       "      <td>0</td>\n",
       "      <td>1</td>\n",
       "      <td>0</td>\n",
       "      <td>0</td>\n",
       "      <td>0</td>\n",
       "      <td>0</td>\n",
       "      <td>0</td>\n",
       "      <td>0</td>\n",
       "      <td>0</td>\n",
       "      <td>0</td>\n",
       "    </tr>\n",
       "    <tr>\n",
       "      <th>2</th>\n",
       "      <td>0</td>\n",
       "      <td>1</td>\n",
       "      <td>0</td>\n",
       "      <td>0</td>\n",
       "      <td>0</td>\n",
       "      <td>0</td>\n",
       "      <td>0</td>\n",
       "      <td>1</td>\n",
       "      <td>1</td>\n",
       "      <td>0</td>\n",
       "      <td>0</td>\n",
       "      <td>0</td>\n",
       "      <td>0</td>\n",
       "      <td>1</td>\n",
       "      <td>0</td>\n",
       "      <td>0</td>\n",
       "      <td>0</td>\n",
       "      <td>0</td>\n",
       "      <td>0</td>\n",
       "    </tr>\n",
       "    <tr>\n",
       "      <th>3</th>\n",
       "      <td>0</td>\n",
       "      <td>1</td>\n",
       "      <td>0</td>\n",
       "      <td>0</td>\n",
       "      <td>0</td>\n",
       "      <td>1</td>\n",
       "      <td>0</td>\n",
       "      <td>1</td>\n",
       "      <td>1</td>\n",
       "      <td>0</td>\n",
       "      <td>0</td>\n",
       "      <td>0</td>\n",
       "      <td>0</td>\n",
       "      <td>0</td>\n",
       "      <td>0</td>\n",
       "      <td>0</td>\n",
       "      <td>0</td>\n",
       "      <td>0</td>\n",
       "      <td>0</td>\n",
       "    </tr>\n",
       "    <tr>\n",
       "      <th>4</th>\n",
       "      <td>0</td>\n",
       "      <td>1</td>\n",
       "      <td>0</td>\n",
       "      <td>0</td>\n",
       "      <td>0</td>\n",
       "      <td>0</td>\n",
       "      <td>0</td>\n",
       "      <td>1</td>\n",
       "      <td>1</td>\n",
       "      <td>0</td>\n",
       "      <td>0</td>\n",
       "      <td>1</td>\n",
       "      <td>0</td>\n",
       "      <td>0</td>\n",
       "      <td>0</td>\n",
       "      <td>0</td>\n",
       "      <td>0</td>\n",
       "      <td>0</td>\n",
       "      <td>0</td>\n",
       "    </tr>\n",
       "  </tbody>\n",
       "</table>\n",
       "</div>"
      ],
      "text/plain": [
       "   action  animation  comedy  crime  documentation  drama  european  family  \\\n",
       "0       0          0       1      0              0      1         0       1   \n",
       "1       0          1       1      0              0      0         0       1   \n",
       "2       0          1       0      0              0      0         0       1   \n",
       "3       0          1       0      0              0      1         0       1   \n",
       "4       0          1       0      0              0      0         0       1   \n",
       "\n",
       "   fantasy  history  horror  music  reality  romance  scifi  sport  thriller  \\\n",
       "0        0        0       0      0        0        0      0      0         0   \n",
       "1        1        0       1      0        0        0      0      0         0   \n",
       "2        1        0       0      0        0        1      0      0         0   \n",
       "3        1        0       0      0        0        0      0      0         0   \n",
       "4        1        0       0      1        0        0      0      0         0   \n",
       "\n",
       "   war  western  \n",
       "0    0        0  \n",
       "1    0        0  \n",
       "2    0        0  \n",
       "3    0        0  \n",
       "4    0        0  "
      ]
     },
     "execution_count": 35,
     "metadata": {},
     "output_type": "execute_result"
    }
   ],
   "source": [
    "#get dummies for genres\n",
    "\n",
    "dummies = merged['genres'].str.get_dummies(sep=',')\n",
    "dummies.head(5)"
   ]
  },
  {
   "cell_type": "code",
   "execution_count": 36,
   "metadata": {
    "tags": []
   },
   "outputs": [
    {
     "name": "stdout",
     "output_type": "stream",
     "text": [
      "Index(['id', 'title', 'type', 'description', 'release_year',\n",
      "       'age_certification', 'runtime', 'production_countries', 'seasons',\n",
      "       'tmdb_popularity', 'tmdb_score', 'director', 'action', 'animation',\n",
      "       'comedy', 'crime', 'documentation', 'drama', 'european', 'family',\n",
      "       'fantasy', 'history', 'horror', 'music', 'reality', 'romance', 'scifi',\n",
      "       'sport', 'thriller', 'war', 'western'],\n",
      "      dtype='object')\n"
     ]
    }
   ],
   "source": [
    "#concatenate dummies with genres back into merged\n",
    "merged2 = (pd.concat([merged, dummies], axis=1).drop([\"genres\"], axis=1))\n",
    "print(merged2.columns)"
   ]
  },
  {
   "cell_type": "code",
   "execution_count": 37,
   "metadata": {
    "tags": []
   },
   "outputs": [
    {
     "data": {
      "text/html": [
       "<div>\n",
       "<style scoped>\n",
       "    .dataframe tbody tr th:only-of-type {\n",
       "        vertical-align: middle;\n",
       "    }\n",
       "\n",
       "    .dataframe tbody tr th {\n",
       "        vertical-align: top;\n",
       "    }\n",
       "\n",
       "    .dataframe thead th {\n",
       "        text-align: right;\n",
       "    }\n",
       "</style>\n",
       "<table border=\"1\" class=\"dataframe\">\n",
       "  <thead>\n",
       "    <tr style=\"text-align: right;\">\n",
       "      <th></th>\n",
       "      <th>G</th>\n",
       "      <th>PG</th>\n",
       "      <th>PG-13</th>\n",
       "      <th>R</th>\n",
       "      <th>TV-14</th>\n",
       "      <th>TV-G</th>\n",
       "      <th>TV-MA</th>\n",
       "      <th>TV-PG</th>\n",
       "      <th>TV-Y</th>\n",
       "      <th>TV-Y7</th>\n",
       "      <th>TV-Y7-FV</th>\n",
       "      <th>unrated</th>\n",
       "    </tr>\n",
       "  </thead>\n",
       "  <tbody>\n",
       "    <tr>\n",
       "      <th>0</th>\n",
       "      <td>1</td>\n",
       "      <td>0</td>\n",
       "      <td>0</td>\n",
       "      <td>0</td>\n",
       "      <td>0</td>\n",
       "      <td>0</td>\n",
       "      <td>0</td>\n",
       "      <td>0</td>\n",
       "      <td>0</td>\n",
       "      <td>0</td>\n",
       "      <td>0</td>\n",
       "      <td>0</td>\n",
       "    </tr>\n",
       "    <tr>\n",
       "      <th>1</th>\n",
       "      <td>1</td>\n",
       "      <td>0</td>\n",
       "      <td>0</td>\n",
       "      <td>0</td>\n",
       "      <td>0</td>\n",
       "      <td>0</td>\n",
       "      <td>0</td>\n",
       "      <td>0</td>\n",
       "      <td>0</td>\n",
       "      <td>0</td>\n",
       "      <td>0</td>\n",
       "      <td>0</td>\n",
       "    </tr>\n",
       "    <tr>\n",
       "      <th>2</th>\n",
       "      <td>1</td>\n",
       "      <td>0</td>\n",
       "      <td>0</td>\n",
       "      <td>0</td>\n",
       "      <td>0</td>\n",
       "      <td>0</td>\n",
       "      <td>0</td>\n",
       "      <td>0</td>\n",
       "      <td>0</td>\n",
       "      <td>0</td>\n",
       "      <td>0</td>\n",
       "      <td>0</td>\n",
       "    </tr>\n",
       "    <tr>\n",
       "      <th>3</th>\n",
       "      <td>1</td>\n",
       "      <td>0</td>\n",
       "      <td>0</td>\n",
       "      <td>0</td>\n",
       "      <td>0</td>\n",
       "      <td>0</td>\n",
       "      <td>0</td>\n",
       "      <td>0</td>\n",
       "      <td>0</td>\n",
       "      <td>0</td>\n",
       "      <td>0</td>\n",
       "      <td>0</td>\n",
       "    </tr>\n",
       "    <tr>\n",
       "      <th>4</th>\n",
       "      <td>1</td>\n",
       "      <td>0</td>\n",
       "      <td>0</td>\n",
       "      <td>0</td>\n",
       "      <td>0</td>\n",
       "      <td>0</td>\n",
       "      <td>0</td>\n",
       "      <td>0</td>\n",
       "      <td>0</td>\n",
       "      <td>0</td>\n",
       "      <td>0</td>\n",
       "      <td>0</td>\n",
       "    </tr>\n",
       "  </tbody>\n",
       "</table>\n",
       "</div>"
      ],
      "text/plain": [
       "   G  PG  PG-13  R  TV-14  TV-G  TV-MA  TV-PG  TV-Y  TV-Y7  TV-Y7-FV  unrated\n",
       "0  1   0      0  0      0     0      0      0     0      0         0        0\n",
       "1  1   0      0  0      0     0      0      0     0      0         0        0\n",
       "2  1   0      0  0      0     0      0      0     0      0         0        0\n",
       "3  1   0      0  0      0     0      0      0     0      0         0        0\n",
       "4  1   0      0  0      0     0      0      0     0      0         0        0"
      ]
     },
     "execution_count": 37,
     "metadata": {},
     "output_type": "execute_result"
    }
   ],
   "source": [
    "#get dummies for age_certification\n",
    "\n",
    "dummies2 = merged['age_certification'].str.get_dummies(sep=',')\n",
    "dummies2.head(5)"
   ]
  },
  {
   "cell_type": "code",
   "execution_count": 38,
   "metadata": {
    "tags": []
   },
   "outputs": [
    {
     "data": {
      "text/plain": [
       "G           414\n",
       "PG          413\n",
       "PG-13       126\n",
       "R             5\n",
       "TV-14        87\n",
       "TV-G         93\n",
       "TV-MA         8\n",
       "TV-PG       134\n",
       "TV-Y         51\n",
       "TV-Y7        69\n",
       "TV-Y7-FV      3\n",
       "unrated     451\n",
       "dtype: int64"
      ]
     },
     "execution_count": 38,
     "metadata": {},
     "output_type": "execute_result"
    }
   ],
   "source": [
    "#get count by age_certification\n",
    "\n",
    "dummies2_sum = merged['age_certification'].str.get_dummies(sep=',').sum()\n",
    "dummies2_sum"
   ]
  },
  {
   "cell_type": "code",
   "execution_count": 39,
   "metadata": {
    "tags": []
   },
   "outputs": [
    {
     "name": "stdout",
     "output_type": "stream",
     "text": [
      "Index(['id', 'title', 'type', 'description', 'release_year', 'runtime',\n",
      "       'production_countries', 'seasons', 'tmdb_popularity', 'tmdb_score',\n",
      "       'director', 'action', 'animation', 'comedy', 'crime', 'documentation',\n",
      "       'drama', 'european', 'family', 'fantasy', 'history', 'horror', 'music',\n",
      "       'reality', 'romance', 'scifi', 'sport', 'thriller', 'war', 'western',\n",
      "       'G', 'PG', 'PG-13', 'R', 'TV-14', 'TV-G', 'TV-MA', 'TV-PG', 'TV-Y',\n",
      "       'TV-Y7', 'TV-Y7-FV', 'unrated'],\n",
      "      dtype='object')\n"
     ]
    }
   ],
   "source": [
    "#concatenate dummies2 with age_certification back into merged2\n",
    "merged3 = (pd.concat([merged2, dummies2], axis=1).drop([\"age_certification\"], axis=1))\n",
    "print(merged3.columns)"
   ]
  },
  {
   "cell_type": "code",
   "execution_count": 40,
   "metadata": {
    "tags": []
   },
   "outputs": [
    {
     "data": {
      "text/html": [
       "<div>\n",
       "<style scoped>\n",
       "    .dataframe tbody tr th:only-of-type {\n",
       "        vertical-align: middle;\n",
       "    }\n",
       "\n",
       "    .dataframe tbody tr th {\n",
       "        vertical-align: top;\n",
       "    }\n",
       "\n",
       "    .dataframe thead th {\n",
       "        text-align: right;\n",
       "    }\n",
       "</style>\n",
       "<table border=\"1\" class=\"dataframe\">\n",
       "  <thead>\n",
       "    <tr style=\"text-align: right;\">\n",
       "      <th></th>\n",
       "      <th>id</th>\n",
       "      <th>title</th>\n",
       "      <th>type</th>\n",
       "      <th>description</th>\n",
       "      <th>release_year</th>\n",
       "      <th>runtime</th>\n",
       "      <th>production_countries</th>\n",
       "      <th>seasons</th>\n",
       "      <th>tmdb_popularity</th>\n",
       "      <th>tmdb_score</th>\n",
       "      <th>...</th>\n",
       "      <th>PG-13</th>\n",
       "      <th>R</th>\n",
       "      <th>TV-14</th>\n",
       "      <th>TV-G</th>\n",
       "      <th>TV-MA</th>\n",
       "      <th>TV-PG</th>\n",
       "      <th>TV-Y</th>\n",
       "      <th>TV-Y7</th>\n",
       "      <th>TV-Y7-FV</th>\n",
       "      <th>unrated</th>\n",
       "    </tr>\n",
       "  </thead>\n",
       "  <tbody>\n",
       "    <tr>\n",
       "      <th>0</th>\n",
       "      <td>tm89464</td>\n",
       "      <td>Miracle on 34th Street</td>\n",
       "      <td>MOVIE</td>\n",
       "      <td>Kris Kringle, seemingly the embodiment of Sant...</td>\n",
       "      <td>1947</td>\n",
       "      <td>96</td>\n",
       "      <td>US</td>\n",
       "      <td>0.0</td>\n",
       "      <td>23.515</td>\n",
       "      <td>7.388</td>\n",
       "      <td>...</td>\n",
       "      <td>0</td>\n",
       "      <td>0</td>\n",
       "      <td>0</td>\n",
       "      <td>0</td>\n",
       "      <td>0</td>\n",
       "      <td>0</td>\n",
       "      <td>0</td>\n",
       "      <td>0</td>\n",
       "      <td>0</td>\n",
       "      <td>0</td>\n",
       "    </tr>\n",
       "    <tr>\n",
       "      <th>1</th>\n",
       "      <td>tm61729</td>\n",
       "      <td>The Adventures of Ichabod and Mr. Toad</td>\n",
       "      <td>MOVIE</td>\n",
       "      <td>The Wind in the Willows: Concise version of Ke...</td>\n",
       "      <td>1950</td>\n",
       "      <td>68</td>\n",
       "      <td>US</td>\n",
       "      <td>0.0</td>\n",
       "      <td>16.194</td>\n",
       "      <td>6.500</td>\n",
       "      <td>...</td>\n",
       "      <td>0</td>\n",
       "      <td>0</td>\n",
       "      <td>0</td>\n",
       "      <td>0</td>\n",
       "      <td>0</td>\n",
       "      <td>0</td>\n",
       "      <td>0</td>\n",
       "      <td>0</td>\n",
       "      <td>0</td>\n",
       "      <td>0</td>\n",
       "    </tr>\n",
       "  </tbody>\n",
       "</table>\n",
       "<p>2 rows × 42 columns</p>\n",
       "</div>"
      ],
      "text/plain": [
       "        id                                   title   type  \\\n",
       "0  tm89464                  Miracle on 34th Street  MOVIE   \n",
       "1  tm61729  The Adventures of Ichabod and Mr. Toad  MOVIE   \n",
       "\n",
       "                                         description  release_year  runtime  \\\n",
       "0  Kris Kringle, seemingly the embodiment of Sant...          1947       96   \n",
       "1  The Wind in the Willows: Concise version of Ke...          1950       68   \n",
       "\n",
       "  production_countries  seasons  tmdb_popularity  tmdb_score  ... PG-13  R  \\\n",
       "0                   US      0.0           23.515       7.388  ...     0  0   \n",
       "1                   US      0.0           16.194       6.500  ...     0  0   \n",
       "\n",
       "   TV-14  TV-G  TV-MA  TV-PG  TV-Y  TV-Y7  TV-Y7-FV  unrated  \n",
       "0      0     0      0      0     0      0         0        0  \n",
       "1      0     0      0      0     0      0         0        0  \n",
       "\n",
       "[2 rows x 42 columns]"
      ]
     },
     "execution_count": 40,
     "metadata": {},
     "output_type": "execute_result"
    }
   ],
   "source": [
    "#remove quotation marks and brackets from country from genres\n",
    "merged3['production_countries'] = pd.DataFrame([str(line).strip('[').strip(']') for line in merged3['production_countries']])\n",
    "merged3['production_countries'] = merged3['production_countries'].str.replace(r\"'\", r\"\")\n",
    "merged3['production_countries'] = merged3['production_countries'].str.replace(r\" \", r\"\")\n",
    "merged3.head(2)"
   ]
  },
  {
   "cell_type": "code",
   "execution_count": 41,
   "metadata": {
    "tags": []
   },
   "outputs": [
    {
     "data": {
      "text/plain": [
       "Index(['AE', 'AR', 'AT', 'AU', 'BE', 'BR', 'BW', 'CA', 'CH', 'CI', 'CL', 'CN',\n",
       "       'CO', 'CZ', 'DE', 'DK', 'ES', 'FR', 'GB', 'GR', 'GT', 'HK', 'IE', 'IN',\n",
       "       'IT', 'JP', 'KI', 'KR', 'MC', 'MX', 'NL', 'NO', 'NZ', 'PH', 'PL', 'PR',\n",
       "       'SE', 'SI', 'SK', 'TR', 'TW', 'UG', 'US', 'ZA'],\n",
       "      dtype='object')"
      ]
     },
     "execution_count": 41,
     "metadata": {},
     "output_type": "execute_result"
    }
   ],
   "source": [
    "#get dummies for production_countries\n",
    "\n",
    "dummies3 = merged3['production_countries'].str.get_dummies(sep=',')\n",
    "dummies3.columns"
   ]
  },
  {
   "cell_type": "code",
   "execution_count": 42,
   "metadata": {
    "tags": []
   },
   "outputs": [
    {
     "data": {
      "text/plain": [
       "AE       1\n",
       "AR      10\n",
       "AT       2\n",
       "AU      25\n",
       "BE       2\n",
       "BR       7\n",
       "BW       1\n",
       "CA      66\n",
       "CH       1\n",
       "CI       1\n",
       "CL       1\n",
       "CN       8\n",
       "CO       4\n",
       "CZ       1\n",
       "DE      15\n",
       "DK       4\n",
       "ES       6\n",
       "FR      29\n",
       "GB      99\n",
       "GR       1\n",
       "GT       1\n",
       "HK       1\n",
       "IE       1\n",
       "IN       8\n",
       "IT       6\n",
       "JP      10\n",
       "KI       1\n",
       "KR       7\n",
       "MC       1\n",
       "MX       3\n",
       "NL       1\n",
       "NO       1\n",
       "NZ       6\n",
       "PH       2\n",
       "PL       1\n",
       "PR       1\n",
       "SE       1\n",
       "SI       1\n",
       "SK       1\n",
       "TR       1\n",
       "TW       1\n",
       "UG       1\n",
       "US    1657\n",
       "ZA       2\n",
       "dtype: int64"
      ]
     },
     "execution_count": 42,
     "metadata": {},
     "output_type": "execute_result"
    }
   ],
   "source": [
    "#get count by production_countries\n",
    "\n",
    "dummies3_sum = merged3['production_countries'].str.get_dummies(sep=',').sum()\n",
    "dummies3_sum"
   ]
  },
  {
   "cell_type": "code",
   "execution_count": 43,
   "metadata": {
    "tags": []
   },
   "outputs": [
    {
     "data": {
      "text/html": [
       "<div>\n",
       "<style scoped>\n",
       "    .dataframe tbody tr th:only-of-type {\n",
       "        vertical-align: middle;\n",
       "    }\n",
       "\n",
       "    .dataframe tbody tr th {\n",
       "        vertical-align: top;\n",
       "    }\n",
       "\n",
       "    .dataframe thead th {\n",
       "        text-align: right;\n",
       "    }\n",
       "</style>\n",
       "<table border=\"1\" class=\"dataframe\">\n",
       "  <thead>\n",
       "    <tr style=\"text-align: right;\">\n",
       "      <th></th>\n",
       "      <th>AE</th>\n",
       "      <th>AR</th>\n",
       "      <th>AT</th>\n",
       "      <th>AU</th>\n",
       "      <th>BE</th>\n",
       "      <th>BR</th>\n",
       "      <th>BW</th>\n",
       "      <th>CA</th>\n",
       "      <th>CH</th>\n",
       "      <th>CI</th>\n",
       "      <th>...</th>\n",
       "      <th>PL</th>\n",
       "      <th>PR</th>\n",
       "      <th>SE</th>\n",
       "      <th>SI</th>\n",
       "      <th>SK</th>\n",
       "      <th>TR</th>\n",
       "      <th>TW</th>\n",
       "      <th>UG</th>\n",
       "      <th>US</th>\n",
       "      <th>ZA</th>\n",
       "    </tr>\n",
       "  </thead>\n",
       "  <tbody>\n",
       "    <tr>\n",
       "      <th>0</th>\n",
       "      <td>0</td>\n",
       "      <td>0</td>\n",
       "      <td>0</td>\n",
       "      <td>0</td>\n",
       "      <td>0</td>\n",
       "      <td>0</td>\n",
       "      <td>0</td>\n",
       "      <td>0</td>\n",
       "      <td>0</td>\n",
       "      <td>0</td>\n",
       "      <td>...</td>\n",
       "      <td>0</td>\n",
       "      <td>0</td>\n",
       "      <td>0</td>\n",
       "      <td>0</td>\n",
       "      <td>0</td>\n",
       "      <td>0</td>\n",
       "      <td>0</td>\n",
       "      <td>0</td>\n",
       "      <td>1</td>\n",
       "      <td>0</td>\n",
       "    </tr>\n",
       "    <tr>\n",
       "      <th>1</th>\n",
       "      <td>0</td>\n",
       "      <td>0</td>\n",
       "      <td>0</td>\n",
       "      <td>0</td>\n",
       "      <td>0</td>\n",
       "      <td>0</td>\n",
       "      <td>0</td>\n",
       "      <td>0</td>\n",
       "      <td>0</td>\n",
       "      <td>0</td>\n",
       "      <td>...</td>\n",
       "      <td>0</td>\n",
       "      <td>0</td>\n",
       "      <td>0</td>\n",
       "      <td>0</td>\n",
       "      <td>0</td>\n",
       "      <td>0</td>\n",
       "      <td>0</td>\n",
       "      <td>0</td>\n",
       "      <td>1</td>\n",
       "      <td>0</td>\n",
       "    </tr>\n",
       "    <tr>\n",
       "      <th>2</th>\n",
       "      <td>0</td>\n",
       "      <td>0</td>\n",
       "      <td>0</td>\n",
       "      <td>0</td>\n",
       "      <td>0</td>\n",
       "      <td>0</td>\n",
       "      <td>0</td>\n",
       "      <td>0</td>\n",
       "      <td>0</td>\n",
       "      <td>0</td>\n",
       "      <td>...</td>\n",
       "      <td>0</td>\n",
       "      <td>0</td>\n",
       "      <td>0</td>\n",
       "      <td>0</td>\n",
       "      <td>0</td>\n",
       "      <td>0</td>\n",
       "      <td>0</td>\n",
       "      <td>0</td>\n",
       "      <td>1</td>\n",
       "      <td>0</td>\n",
       "    </tr>\n",
       "    <tr>\n",
       "      <th>3</th>\n",
       "      <td>0</td>\n",
       "      <td>0</td>\n",
       "      <td>0</td>\n",
       "      <td>0</td>\n",
       "      <td>0</td>\n",
       "      <td>0</td>\n",
       "      <td>0</td>\n",
       "      <td>0</td>\n",
       "      <td>0</td>\n",
       "      <td>0</td>\n",
       "      <td>...</td>\n",
       "      <td>0</td>\n",
       "      <td>0</td>\n",
       "      <td>0</td>\n",
       "      <td>0</td>\n",
       "      <td>0</td>\n",
       "      <td>0</td>\n",
       "      <td>0</td>\n",
       "      <td>0</td>\n",
       "      <td>1</td>\n",
       "      <td>0</td>\n",
       "    </tr>\n",
       "    <tr>\n",
       "      <th>4</th>\n",
       "      <td>0</td>\n",
       "      <td>0</td>\n",
       "      <td>0</td>\n",
       "      <td>0</td>\n",
       "      <td>0</td>\n",
       "      <td>0</td>\n",
       "      <td>0</td>\n",
       "      <td>0</td>\n",
       "      <td>0</td>\n",
       "      <td>0</td>\n",
       "      <td>...</td>\n",
       "      <td>0</td>\n",
       "      <td>0</td>\n",
       "      <td>0</td>\n",
       "      <td>0</td>\n",
       "      <td>0</td>\n",
       "      <td>0</td>\n",
       "      <td>0</td>\n",
       "      <td>0</td>\n",
       "      <td>1</td>\n",
       "      <td>0</td>\n",
       "    </tr>\n",
       "  </tbody>\n",
       "</table>\n",
       "<p>5 rows × 44 columns</p>\n",
       "</div>"
      ],
      "text/plain": [
       "   AE  AR  AT  AU  BE  BR  BW  CA  CH  CI  ...  PL  PR  SE  SI  SK  TR  TW  \\\n",
       "0   0   0   0   0   0   0   0   0   0   0  ...   0   0   0   0   0   0   0   \n",
       "1   0   0   0   0   0   0   0   0   0   0  ...   0   0   0   0   0   0   0   \n",
       "2   0   0   0   0   0   0   0   0   0   0  ...   0   0   0   0   0   0   0   \n",
       "3   0   0   0   0   0   0   0   0   0   0  ...   0   0   0   0   0   0   0   \n",
       "4   0   0   0   0   0   0   0   0   0   0  ...   0   0   0   0   0   0   0   \n",
       "\n",
       "   UG  US  ZA  \n",
       "0   0   1   0  \n",
       "1   0   1   0  \n",
       "2   0   1   0  \n",
       "3   0   1   0  \n",
       "4   0   1   0  \n",
       "\n",
       "[5 rows x 44 columns]"
      ]
     },
     "execution_count": 43,
     "metadata": {},
     "output_type": "execute_result"
    }
   ],
   "source": [
    "dummies3.head()"
   ]
  },
  {
   "cell_type": "code",
   "execution_count": 44,
   "metadata": {},
   "outputs": [
    {
     "data": {
      "text/plain": [
       "Index(['MOVIE', 'SHOW'], dtype='object')"
      ]
     },
     "execution_count": 44,
     "metadata": {},
     "output_type": "execute_result"
    }
   ],
   "source": [
    "#get dummies for Type\n",
    "\n",
    "dummies4 = merged3['type'].str.get_dummies(sep=',')\n",
    "dummies4.columns"
   ]
  },
  {
   "cell_type": "code",
   "execution_count": 45,
   "metadata": {},
   "outputs": [
    {
     "data": {
      "text/plain": [
       "MOVIE    1314\n",
       "SHOW      540\n",
       "dtype: int64"
      ]
     },
     "execution_count": 45,
     "metadata": {},
     "output_type": "execute_result"
    }
   ],
   "source": [
    "#get count by type\n",
    "\n",
    "dummies4_sum = merged3['type'].str.get_dummies(sep=',').sum()\n",
    "dummies4_sum"
   ]
  },
  {
   "cell_type": "code",
   "execution_count": 46,
   "metadata": {},
   "outputs": [
    {
     "name": "stdout",
     "output_type": "stream",
     "text": [
      "Index(['id', 'title', 'description', 'release_year', 'runtime',\n",
      "       'production_countries', 'seasons', 'tmdb_popularity', 'tmdb_score',\n",
      "       'director', 'action', 'animation', 'comedy', 'crime', 'documentation',\n",
      "       'drama', 'european', 'family', 'fantasy', 'history', 'horror', 'music',\n",
      "       'reality', 'romance', 'scifi', 'sport', 'thriller', 'war', 'western',\n",
      "       'G', 'PG', 'PG-13', 'R', 'TV-14', 'TV-G', 'TV-MA', 'TV-PG', 'TV-Y',\n",
      "       'TV-Y7', 'TV-Y7-FV', 'unrated', 'MOVIE', 'SHOW'],\n",
      "      dtype='object')\n"
     ]
    }
   ],
   "source": [
    "#concatenate dummies4 with type back into merged3\n",
    "merged4 = (pd.concat([merged3, dummies4], axis=1).drop([\"type\"], axis=1))\n",
    "print(merged4.columns)"
   ]
  },
  {
   "cell_type": "code",
   "execution_count": 47,
   "metadata": {},
   "outputs": [
    {
     "data": {
      "text/plain": [
       "id                        0\n",
       "title                     0\n",
       "description               9\n",
       "release_year              0\n",
       "runtime                   0\n",
       "production_countries      0\n",
       "seasons                   0\n",
       "tmdb_popularity          15\n",
       "tmdb_score              146\n",
       "director                  0\n",
       "action                    0\n",
       "animation                 0\n",
       "comedy                    0\n",
       "crime                     0\n",
       "documentation             0\n",
       "drama                     0\n",
       "european                  0\n",
       "family                    0\n",
       "fantasy                   0\n",
       "history                   0\n",
       "horror                    0\n",
       "music                     0\n",
       "reality                   0\n",
       "romance                   0\n",
       "scifi                     0\n",
       "sport                     0\n",
       "thriller                  0\n",
       "war                       0\n",
       "western                   0\n",
       "G                         0\n",
       "PG                        0\n",
       "PG-13                     0\n",
       "R                         0\n",
       "TV-14                     0\n",
       "TV-G                      0\n",
       "TV-MA                     0\n",
       "TV-PG                     0\n",
       "TV-Y                      0\n",
       "TV-Y7                     0\n",
       "TV-Y7-FV                  0\n",
       "unrated                   0\n",
       "MOVIE                     0\n",
       "SHOW                      0\n",
       "dtype: int64"
      ]
     },
     "execution_count": 47,
     "metadata": {},
     "output_type": "execute_result"
    }
   ],
   "source": [
    "#check for NA\n",
    "\n",
    "#check\n",
    "merged4.isna().sum()"
   ]
  },
  {
   "cell_type": "code",
   "execution_count": 48,
   "metadata": {},
   "outputs": [],
   "source": [
    "#add in decades based on release_year"
   ]
  },
  {
   "cell_type": "code",
   "execution_count": 49,
   "metadata": {},
   "outputs": [
    {
     "data": {
      "text/html": [
       "<div>\n",
       "<style scoped>\n",
       "    .dataframe tbody tr th:only-of-type {\n",
       "        vertical-align: middle;\n",
       "    }\n",
       "\n",
       "    .dataframe tbody tr th {\n",
       "        vertical-align: top;\n",
       "    }\n",
       "\n",
       "    .dataframe thead th {\n",
       "        text-align: right;\n",
       "    }\n",
       "</style>\n",
       "<table border=\"1\" class=\"dataframe\">\n",
       "  <thead>\n",
       "    <tr style=\"text-align: right;\">\n",
       "      <th></th>\n",
       "      <th>id</th>\n",
       "      <th>title</th>\n",
       "      <th>description</th>\n",
       "      <th>release_year</th>\n",
       "      <th>runtime</th>\n",
       "      <th>production_countries</th>\n",
       "      <th>seasons</th>\n",
       "      <th>tmdb_popularity</th>\n",
       "      <th>tmdb_score</th>\n",
       "      <th>director</th>\n",
       "      <th>...</th>\n",
       "      <th>TV-G</th>\n",
       "      <th>TV-MA</th>\n",
       "      <th>TV-PG</th>\n",
       "      <th>TV-Y</th>\n",
       "      <th>TV-Y7</th>\n",
       "      <th>TV-Y7-FV</th>\n",
       "      <th>unrated</th>\n",
       "      <th>MOVIE</th>\n",
       "      <th>SHOW</th>\n",
       "      <th>decade</th>\n",
       "    </tr>\n",
       "  </thead>\n",
       "  <tbody>\n",
       "    <tr>\n",
       "      <th>0</th>\n",
       "      <td>tm89464</td>\n",
       "      <td>Miracle on 34th Street</td>\n",
       "      <td>Kris Kringle, seemingly the embodiment of Sant...</td>\n",
       "      <td>1947</td>\n",
       "      <td>96</td>\n",
       "      <td>US</td>\n",
       "      <td>0.0</td>\n",
       "      <td>23.515</td>\n",
       "      <td>7.388</td>\n",
       "      <td>[George Seaton]</td>\n",
       "      <td>...</td>\n",
       "      <td>0</td>\n",
       "      <td>0</td>\n",
       "      <td>0</td>\n",
       "      <td>0</td>\n",
       "      <td>0</td>\n",
       "      <td>0</td>\n",
       "      <td>0</td>\n",
       "      <td>1</td>\n",
       "      <td>0</td>\n",
       "      <td>1940</td>\n",
       "    </tr>\n",
       "    <tr>\n",
       "      <th>1</th>\n",
       "      <td>tm61729</td>\n",
       "      <td>The Adventures of Ichabod and Mr. Toad</td>\n",
       "      <td>The Wind in the Willows: Concise version of Ke...</td>\n",
       "      <td>1950</td>\n",
       "      <td>68</td>\n",
       "      <td>US</td>\n",
       "      <td>0.0</td>\n",
       "      <td>16.194</td>\n",
       "      <td>6.500</td>\n",
       "      <td>[James Algar, Clyde Geronimi, Jack Kinney]</td>\n",
       "      <td>...</td>\n",
       "      <td>0</td>\n",
       "      <td>0</td>\n",
       "      <td>0</td>\n",
       "      <td>0</td>\n",
       "      <td>0</td>\n",
       "      <td>0</td>\n",
       "      <td>0</td>\n",
       "      <td>1</td>\n",
       "      <td>0</td>\n",
       "      <td>1950</td>\n",
       "    </tr>\n",
       "  </tbody>\n",
       "</table>\n",
       "<p>2 rows × 44 columns</p>\n",
       "</div>"
      ],
      "text/plain": [
       "        id                                   title  \\\n",
       "0  tm89464                  Miracle on 34th Street   \n",
       "1  tm61729  The Adventures of Ichabod and Mr. Toad   \n",
       "\n",
       "                                         description  release_year  runtime  \\\n",
       "0  Kris Kringle, seemingly the embodiment of Sant...          1947       96   \n",
       "1  The Wind in the Willows: Concise version of Ke...          1950       68   \n",
       "\n",
       "  production_countries  seasons  tmdb_popularity  tmdb_score  \\\n",
       "0                   US      0.0           23.515       7.388   \n",
       "1                   US      0.0           16.194       6.500   \n",
       "\n",
       "                                     director  ...  TV-G  TV-MA  TV-PG  TV-Y  \\\n",
       "0                             [George Seaton]  ...     0      0      0     0   \n",
       "1  [James Algar, Clyde Geronimi, Jack Kinney]  ...     0      0      0     0   \n",
       "\n",
       "   TV-Y7  TV-Y7-FV  unrated  MOVIE  SHOW  decade  \n",
       "0      0         0        0      1     0    1940  \n",
       "1      0         0        0      1     0    1950  \n",
       "\n",
       "[2 rows x 44 columns]"
      ]
     },
     "execution_count": 49,
     "metadata": {},
     "output_type": "execute_result"
    }
   ],
   "source": [
    "merged4['decade'] = merged4['release_year']//10*10 \n",
    "merged4.head(2)"
   ]
  },
  {
   "cell_type": "code",
   "execution_count": 50,
   "metadata": {},
   "outputs": [
    {
     "data": {
      "text/plain": [
       "id                       object\n",
       "title                    object\n",
       "description              object\n",
       "release_year              int64\n",
       "runtime                   int64\n",
       "production_countries     object\n",
       "seasons                 float64\n",
       "tmdb_popularity         float64\n",
       "tmdb_score              float64\n",
       "director                 object\n",
       "action                    int64\n",
       "animation                 int64\n",
       "comedy                    int64\n",
       "crime                     int64\n",
       "documentation             int64\n",
       "drama                     int64\n",
       "european                  int64\n",
       "family                    int64\n",
       "fantasy                   int64\n",
       "history                   int64\n",
       "horror                    int64\n",
       "music                     int64\n",
       "reality                   int64\n",
       "romance                   int64\n",
       "scifi                     int64\n",
       "sport                     int64\n",
       "thriller                  int64\n",
       "war                       int64\n",
       "western                   int64\n",
       "G                         int64\n",
       "PG                        int64\n",
       "PG-13                     int64\n",
       "R                         int64\n",
       "TV-14                     int64\n",
       "TV-G                      int64\n",
       "TV-MA                     int64\n",
       "TV-PG                     int64\n",
       "TV-Y                      int64\n",
       "TV-Y7                     int64\n",
       "TV-Y7-FV                  int64\n",
       "unrated                   int64\n",
       "MOVIE                     int64\n",
       "SHOW                      int64\n",
       "decade                    int64\n",
       "dtype: object"
      ]
     },
     "execution_count": 50,
     "metadata": {},
     "output_type": "execute_result"
    }
   ],
   "source": [
    "merged4.dtypes"
   ]
  },
  {
   "cell_type": "code",
   "execution_count": 51,
   "metadata": {},
   "outputs": [
    {
     "data": {
      "text/plain": [
       "Index(['1920', '1930', '1940', '1950', '1960', '1970', '1980', '1990', '2000',\n",
       "       '2010', '2020'],\n",
       "      dtype='object')"
      ]
     },
     "execution_count": 51,
     "metadata": {},
     "output_type": "execute_result"
    }
   ],
   "source": [
    "#get dummies for Decade\n",
    "\n",
    "merged4['decade'] = merged4.decade.astype(str)\n",
    "\n",
    "dummies5 = merged4['decade'].str.get_dummies(sep=',')\n",
    "dummies5.columns"
   ]
  },
  {
   "cell_type": "code",
   "execution_count": 52,
   "metadata": {},
   "outputs": [
    {
     "name": "stdout",
     "output_type": "stream",
     "text": [
      "Index(['id', 'title', 'description', 'release_year', 'runtime',\n",
      "       'production_countries', 'seasons', 'tmdb_popularity', 'tmdb_score',\n",
      "       'director', 'action', 'animation', 'comedy', 'crime', 'documentation',\n",
      "       'drama', 'european', 'family', 'fantasy', 'history', 'horror', 'music',\n",
      "       'reality', 'romance', 'scifi', 'sport', 'thriller', 'war', 'western',\n",
      "       'G', 'PG', 'PG-13', 'R', 'TV-14', 'TV-G', 'TV-MA', 'TV-PG', 'TV-Y',\n",
      "       'TV-Y7', 'TV-Y7-FV', 'unrated', 'MOVIE', 'SHOW', '1920', '1930', '1940',\n",
      "       '1950', '1960', '1970', '1980', '1990', '2000', '2010', '2020'],\n",
      "      dtype='object')\n"
     ]
    }
   ],
   "source": [
    "#concatenate dummies5 with type back into merged4\n",
    "merged5 = (pd.concat([merged4, dummies5], axis=1).drop([\"decade\"], axis=1))\n",
    "print(merged5.columns)"
   ]
  },
  {
   "cell_type": "code",
   "execution_count": 53,
   "metadata": {},
   "outputs": [
    {
     "data": {
      "text/html": [
       "<div>\n",
       "<style scoped>\n",
       "    .dataframe tbody tr th:only-of-type {\n",
       "        vertical-align: middle;\n",
       "    }\n",
       "\n",
       "    .dataframe tbody tr th {\n",
       "        vertical-align: top;\n",
       "    }\n",
       "\n",
       "    .dataframe thead th {\n",
       "        text-align: right;\n",
       "    }\n",
       "</style>\n",
       "<table border=\"1\" class=\"dataframe\">\n",
       "  <thead>\n",
       "    <tr style=\"text-align: right;\">\n",
       "      <th></th>\n",
       "      <th>id</th>\n",
       "      <th>title</th>\n",
       "      <th>description</th>\n",
       "      <th>runtime</th>\n",
       "      <th>production_countries</th>\n",
       "      <th>seasons</th>\n",
       "      <th>tmdb_popularity</th>\n",
       "      <th>tmdb_score</th>\n",
       "      <th>director</th>\n",
       "      <th>action</th>\n",
       "      <th>...</th>\n",
       "      <th>1930</th>\n",
       "      <th>1940</th>\n",
       "      <th>1950</th>\n",
       "      <th>1960</th>\n",
       "      <th>1970</th>\n",
       "      <th>1980</th>\n",
       "      <th>1990</th>\n",
       "      <th>2000</th>\n",
       "      <th>2010</th>\n",
       "      <th>2020</th>\n",
       "    </tr>\n",
       "  </thead>\n",
       "  <tbody>\n",
       "    <tr>\n",
       "      <th>0</th>\n",
       "      <td>tm89464</td>\n",
       "      <td>Miracle on 34th Street</td>\n",
       "      <td>Kris Kringle, seemingly the embodiment of Sant...</td>\n",
       "      <td>96</td>\n",
       "      <td>US</td>\n",
       "      <td>0.0</td>\n",
       "      <td>23.515</td>\n",
       "      <td>7.388</td>\n",
       "      <td>[George Seaton]</td>\n",
       "      <td>0</td>\n",
       "      <td>...</td>\n",
       "      <td>0</td>\n",
       "      <td>1</td>\n",
       "      <td>0</td>\n",
       "      <td>0</td>\n",
       "      <td>0</td>\n",
       "      <td>0</td>\n",
       "      <td>0</td>\n",
       "      <td>0</td>\n",
       "      <td>0</td>\n",
       "      <td>0</td>\n",
       "    </tr>\n",
       "    <tr>\n",
       "      <th>1</th>\n",
       "      <td>tm61729</td>\n",
       "      <td>The Adventures of Ichabod and Mr. Toad</td>\n",
       "      <td>The Wind in the Willows: Concise version of Ke...</td>\n",
       "      <td>68</td>\n",
       "      <td>US</td>\n",
       "      <td>0.0</td>\n",
       "      <td>16.194</td>\n",
       "      <td>6.500</td>\n",
       "      <td>[James Algar, Clyde Geronimi, Jack Kinney]</td>\n",
       "      <td>0</td>\n",
       "      <td>...</td>\n",
       "      <td>0</td>\n",
       "      <td>0</td>\n",
       "      <td>1</td>\n",
       "      <td>0</td>\n",
       "      <td>0</td>\n",
       "      <td>0</td>\n",
       "      <td>0</td>\n",
       "      <td>0</td>\n",
       "      <td>0</td>\n",
       "      <td>0</td>\n",
       "    </tr>\n",
       "  </tbody>\n",
       "</table>\n",
       "<p>2 rows × 53 columns</p>\n",
       "</div>"
      ],
      "text/plain": [
       "        id                                   title  \\\n",
       "0  tm89464                  Miracle on 34th Street   \n",
       "1  tm61729  The Adventures of Ichabod and Mr. Toad   \n",
       "\n",
       "                                         description  runtime  \\\n",
       "0  Kris Kringle, seemingly the embodiment of Sant...       96   \n",
       "1  The Wind in the Willows: Concise version of Ke...       68   \n",
       "\n",
       "  production_countries  seasons  tmdb_popularity  tmdb_score  \\\n",
       "0                   US      0.0           23.515       7.388   \n",
       "1                   US      0.0           16.194       6.500   \n",
       "\n",
       "                                     director  action  ...  1930  1940  1950  \\\n",
       "0                             [George Seaton]       0  ...     0     1     0   \n",
       "1  [James Algar, Clyde Geronimi, Jack Kinney]       0  ...     0     0     1   \n",
       "\n",
       "   1960  1970  1980  1990  2000  2010  2020  \n",
       "0     0     0     0     0     0     0     0  \n",
       "1     0     0     0     0     0     0     0  \n",
       "\n",
       "[2 rows x 53 columns]"
      ]
     },
     "execution_count": 53,
     "metadata": {},
     "output_type": "execute_result"
    }
   ],
   "source": [
    "#drop release_year\n",
    "\n",
    "clean = merged5.drop(['release_year'], axis=1)\n",
    "clean.head(2)"
   ]
  },
  {
   "cell_type": "code",
   "execution_count": 54,
   "metadata": {},
   "outputs": [
    {
     "data": {
      "text/html": [
       "<div>\n",
       "<style scoped>\n",
       "    .dataframe tbody tr th:only-of-type {\n",
       "        vertical-align: middle;\n",
       "    }\n",
       "\n",
       "    .dataframe tbody tr th {\n",
       "        vertical-align: top;\n",
       "    }\n",
       "\n",
       "    .dataframe thead th {\n",
       "        text-align: right;\n",
       "    }\n",
       "</style>\n",
       "<table border=\"1\" class=\"dataframe\">\n",
       "  <thead>\n",
       "    <tr style=\"text-align: right;\">\n",
       "      <th></th>\n",
       "      <th>id</th>\n",
       "      <th>title</th>\n",
       "      <th>description</th>\n",
       "      <th>runtime</th>\n",
       "      <th>production_countries</th>\n",
       "      <th>seasons</th>\n",
       "      <th>tmdb_popularity</th>\n",
       "      <th>tmdb_score</th>\n",
       "      <th>director</th>\n",
       "      <th>action</th>\n",
       "      <th>...</th>\n",
       "      <th>1930</th>\n",
       "      <th>1940</th>\n",
       "      <th>1950</th>\n",
       "      <th>1960</th>\n",
       "      <th>1970</th>\n",
       "      <th>1980</th>\n",
       "      <th>1990</th>\n",
       "      <th>2000</th>\n",
       "      <th>2010</th>\n",
       "      <th>2020</th>\n",
       "    </tr>\n",
       "  </thead>\n",
       "  <tbody>\n",
       "    <tr>\n",
       "      <th>0</th>\n",
       "      <td>tm89464</td>\n",
       "      <td>Miracle on 34th Street</td>\n",
       "      <td>Kris Kringle, seemingly the embodiment of Sant...</td>\n",
       "      <td>96</td>\n",
       "      <td>US</td>\n",
       "      <td>0.0</td>\n",
       "      <td>23.515</td>\n",
       "      <td>7.388</td>\n",
       "      <td>GeorgeSeaton</td>\n",
       "      <td>0</td>\n",
       "      <td>...</td>\n",
       "      <td>0</td>\n",
       "      <td>1</td>\n",
       "      <td>0</td>\n",
       "      <td>0</td>\n",
       "      <td>0</td>\n",
       "      <td>0</td>\n",
       "      <td>0</td>\n",
       "      <td>0</td>\n",
       "      <td>0</td>\n",
       "      <td>0</td>\n",
       "    </tr>\n",
       "    <tr>\n",
       "      <th>1</th>\n",
       "      <td>tm61729</td>\n",
       "      <td>The Adventures of Ichabod and Mr. Toad</td>\n",
       "      <td>The Wind in the Willows: Concise version of Ke...</td>\n",
       "      <td>68</td>\n",
       "      <td>US</td>\n",
       "      <td>0.0</td>\n",
       "      <td>16.194</td>\n",
       "      <td>6.500</td>\n",
       "      <td>JamesAlgar,ClydeGeronimi,JackKinney</td>\n",
       "      <td>0</td>\n",
       "      <td>...</td>\n",
       "      <td>0</td>\n",
       "      <td>0</td>\n",
       "      <td>1</td>\n",
       "      <td>0</td>\n",
       "      <td>0</td>\n",
       "      <td>0</td>\n",
       "      <td>0</td>\n",
       "      <td>0</td>\n",
       "      <td>0</td>\n",
       "      <td>0</td>\n",
       "    </tr>\n",
       "  </tbody>\n",
       "</table>\n",
       "<p>2 rows × 53 columns</p>\n",
       "</div>"
      ],
      "text/plain": [
       "        id                                   title  \\\n",
       "0  tm89464                  Miracle on 34th Street   \n",
       "1  tm61729  The Adventures of Ichabod and Mr. Toad   \n",
       "\n",
       "                                         description  runtime  \\\n",
       "0  Kris Kringle, seemingly the embodiment of Sant...       96   \n",
       "1  The Wind in the Willows: Concise version of Ke...       68   \n",
       "\n",
       "  production_countries  seasons  tmdb_popularity  tmdb_score  \\\n",
       "0                   US      0.0           23.515       7.388   \n",
       "1                   US      0.0           16.194       6.500   \n",
       "\n",
       "                              director  action  ...  1930  1940  1950  1960  \\\n",
       "0                         GeorgeSeaton       0  ...     0     1     0     0   \n",
       "1  JamesAlgar,ClydeGeronimi,JackKinney       0  ...     0     0     1     0   \n",
       "\n",
       "   1970  1980  1990  2000  2010  2020  \n",
       "0     0     0     0     0     0     0  \n",
       "1     0     0     0     0     0     0  \n",
       "\n",
       "[2 rows x 53 columns]"
      ]
     },
     "execution_count": 54,
     "metadata": {},
     "output_type": "execute_result"
    }
   ],
   "source": [
    "#remove square brackets, quotations and spaces from director\n",
    "\n",
    "clean['director'] = pd.DataFrame([str(line).strip('[').strip(']') for line in clean['director']])\n",
    "clean['director'] = clean['director'].str.replace(r\"'\", r\"\")\n",
    "clean['director'] = clean['director'].str.replace(r\" \", r\"\")\n",
    "clean.head(2)"
   ]
  },
  {
   "cell_type": "code",
   "execution_count": null,
   "metadata": {},
   "outputs": [],
   "source": []
  },
  {
   "cell_type": "code",
   "execution_count": 55,
   "metadata": {},
   "outputs": [],
   "source": [
    "#feature seletion - popularity\n",
    "\n",
    "#based on results below runtime should be normalized"
   ]
  },
  {
   "cell_type": "code",
   "execution_count": 56,
   "metadata": {},
   "outputs": [
    {
     "data": {
      "text/html": [
       "<div>\n",
       "<style scoped>\n",
       "    .dataframe tbody tr th:only-of-type {\n",
       "        vertical-align: middle;\n",
       "    }\n",
       "\n",
       "    .dataframe tbody tr th {\n",
       "        vertical-align: top;\n",
       "    }\n",
       "\n",
       "    .dataframe thead th {\n",
       "        text-align: right;\n",
       "    }\n",
       "</style>\n",
       "<table border=\"1\" class=\"dataframe\">\n",
       "  <thead>\n",
       "    <tr style=\"text-align: right;\">\n",
       "      <th></th>\n",
       "      <th>id</th>\n",
       "      <th>title</th>\n",
       "      <th>description</th>\n",
       "      <th>runtime</th>\n",
       "      <th>production_countries</th>\n",
       "      <th>seasons</th>\n",
       "      <th>tmdb_popularity</th>\n",
       "      <th>tmdb_score</th>\n",
       "      <th>director</th>\n",
       "      <th>action</th>\n",
       "      <th>...</th>\n",
       "      <th>1930</th>\n",
       "      <th>1940</th>\n",
       "      <th>1950</th>\n",
       "      <th>1960</th>\n",
       "      <th>1970</th>\n",
       "      <th>1980</th>\n",
       "      <th>1990</th>\n",
       "      <th>2000</th>\n",
       "      <th>2010</th>\n",
       "      <th>2020</th>\n",
       "    </tr>\n",
       "  </thead>\n",
       "  <tbody>\n",
       "    <tr>\n",
       "      <th>0</th>\n",
       "      <td>tm89464</td>\n",
       "      <td>Miracle on 34th Street</td>\n",
       "      <td>Kris Kringle, seemingly the embodiment of Sant...</td>\n",
       "      <td>96</td>\n",
       "      <td>US</td>\n",
       "      <td>0.0</td>\n",
       "      <td>23.515</td>\n",
       "      <td>7.388</td>\n",
       "      <td>GeorgeSeaton</td>\n",
       "      <td>0</td>\n",
       "      <td>...</td>\n",
       "      <td>0</td>\n",
       "      <td>1</td>\n",
       "      <td>0</td>\n",
       "      <td>0</td>\n",
       "      <td>0</td>\n",
       "      <td>0</td>\n",
       "      <td>0</td>\n",
       "      <td>0</td>\n",
       "      <td>0</td>\n",
       "      <td>0</td>\n",
       "    </tr>\n",
       "    <tr>\n",
       "      <th>1</th>\n",
       "      <td>tm61729</td>\n",
       "      <td>The Adventures of Ichabod and Mr. Toad</td>\n",
       "      <td>The Wind in the Willows: Concise version of Ke...</td>\n",
       "      <td>68</td>\n",
       "      <td>US</td>\n",
       "      <td>0.0</td>\n",
       "      <td>16.194</td>\n",
       "      <td>6.500</td>\n",
       "      <td>JamesAlgar,ClydeGeronimi,JackKinney</td>\n",
       "      <td>0</td>\n",
       "      <td>...</td>\n",
       "      <td>0</td>\n",
       "      <td>0</td>\n",
       "      <td>1</td>\n",
       "      <td>0</td>\n",
       "      <td>0</td>\n",
       "      <td>0</td>\n",
       "      <td>0</td>\n",
       "      <td>0</td>\n",
       "      <td>0</td>\n",
       "      <td>0</td>\n",
       "    </tr>\n",
       "  </tbody>\n",
       "</table>\n",
       "<p>2 rows × 53 columns</p>\n",
       "</div>"
      ],
      "text/plain": [
       "        id                                   title  \\\n",
       "0  tm89464                  Miracle on 34th Street   \n",
       "1  tm61729  The Adventures of Ichabod and Mr. Toad   \n",
       "\n",
       "                                         description  runtime  \\\n",
       "0  Kris Kringle, seemingly the embodiment of Sant...       96   \n",
       "1  The Wind in the Willows: Concise version of Ke...       68   \n",
       "\n",
       "  production_countries  seasons  tmdb_popularity  tmdb_score  \\\n",
       "0                   US      0.0           23.515       7.388   \n",
       "1                   US      0.0           16.194       6.500   \n",
       "\n",
       "                              director  action  ...  1930  1940  1950  1960  \\\n",
       "0                         GeorgeSeaton       0  ...     0     1     0     0   \n",
       "1  JamesAlgar,ClydeGeronimi,JackKinney       0  ...     0     0     1     0   \n",
       "\n",
       "   1970  1980  1990  2000  2010  2020  \n",
       "0     0     0     0     0     0     0  \n",
       "1     0     0     0     0     0     0  \n",
       "\n",
       "[2 rows x 53 columns]"
      ]
     },
     "execution_count": 56,
     "metadata": {},
     "output_type": "execute_result"
    }
   ],
   "source": [
    "#drop NA for tmdb score - drop whole row\n",
    "\n",
    "selection = clean.dropna(subset = ['tmdb_score'])\n",
    "selection.head(2)"
   ]
  },
  {
   "cell_type": "code",
   "execution_count": 57,
   "metadata": {},
   "outputs": [],
   "source": [
    "#Originally ran without normalizing run time - based on results runtime should be normalized"
   ]
  },
  {
   "cell_type": "code",
   "execution_count": 58,
   "metadata": {
    "tags": []
   },
   "outputs": [
    {
     "data": {
      "text/plain": [
       "Index(['id', 'title', 'description', 'runtime', 'production_countries',\n",
       "       'seasons', 'tmdb_popularity', 'tmdb_score', 'director', 'action',\n",
       "       'animation', 'comedy', 'crime', 'documentation', 'drama', 'european',\n",
       "       'family', 'fantasy', 'history', 'horror', 'music', 'reality', 'romance',\n",
       "       'scifi', 'sport', 'thriller', 'war', 'western', 'G', 'PG', 'PG-13', 'R',\n",
       "       'TV-14', 'TV-G', 'TV-MA', 'TV-PG', 'TV-Y', 'TV-Y7', 'TV-Y7-FV',\n",
       "       'unrated', 'MOVIE', 'SHOW', '1920', '1930', '1940', '1950', '1960',\n",
       "       '1970', '1980', '1990', '2000', '2010', '2020'],\n",
       "      dtype='object')"
      ]
     },
     "execution_count": 58,
     "metadata": {},
     "output_type": "execute_result"
    }
   ],
   "source": [
    "selection.columns"
   ]
  },
  {
   "cell_type": "code",
   "execution_count": 59,
   "metadata": {},
   "outputs": [],
   "source": [
    "#check with normalized run time"
   ]
  },
  {
   "cell_type": "code",
   "execution_count": 60,
   "metadata": {},
   "outputs": [
    {
     "data": {
      "text/html": [
       "<div>\n",
       "<style scoped>\n",
       "    .dataframe tbody tr th:only-of-type {\n",
       "        vertical-align: middle;\n",
       "    }\n",
       "\n",
       "    .dataframe tbody tr th {\n",
       "        vertical-align: top;\n",
       "    }\n",
       "\n",
       "    .dataframe thead th {\n",
       "        text-align: right;\n",
       "    }\n",
       "</style>\n",
       "<table border=\"1\" class=\"dataframe\">\n",
       "  <thead>\n",
       "    <tr style=\"text-align: right;\">\n",
       "      <th></th>\n",
       "      <th>id</th>\n",
       "      <th>title</th>\n",
       "      <th>description</th>\n",
       "      <th>runtime</th>\n",
       "      <th>production_countries</th>\n",
       "      <th>seasons</th>\n",
       "      <th>tmdb_popularity</th>\n",
       "      <th>tmdb_score</th>\n",
       "      <th>director</th>\n",
       "      <th>action</th>\n",
       "      <th>...</th>\n",
       "      <th>1930</th>\n",
       "      <th>1940</th>\n",
       "      <th>1950</th>\n",
       "      <th>1960</th>\n",
       "      <th>1970</th>\n",
       "      <th>1980</th>\n",
       "      <th>1990</th>\n",
       "      <th>2000</th>\n",
       "      <th>2010</th>\n",
       "      <th>2020</th>\n",
       "    </tr>\n",
       "  </thead>\n",
       "  <tbody>\n",
       "    <tr>\n",
       "      <th>0</th>\n",
       "      <td>tm89464</td>\n",
       "      <td>Miracle on 34th Street</td>\n",
       "      <td>Kris Kringle, seemingly the embodiment of Sant...</td>\n",
       "      <td>0.524862</td>\n",
       "      <td>US</td>\n",
       "      <td>0.0</td>\n",
       "      <td>23.515</td>\n",
       "      <td>7.388</td>\n",
       "      <td>GeorgeSeaton</td>\n",
       "      <td>0</td>\n",
       "      <td>...</td>\n",
       "      <td>0</td>\n",
       "      <td>1</td>\n",
       "      <td>0</td>\n",
       "      <td>0</td>\n",
       "      <td>0</td>\n",
       "      <td>0</td>\n",
       "      <td>0</td>\n",
       "      <td>0</td>\n",
       "      <td>0</td>\n",
       "      <td>0</td>\n",
       "    </tr>\n",
       "    <tr>\n",
       "      <th>1</th>\n",
       "      <td>tm61729</td>\n",
       "      <td>The Adventures of Ichabod and Mr. Toad</td>\n",
       "      <td>The Wind in the Willows: Concise version of Ke...</td>\n",
       "      <td>0.370166</td>\n",
       "      <td>US</td>\n",
       "      <td>0.0</td>\n",
       "      <td>16.194</td>\n",
       "      <td>6.500</td>\n",
       "      <td>JamesAlgar,ClydeGeronimi,JackKinney</td>\n",
       "      <td>0</td>\n",
       "      <td>...</td>\n",
       "      <td>0</td>\n",
       "      <td>0</td>\n",
       "      <td>1</td>\n",
       "      <td>0</td>\n",
       "      <td>0</td>\n",
       "      <td>0</td>\n",
       "      <td>0</td>\n",
       "      <td>0</td>\n",
       "      <td>0</td>\n",
       "      <td>0</td>\n",
       "    </tr>\n",
       "  </tbody>\n",
       "</table>\n",
       "<p>2 rows × 53 columns</p>\n",
       "</div>"
      ],
      "text/plain": [
       "        id                                   title  \\\n",
       "0  tm89464                  Miracle on 34th Street   \n",
       "1  tm61729  The Adventures of Ichabod and Mr. Toad   \n",
       "\n",
       "                                         description   runtime  \\\n",
       "0  Kris Kringle, seemingly the embodiment of Sant...  0.524862   \n",
       "1  The Wind in the Willows: Concise version of Ke...  0.370166   \n",
       "\n",
       "  production_countries  seasons  tmdb_popularity  tmdb_score  \\\n",
       "0                   US      0.0           23.515       7.388   \n",
       "1                   US      0.0           16.194       6.500   \n",
       "\n",
       "                              director  action  ...  1930  1940  1950  1960  \\\n",
       "0                         GeorgeSeaton       0  ...     0     1     0     0   \n",
       "1  JamesAlgar,ClydeGeronimi,JackKinney       0  ...     0     0     1     0   \n",
       "\n",
       "   1970  1980  1990  2000  2010  2020  \n",
       "0     0     0     0     0     0     0  \n",
       "1     0     0     0     0     0     0  \n",
       "\n",
       "[2 rows x 53 columns]"
      ]
     },
     "execution_count": 60,
     "metadata": {},
     "output_type": "execute_result"
    }
   ],
   "source": [
    "#normalize runtime\n",
    "\n",
    "import numpy as np\n",
    "from sklearn.preprocessing import MinMaxScaler\n",
    "#import numpy as np\n",
    "  \n",
    "# copy the data\n",
    "normalized = selection.copy()\n",
    "  \n",
    "# apply normalization techniques\n",
    "column = 'runtime'\n",
    "normalized[column] = MinMaxScaler().fit_transform(np.array(normalized[column]).reshape(-1,1))\n",
    "  \n",
    "# view normalized data  \n",
    "normalized.head(2)"
   ]
  },
  {
   "cell_type": "code",
   "execution_count": 61,
   "metadata": {},
   "outputs": [
    {
     "name": "stdout",
     "output_type": "stream",
     "text": [
      "         Features  Popularity_Score\n",
      "1         seasons       2846.548043\n",
      "25              R        606.168085\n",
      "24          PG-13        438.995592\n",
      "7   documentation        374.569693\n",
      "3          action        366.490438\n",
      "11        fantasy        362.947374\n",
      "17          scifi        342.962804\n",
      "31        unrated        327.329318\n",
      "19       thriller        313.057327\n",
      "13         horror        306.297720\n",
      "26          TV-14        267.438077\n",
      "5          comedy        263.053322\n",
      "16        romance        240.217231\n",
      "20            war        230.850104\n",
      "10         family        227.279954\n",
      "4       animation        225.421014\n",
      "8           drama        222.646615\n",
      "6           crime        221.021012\n",
      "42           2000        201.707265\n",
      "30          TV-Y7        195.328903\n",
      "44           2020        187.443623\n",
      "9        european        185.307003\n",
      "41           1990        173.803851\n",
      "23             PG        171.808415\n",
      "27           TV-G        159.401181\n",
      "14          music        158.560068\n",
      "40           1980        148.654532\n",
      "22              G        148.121702\n",
      "21        western        139.637122\n",
      "33           SHOW        136.074342\n",
      "37           1950        119.320948\n",
      "43           2010        114.053519\n",
      "36           1940        104.977363\n",
      "18          sport        104.969538\n",
      "35           1930        104.393474\n"
     ]
    }
   ],
   "source": [
    "# Variable selection with k best using f_regression for popularity\n",
    "\n",
    "from sklearn.feature_selection import SelectKBest\n",
    "from sklearn.feature_selection import chi2, f_regression\n",
    "\n",
    "X = normalized[['runtime',\n",
    "       'seasons','tmdb_score','action',\n",
    "       'animation', 'comedy', 'crime', 'documentation', 'drama', 'european',\n",
    "       'family', 'fantasy', 'history', 'horror', 'music', 'reality', 'romance',\n",
    "       'scifi', 'sport', 'thriller', 'war', 'western', 'G', 'PG', 'PG-13', 'R',\n",
    "       'TV-14', 'TV-G', 'TV-PG', 'TV-Y', 'TV-Y7', 'unrated', 'MOVIE', 'SHOW',\n",
    "       '1920', '1930', '1940', '1950', '1960', '1970', '1980', '1990', '2000',\n",
    "       '2010', '2020']]\n",
    "\n",
    "y = normalized['tmdb_popularity'].astype('int')\n",
    "\n",
    "\n",
    "#apply SelectKBest class to extract topfeatures\n",
    "bestfeatures = SelectKBest(score_func= chi2, k=35)\n",
    "fit = bestfeatures.fit(X,y)\n",
    "dfscores = pd.DataFrame(fit.scores_)\n",
    "dfcolumns = pd.DataFrame(X.columns)\n",
    "#concat two dataframes for better visualization \n",
    "featureScores = pd.concat([dfcolumns,dfscores],axis=1)\n",
    "featureScores.columns = ['Features','Popularity_Score']  #naming the dataframe columns\n",
    "print(featureScores.nlargest(35,'Popularity_Score'))  #print all best features"
   ]
  },
  {
   "cell_type": "code",
   "execution_count": 62,
   "metadata": {},
   "outputs": [],
   "source": [
    "# Look at p-values"
   ]
  },
  {
   "cell_type": "code",
   "execution_count": 63,
   "metadata": {},
   "outputs": [],
   "source": [
    "import matplotlib.pyplot as plt\n",
    "import seaborn as sns \n",
    "import statsmodels.api as sm\n",
    "import statsmodels.formula.api as smf"
   ]
  },
  {
   "cell_type": "code",
   "execution_count": 64,
   "metadata": {},
   "outputs": [
    {
     "data": {
      "text/html": [
       "<table class=\"simpletable\">\n",
       "<caption>OLS Regression Results</caption>\n",
       "<tr>\n",
       "  <th>Dep. Variable:</th>     <td>tmdb_popularity</td> <th>  R-squared:         </th> <td>   0.147</td> \n",
       "</tr>\n",
       "<tr>\n",
       "  <th>Model:</th>                   <td>OLS</td>       <th>  Adj. R-squared:    </th> <td>   0.126</td> \n",
       "</tr>\n",
       "<tr>\n",
       "  <th>Method:</th>             <td>Least Squares</td>  <th>  F-statistic:       </th> <td>   6.837</td> \n",
       "</tr>\n",
       "<tr>\n",
       "  <th>Date:</th>             <td>Sun, 07 May 2023</td> <th>  Prob (F-statistic):</th> <td>1.05e-34</td> \n",
       "</tr>\n",
       "<tr>\n",
       "  <th>Time:</th>                 <td>11:53:36</td>     <th>  Log-Likelihood:    </th> <td> -9815.7</td> \n",
       "</tr>\n",
       "<tr>\n",
       "  <th>No. Observations:</th>      <td>  1708</td>      <th>  AIC:               </th> <td>1.972e+04</td>\n",
       "</tr>\n",
       "<tr>\n",
       "  <th>Df Residuals:</th>          <td>  1665</td>      <th>  BIC:               </th> <td>1.995e+04</td>\n",
       "</tr>\n",
       "<tr>\n",
       "  <th>Df Model:</th>              <td>    42</td>      <th>                     </th>     <td> </td>    \n",
       "</tr>\n",
       "<tr>\n",
       "  <th>Covariance Type:</th>      <td>nonrobust</td>    <th>                     </th>     <td> </td>    \n",
       "</tr>\n",
       "</table>\n",
       "<table class=\"simpletable\">\n",
       "<tr>\n",
       "        <td></td>           <th>coef</th>     <th>std err</th>      <th>t</th>      <th>P>|t|</th>  <th>[0.025</th>    <th>0.975]</th>  \n",
       "</tr>\n",
       "<tr>\n",
       "  <th>const</th>         <td>  -10.2268</td> <td>   19.122</td> <td>   -0.535</td> <td> 0.593</td> <td>  -47.732</td> <td>   27.278</td>\n",
       "</tr>\n",
       "<tr>\n",
       "  <th>runtime</th>       <td>   55.1194</td> <td>   13.687</td> <td>    4.027</td> <td> 0.000</td> <td>   28.273</td> <td>   81.965</td>\n",
       "</tr>\n",
       "<tr>\n",
       "  <th>seasons</th>       <td>    5.1567</td> <td>    1.079</td> <td>    4.780</td> <td> 0.000</td> <td>    3.041</td> <td>    7.273</td>\n",
       "</tr>\n",
       "<tr>\n",
       "  <th>tmdb_score</th>    <td>    5.5383</td> <td>    1.720</td> <td>    3.220</td> <td> 0.001</td> <td>    2.165</td> <td>    8.912</td>\n",
       "</tr>\n",
       "<tr>\n",
       "  <th>action</th>        <td>   15.1437</td> <td>    5.774</td> <td>    2.623</td> <td> 0.009</td> <td>    3.818</td> <td>   26.469</td>\n",
       "</tr>\n",
       "<tr>\n",
       "  <th>animation</th>     <td>   13.0152</td> <td>    5.284</td> <td>    2.463</td> <td> 0.014</td> <td>    2.651</td> <td>   23.379</td>\n",
       "</tr>\n",
       "<tr>\n",
       "  <th>comedy</th>        <td>    8.4043</td> <td>    4.808</td> <td>    1.748</td> <td> 0.081</td> <td>   -1.026</td> <td>   17.835</td>\n",
       "</tr>\n",
       "<tr>\n",
       "  <th>crime</th>         <td>  -15.5341</td> <td>   10.650</td> <td>   -1.459</td> <td> 0.145</td> <td>  -36.423</td> <td>    5.355</td>\n",
       "</tr>\n",
       "<tr>\n",
       "  <th>documentation</th> <td>  -17.4785</td> <td>    5.920</td> <td>   -2.952</td> <td> 0.003</td> <td>  -29.090</td> <td>   -5.867</td>\n",
       "</tr>\n",
       "<tr>\n",
       "  <th>drama</th>         <td>    7.5682</td> <td>    4.935</td> <td>    1.534</td> <td> 0.125</td> <td>   -2.112</td> <td>   17.248</td>\n",
       "</tr>\n",
       "<tr>\n",
       "  <th>european</th>      <td>   -8.1965</td> <td>   12.756</td> <td>   -0.643</td> <td> 0.521</td> <td>  -33.216</td> <td>   16.823</td>\n",
       "</tr>\n",
       "<tr>\n",
       "  <th>family</th>        <td>  -12.0818</td> <td>    5.567</td> <td>   -2.170</td> <td> 0.030</td> <td>  -23.002</td> <td>   -1.162</td>\n",
       "</tr>\n",
       "<tr>\n",
       "  <th>fantasy</th>       <td>   20.9352</td> <td>    5.224</td> <td>    4.008</td> <td> 0.000</td> <td>   10.690</td> <td>   31.181</td>\n",
       "</tr>\n",
       "<tr>\n",
       "  <th>history</th>       <td>   -7.6729</td> <td>   11.860</td> <td>   -0.647</td> <td> 0.518</td> <td>  -30.935</td> <td>   15.589</td>\n",
       "</tr>\n",
       "<tr>\n",
       "  <th>horror</th>        <td>  -14.7716</td> <td>   13.591</td> <td>   -1.087</td> <td> 0.277</td> <td>  -41.428</td> <td>   11.885</td>\n",
       "</tr>\n",
       "<tr>\n",
       "  <th>music</th>         <td>   -3.0882</td> <td>    7.639</td> <td>   -0.404</td> <td> 0.686</td> <td>  -18.070</td> <td>   11.894</td>\n",
       "</tr>\n",
       "<tr>\n",
       "  <th>romance</th>       <td>    0.5580</td> <td>    6.901</td> <td>    0.081</td> <td> 0.936</td> <td>  -12.978</td> <td>   14.094</td>\n",
       "</tr>\n",
       "<tr>\n",
       "  <th>scifi</th>         <td>   14.6677</td> <td>    6.149</td> <td>    2.385</td> <td> 0.017</td> <td>    2.607</td> <td>   26.729</td>\n",
       "</tr>\n",
       "<tr>\n",
       "  <th>sport</th>         <td>   -6.7361</td> <td>    9.741</td> <td>   -0.692</td> <td> 0.489</td> <td>  -25.843</td> <td>   12.370</td>\n",
       "</tr>\n",
       "<tr>\n",
       "  <th>thriller</th>      <td>   24.1469</td> <td>   10.266</td> <td>    2.352</td> <td> 0.019</td> <td>    4.012</td> <td>   44.282</td>\n",
       "</tr>\n",
       "<tr>\n",
       "  <th>war</th>           <td>   -6.1423</td> <td>   26.402</td> <td>   -0.233</td> <td> 0.816</td> <td>  -57.927</td> <td>   45.642</td>\n",
       "</tr>\n",
       "<tr>\n",
       "  <th>western</th>       <td>   -4.5207</td> <td>   15.967</td> <td>   -0.283</td> <td> 0.777</td> <td>  -35.838</td> <td>   26.797</td>\n",
       "</tr>\n",
       "<tr>\n",
       "  <th>G</th>             <td>  -36.6067</td> <td>   28.922</td> <td>   -1.266</td> <td> 0.206</td> <td>  -93.335</td> <td>   20.121</td>\n",
       "</tr>\n",
       "<tr>\n",
       "  <th>PG</th>            <td>  -35.8766</td> <td>   28.778</td> <td>   -1.247</td> <td> 0.213</td> <td>  -92.321</td> <td>   20.568</td>\n",
       "</tr>\n",
       "<tr>\n",
       "  <th>PG-13</th>         <td>   -9.5954</td> <td>   29.273</td> <td>   -0.328</td> <td> 0.743</td> <td>  -67.011</td> <td>   47.820</td>\n",
       "</tr>\n",
       "<tr>\n",
       "  <th>R</th>             <td>  -31.5437</td> <td>   45.053</td> <td>   -0.700</td> <td> 0.484</td> <td> -119.910</td> <td>   56.823</td>\n",
       "</tr>\n",
       "<tr>\n",
       "  <th>TV-14</th>         <td>  -18.0211</td> <td>   27.001</td> <td>   -0.667</td> <td> 0.505</td> <td>  -70.981</td> <td>   34.939</td>\n",
       "</tr>\n",
       "<tr>\n",
       "  <th>TV-G</th>          <td>  -34.5912</td> <td>   27.451</td> <td>   -1.260</td> <td> 0.208</td> <td>  -88.433</td> <td>   19.251</td>\n",
       "</tr>\n",
       "<tr>\n",
       "  <th>TV-PG</th>         <td>  -42.8815</td> <td>   26.707</td> <td>   -1.606</td> <td> 0.109</td> <td>  -95.265</td> <td>    9.502</td>\n",
       "</tr>\n",
       "<tr>\n",
       "  <th>TV-Y</th>          <td>  -47.1162</td> <td>   28.688</td> <td>   -1.642</td> <td> 0.101</td> <td> -103.384</td> <td>    9.152</td>\n",
       "</tr>\n",
       "<tr>\n",
       "  <th>TV-Y7</th>         <td>  -49.5658</td> <td>   27.446</td> <td>   -1.806</td> <td> 0.071</td> <td> -103.398</td> <td>    4.266</td>\n",
       "</tr>\n",
       "<tr>\n",
       "  <th>unrated</th>       <td>  -33.5949</td> <td>   28.150</td> <td>   -1.193</td> <td> 0.233</td> <td>  -88.808</td> <td>   21.618</td>\n",
       "</tr>\n",
       "<tr>\n",
       "  <th>MOVIE</th>         <td>   -1.5938</td> <td>   11.845</td> <td>   -0.135</td> <td> 0.893</td> <td>  -24.826</td> <td>   21.639</td>\n",
       "</tr>\n",
       "<tr>\n",
       "  <th>SHOW</th>          <td>   -8.6330</td> <td>   10.791</td> <td>   -0.800</td> <td> 0.424</td> <td>  -29.798</td> <td>   12.532</td>\n",
       "</tr>\n",
       "<tr>\n",
       "  <th>1920</th>          <td>    3.1555</td> <td>   70.476</td> <td>    0.045</td> <td> 0.964</td> <td> -135.075</td> <td>  141.386</td>\n",
       "</tr>\n",
       "<tr>\n",
       "  <th>1930</th>          <td>    0.4319</td> <td>   14.673</td> <td>    0.029</td> <td> 0.977</td> <td>  -28.347</td> <td>   29.211</td>\n",
       "</tr>\n",
       "<tr>\n",
       "  <th>1940</th>          <td>   -1.2579</td> <td>   13.506</td> <td>   -0.093</td> <td> 0.926</td> <td>  -27.749</td> <td>   25.233</td>\n",
       "</tr>\n",
       "<tr>\n",
       "  <th>1950</th>          <td>    1.0448</td> <td>   12.636</td> <td>    0.083</td> <td> 0.934</td> <td>  -23.739</td> <td>   25.828</td>\n",
       "</tr>\n",
       "<tr>\n",
       "  <th>1960</th>          <td>  -13.9518</td> <td>   14.896</td> <td>   -0.937</td> <td> 0.349</td> <td>  -43.168</td> <td>   15.264</td>\n",
       "</tr>\n",
       "<tr>\n",
       "  <th>1970</th>          <td>  -12.6692</td> <td>   13.915</td> <td>   -0.910</td> <td> 0.363</td> <td>  -39.961</td> <td>   14.623</td>\n",
       "</tr>\n",
       "<tr>\n",
       "  <th>1980</th>          <td>   -6.9702</td> <td>   12.196</td> <td>   -0.572</td> <td> 0.568</td> <td>  -30.891</td> <td>   16.951</td>\n",
       "</tr>\n",
       "<tr>\n",
       "  <th>1990</th>          <td>   -5.5987</td> <td>    9.729</td> <td>   -0.575</td> <td> 0.565</td> <td>  -24.680</td> <td>   13.483</td>\n",
       "</tr>\n",
       "<tr>\n",
       "  <th>2000</th>          <td>   -0.5784</td> <td>    8.652</td> <td>   -0.067</td> <td> 0.947</td> <td>  -17.547</td> <td>   16.391</td>\n",
       "</tr>\n",
       "<tr>\n",
       "  <th>2010</th>          <td>    3.0660</td> <td>    8.128</td> <td>    0.377</td> <td> 0.706</td> <td>  -12.877</td> <td>   19.009</td>\n",
       "</tr>\n",
       "<tr>\n",
       "  <th>2020</th>          <td>   23.1010</td> <td>    8.470</td> <td>    2.727</td> <td> 0.006</td> <td>    6.488</td> <td>   39.714</td>\n",
       "</tr>\n",
       "</table>\n",
       "<table class=\"simpletable\">\n",
       "<tr>\n",
       "  <th>Omnibus:</th>       <td>3507.295</td> <th>  Durbin-Watson:     </th>   <td>   1.907</td>  \n",
       "</tr>\n",
       "<tr>\n",
       "  <th>Prob(Omnibus):</th>  <td> 0.000</td>  <th>  Jarque-Bera (JB):  </th> <td>10069203.802</td>\n",
       "</tr>\n",
       "<tr>\n",
       "  <th>Skew:</th>           <td>16.570</td>  <th>  Prob(JB):          </th>   <td>    0.00</td>  \n",
       "</tr>\n",
       "<tr>\n",
       "  <th>Kurtosis:</th>       <td>377.686</td> <th>  Cond. No.          </th>   <td>1.03e+16</td>  \n",
       "</tr>\n",
       "</table><br/><br/>Notes:<br/>[1] Standard Errors assume that the covariance matrix of the errors is correctly specified.<br/>[2] The smallest eigenvalue is 8.35e-28. This might indicate that there are<br/>strong multicollinearity problems or that the design matrix is singular."
      ],
      "text/plain": [
       "<class 'statsmodels.iolib.summary.Summary'>\n",
       "\"\"\"\n",
       "                            OLS Regression Results                            \n",
       "==============================================================================\n",
       "Dep. Variable:        tmdb_popularity   R-squared:                       0.147\n",
       "Model:                            OLS   Adj. R-squared:                  0.126\n",
       "Method:                 Least Squares   F-statistic:                     6.837\n",
       "Date:                Sun, 07 May 2023   Prob (F-statistic):           1.05e-34\n",
       "Time:                        11:53:36   Log-Likelihood:                -9815.7\n",
       "No. Observations:                1708   AIC:                         1.972e+04\n",
       "Df Residuals:                    1665   BIC:                         1.995e+04\n",
       "Df Model:                          42                                         \n",
       "Covariance Type:            nonrobust                                         \n",
       "=================================================================================\n",
       "                    coef    std err          t      P>|t|      [0.025      0.975]\n",
       "---------------------------------------------------------------------------------\n",
       "const           -10.2268     19.122     -0.535      0.593     -47.732      27.278\n",
       "runtime          55.1194     13.687      4.027      0.000      28.273      81.965\n",
       "seasons           5.1567      1.079      4.780      0.000       3.041       7.273\n",
       "tmdb_score        5.5383      1.720      3.220      0.001       2.165       8.912\n",
       "action           15.1437      5.774      2.623      0.009       3.818      26.469\n",
       "animation        13.0152      5.284      2.463      0.014       2.651      23.379\n",
       "comedy            8.4043      4.808      1.748      0.081      -1.026      17.835\n",
       "crime           -15.5341     10.650     -1.459      0.145     -36.423       5.355\n",
       "documentation   -17.4785      5.920     -2.952      0.003     -29.090      -5.867\n",
       "drama             7.5682      4.935      1.534      0.125      -2.112      17.248\n",
       "european         -8.1965     12.756     -0.643      0.521     -33.216      16.823\n",
       "family          -12.0818      5.567     -2.170      0.030     -23.002      -1.162\n",
       "fantasy          20.9352      5.224      4.008      0.000      10.690      31.181\n",
       "history          -7.6729     11.860     -0.647      0.518     -30.935      15.589\n",
       "horror          -14.7716     13.591     -1.087      0.277     -41.428      11.885\n",
       "music            -3.0882      7.639     -0.404      0.686     -18.070      11.894\n",
       "romance           0.5580      6.901      0.081      0.936     -12.978      14.094\n",
       "scifi            14.6677      6.149      2.385      0.017       2.607      26.729\n",
       "sport            -6.7361      9.741     -0.692      0.489     -25.843      12.370\n",
       "thriller         24.1469     10.266      2.352      0.019       4.012      44.282\n",
       "war              -6.1423     26.402     -0.233      0.816     -57.927      45.642\n",
       "western          -4.5207     15.967     -0.283      0.777     -35.838      26.797\n",
       "G               -36.6067     28.922     -1.266      0.206     -93.335      20.121\n",
       "PG              -35.8766     28.778     -1.247      0.213     -92.321      20.568\n",
       "PG-13            -9.5954     29.273     -0.328      0.743     -67.011      47.820\n",
       "R               -31.5437     45.053     -0.700      0.484    -119.910      56.823\n",
       "TV-14           -18.0211     27.001     -0.667      0.505     -70.981      34.939\n",
       "TV-G            -34.5912     27.451     -1.260      0.208     -88.433      19.251\n",
       "TV-PG           -42.8815     26.707     -1.606      0.109     -95.265       9.502\n",
       "TV-Y            -47.1162     28.688     -1.642      0.101    -103.384       9.152\n",
       "TV-Y7           -49.5658     27.446     -1.806      0.071    -103.398       4.266\n",
       "unrated         -33.5949     28.150     -1.193      0.233     -88.808      21.618\n",
       "MOVIE            -1.5938     11.845     -0.135      0.893     -24.826      21.639\n",
       "SHOW             -8.6330     10.791     -0.800      0.424     -29.798      12.532\n",
       "1920              3.1555     70.476      0.045      0.964    -135.075     141.386\n",
       "1930              0.4319     14.673      0.029      0.977     -28.347      29.211\n",
       "1940             -1.2579     13.506     -0.093      0.926     -27.749      25.233\n",
       "1950              1.0448     12.636      0.083      0.934     -23.739      25.828\n",
       "1960            -13.9518     14.896     -0.937      0.349     -43.168      15.264\n",
       "1970            -12.6692     13.915     -0.910      0.363     -39.961      14.623\n",
       "1980             -6.9702     12.196     -0.572      0.568     -30.891      16.951\n",
       "1990             -5.5987      9.729     -0.575      0.565     -24.680      13.483\n",
       "2000             -0.5784      8.652     -0.067      0.947     -17.547      16.391\n",
       "2010              3.0660      8.128      0.377      0.706     -12.877      19.009\n",
       "2020             23.1010      8.470      2.727      0.006       6.488      39.714\n",
       "==============================================================================\n",
       "Omnibus:                     3507.295   Durbin-Watson:                   1.907\n",
       "Prob(Omnibus):                  0.000   Jarque-Bera (JB):         10069203.802\n",
       "Skew:                          16.570   Prob(JB):                         0.00\n",
       "Kurtosis:                     377.686   Cond. No.                     1.03e+16\n",
       "==============================================================================\n",
       "\n",
       "Notes:\n",
       "[1] Standard Errors assume that the covariance matrix of the errors is correctly specified.\n",
       "[2] The smallest eigenvalue is 8.35e-28. This might indicate that there are\n",
       "strong multicollinearity problems or that the design matrix is singular.\n",
       "\"\"\""
      ]
     },
     "execution_count": 64,
     "metadata": {},
     "output_type": "execute_result"
    }
   ],
   "source": [
    "#original\n",
    "\n",
    "x=normalized[['runtime',\n",
    "       'seasons','tmdb_score','action',\n",
    "       'animation', 'comedy', 'crime', 'documentation', 'drama', 'european',\n",
    "       'family', 'fantasy', 'history', 'horror', 'music', 'romance',\n",
    "       'scifi', 'sport', 'thriller', 'war', 'western', 'G', 'PG', 'PG-13', 'R',\n",
    "       'TV-14', 'TV-G', 'TV-PG', 'TV-Y', 'TV-Y7', 'unrated', 'MOVIE', 'SHOW',\n",
    "       '1920', '1930', '1940', '1950', '1960', '1970', '1980', '1990', '2000',\n",
    "       '2010', '2020']]\n",
    "\n",
    "y = normalized['tmdb_popularity'].astype('int')\n",
    "\n",
    "\n",
    "X=sm.add_constant(x)\n",
    "model=sm.OLS(y,X).fit()\n",
    "model.summary()"
   ]
  },
  {
   "cell_type": "code",
   "execution_count": 65,
   "metadata": {},
   "outputs": [
    {
     "data": {
      "text/html": [
       "<table class=\"simpletable\">\n",
       "<caption>OLS Regression Results</caption>\n",
       "<tr>\n",
       "  <th>Dep. Variable:</th>     <td>tmdb_popularity</td> <th>  R-squared:         </th> <td>   0.118</td> \n",
       "</tr>\n",
       "<tr>\n",
       "  <th>Model:</th>                   <td>OLS</td>       <th>  Adj. R-squared:    </th> <td>   0.113</td> \n",
       "</tr>\n",
       "<tr>\n",
       "  <th>Method:</th>             <td>Least Squares</td>  <th>  F-statistic:       </th> <td>   22.65</td> \n",
       "</tr>\n",
       "<tr>\n",
       "  <th>Date:</th>             <td>Sun, 07 May 2023</td> <th>  Prob (F-statistic):</th> <td>3.01e-40</td> \n",
       "</tr>\n",
       "<tr>\n",
       "  <th>Time:</th>                 <td>11:53:36</td>     <th>  Log-Likelihood:    </th> <td> -9844.6</td> \n",
       "</tr>\n",
       "<tr>\n",
       "  <th>No. Observations:</th>      <td>  1708</td>      <th>  AIC:               </th> <td>1.971e+04</td>\n",
       "</tr>\n",
       "<tr>\n",
       "  <th>Df Residuals:</th>          <td>  1697</td>      <th>  BIC:               </th> <td>1.977e+04</td>\n",
       "</tr>\n",
       "<tr>\n",
       "  <th>Df Model:</th>              <td>    10</td>      <th>                     </th>     <td> </td>    \n",
       "</tr>\n",
       "<tr>\n",
       "  <th>Covariance Type:</th>      <td>nonrobust</td>    <th>                     </th>     <td> </td>    \n",
       "</tr>\n",
       "</table>\n",
       "<table class=\"simpletable\">\n",
       "<tr>\n",
       "        <td></td>           <th>coef</th>     <th>std err</th>      <th>t</th>      <th>P>|t|</th>  <th>[0.025</th>    <th>0.975]</th>  \n",
       "</tr>\n",
       "<tr>\n",
       "  <th>const</th>         <td>  -48.1854</td> <td>   12.246</td> <td>   -3.935</td> <td> 0.000</td> <td>  -72.203</td> <td>  -24.167</td>\n",
       "</tr>\n",
       "<tr>\n",
       "  <th>runtime</th>       <td>   48.6090</td> <td>   10.578</td> <td>    4.595</td> <td> 0.000</td> <td>   27.861</td> <td>   69.357</td>\n",
       "</tr>\n",
       "<tr>\n",
       "  <th>tmdb_score</th>    <td>    7.2850</td> <td>    1.638</td> <td>    4.448</td> <td> 0.000</td> <td>    4.073</td> <td>   10.497</td>\n",
       "</tr>\n",
       "<tr>\n",
       "  <th>animation</th>     <td>    9.7882</td> <td>    4.933</td> <td>    1.984</td> <td> 0.047</td> <td>    0.112</td> <td>   19.464</td>\n",
       "</tr>\n",
       "<tr>\n",
       "  <th>documentation</th> <td>  -21.7130</td> <td>    5.232</td> <td>   -4.150</td> <td> 0.000</td> <td>  -31.975</td> <td>  -11.451</td>\n",
       "</tr>\n",
       "<tr>\n",
       "  <th>family</th>        <td>  -11.6781</td> <td>    4.673</td> <td>   -2.499</td> <td> 0.013</td> <td>  -20.843</td> <td>   -2.513</td>\n",
       "</tr>\n",
       "<tr>\n",
       "  <th>fantasy</th>       <td>   23.4868</td> <td>    5.059</td> <td>    4.643</td> <td> 0.000</td> <td>   13.565</td> <td>   33.409</td>\n",
       "</tr>\n",
       "<tr>\n",
       "  <th>scifi</th>         <td>   21.3621</td> <td>    5.318</td> <td>    4.017</td> <td> 0.000</td> <td>   10.932</td> <td>   31.793</td>\n",
       "</tr>\n",
       "<tr>\n",
       "  <th>thriller</th>      <td>   25.5886</td> <td>    9.517</td> <td>    2.689</td> <td> 0.007</td> <td>    6.922</td> <td>   44.255</td>\n",
       "</tr>\n",
       "<tr>\n",
       "  <th>PG-13</th>         <td>   26.6438</td> <td>    8.382</td> <td>    3.179</td> <td> 0.002</td> <td>   10.204</td> <td>   43.084</td>\n",
       "</tr>\n",
       "<tr>\n",
       "  <th>2020</th>          <td>   20.9760</td> <td>    4.569</td> <td>    4.590</td> <td> 0.000</td> <td>   12.014</td> <td>   29.938</td>\n",
       "</tr>\n",
       "</table>\n",
       "<table class=\"simpletable\">\n",
       "<tr>\n",
       "  <th>Omnibus:</th>       <td>3480.316</td> <th>  Durbin-Watson:     </th>  <td>   1.886</td>  \n",
       "</tr>\n",
       "<tr>\n",
       "  <th>Prob(Omnibus):</th>  <td> 0.000</td>  <th>  Jarque-Bera (JB):  </th> <td>9398460.541</td>\n",
       "</tr>\n",
       "<tr>\n",
       "  <th>Skew:</th>           <td>16.301</td>  <th>  Prob(JB):          </th>  <td>    0.00</td>  \n",
       "</tr>\n",
       "<tr>\n",
       "  <th>Kurtosis:</th>       <td>364.939</td> <th>  Cond. No.          </th>  <td>    51.4</td>  \n",
       "</tr>\n",
       "</table><br/><br/>Notes:<br/>[1] Standard Errors assume that the covariance matrix of the errors is correctly specified."
      ],
      "text/plain": [
       "<class 'statsmodels.iolib.summary.Summary'>\n",
       "\"\"\"\n",
       "                            OLS Regression Results                            \n",
       "==============================================================================\n",
       "Dep. Variable:        tmdb_popularity   R-squared:                       0.118\n",
       "Model:                            OLS   Adj. R-squared:                  0.113\n",
       "Method:                 Least Squares   F-statistic:                     22.65\n",
       "Date:                Sun, 07 May 2023   Prob (F-statistic):           3.01e-40\n",
       "Time:                        11:53:36   Log-Likelihood:                -9844.6\n",
       "No. Observations:                1708   AIC:                         1.971e+04\n",
       "Df Residuals:                    1697   BIC:                         1.977e+04\n",
       "Df Model:                          10                                         \n",
       "Covariance Type:            nonrobust                                         \n",
       "=================================================================================\n",
       "                    coef    std err          t      P>|t|      [0.025      0.975]\n",
       "---------------------------------------------------------------------------------\n",
       "const           -48.1854     12.246     -3.935      0.000     -72.203     -24.167\n",
       "runtime          48.6090     10.578      4.595      0.000      27.861      69.357\n",
       "tmdb_score        7.2850      1.638      4.448      0.000       4.073      10.497\n",
       "animation         9.7882      4.933      1.984      0.047       0.112      19.464\n",
       "documentation   -21.7130      5.232     -4.150      0.000     -31.975     -11.451\n",
       "family          -11.6781      4.673     -2.499      0.013     -20.843      -2.513\n",
       "fantasy          23.4868      5.059      4.643      0.000      13.565      33.409\n",
       "scifi            21.3621      5.318      4.017      0.000      10.932      31.793\n",
       "thriller         25.5886      9.517      2.689      0.007       6.922      44.255\n",
       "PG-13            26.6438      8.382      3.179      0.002      10.204      43.084\n",
       "2020             20.9760      4.569      4.590      0.000      12.014      29.938\n",
       "==============================================================================\n",
       "Omnibus:                     3480.316   Durbin-Watson:                   1.886\n",
       "Prob(Omnibus):                  0.000   Jarque-Bera (JB):          9398460.541\n",
       "Skew:                          16.301   Prob(JB):                         0.00\n",
       "Kurtosis:                     364.939   Cond. No.                         51.4\n",
       "==============================================================================\n",
       "\n",
       "Notes:\n",
       "[1] Standard Errors assume that the covariance matrix of the errors is correctly specified.\n",
       "\"\"\""
      ]
     },
     "execution_count": 65,
     "metadata": {},
     "output_type": "execute_result"
    }
   ],
   "source": [
    "#remove until all < .05\n",
    "\n",
    "x=normalized[['runtime',\n",
    "       'tmdb_score',\n",
    "       'animation', 'documentation',\n",
    "       'family', 'fantasy',\n",
    "       'scifi', 'thriller', 'PG-13', '2020']]\n",
    "\n",
    "y = normalized['tmdb_popularity'].astype('int')\n",
    "\n",
    "\n",
    "X=sm.add_constant(x)\n",
    "model=sm.OLS(y,X).fit()\n",
    "model.summary()"
   ]
  },
  {
   "cell_type": "code",
   "execution_count": 66,
   "metadata": {},
   "outputs": [
    {
     "data": {
      "text/html": [
       "<div>\n",
       "<style scoped>\n",
       "    .dataframe tbody tr th:only-of-type {\n",
       "        vertical-align: middle;\n",
       "    }\n",
       "\n",
       "    .dataframe tbody tr th {\n",
       "        vertical-align: top;\n",
       "    }\n",
       "\n",
       "    .dataframe thead th {\n",
       "        text-align: right;\n",
       "    }\n",
       "</style>\n",
       "<table border=\"1\" class=\"dataframe\">\n",
       "  <thead>\n",
       "    <tr style=\"text-align: right;\">\n",
       "      <th></th>\n",
       "      <th>feature</th>\n",
       "      <th>pvalue</th>\n",
       "    </tr>\n",
       "  </thead>\n",
       "  <tbody>\n",
       "    <tr>\n",
       "      <th>0</th>\n",
       "      <td>runtime</td>\n",
       "      <td>0.0000</td>\n",
       "    </tr>\n",
       "    <tr>\n",
       "      <th>1</th>\n",
       "      <td>tmdb_score</td>\n",
       "      <td>0.0000</td>\n",
       "    </tr>\n",
       "    <tr>\n",
       "      <th>2</th>\n",
       "      <td>documentation</td>\n",
       "      <td>0.0000</td>\n",
       "    </tr>\n",
       "    <tr>\n",
       "      <th>3</th>\n",
       "      <td>fantasy</td>\n",
       "      <td>0.0000</td>\n",
       "    </tr>\n",
       "    <tr>\n",
       "      <th>4</th>\n",
       "      <td>2020</td>\n",
       "      <td>0.0000</td>\n",
       "    </tr>\n",
       "    <tr>\n",
       "      <th>5</th>\n",
       "      <td>const</td>\n",
       "      <td>0.0001</td>\n",
       "    </tr>\n",
       "    <tr>\n",
       "      <th>6</th>\n",
       "      <td>scifi</td>\n",
       "      <td>0.0001</td>\n",
       "    </tr>\n",
       "    <tr>\n",
       "      <th>7</th>\n",
       "      <td>PG-13</td>\n",
       "      <td>0.0015</td>\n",
       "    </tr>\n",
       "    <tr>\n",
       "      <th>8</th>\n",
       "      <td>thriller</td>\n",
       "      <td>0.0072</td>\n",
       "    </tr>\n",
       "    <tr>\n",
       "      <th>9</th>\n",
       "      <td>family</td>\n",
       "      <td>0.0125</td>\n",
       "    </tr>\n",
       "    <tr>\n",
       "      <th>10</th>\n",
       "      <td>animation</td>\n",
       "      <td>0.0474</td>\n",
       "    </tr>\n",
       "  </tbody>\n",
       "</table>\n",
       "</div>"
      ],
      "text/plain": [
       "          feature  pvalue\n",
       "0         runtime  0.0000\n",
       "1      tmdb_score  0.0000\n",
       "2   documentation  0.0000\n",
       "3         fantasy  0.0000\n",
       "4            2020  0.0000\n",
       "5           const  0.0001\n",
       "6           scifi  0.0001\n",
       "7           PG-13  0.0015\n",
       "8        thriller  0.0072\n",
       "9          family  0.0125\n",
       "10      animation  0.0474"
      ]
     },
     "execution_count": 66,
     "metadata": {},
     "output_type": "execute_result"
    }
   ],
   "source": [
    "#pull out just variable and p-value and sort\n",
    "d = {}\n",
    "for i in X.columns.tolist():\n",
    "    d[f'{i}'] = model.pvalues[i].round(4)\n",
    "\n",
    "pvalues = pd.DataFrame(d.items(), columns=['feature', 'pvalue']).sort_values(by = 'pvalue').reset_index(drop=True)\n",
    "\n",
    "#reduce to only p-Value less than .05\n",
    "\n",
    "features = pvalues[pvalues['pvalue'] < .05]\n",
    "features"
   ]
  },
  {
   "cell_type": "code",
   "execution_count": 67,
   "metadata": {},
   "outputs": [],
   "source": [
    "#Divide the data set training and testing with a (70, 30) rule. \n",
    "\n",
    "from sklearn.model_selection import train_test_split\n",
    "\n",
    "x=normalized[['runtime',\n",
    "       'tmdb_score',\n",
    "       'animation', 'documentation',\n",
    "       'family', 'fantasy',\n",
    "       'scifi', 'thriller', 'PG-13', '2020']]\n",
    "\n",
    "y = normalized.tmdb_popularity\n",
    "\n",
    "x_train, x_test, y_train, y_test = train_test_split(x, y ,test_size=0.30, random_state=68)"
   ]
  },
  {
   "cell_type": "code",
   "execution_count": 68,
   "metadata": {},
   "outputs": [],
   "source": [
    "#Linear Regression\n",
    "\n",
    "from sklearn.linear_model import LinearRegression\n",
    "import statsmodels.api as sm\n",
    "import statsmodels.formula.api as smf"
   ]
  },
  {
   "cell_type": "code",
   "execution_count": 69,
   "metadata": {},
   "outputs": [],
   "source": [
    "RLR = LinearRegression().fit(x_train, y_train)\n",
    "RLR_ytrain_pred = RLR.predict(x_train)\n",
    "RLR_ytest_pred = RLR.predict(x_test)"
   ]
  },
  {
   "cell_type": "code",
   "execution_count": 70,
   "metadata": {},
   "outputs": [
    {
     "name": "stdout",
     "output_type": "stream",
     "text": [
      "RLR Training Dataset: \n",
      "\n"
     ]
    },
    {
     "data": {
      "text/html": [
       "<div>\n",
       "<style scoped>\n",
       "    .dataframe tbody tr th:only-of-type {\n",
       "        vertical-align: middle;\n",
       "    }\n",
       "\n",
       "    .dataframe tbody tr th {\n",
       "        vertical-align: top;\n",
       "    }\n",
       "\n",
       "    .dataframe thead th {\n",
       "        text-align: right;\n",
       "    }\n",
       "</style>\n",
       "<table border=\"1\" class=\"dataframe\">\n",
       "  <thead>\n",
       "    <tr style=\"text-align: right;\">\n",
       "      <th></th>\n",
       "      <th>ytrain</th>\n",
       "      <th>ytrainhat</th>\n",
       "    </tr>\n",
       "  </thead>\n",
       "  <tbody>\n",
       "    <tr>\n",
       "      <th>0</th>\n",
       "      <td>1.906</td>\n",
       "      <td>14.510705</td>\n",
       "    </tr>\n",
       "    <tr>\n",
       "      <th>1</th>\n",
       "      <td>1.400</td>\n",
       "      <td>-21.125923</td>\n",
       "    </tr>\n",
       "    <tr>\n",
       "      <th>2</th>\n",
       "      <td>3.073</td>\n",
       "      <td>12.019568</td>\n",
       "    </tr>\n",
       "    <tr>\n",
       "      <th>3</th>\n",
       "      <td>50.517</td>\n",
       "      <td>42.675602</td>\n",
       "    </tr>\n",
       "    <tr>\n",
       "      <th>4</th>\n",
       "      <td>1.400</td>\n",
       "      <td>22.406928</td>\n",
       "    </tr>\n",
       "  </tbody>\n",
       "</table>\n",
       "</div>"
      ],
      "text/plain": [
       "   ytrain  ytrainhat\n",
       "0   1.906  14.510705\n",
       "1   1.400 -21.125923\n",
       "2   3.073  12.019568\n",
       "3  50.517  42.675602\n",
       "4   1.400  22.406928"
      ]
     },
     "execution_count": 70,
     "metadata": {},
     "output_type": "execute_result"
    }
   ],
   "source": [
    "#view head of training dataset\n",
    "print('RLR Training Dataset: \\n')\n",
    "pd.DataFrame(list(zip(y_train, RLR_ytrain_pred)), columns=['ytrain','ytrainhat']).head(5)"
   ]
  },
  {
   "cell_type": "code",
   "execution_count": 71,
   "metadata": {},
   "outputs": [
    {
     "name": "stdout",
     "output_type": "stream",
     "text": [
      "RLR train vs test R^2: 0.102756 0.106966\n"
     ]
    }
   ],
   "source": [
    "#R-squared - % of variability explained in model\n",
    "\n",
    "import sklearn.metrics as metrics\n",
    "\n",
    "\n",
    "RLR_testr2_genre = metrics.r2_score(y_test, RLR_ytest_pred).round(6)\n",
    "RLR_trainr2_genre = metrics.r2_score(y_train, RLR_ytrain_pred).round(6)\n",
    "print(\"RLR train vs test R^2:\",RLR_trainr2_genre, RLR_testr2_genre)"
   ]
  },
  {
   "cell_type": "code",
   "execution_count": 72,
   "metadata": {
    "tags": []
   },
   "outputs": [
    {
     "name": "stdout",
     "output_type": "stream",
     "text": [
      "RLR train vs test RMSE: 65.24037275701545 100.73394017952553\n"
     ]
    }
   ],
   "source": [
    "#RMSE - want lower\n",
    "\n",
    "from sklearn.metrics import mean_squared_error\n",
    "from math import sqrt\n",
    "\n",
    "rmse_test_genre = sqrt(mean_squared_error(y_test, RLR_ytest_pred))\n",
    "rmse_train_genre = sqrt(mean_squared_error(y_train, RLR_ytrain_pred))\n",
    "print(\"RLR train vs test RMSE:\",rmse_train_genre, rmse_test_genre)"
   ]
  },
  {
   "cell_type": "code",
   "execution_count": 73,
   "metadata": {},
   "outputs": [],
   "source": [
    "#feature seletion - Score\n",
    "\n",
    "#based on outputs below both runtime and tmdb_popularity should be normalized\n",
    "\n",
    "#"
   ]
  },
  {
   "cell_type": "code",
   "execution_count": 74,
   "metadata": {},
   "outputs": [
    {
     "data": {
      "text/html": [
       "<div>\n",
       "<style scoped>\n",
       "    .dataframe tbody tr th:only-of-type {\n",
       "        vertical-align: middle;\n",
       "    }\n",
       "\n",
       "    .dataframe tbody tr th {\n",
       "        vertical-align: top;\n",
       "    }\n",
       "\n",
       "    .dataframe thead th {\n",
       "        text-align: right;\n",
       "    }\n",
       "</style>\n",
       "<table border=\"1\" class=\"dataframe\">\n",
       "  <thead>\n",
       "    <tr style=\"text-align: right;\">\n",
       "      <th></th>\n",
       "      <th>id</th>\n",
       "      <th>title</th>\n",
       "      <th>description</th>\n",
       "      <th>runtime</th>\n",
       "      <th>production_countries</th>\n",
       "      <th>seasons</th>\n",
       "      <th>tmdb_popularity</th>\n",
       "      <th>tmdb_score</th>\n",
       "      <th>director</th>\n",
       "      <th>action</th>\n",
       "      <th>...</th>\n",
       "      <th>1930</th>\n",
       "      <th>1940</th>\n",
       "      <th>1950</th>\n",
       "      <th>1960</th>\n",
       "      <th>1970</th>\n",
       "      <th>1980</th>\n",
       "      <th>1990</th>\n",
       "      <th>2000</th>\n",
       "      <th>2010</th>\n",
       "      <th>2020</th>\n",
       "    </tr>\n",
       "  </thead>\n",
       "  <tbody>\n",
       "    <tr>\n",
       "      <th>0</th>\n",
       "      <td>tm89464</td>\n",
       "      <td>Miracle on 34th Street</td>\n",
       "      <td>Kris Kringle, seemingly the embodiment of Sant...</td>\n",
       "      <td>0.524862</td>\n",
       "      <td>US</td>\n",
       "      <td>0.0</td>\n",
       "      <td>0.010615</td>\n",
       "      <td>7.388</td>\n",
       "      <td>GeorgeSeaton</td>\n",
       "      <td>0</td>\n",
       "      <td>...</td>\n",
       "      <td>0</td>\n",
       "      <td>1</td>\n",
       "      <td>0</td>\n",
       "      <td>0</td>\n",
       "      <td>0</td>\n",
       "      <td>0</td>\n",
       "      <td>0</td>\n",
       "      <td>0</td>\n",
       "      <td>0</td>\n",
       "      <td>0</td>\n",
       "    </tr>\n",
       "    <tr>\n",
       "      <th>1</th>\n",
       "      <td>tm61729</td>\n",
       "      <td>The Adventures of Ichabod and Mr. Toad</td>\n",
       "      <td>The Wind in the Willows: Concise version of Ke...</td>\n",
       "      <td>0.370166</td>\n",
       "      <td>US</td>\n",
       "      <td>0.0</td>\n",
       "      <td>0.007224</td>\n",
       "      <td>6.500</td>\n",
       "      <td>JamesAlgar,ClydeGeronimi,JackKinney</td>\n",
       "      <td>0</td>\n",
       "      <td>...</td>\n",
       "      <td>0</td>\n",
       "      <td>0</td>\n",
       "      <td>1</td>\n",
       "      <td>0</td>\n",
       "      <td>0</td>\n",
       "      <td>0</td>\n",
       "      <td>0</td>\n",
       "      <td>0</td>\n",
       "      <td>0</td>\n",
       "      <td>0</td>\n",
       "    </tr>\n",
       "  </tbody>\n",
       "</table>\n",
       "<p>2 rows × 53 columns</p>\n",
       "</div>"
      ],
      "text/plain": [
       "        id                                   title  \\\n",
       "0  tm89464                  Miracle on 34th Street   \n",
       "1  tm61729  The Adventures of Ichabod and Mr. Toad   \n",
       "\n",
       "                                         description   runtime  \\\n",
       "0  Kris Kringle, seemingly the embodiment of Sant...  0.524862   \n",
       "1  The Wind in the Willows: Concise version of Ke...  0.370166   \n",
       "\n",
       "  production_countries  seasons  tmdb_popularity  tmdb_score  \\\n",
       "0                   US      0.0         0.010615       7.388   \n",
       "1                   US      0.0         0.007224       6.500   \n",
       "\n",
       "                              director  action  ...  1930  1940  1950  1960  \\\n",
       "0                         GeorgeSeaton       0  ...     0     1     0     0   \n",
       "1  JamesAlgar,ClydeGeronimi,JackKinney       0  ...     0     0     1     0   \n",
       "\n",
       "   1970  1980  1990  2000  2010  2020  \n",
       "0     0     0     0     0     0     0  \n",
       "1     0     0     0     0     0     0  \n",
       "\n",
       "[2 rows x 53 columns]"
      ]
     },
     "execution_count": 74,
     "metadata": {},
     "output_type": "execute_result"
    }
   ],
   "source": [
    "#normalize tmdb_popularity\n",
    "  \n",
    "# copy the data\n",
    "normalized2 = normalized.copy()\n",
    "  \n",
    "# apply normalization techniques\n",
    "column = 'tmdb_popularity'\n",
    "normalized2[column] = MinMaxScaler().fit_transform(np.array(normalized2[column]).reshape(-1,1))\n",
    "  \n",
    "# view normalized data  \n",
    "normalized2.head(2)"
   ]
  },
  {
   "cell_type": "code",
   "execution_count": 75,
   "metadata": {},
   "outputs": [],
   "source": [
    "#look at p-value"
   ]
  },
  {
   "cell_type": "code",
   "execution_count": 76,
   "metadata": {},
   "outputs": [
    {
     "data": {
      "text/html": [
       "<table class=\"simpletable\">\n",
       "<caption>OLS Regression Results</caption>\n",
       "<tr>\n",
       "  <th>Dep. Variable:</th>       <td>tmdb_score</td>    <th>  R-squared:         </th> <td>   0.157</td>\n",
       "</tr>\n",
       "<tr>\n",
       "  <th>Model:</th>                   <td>OLS</td>       <th>  Adj. R-squared:    </th> <td>   0.136</td>\n",
       "</tr>\n",
       "<tr>\n",
       "  <th>Method:</th>             <td>Least Squares</td>  <th>  F-statistic:       </th> <td>   7.386</td>\n",
       "</tr>\n",
       "<tr>\n",
       "  <th>Date:</th>             <td>Sun, 07 May 2023</td> <th>  Prob (F-statistic):</th> <td>2.18e-38</td>\n",
       "</tr>\n",
       "<tr>\n",
       "  <th>Time:</th>                 <td>11:53:47</td>     <th>  Log-Likelihood:    </th> <td> -2581.7</td>\n",
       "</tr>\n",
       "<tr>\n",
       "  <th>No. Observations:</th>      <td>  1708</td>      <th>  AIC:               </th> <td>   5249.</td>\n",
       "</tr>\n",
       "<tr>\n",
       "  <th>Df Residuals:</th>          <td>  1665</td>      <th>  BIC:               </th> <td>   5483.</td>\n",
       "</tr>\n",
       "<tr>\n",
       "  <th>Df Model:</th>              <td>    42</td>      <th>                     </th>     <td> </td>   \n",
       "</tr>\n",
       "<tr>\n",
       "  <th>Covariance Type:</th>      <td>nonrobust</td>    <th>                     </th>     <td> </td>   \n",
       "</tr>\n",
       "</table>\n",
       "<table class=\"simpletable\">\n",
       "<tr>\n",
       "         <td></td>            <th>coef</th>     <th>std err</th>      <th>t</th>      <th>P>|t|</th>  <th>[0.025</th>    <th>0.975]</th>  \n",
       "</tr>\n",
       "<tr>\n",
       "  <th>const</th>           <td>    3.8819</td> <td>    0.257</td> <td>   15.113</td> <td> 0.000</td> <td>    3.378</td> <td>    4.386</td>\n",
       "</tr>\n",
       "<tr>\n",
       "  <th>runtime</th>         <td>    0.2415</td> <td>    0.199</td> <td>    1.214</td> <td> 0.225</td> <td>   -0.149</td> <td>    0.632</td>\n",
       "</tr>\n",
       "<tr>\n",
       "  <th>seasons</th>         <td>   -0.0129</td> <td>    0.016</td> <td>   -0.823</td> <td> 0.411</td> <td>   -0.044</td> <td>    0.018</td>\n",
       "</tr>\n",
       "<tr>\n",
       "  <th>tmdb_popularity</th> <td>    2.3586</td> <td>    0.763</td> <td>    3.090</td> <td> 0.002</td> <td>    0.861</td> <td>    3.856</td>\n",
       "</tr>\n",
       "<tr>\n",
       "  <th>action</th>          <td>    0.0417</td> <td>    0.084</td> <td>    0.498</td> <td> 0.619</td> <td>   -0.123</td> <td>    0.206</td>\n",
       "</tr>\n",
       "<tr>\n",
       "  <th>animation</th>       <td>    0.2926</td> <td>    0.076</td> <td>    3.844</td> <td> 0.000</td> <td>    0.143</td> <td>    0.442</td>\n",
       "</tr>\n",
       "<tr>\n",
       "  <th>comedy</th>          <td>   -0.0495</td> <td>    0.070</td> <td>   -0.711</td> <td> 0.477</td> <td>   -0.186</td> <td>    0.087</td>\n",
       "</tr>\n",
       "<tr>\n",
       "  <th>crime</th>           <td>   -0.1991</td> <td>    0.154</td> <td>   -1.291</td> <td> 0.197</td> <td>   -0.501</td> <td>    0.103</td>\n",
       "</tr>\n",
       "<tr>\n",
       "  <th>documentation</th>   <td>    0.4282</td> <td>    0.085</td> <td>    5.022</td> <td> 0.000</td> <td>    0.261</td> <td>    0.595</td>\n",
       "</tr>\n",
       "<tr>\n",
       "  <th>drama</th>           <td>    0.2564</td> <td>    0.071</td> <td>    3.603</td> <td> 0.000</td> <td>    0.117</td> <td>    0.396</td>\n",
       "</tr>\n",
       "<tr>\n",
       "  <th>european</th>        <td>    0.0204</td> <td>    0.185</td> <td>    0.111</td> <td> 0.912</td> <td>   -0.342</td> <td>    0.383</td>\n",
       "</tr>\n",
       "<tr>\n",
       "  <th>family</th>          <td>   -0.1311</td> <td>    0.081</td> <td>   -1.626</td> <td> 0.104</td> <td>   -0.289</td> <td>    0.027</td>\n",
       "</tr>\n",
       "<tr>\n",
       "  <th>fantasy</th>         <td>    0.0440</td> <td>    0.076</td> <td>    0.579</td> <td> 0.563</td> <td>   -0.105</td> <td>    0.193</td>\n",
       "</tr>\n",
       "<tr>\n",
       "  <th>history</th>         <td>    0.1264</td> <td>    0.172</td> <td>    0.736</td> <td> 0.462</td> <td>   -0.210</td> <td>    0.463</td>\n",
       "</tr>\n",
       "<tr>\n",
       "  <th>horror</th>          <td>    0.1266</td> <td>    0.197</td> <td>    0.643</td> <td> 0.520</td> <td>   -0.259</td> <td>    0.512</td>\n",
       "</tr>\n",
       "<tr>\n",
       "  <th>music</th>           <td>    0.2341</td> <td>    0.110</td> <td>    2.120</td> <td> 0.034</td> <td>    0.017</td> <td>    0.451</td>\n",
       "</tr>\n",
       "<tr>\n",
       "  <th>romance</th>         <td>    0.1125</td> <td>    0.100</td> <td>    1.127</td> <td> 0.260</td> <td>   -0.083</td> <td>    0.308</td>\n",
       "</tr>\n",
       "<tr>\n",
       "  <th>scifi</th>           <td>   -0.0131</td> <td>    0.089</td> <td>   -0.147</td> <td> 0.883</td> <td>   -0.188</td> <td>    0.162</td>\n",
       "</tr>\n",
       "<tr>\n",
       "  <th>sport</th>           <td>    0.0201</td> <td>    0.141</td> <td>    0.143</td> <td> 0.886</td> <td>   -0.256</td> <td>    0.297</td>\n",
       "</tr>\n",
       "<tr>\n",
       "  <th>thriller</th>        <td>    0.1942</td> <td>    0.149</td> <td>    1.306</td> <td> 0.192</td> <td>   -0.098</td> <td>    0.486</td>\n",
       "</tr>\n",
       "<tr>\n",
       "  <th>war</th>             <td>    0.0130</td> <td>    0.382</td> <td>    0.034</td> <td> 0.973</td> <td>   -0.737</td> <td>    0.763</td>\n",
       "</tr>\n",
       "<tr>\n",
       "  <th>western</th>         <td>   -0.0188</td> <td>    0.231</td> <td>   -0.081</td> <td> 0.935</td> <td>   -0.472</td> <td>    0.435</td>\n",
       "</tr>\n",
       "<tr>\n",
       "  <th>G</th>               <td>    0.2368</td> <td>    0.419</td> <td>    0.566</td> <td> 0.572</td> <td>   -0.585</td> <td>    1.058</td>\n",
       "</tr>\n",
       "<tr>\n",
       "  <th>PG</th>              <td>    0.1090</td> <td>    0.417</td> <td>    0.262</td> <td> 0.794</td> <td>   -0.708</td> <td>    0.926</td>\n",
       "</tr>\n",
       "<tr>\n",
       "  <th>PG-13</th>           <td>    0.2596</td> <td>    0.424</td> <td>    0.613</td> <td> 0.540</td> <td>   -0.571</td> <td>    1.091</td>\n",
       "</tr>\n",
       "<tr>\n",
       "  <th>R</th>               <td>    0.1303</td> <td>    0.652</td> <td>    0.200</td> <td> 0.842</td> <td>   -1.149</td> <td>    1.410</td>\n",
       "</tr>\n",
       "<tr>\n",
       "  <th>TV-14</th>           <td>    0.3683</td> <td>    0.391</td> <td>    0.942</td> <td> 0.346</td> <td>   -0.398</td> <td>    1.135</td>\n",
       "</tr>\n",
       "<tr>\n",
       "  <th>TV-G</th>            <td>    0.5364</td> <td>    0.397</td> <td>    1.350</td> <td> 0.177</td> <td>   -0.243</td> <td>    1.316</td>\n",
       "</tr>\n",
       "<tr>\n",
       "  <th>TV-PG</th>           <td>    0.0860</td> <td>    0.387</td> <td>    0.222</td> <td> 0.824</td> <td>   -0.673</td> <td>    0.845</td>\n",
       "</tr>\n",
       "<tr>\n",
       "  <th>TV-Y</th>            <td>    0.0784</td> <td>    0.416</td> <td>    0.189</td> <td> 0.850</td> <td>   -0.737</td> <td>    0.893</td>\n",
       "</tr>\n",
       "<tr>\n",
       "  <th>TV-Y7</th>           <td>    0.0753</td> <td>    0.398</td> <td>    0.189</td> <td> 0.850</td> <td>   -0.705</td> <td>    0.855</td>\n",
       "</tr>\n",
       "<tr>\n",
       "  <th>unrated</th>         <td>    0.1397</td> <td>    0.408</td> <td>    0.343</td> <td> 0.732</td> <td>   -0.660</td> <td>    0.939</td>\n",
       "</tr>\n",
       "<tr>\n",
       "  <th>MOVIE</th>           <td>    1.5532</td> <td>    0.166</td> <td>    9.362</td> <td> 0.000</td> <td>    1.228</td> <td>    1.879</td>\n",
       "</tr>\n",
       "<tr>\n",
       "  <th>SHOW</th>            <td>    2.3286</td> <td>    0.144</td> <td>   16.142</td> <td> 0.000</td> <td>    2.046</td> <td>    2.612</td>\n",
       "</tr>\n",
       "<tr>\n",
       "  <th>1920</th>            <td>    1.0171</td> <td>    1.020</td> <td>    0.997</td> <td> 0.319</td> <td>   -0.983</td> <td>    3.017</td>\n",
       "</tr>\n",
       "<tr>\n",
       "  <th>1930</th>            <td>    0.2372</td> <td>    0.212</td> <td>    1.118</td> <td> 0.264</td> <td>   -0.179</td> <td>    0.653</td>\n",
       "</tr>\n",
       "<tr>\n",
       "  <th>1940</th>            <td>    0.2300</td> <td>    0.195</td> <td>    1.177</td> <td> 0.239</td> <td>   -0.153</td> <td>    0.613</td>\n",
       "</tr>\n",
       "<tr>\n",
       "  <th>1950</th>            <td>    0.7424</td> <td>    0.182</td> <td>    4.078</td> <td> 0.000</td> <td>    0.385</td> <td>    1.100</td>\n",
       "</tr>\n",
       "<tr>\n",
       "  <th>1960</th>            <td>    0.5307</td> <td>    0.215</td> <td>    2.467</td> <td> 0.014</td> <td>    0.109</td> <td>    0.953</td>\n",
       "</tr>\n",
       "<tr>\n",
       "  <th>1970</th>            <td>    0.2802</td> <td>    0.201</td> <td>    1.392</td> <td> 0.164</td> <td>   -0.115</td> <td>    0.675</td>\n",
       "</tr>\n",
       "<tr>\n",
       "  <th>1980</th>            <td>    0.2403</td> <td>    0.176</td> <td>    1.362</td> <td> 0.173</td> <td>   -0.106</td> <td>    0.586</td>\n",
       "</tr>\n",
       "<tr>\n",
       "  <th>1990</th>            <td>    0.0285</td> <td>    0.141</td> <td>    0.202</td> <td> 0.840</td> <td>   -0.248</td> <td>    0.305</td>\n",
       "</tr>\n",
       "<tr>\n",
       "  <th>2000</th>            <td>    0.0297</td> <td>    0.125</td> <td>    0.237</td> <td> 0.813</td> <td>   -0.216</td> <td>    0.275</td>\n",
       "</tr>\n",
       "<tr>\n",
       "  <th>2010</th>            <td>    0.3898</td> <td>    0.117</td> <td>    3.324</td> <td> 0.001</td> <td>    0.160</td> <td>    0.620</td>\n",
       "</tr>\n",
       "<tr>\n",
       "  <th>2020</th>            <td>    0.1559</td> <td>    0.123</td> <td>    1.269</td> <td> 0.204</td> <td>   -0.085</td> <td>    0.397</td>\n",
       "</tr>\n",
       "</table>\n",
       "<table class=\"simpletable\">\n",
       "<tr>\n",
       "  <th>Omnibus:</th>       <td>263.356</td> <th>  Durbin-Watson:     </th> <td>   1.871</td> \n",
       "</tr>\n",
       "<tr>\n",
       "  <th>Prob(Omnibus):</th> <td> 0.000</td>  <th>  Jarque-Bera (JB):  </th> <td>1152.471</td> \n",
       "</tr>\n",
       "<tr>\n",
       "  <th>Skew:</th>          <td>-0.672</td>  <th>  Prob(JB):          </th> <td>5.55e-251</td>\n",
       "</tr>\n",
       "<tr>\n",
       "  <th>Kurtosis:</th>      <td> 6.793</td>  <th>  Cond. No.          </th> <td>2.37e+15</td> \n",
       "</tr>\n",
       "</table><br/><br/>Notes:<br/>[1] Standard Errors assume that the covariance matrix of the errors is correctly specified.<br/>[2] The smallest eigenvalue is 1.83e-27. This might indicate that there are<br/>strong multicollinearity problems or that the design matrix is singular."
      ],
      "text/plain": [
       "<class 'statsmodels.iolib.summary.Summary'>\n",
       "\"\"\"\n",
       "                            OLS Regression Results                            \n",
       "==============================================================================\n",
       "Dep. Variable:             tmdb_score   R-squared:                       0.157\n",
       "Model:                            OLS   Adj. R-squared:                  0.136\n",
       "Method:                 Least Squares   F-statistic:                     7.386\n",
       "Date:                Sun, 07 May 2023   Prob (F-statistic):           2.18e-38\n",
       "Time:                        11:53:47   Log-Likelihood:                -2581.7\n",
       "No. Observations:                1708   AIC:                             5249.\n",
       "Df Residuals:                    1665   BIC:                             5483.\n",
       "Df Model:                          42                                         \n",
       "Covariance Type:            nonrobust                                         \n",
       "===================================================================================\n",
       "                      coef    std err          t      P>|t|      [0.025      0.975]\n",
       "-----------------------------------------------------------------------------------\n",
       "const               3.8819      0.257     15.113      0.000       3.378       4.386\n",
       "runtime             0.2415      0.199      1.214      0.225      -0.149       0.632\n",
       "seasons            -0.0129      0.016     -0.823      0.411      -0.044       0.018\n",
       "tmdb_popularity     2.3586      0.763      3.090      0.002       0.861       3.856\n",
       "action              0.0417      0.084      0.498      0.619      -0.123       0.206\n",
       "animation           0.2926      0.076      3.844      0.000       0.143       0.442\n",
       "comedy             -0.0495      0.070     -0.711      0.477      -0.186       0.087\n",
       "crime              -0.1991      0.154     -1.291      0.197      -0.501       0.103\n",
       "documentation       0.4282      0.085      5.022      0.000       0.261       0.595\n",
       "drama               0.2564      0.071      3.603      0.000       0.117       0.396\n",
       "european            0.0204      0.185      0.111      0.912      -0.342       0.383\n",
       "family             -0.1311      0.081     -1.626      0.104      -0.289       0.027\n",
       "fantasy             0.0440      0.076      0.579      0.563      -0.105       0.193\n",
       "history             0.1264      0.172      0.736      0.462      -0.210       0.463\n",
       "horror              0.1266      0.197      0.643      0.520      -0.259       0.512\n",
       "music               0.2341      0.110      2.120      0.034       0.017       0.451\n",
       "romance             0.1125      0.100      1.127      0.260      -0.083       0.308\n",
       "scifi              -0.0131      0.089     -0.147      0.883      -0.188       0.162\n",
       "sport               0.0201      0.141      0.143      0.886      -0.256       0.297\n",
       "thriller            0.1942      0.149      1.306      0.192      -0.098       0.486\n",
       "war                 0.0130      0.382      0.034      0.973      -0.737       0.763\n",
       "western            -0.0188      0.231     -0.081      0.935      -0.472       0.435\n",
       "G                   0.2368      0.419      0.566      0.572      -0.585       1.058\n",
       "PG                  0.1090      0.417      0.262      0.794      -0.708       0.926\n",
       "PG-13               0.2596      0.424      0.613      0.540      -0.571       1.091\n",
       "R                   0.1303      0.652      0.200      0.842      -1.149       1.410\n",
       "TV-14               0.3683      0.391      0.942      0.346      -0.398       1.135\n",
       "TV-G                0.5364      0.397      1.350      0.177      -0.243       1.316\n",
       "TV-PG               0.0860      0.387      0.222      0.824      -0.673       0.845\n",
       "TV-Y                0.0784      0.416      0.189      0.850      -0.737       0.893\n",
       "TV-Y7               0.0753      0.398      0.189      0.850      -0.705       0.855\n",
       "unrated             0.1397      0.408      0.343      0.732      -0.660       0.939\n",
       "MOVIE               1.5532      0.166      9.362      0.000       1.228       1.879\n",
       "SHOW                2.3286      0.144     16.142      0.000       2.046       2.612\n",
       "1920                1.0171      1.020      0.997      0.319      -0.983       3.017\n",
       "1930                0.2372      0.212      1.118      0.264      -0.179       0.653\n",
       "1940                0.2300      0.195      1.177      0.239      -0.153       0.613\n",
       "1950                0.7424      0.182      4.078      0.000       0.385       1.100\n",
       "1960                0.5307      0.215      2.467      0.014       0.109       0.953\n",
       "1970                0.2802      0.201      1.392      0.164      -0.115       0.675\n",
       "1980                0.2403      0.176      1.362      0.173      -0.106       0.586\n",
       "1990                0.0285      0.141      0.202      0.840      -0.248       0.305\n",
       "2000                0.0297      0.125      0.237      0.813      -0.216       0.275\n",
       "2010                0.3898      0.117      3.324      0.001       0.160       0.620\n",
       "2020                0.1559      0.123      1.269      0.204      -0.085       0.397\n",
       "==============================================================================\n",
       "Omnibus:                      263.356   Durbin-Watson:                   1.871\n",
       "Prob(Omnibus):                  0.000   Jarque-Bera (JB):             1152.471\n",
       "Skew:                          -0.672   Prob(JB):                    5.55e-251\n",
       "Kurtosis:                       6.793   Cond. No.                     2.37e+15\n",
       "==============================================================================\n",
       "\n",
       "Notes:\n",
       "[1] Standard Errors assume that the covariance matrix of the errors is correctly specified.\n",
       "[2] The smallest eigenvalue is 1.83e-27. This might indicate that there are\n",
       "strong multicollinearity problems or that the design matrix is singular.\n",
       "\"\"\""
      ]
     },
     "execution_count": 76,
     "metadata": {},
     "output_type": "execute_result"
    }
   ],
   "source": [
    "#original\n",
    "\n",
    "x=normalized2[['runtime',\n",
    "       'seasons','tmdb_popularity','action',\n",
    "       'animation', 'comedy', 'crime', 'documentation', 'drama', 'european',\n",
    "       'family', 'fantasy', 'history', 'horror', 'music', 'romance',\n",
    "       'scifi', 'sport', 'thriller', 'war', 'western', 'G', 'PG', 'PG-13', 'R',\n",
    "       'TV-14', 'TV-G', 'TV-PG', 'TV-Y', 'TV-Y7', 'unrated', 'MOVIE', 'SHOW',\n",
    "       '1920', '1930', '1940', '1950', '1960', '1970', '1980', '1990', '2000',\n",
    "       '2010', '2020']]\n",
    "\n",
    "y = normalized2['tmdb_score'].astype('int')\n",
    "\n",
    "\n",
    "X=sm.add_constant(x)\n",
    "model=sm.OLS(y,X).fit()\n",
    "model.summary()"
   ]
  },
  {
   "cell_type": "code",
   "execution_count": 77,
   "metadata": {},
   "outputs": [
    {
     "data": {
      "text/html": [
       "<table class=\"simpletable\">\n",
       "<caption>OLS Regression Results</caption>\n",
       "<tr>\n",
       "  <th>Dep. Variable:</th>       <td>tmdb_score</td>    <th>  R-squared:         </th> <td>   0.144</td>\n",
       "</tr>\n",
       "<tr>\n",
       "  <th>Model:</th>                   <td>OLS</td>       <th>  Adj. R-squared:    </th> <td>   0.137</td>\n",
       "</tr>\n",
       "<tr>\n",
       "  <th>Method:</th>             <td>Least Squares</td>  <th>  F-statistic:       </th> <td>   21.85</td>\n",
       "</tr>\n",
       "<tr>\n",
       "  <th>Date:</th>             <td>Sun, 07 May 2023</td> <th>  Prob (F-statistic):</th> <td>1.02e-48</td>\n",
       "</tr>\n",
       "<tr>\n",
       "  <th>Time:</th>                 <td>11:53:48</td>     <th>  Log-Likelihood:    </th> <td> -2595.2</td>\n",
       "</tr>\n",
       "<tr>\n",
       "  <th>No. Observations:</th>      <td>  1708</td>      <th>  AIC:               </th> <td>   5218.</td>\n",
       "</tr>\n",
       "<tr>\n",
       "  <th>Df Residuals:</th>          <td>  1694</td>      <th>  BIC:               </th> <td>   5295.</td>\n",
       "</tr>\n",
       "<tr>\n",
       "  <th>Df Model:</th>              <td>    13</td>      <th>                     </th>     <td> </td>   \n",
       "</tr>\n",
       "<tr>\n",
       "  <th>Covariance Type:</th>      <td>nonrobust</td>    <th>                     </th>     <td> </td>   \n",
       "</tr>\n",
       "</table>\n",
       "<table class=\"simpletable\">\n",
       "<tr>\n",
       "         <td></td>            <th>coef</th>     <th>std err</th>      <th>t</th>      <th>P>|t|</th>  <th>[0.025</th>    <th>0.975]</th>  \n",
       "</tr>\n",
       "<tr>\n",
       "  <th>const</th>           <td>    5.7836</td> <td>    0.086</td> <td>   67.428</td> <td> 0.000</td> <td>    5.615</td> <td>    5.952</td>\n",
       "</tr>\n",
       "<tr>\n",
       "  <th>runtime</th>         <td>    0.2681</td> <td>    0.169</td> <td>    1.585</td> <td> 0.113</td> <td>   -0.064</td> <td>    0.600</td>\n",
       "</tr>\n",
       "<tr>\n",
       "  <th>tmdb_popularity</th> <td>    2.6371</td> <td>    0.731</td> <td>    3.606</td> <td> 0.000</td> <td>    1.203</td> <td>    4.071</td>\n",
       "</tr>\n",
       "<tr>\n",
       "  <th>animation</th>       <td>    0.2868</td> <td>    0.070</td> <td>    4.101</td> <td> 0.000</td> <td>    0.150</td> <td>    0.424</td>\n",
       "</tr>\n",
       "<tr>\n",
       "  <th>crime</th>           <td>   -0.1902</td> <td>    0.145</td> <td>   -1.313</td> <td> 0.189</td> <td>   -0.474</td> <td>    0.094</td>\n",
       "</tr>\n",
       "<tr>\n",
       "  <th>documentation</th>   <td>    0.4009</td> <td>    0.075</td> <td>    5.340</td> <td> 0.000</td> <td>    0.254</td> <td>    0.548</td>\n",
       "</tr>\n",
       "<tr>\n",
       "  <th>drama</th>           <td>    0.2623</td> <td>    0.068</td> <td>    3.860</td> <td> 0.000</td> <td>    0.129</td> <td>    0.396</td>\n",
       "</tr>\n",
       "<tr>\n",
       "  <th>family</th>          <td>   -0.1512</td> <td>    0.065</td> <td>   -2.316</td> <td> 0.021</td> <td>   -0.279</td> <td>   -0.023</td>\n",
       "</tr>\n",
       "<tr>\n",
       "  <th>music</th>           <td>    0.2344</td> <td>    0.107</td> <td>    2.201</td> <td> 0.028</td> <td>    0.025</td> <td>    0.443</td>\n",
       "</tr>\n",
       "<tr>\n",
       "  <th>SHOW</th>            <td>    0.7861</td> <td>    0.073</td> <td>   10.759</td> <td> 0.000</td> <td>    0.643</td> <td>    0.929</td>\n",
       "</tr>\n",
       "<tr>\n",
       "  <th>1950</th>            <td>    0.5875</td> <td>    0.164</td> <td>    3.583</td> <td> 0.000</td> <td>    0.266</td> <td>    0.909</td>\n",
       "</tr>\n",
       "<tr>\n",
       "  <th>1960</th>            <td>    0.4094</td> <td>    0.205</td> <td>    2.000</td> <td> 0.046</td> <td>    0.008</td> <td>    0.811</td>\n",
       "</tr>\n",
       "<tr>\n",
       "  <th>2000</th>            <td>   -0.1096</td> <td>    0.080</td> <td>   -1.376</td> <td> 0.169</td> <td>   -0.266</td> <td>    0.047</td>\n",
       "</tr>\n",
       "<tr>\n",
       "  <th>2010</th>            <td>    0.2361</td> <td>    0.062</td> <td>    3.821</td> <td> 0.000</td> <td>    0.115</td> <td>    0.357</td>\n",
       "</tr>\n",
       "</table>\n",
       "<table class=\"simpletable\">\n",
       "<tr>\n",
       "  <th>Omnibus:</th>       <td>273.070</td> <th>  Durbin-Watson:     </th> <td>   1.879</td> \n",
       "</tr>\n",
       "<tr>\n",
       "  <th>Prob(Omnibus):</th> <td> 0.000</td>  <th>  Jarque-Bera (JB):  </th> <td>1170.072</td> \n",
       "</tr>\n",
       "<tr>\n",
       "  <th>Skew:</th>          <td>-0.706</td>  <th>  Prob(JB):          </th> <td>8.36e-255</td>\n",
       "</tr>\n",
       "<tr>\n",
       "  <th>Kurtosis:</th>      <td> 6.801</td>  <th>  Cond. No.          </th> <td>    37.3</td> \n",
       "</tr>\n",
       "</table><br/><br/>Notes:<br/>[1] Standard Errors assume that the covariance matrix of the errors is correctly specified."
      ],
      "text/plain": [
       "<class 'statsmodels.iolib.summary.Summary'>\n",
       "\"\"\"\n",
       "                            OLS Regression Results                            \n",
       "==============================================================================\n",
       "Dep. Variable:             tmdb_score   R-squared:                       0.144\n",
       "Model:                            OLS   Adj. R-squared:                  0.137\n",
       "Method:                 Least Squares   F-statistic:                     21.85\n",
       "Date:                Sun, 07 May 2023   Prob (F-statistic):           1.02e-48\n",
       "Time:                        11:53:48   Log-Likelihood:                -2595.2\n",
       "No. Observations:                1708   AIC:                             5218.\n",
       "Df Residuals:                    1694   BIC:                             5295.\n",
       "Df Model:                          13                                         \n",
       "Covariance Type:            nonrobust                                         \n",
       "===================================================================================\n",
       "                      coef    std err          t      P>|t|      [0.025      0.975]\n",
       "-----------------------------------------------------------------------------------\n",
       "const               5.7836      0.086     67.428      0.000       5.615       5.952\n",
       "runtime             0.2681      0.169      1.585      0.113      -0.064       0.600\n",
       "tmdb_popularity     2.6371      0.731      3.606      0.000       1.203       4.071\n",
       "animation           0.2868      0.070      4.101      0.000       0.150       0.424\n",
       "crime              -0.1902      0.145     -1.313      0.189      -0.474       0.094\n",
       "documentation       0.4009      0.075      5.340      0.000       0.254       0.548\n",
       "drama               0.2623      0.068      3.860      0.000       0.129       0.396\n",
       "family             -0.1512      0.065     -2.316      0.021      -0.279      -0.023\n",
       "music               0.2344      0.107      2.201      0.028       0.025       0.443\n",
       "SHOW                0.7861      0.073     10.759      0.000       0.643       0.929\n",
       "1950                0.5875      0.164      3.583      0.000       0.266       0.909\n",
       "1960                0.4094      0.205      2.000      0.046       0.008       0.811\n",
       "2000               -0.1096      0.080     -1.376      0.169      -0.266       0.047\n",
       "2010                0.2361      0.062      3.821      0.000       0.115       0.357\n",
       "==============================================================================\n",
       "Omnibus:                      273.070   Durbin-Watson:                   1.879\n",
       "Prob(Omnibus):                  0.000   Jarque-Bera (JB):             1170.072\n",
       "Skew:                          -0.706   Prob(JB):                    8.36e-255\n",
       "Kurtosis:                       6.801   Cond. No.                         37.3\n",
       "==============================================================================\n",
       "\n",
       "Notes:\n",
       "[1] Standard Errors assume that the covariance matrix of the errors is correctly specified.\n",
       "\"\"\""
      ]
     },
     "execution_count": 77,
     "metadata": {},
     "output_type": "execute_result"
    }
   ],
   "source": [
    "#remove one at time and lookat pvalue\n",
    "\n",
    "x=normalized2[['runtime',\n",
    "       'tmdb_popularity',\n",
    "       'animation','crime', 'documentation', 'drama', \n",
    "       'family', 'music',  \n",
    "        'SHOW',\n",
    "         '1950', '1960','2000',\n",
    "       '2010']]\n",
    "\n",
    "y = normalized2['tmdb_score'].astype('int')\n",
    "\n",
    "\n",
    "X=sm.add_constant(x)\n",
    "model=sm.OLS(y,X).fit()\n",
    "model.summary()"
   ]
  },
  {
   "cell_type": "code",
   "execution_count": 78,
   "metadata": {},
   "outputs": [
    {
     "data": {
      "text/html": [
       "<div>\n",
       "<style scoped>\n",
       "    .dataframe tbody tr th:only-of-type {\n",
       "        vertical-align: middle;\n",
       "    }\n",
       "\n",
       "    .dataframe tbody tr th {\n",
       "        vertical-align: top;\n",
       "    }\n",
       "\n",
       "    .dataframe thead th {\n",
       "        text-align: right;\n",
       "    }\n",
       "</style>\n",
       "<table border=\"1\" class=\"dataframe\">\n",
       "  <thead>\n",
       "    <tr style=\"text-align: right;\">\n",
       "      <th></th>\n",
       "      <th>feature</th>\n",
       "      <th>pvalue</th>\n",
       "    </tr>\n",
       "  </thead>\n",
       "  <tbody>\n",
       "    <tr>\n",
       "      <th>0</th>\n",
       "      <td>const</td>\n",
       "      <td>0.0000</td>\n",
       "    </tr>\n",
       "    <tr>\n",
       "      <th>1</th>\n",
       "      <td>animation</td>\n",
       "      <td>0.0000</td>\n",
       "    </tr>\n",
       "    <tr>\n",
       "      <th>2</th>\n",
       "      <td>documentation</td>\n",
       "      <td>0.0000</td>\n",
       "    </tr>\n",
       "    <tr>\n",
       "      <th>3</th>\n",
       "      <td>SHOW</td>\n",
       "      <td>0.0000</td>\n",
       "    </tr>\n",
       "    <tr>\n",
       "      <th>4</th>\n",
       "      <td>drama</td>\n",
       "      <td>0.0001</td>\n",
       "    </tr>\n",
       "    <tr>\n",
       "      <th>5</th>\n",
       "      <td>2010</td>\n",
       "      <td>0.0001</td>\n",
       "    </tr>\n",
       "    <tr>\n",
       "      <th>6</th>\n",
       "      <td>tmdb_popularity</td>\n",
       "      <td>0.0003</td>\n",
       "    </tr>\n",
       "    <tr>\n",
       "      <th>7</th>\n",
       "      <td>1950</td>\n",
       "      <td>0.0003</td>\n",
       "    </tr>\n",
       "    <tr>\n",
       "      <th>8</th>\n",
       "      <td>family</td>\n",
       "      <td>0.0207</td>\n",
       "    </tr>\n",
       "    <tr>\n",
       "      <th>9</th>\n",
       "      <td>music</td>\n",
       "      <td>0.0279</td>\n",
       "    </tr>\n",
       "    <tr>\n",
       "      <th>10</th>\n",
       "      <td>1960</td>\n",
       "      <td>0.0457</td>\n",
       "    </tr>\n",
       "  </tbody>\n",
       "</table>\n",
       "</div>"
      ],
      "text/plain": [
       "            feature  pvalue\n",
       "0             const  0.0000\n",
       "1         animation  0.0000\n",
       "2     documentation  0.0000\n",
       "3              SHOW  0.0000\n",
       "4             drama  0.0001\n",
       "5              2010  0.0001\n",
       "6   tmdb_popularity  0.0003\n",
       "7              1950  0.0003\n",
       "8            family  0.0207\n",
       "9             music  0.0279\n",
       "10             1960  0.0457"
      ]
     },
     "execution_count": 78,
     "metadata": {},
     "output_type": "execute_result"
    }
   ],
   "source": [
    "#pull out just variable and p-value and sort\n",
    "d = {}\n",
    "for i in X.columns.tolist():\n",
    "    d[f'{i}'] = model.pvalues[i].round(4)\n",
    "\n",
    "pvalues = pd.DataFrame(d.items(), columns=['feature', 'pvalue']).sort_values(by = 'pvalue').reset_index(drop=True)\n",
    "\n",
    "#reduce to only p-Value less than .05\n",
    "\n",
    "features = pvalues[pvalues['pvalue'] < .05]\n",
    "features"
   ]
  },
  {
   "cell_type": "code",
   "execution_count": 79,
   "metadata": {},
   "outputs": [],
   "source": [
    "#Divide the data set training and testing with a (70, 30) rule. \n",
    "\n",
    "from sklearn.model_selection import train_test_split\n",
    "\n",
    "x=normalized[['runtime',\n",
    "       'tmdb_score',\n",
    "       'animation', 'documentation',\n",
    "       'family', 'fantasy',\n",
    "       'scifi', 'thriller', 'PG-13', '2020']]\n",
    "\n",
    "y = normalized.tmdb_popularity\n",
    "\n",
    "x_train, x_test, y_train, y_test = train_test_split(x, y ,test_size=0.30, random_state=77)"
   ]
  },
  {
   "cell_type": "code",
   "execution_count": 80,
   "metadata": {},
   "outputs": [],
   "source": [
    "RLR = LinearRegression().fit(x_train, y_train)\n",
    "RLR_ytrain_pred = RLR.predict(x_train)\n",
    "RLR_ytest_pred = RLR.predict(x_test)"
   ]
  },
  {
   "cell_type": "code",
   "execution_count": 81,
   "metadata": {},
   "outputs": [
    {
     "name": "stdout",
     "output_type": "stream",
     "text": [
      "RLR Training Dataset: \n",
      "\n"
     ]
    },
    {
     "data": {
      "text/html": [
       "<div>\n",
       "<style scoped>\n",
       "    .dataframe tbody tr th:only-of-type {\n",
       "        vertical-align: middle;\n",
       "    }\n",
       "\n",
       "    .dataframe tbody tr th {\n",
       "        vertical-align: top;\n",
       "    }\n",
       "\n",
       "    .dataframe thead th {\n",
       "        text-align: right;\n",
       "    }\n",
       "</style>\n",
       "<table border=\"1\" class=\"dataframe\">\n",
       "  <thead>\n",
       "    <tr style=\"text-align: right;\">\n",
       "      <th></th>\n",
       "      <th>ytrain</th>\n",
       "      <th>ytrainhat</th>\n",
       "    </tr>\n",
       "  </thead>\n",
       "  <tbody>\n",
       "    <tr>\n",
       "      <th>0</th>\n",
       "      <td>56.003</td>\n",
       "      <td>44.863125</td>\n",
       "    </tr>\n",
       "    <tr>\n",
       "      <th>1</th>\n",
       "      <td>10.068</td>\n",
       "      <td>13.457643</td>\n",
       "    </tr>\n",
       "    <tr>\n",
       "      <th>2</th>\n",
       "      <td>18.689</td>\n",
       "      <td>52.680847</td>\n",
       "    </tr>\n",
       "    <tr>\n",
       "      <th>3</th>\n",
       "      <td>66.274</td>\n",
       "      <td>35.101196</td>\n",
       "    </tr>\n",
       "    <tr>\n",
       "      <th>4</th>\n",
       "      <td>1.744</td>\n",
       "      <td>-15.757569</td>\n",
       "    </tr>\n",
       "  </tbody>\n",
       "</table>\n",
       "</div>"
      ],
      "text/plain": [
       "   ytrain  ytrainhat\n",
       "0  56.003  44.863125\n",
       "1  10.068  13.457643\n",
       "2  18.689  52.680847\n",
       "3  66.274  35.101196\n",
       "4   1.744 -15.757569"
      ]
     },
     "execution_count": 81,
     "metadata": {},
     "output_type": "execute_result"
    }
   ],
   "source": [
    "#view head of training dataset\n",
    "print('RLR Training Dataset: \\n')\n",
    "pd.DataFrame(list(zip(y_train, RLR_ytrain_pred)), columns=['ytrain','ytrainhat']).head(5)"
   ]
  },
  {
   "cell_type": "code",
   "execution_count": 82,
   "metadata": {},
   "outputs": [
    {
     "name": "stdout",
     "output_type": "stream",
     "text": [
      "RLR train vs test R^2: 0.158025 0.025124\n"
     ]
    }
   ],
   "source": [
    "#R-squared - % of variability explained in model\n",
    "\n",
    "import sklearn.metrics as metrics\n",
    "\n",
    "\n",
    "RLR_testr2_genre = metrics.r2_score(y_test, RLR_ytest_pred).round(6)\n",
    "RLR_trainr2_genre = metrics.r2_score(y_train, RLR_ytrain_pred).round(6)\n",
    "print(\"RLR train vs test R^2:\",RLR_trainr2_genre, RLR_testr2_genre)"
   ]
  },
  {
   "cell_type": "code",
   "execution_count": 83,
   "metadata": {},
   "outputs": [
    {
     "name": "stdout",
     "output_type": "stream",
     "text": [
      "RLR train vs test RMSE: 71.32547070540399 90.1686732153369\n"
     ]
    }
   ],
   "source": [
    "#RMSE - want lower\n",
    "\n",
    "from sklearn.metrics import mean_squared_error\n",
    "from math import sqrt\n",
    "\n",
    "rmse_test_genre = sqrt(mean_squared_error(y_test, RLR_ytest_pred))\n",
    "rmse_train_genre = sqrt(mean_squared_error(y_train, RLR_ytrain_pred))\n",
    "print(\"RLR train vs test RMSE:\",rmse_train_genre, rmse_test_genre)"
   ]
  },
  {
   "cell_type": "code",
   "execution_count": null,
   "metadata": {},
   "outputs": [],
   "source": []
  },
  {
   "cell_type": "code",
   "execution_count": null,
   "metadata": {},
   "outputs": [],
   "source": []
  },
  {
   "cell_type": "code",
   "execution_count": 84,
   "metadata": {
    "tags": []
   },
   "outputs": [
    {
     "name": "stdout",
     "output_type": "stream",
     "text": [
      "         Features       Score\n",
      "1         seasons  550.373425\n",
      "33           SHOW  201.144904\n",
      "44           2020  110.774219\n",
      "7   documentation   77.996480\n",
      "32          MOVIE   74.581818\n",
      "27           TV-G   60.011758\n",
      "26          TV-14   59.104083\n",
      "28          TV-PG   58.169035\n",
      "15        reality   57.344107\n",
      "42           2000   57.175452\n",
      "22              G   51.313170\n",
      "5          comedy   35.789309\n",
      "43           2010   35.227955\n",
      "4       animation   33.345755\n",
      "36           1940   32.646956\n",
      "10         family   31.279642\n",
      "30          TV-Y7   30.209197\n",
      "29           TV-Y   30.208224\n",
      "23             PG   30.133198\n",
      "41           1990   29.271422\n",
      "11        fantasy   25.522492\n",
      "8           drama   24.662462\n",
      "17          scifi   23.928667\n",
      "35           1930   20.154669\n",
      "19       thriller   19.093924\n",
      "24          PG-13   17.247914\n",
      "31        unrated   15.564524\n",
      "25              R   14.554982\n",
      "37           1950   14.106543\n",
      "38           1960   13.451345\n",
      "3          action   13.247653\n",
      "39           1970   12.959712\n",
      "12        history   11.309887\n",
      "16        romance    9.960403\n",
      "21        western    8.906237\n"
     ]
    }
   ],
   "source": [
    "# Variable selection with k best using f_regression for score - using normalized run time & popularity\n",
    "\n",
    "from sklearn.feature_selection import SelectKBest\n",
    "from sklearn.feature_selection import chi2, f_regression\n",
    "\n",
    "X = normalized2[['runtime',\n",
    "       'seasons','tmdb_popularity','action',\n",
    "       'animation', 'comedy', 'crime', 'documentation', 'drama', 'european',\n",
    "       'family', 'fantasy', 'history', 'horror', 'music', 'reality', 'romance',\n",
    "       'scifi', 'sport', 'thriller', 'war', 'western', 'G', 'PG', 'PG-13', 'R',\n",
    "       'TV-14', 'TV-G', 'TV-PG', 'TV-Y', 'TV-Y7', 'unrated', 'MOVIE', 'SHOW',\n",
    "       '1920', '1930', '1940', '1950', '1960', '1970', '1980', '1990', '2000',\n",
    "       '2010', '2020']]\n",
    "\n",
    "y = normalized2['tmdb_score'].astype('int')\n",
    "\n",
    "#apply SelectKBest class to extract topfeatures\n",
    "bestfeatures = SelectKBest(score_func= chi2, k=35)\n",
    "fit = bestfeatures.fit(X,y)\n",
    "dfscores = pd.DataFrame(fit.scores_)\n",
    "dfcolumns = pd.DataFrame(X.columns)\n",
    "#concat two dataframes for better visualization \n",
    "featureScores = pd.concat([dfcolumns,dfscores],axis=1)\n",
    "featureScores.columns = ['Features','Score']  #naming the dataframe columns\n",
    "print(featureScores.nlargest(35,'Score'))  #print all best features"
   ]
  },
  {
   "cell_type": "code",
   "execution_count": 85,
   "metadata": {},
   "outputs": [],
   "source": [
    "#regression model based on top features"
   ]
  },
  {
   "cell_type": "code",
   "execution_count": 86,
   "metadata": {},
   "outputs": [
    {
     "data": {
      "text/plain": [
       "Index(['id', 'title', 'description', 'runtime', 'production_countries',\n",
       "       'seasons', 'tmdb_popularity', 'tmdb_score', 'director', 'action',\n",
       "       'animation', 'comedy', 'crime', 'documentation', 'drama', 'european',\n",
       "       'family', 'fantasy', 'history', 'horror', 'music', 'reality', 'romance',\n",
       "       'scifi', 'sport', 'thriller', 'war', 'western', 'G', 'PG', 'PG-13', 'R',\n",
       "       'TV-14', 'TV-G', 'TV-MA', 'TV-PG', 'TV-Y', 'TV-Y7', 'TV-Y7-FV',\n",
       "       'unrated', 'MOVIE', 'SHOW', '1920', '1930', '1940', '1950', '1960',\n",
       "       '1970', '1980', '1990', '2000', '2010', '2020'],\n",
       "      dtype='object')"
      ]
     },
     "execution_count": 86,
     "metadata": {},
     "output_type": "execute_result"
    }
   ],
   "source": [
    "normalized2.columns"
   ]
  },
  {
   "cell_type": "code",
   "execution_count": 87,
   "metadata": {},
   "outputs": [],
   "source": [
    "#Divide the data set training and testing with a (70, 30) rule. \n",
    "\n",
    "from sklearn.model_selection import train_test_split\n",
    "\n",
    "x = normalized2[['seasons','SHOW', '2020', 'TV-PG','documentation']]\n",
    "\n",
    "y = normalized2.tmdb_popularity\n",
    "\n",
    "x_train, x_test, y_train, y_test = train_test_split(x, y ,test_size=0.30, random_state=63)"
   ]
  },
  {
   "cell_type": "code",
   "execution_count": 88,
   "metadata": {},
   "outputs": [],
   "source": [
    "#Linear Regression\n",
    "\n",
    "from sklearn.linear_model import LinearRegression\n",
    "import statsmodels.api as sm\n",
    "import statsmodels.formula.api as smf"
   ]
  },
  {
   "cell_type": "code",
   "execution_count": 89,
   "metadata": {},
   "outputs": [],
   "source": [
    "RLR = LinearRegression().fit(x_train, y_train)\n",
    "RLR_ytrain_pred = RLR.predict(x_train)\n",
    "RLR_ytest_pred = RLR.predict(x_test)"
   ]
  },
  {
   "cell_type": "code",
   "execution_count": 90,
   "metadata": {},
   "outputs": [
    {
     "name": "stdout",
     "output_type": "stream",
     "text": [
      "RLR Training Dataset: \n",
      "\n"
     ]
    },
    {
     "data": {
      "text/html": [
       "<div>\n",
       "<style scoped>\n",
       "    .dataframe tbody tr th:only-of-type {\n",
       "        vertical-align: middle;\n",
       "    }\n",
       "\n",
       "    .dataframe tbody tr th {\n",
       "        vertical-align: top;\n",
       "    }\n",
       "\n",
       "    .dataframe thead th {\n",
       "        text-align: right;\n",
       "    }\n",
       "</style>\n",
       "<table border=\"1\" class=\"dataframe\">\n",
       "  <thead>\n",
       "    <tr style=\"text-align: right;\">\n",
       "      <th></th>\n",
       "      <th>ytrain</th>\n",
       "      <th>ytrainhat</th>\n",
       "    </tr>\n",
       "  </thead>\n",
       "  <tbody>\n",
       "    <tr>\n",
       "      <th>0</th>\n",
       "      <td>0.009267</td>\n",
       "      <td>0.012478</td>\n",
       "    </tr>\n",
       "    <tr>\n",
       "      <th>1</th>\n",
       "      <td>0.031925</td>\n",
       "      <td>0.023421</td>\n",
       "    </tr>\n",
       "    <tr>\n",
       "      <th>2</th>\n",
       "      <td>0.001141</td>\n",
       "      <td>-0.000973</td>\n",
       "    </tr>\n",
       "    <tr>\n",
       "      <th>3</th>\n",
       "      <td>0.000553</td>\n",
       "      <td>0.012713</td>\n",
       "    </tr>\n",
       "    <tr>\n",
       "      <th>4</th>\n",
       "      <td>0.024809</td>\n",
       "      <td>0.012478</td>\n",
       "    </tr>\n",
       "  </tbody>\n",
       "</table>\n",
       "</div>"
      ],
      "text/plain": [
       "     ytrain  ytrainhat\n",
       "0  0.009267   0.012478\n",
       "1  0.031925   0.023421\n",
       "2  0.001141  -0.000973\n",
       "3  0.000553   0.012713\n",
       "4  0.024809   0.012478"
      ]
     },
     "execution_count": 90,
     "metadata": {},
     "output_type": "execute_result"
    }
   ],
   "source": [
    "#view head of training dataset\n",
    "print('RLR Training Dataset: \\n')\n",
    "pd.DataFrame(list(zip(y_train, RLR_ytrain_pred)), columns=['ytrain','ytrainhat']).head(5)"
   ]
  },
  {
   "cell_type": "code",
   "execution_count": 91,
   "metadata": {},
   "outputs": [
    {
     "name": "stdout",
     "output_type": "stream",
     "text": [
      "RLR train vs test R^2: 0.039535 0.07003\n"
     ]
    }
   ],
   "source": [
    "#R-squared - % of variability explained in model\n",
    "\n",
    "import sklearn.metrics as metrics\n",
    "\n",
    "\n",
    "RLR_testr2_genre = metrics.r2_score(y_test, RLR_ytest_pred).round(6)\n",
    "RLR_trainr2_genre = metrics.r2_score(y_train, RLR_ytrain_pred).round(6)\n",
    "print(\"RLR train vs test R^2:\",RLR_trainr2_genre, RLR_testr2_genre)"
   ]
  },
  {
   "cell_type": "code",
   "execution_count": 92,
   "metadata": {},
   "outputs": [
    {
     "name": "stdout",
     "output_type": "stream",
     "text": [
      "RLR train vs test RMSE: 0.04100723643745519 0.026099279195388164\n"
     ]
    }
   ],
   "source": [
    "#RMSE - want lower\n",
    "\n",
    "from sklearn.metrics import mean_squared_error\n",
    "from math import sqrt\n",
    "\n",
    "rmse_test_genre = sqrt(mean_squared_error(y_test, RLR_ytest_pred))\n",
    "rmse_train_genre = sqrt(mean_squared_error(y_train, RLR_ytrain_pred))\n",
    "print(\"RLR train vs test RMSE:\",rmse_train_genre, rmse_test_genre)"
   ]
  },
  {
   "cell_type": "code",
   "execution_count": 93,
   "metadata": {},
   "outputs": [],
   "source": [
    "#Popularity based on only on Genre Regression Model"
   ]
  },
  {
   "cell_type": "code",
   "execution_count": 94,
   "metadata": {},
   "outputs": [
    {
     "data": {
      "text/html": [
       "<div>\n",
       "<style scoped>\n",
       "    .dataframe tbody tr th:only-of-type {\n",
       "        vertical-align: middle;\n",
       "    }\n",
       "\n",
       "    .dataframe tbody tr th {\n",
       "        vertical-align: top;\n",
       "    }\n",
       "\n",
       "    .dataframe thead th {\n",
       "        text-align: right;\n",
       "    }\n",
       "</style>\n",
       "<table border=\"1\" class=\"dataframe\">\n",
       "  <thead>\n",
       "    <tr style=\"text-align: right;\">\n",
       "      <th></th>\n",
       "      <th>id</th>\n",
       "      <th>title</th>\n",
       "      <th>description</th>\n",
       "      <th>runtime</th>\n",
       "      <th>production_countries</th>\n",
       "      <th>seasons</th>\n",
       "      <th>tmdb_popularity</th>\n",
       "      <th>tmdb_score</th>\n",
       "      <th>director</th>\n",
       "      <th>action</th>\n",
       "      <th>...</th>\n",
       "      <th>1930</th>\n",
       "      <th>1940</th>\n",
       "      <th>1950</th>\n",
       "      <th>1960</th>\n",
       "      <th>1970</th>\n",
       "      <th>1980</th>\n",
       "      <th>1990</th>\n",
       "      <th>2000</th>\n",
       "      <th>2010</th>\n",
       "      <th>2020</th>\n",
       "    </tr>\n",
       "  </thead>\n",
       "  <tbody>\n",
       "    <tr>\n",
       "      <th>0</th>\n",
       "      <td>tm89464</td>\n",
       "      <td>Miracle on 34th Street</td>\n",
       "      <td>Kris Kringle, seemingly the embodiment of Sant...</td>\n",
       "      <td>0.524862</td>\n",
       "      <td>US</td>\n",
       "      <td>0.0</td>\n",
       "      <td>0.010615</td>\n",
       "      <td>7.388</td>\n",
       "      <td>GeorgeSeaton</td>\n",
       "      <td>0</td>\n",
       "      <td>...</td>\n",
       "      <td>0</td>\n",
       "      <td>1</td>\n",
       "      <td>0</td>\n",
       "      <td>0</td>\n",
       "      <td>0</td>\n",
       "      <td>0</td>\n",
       "      <td>0</td>\n",
       "      <td>0</td>\n",
       "      <td>0</td>\n",
       "      <td>0</td>\n",
       "    </tr>\n",
       "    <tr>\n",
       "      <th>1</th>\n",
       "      <td>tm61729</td>\n",
       "      <td>The Adventures of Ichabod and Mr. Toad</td>\n",
       "      <td>The Wind in the Willows: Concise version of Ke...</td>\n",
       "      <td>0.370166</td>\n",
       "      <td>US</td>\n",
       "      <td>0.0</td>\n",
       "      <td>0.007224</td>\n",
       "      <td>6.500</td>\n",
       "      <td>JamesAlgar,ClydeGeronimi,JackKinney</td>\n",
       "      <td>0</td>\n",
       "      <td>...</td>\n",
       "      <td>0</td>\n",
       "      <td>0</td>\n",
       "      <td>1</td>\n",
       "      <td>0</td>\n",
       "      <td>0</td>\n",
       "      <td>0</td>\n",
       "      <td>0</td>\n",
       "      <td>0</td>\n",
       "      <td>0</td>\n",
       "      <td>0</td>\n",
       "    </tr>\n",
       "  </tbody>\n",
       "</table>\n",
       "<p>2 rows × 53 columns</p>\n",
       "</div>"
      ],
      "text/plain": [
       "        id                                   title  \\\n",
       "0  tm89464                  Miracle on 34th Street   \n",
       "1  tm61729  The Adventures of Ichabod and Mr. Toad   \n",
       "\n",
       "                                         description   runtime  \\\n",
       "0  Kris Kringle, seemingly the embodiment of Sant...  0.524862   \n",
       "1  The Wind in the Willows: Concise version of Ke...  0.370166   \n",
       "\n",
       "  production_countries  seasons  tmdb_popularity  tmdb_score  \\\n",
       "0                   US      0.0         0.010615       7.388   \n",
       "1                   US      0.0         0.007224       6.500   \n",
       "\n",
       "                              director  action  ...  1930  1940  1950  1960  \\\n",
       "0                         GeorgeSeaton       0  ...     0     1     0     0   \n",
       "1  JamesAlgar,ClydeGeronimi,JackKinney       0  ...     0     0     1     0   \n",
       "\n",
       "   1970  1980  1990  2000  2010  2020  \n",
       "0     0     0     0     0     0     0  \n",
       "1     0     0     0     0     0     0  \n",
       "\n",
       "[2 rows x 53 columns]"
      ]
     },
     "execution_count": 94,
     "metadata": {},
     "output_type": "execute_result"
    }
   ],
   "source": [
    "genre_mlr = normalized2\n",
    "genre_mlr.head(2)"
   ]
  },
  {
   "cell_type": "code",
   "execution_count": 95,
   "metadata": {},
   "outputs": [
    {
     "data": {
      "text/plain": [
       "Index(['id', 'title', 'description', 'runtime', 'production_countries',\n",
       "       'seasons', 'tmdb_popularity', 'tmdb_score', 'director', 'action',\n",
       "       'animation', 'comedy', 'crime', 'documentation', 'drama', 'european',\n",
       "       'family', 'fantasy', 'history', 'horror', 'music', 'reality', 'romance',\n",
       "       'scifi', 'sport', 'thriller', 'war', 'western', 'G', 'PG', 'PG-13', 'R',\n",
       "       'TV-14', 'TV-G', 'TV-MA', 'TV-PG', 'TV-Y', 'TV-Y7', 'TV-Y7-FV',\n",
       "       'unrated', 'MOVIE', 'SHOW', '1920', '1930', '1940', '1950', '1960',\n",
       "       '1970', '1980', '1990', '2000', '2010', '2020'],\n",
       "      dtype='object')"
      ]
     },
     "execution_count": 95,
     "metadata": {},
     "output_type": "execute_result"
    }
   ],
   "source": [
    "genre_mlr.columns"
   ]
  },
  {
   "cell_type": "code",
   "execution_count": 96,
   "metadata": {},
   "outputs": [],
   "source": [
    "#regression modeling for popularity based on genre"
   ]
  },
  {
   "cell_type": "code",
   "execution_count": 97,
   "metadata": {
    "tags": []
   },
   "outputs": [],
   "source": [
    "#Divide the data set training and testing with a (70, 30) rule. \n",
    "\n",
    "from sklearn.model_selection import train_test_split\n",
    "\n",
    "x = normalized2[['action', 'animation', 'comedy', 'crime', 'documentation',\n",
    "       'drama', 'european', 'family', 'fantasy', 'history', 'horror', 'music',\n",
    "       'reality', 'romance', 'scifi', 'sport', 'thriller', 'war', 'western']]\n",
    "\n",
    "y = normalized2.tmdb_popularity\n",
    "\n",
    "x_train, x_test, y_train, y_test = train_test_split(x, y ,test_size=0.30, random_state=51)"
   ]
  },
  {
   "cell_type": "code",
   "execution_count": 98,
   "metadata": {
    "tags": []
   },
   "outputs": [],
   "source": [
    "#Linear Regression\n",
    "\n",
    "from sklearn.linear_model import LinearRegression\n",
    "import statsmodels.api as sm\n",
    "import statsmodels.formula.api as smf\n"
   ]
  },
  {
   "cell_type": "code",
   "execution_count": 99,
   "metadata": {
    "tags": []
   },
   "outputs": [],
   "source": [
    "RLR = LinearRegression().fit(x_train, y_train)\n",
    "RLR_ytrain_pred = RLR.predict(x_train)\n",
    "RLR_ytest_pred = RLR.predict(x_test)"
   ]
  },
  {
   "cell_type": "code",
   "execution_count": 100,
   "metadata": {
    "tags": []
   },
   "outputs": [
    {
     "name": "stdout",
     "output_type": "stream",
     "text": [
      "RLR Training Dataset: \n",
      "\n"
     ]
    },
    {
     "data": {
      "text/html": [
       "<div>\n",
       "<style scoped>\n",
       "    .dataframe tbody tr th:only-of-type {\n",
       "        vertical-align: middle;\n",
       "    }\n",
       "\n",
       "    .dataframe tbody tr th {\n",
       "        vertical-align: top;\n",
       "    }\n",
       "\n",
       "    .dataframe thead th {\n",
       "        text-align: right;\n",
       "    }\n",
       "</style>\n",
       "<table border=\"1\" class=\"dataframe\">\n",
       "  <thead>\n",
       "    <tr style=\"text-align: right;\">\n",
       "      <th></th>\n",
       "      <th>ytrain</th>\n",
       "      <th>ytrainhat</th>\n",
       "    </tr>\n",
       "  </thead>\n",
       "  <tbody>\n",
       "    <tr>\n",
       "      <th>0</th>\n",
       "      <td>0.001300</td>\n",
       "      <td>-0.007792</td>\n",
       "    </tr>\n",
       "    <tr>\n",
       "      <th>1</th>\n",
       "      <td>0.006844</td>\n",
       "      <td>0.010859</td>\n",
       "    </tr>\n",
       "    <tr>\n",
       "      <th>2</th>\n",
       "      <td>0.016527</td>\n",
       "      <td>0.055023</td>\n",
       "    </tr>\n",
       "    <tr>\n",
       "      <th>3</th>\n",
       "      <td>0.003065</td>\n",
       "      <td>0.027991</td>\n",
       "    </tr>\n",
       "    <tr>\n",
       "      <th>4</th>\n",
       "      <td>0.000898</td>\n",
       "      <td>0.002205</td>\n",
       "    </tr>\n",
       "  </tbody>\n",
       "</table>\n",
       "</div>"
      ],
      "text/plain": [
       "     ytrain  ytrainhat\n",
       "0  0.001300  -0.007792\n",
       "1  0.006844   0.010859\n",
       "2  0.016527   0.055023\n",
       "3  0.003065   0.027991\n",
       "4  0.000898   0.002205"
      ]
     },
     "execution_count": 100,
     "metadata": {},
     "output_type": "execute_result"
    }
   ],
   "source": [
    "#view head of training dataset\n",
    "print('RLR Training Dataset: \\n')\n",
    "pd.DataFrame(list(zip(y_train, RLR_ytrain_pred)), columns=['ytrain','ytrainhat']).head(5)"
   ]
  },
  {
   "cell_type": "code",
   "execution_count": 101,
   "metadata": {
    "tags": []
   },
   "outputs": [
    {
     "name": "stdout",
     "output_type": "stream",
     "text": [
      "RLR train vs test R^2: 0.100055 0.022018\n"
     ]
    }
   ],
   "source": [
    "#R-squared - % of variability explained in model\n",
    "\n",
    "import sklearn.metrics as metrics\n",
    "\n",
    "\n",
    "RLR_testr2_genre = metrics.r2_score(y_test, RLR_ytest_pred).round(6)\n",
    "RLR_trainr2_genre = metrics.r2_score(y_train, RLR_ytrain_pred).round(6)\n",
    "print(\"RLR train vs test R^2:\",RLR_trainr2_genre, RLR_testr2_genre)"
   ]
  },
  {
   "cell_type": "code",
   "execution_count": 102,
   "metadata": {},
   "outputs": [
    {
     "name": "stdout",
     "output_type": "stream",
     "text": [
      "RLR train vs test RMSE: 0.03935238690180554 0.02801379496076602\n"
     ]
    }
   ],
   "source": [
    "#RMSE - want lower\n",
    "\n",
    "from sklearn.metrics import mean_squared_error\n",
    "from math import sqrt\n",
    "\n",
    "rmse_test_genre = sqrt(mean_squared_error(y_test, RLR_ytest_pred))\n",
    "rmse_train_genre = sqrt(mean_squared_error(y_train, RLR_ytrain_pred))\n",
    "print(\"RLR train vs test RMSE:\",rmse_train_genre, rmse_test_genre)"
   ]
  },
  {
   "cell_type": "code",
   "execution_count": 103,
   "metadata": {},
   "outputs": [
    {
     "name": "stdout",
     "output_type": "stream",
     "text": [
      "5-Fold CV scores: [ 0.048106 -0.012919 -0.094013  0.121895  0.013395]\n",
      "Average from 5 fold CV: 0.015293\n"
     ]
    }
   ],
   "source": [
    "# K-fold Cross validation - R-squared\n",
    "from sklearn.model_selection import cross_val_score\n",
    "\n",
    "scores = cross_val_score(RLR, x_train, y_train, cv = 5).round(6)\n",
    "\n",
    "avg_scores = scores.mean().round(6)\n",
    "\n",
    "# Print the accuracy for each fold:\n",
    "print(\"5-Fold CV scores:\", scores)\n",
    "\n",
    "# mean accuracy of all 5 folds:\n",
    "print(\"Average from 5 fold CV:\", avg_scores)"
   ]
  },
  {
   "cell_type": "code",
   "execution_count": 104,
   "metadata": {},
   "outputs": [
    {
     "name": "stdout",
     "output_type": "stream",
     "text": [
      "5-Fold CV MSE scores: [0.078815 0.019739 0.028483 0.018143 0.022986]\n",
      "Average from 5 fold CV MSEs: 0.033633\n"
     ]
    }
   ],
   "source": [
    "# K-fold Cross validation - RMSE\n",
    "\n",
    "scores_RMSE = cross_val_score(RLR, x_train, y_train, scoring='neg_root_mean_squared_error',cv= 5).round(6)\n",
    "\n",
    "avg_scores_RMSE = - scores_RMSE.mean().round(6)\n",
    "\n",
    "# Print the accuracy for each fold:\n",
    "print(\"5-Fold CV MSE scores:\", - scores_RMSE)\n",
    "# mean accuracy of all 5 folds:\n",
    "print(\"Average from 5 fold CV MSEs:\", avg_scores_RMSE)"
   ]
  },
  {
   "cell_type": "code",
   "execution_count": 105,
   "metadata": {},
   "outputs": [],
   "source": [
    "#Random Forest"
   ]
  },
  {
   "cell_type": "code",
   "execution_count": 110,
   "metadata": {},
   "outputs": [],
   "source": [
    "from sklearn.ensemble import RandomForestRegressor\n",
    "\n",
    "#train\n",
    "\n",
    "RF = RandomForestRegressor(n_estimators = 100, random_state = 25)\n",
    "RFR = RF.fit(x_train, y_train)\n",
    "RFR_ytrain_pred = RFR.predict(x_train)\n",
    "RFR_ytest_pred = RFR.predict(x_test)"
   ]
  },
  {
   "cell_type": "code",
   "execution_count": 111,
   "metadata": {},
   "outputs": [
    {
     "name": "stdout",
     "output_type": "stream",
     "text": [
      "RFR Training Dataset: \n",
      "\n"
     ]
    },
    {
     "data": {
      "text/html": [
       "<div>\n",
       "<style scoped>\n",
       "    .dataframe tbody tr th:only-of-type {\n",
       "        vertical-align: middle;\n",
       "    }\n",
       "\n",
       "    .dataframe tbody tr th {\n",
       "        vertical-align: top;\n",
       "    }\n",
       "\n",
       "    .dataframe thead th {\n",
       "        text-align: right;\n",
       "    }\n",
       "</style>\n",
       "<table border=\"1\" class=\"dataframe\">\n",
       "  <thead>\n",
       "    <tr style=\"text-align: right;\">\n",
       "      <th></th>\n",
       "      <th>ytrain</th>\n",
       "      <th>ytrainhat</th>\n",
       "    </tr>\n",
       "  </thead>\n",
       "  <tbody>\n",
       "    <tr>\n",
       "      <th>0</th>\n",
       "      <td>0.001300</td>\n",
       "      <td>0.002958</td>\n",
       "    </tr>\n",
       "    <tr>\n",
       "      <th>1</th>\n",
       "      <td>0.006844</td>\n",
       "      <td>0.009667</td>\n",
       "    </tr>\n",
       "    <tr>\n",
       "      <th>2</th>\n",
       "      <td>0.016527</td>\n",
       "      <td>0.020987</td>\n",
       "    </tr>\n",
       "    <tr>\n",
       "      <th>3</th>\n",
       "      <td>0.003065</td>\n",
       "      <td>0.006397</td>\n",
       "    </tr>\n",
       "    <tr>\n",
       "      <th>4</th>\n",
       "      <td>0.000898</td>\n",
       "      <td>0.001889</td>\n",
       "    </tr>\n",
       "  </tbody>\n",
       "</table>\n",
       "</div>"
      ],
      "text/plain": [
       "     ytrain  ytrainhat\n",
       "0  0.001300   0.002958\n",
       "1  0.006844   0.009667\n",
       "2  0.016527   0.020987\n",
       "3  0.003065   0.006397\n",
       "4  0.000898   0.001889"
      ]
     },
     "execution_count": 111,
     "metadata": {},
     "output_type": "execute_result"
    }
   ],
   "source": [
    "#view head of training dataset\n",
    "print('RFR Training Dataset: \\n')\n",
    "pd.DataFrame(list(zip(y_train, RFR_ytrain_pred)), columns=['ytrain','ytrainhat']).head(5)"
   ]
  },
  {
   "cell_type": "code",
   "execution_count": 112,
   "metadata": {},
   "outputs": [
    {
     "name": "stdout",
     "output_type": "stream",
     "text": [
      "RLR Testing Dataset: \n",
      "\n"
     ]
    },
    {
     "data": {
      "text/html": [
       "<div>\n",
       "<style scoped>\n",
       "    .dataframe tbody tr th:only-of-type {\n",
       "        vertical-align: middle;\n",
       "    }\n",
       "\n",
       "    .dataframe tbody tr th {\n",
       "        vertical-align: top;\n",
       "    }\n",
       "\n",
       "    .dataframe thead th {\n",
       "        text-align: right;\n",
       "    }\n",
       "</style>\n",
       "<table border=\"1\" class=\"dataframe\">\n",
       "  <thead>\n",
       "    <tr style=\"text-align: right;\">\n",
       "      <th></th>\n",
       "      <th>ytest</th>\n",
       "      <th>ytesthat</th>\n",
       "    </tr>\n",
       "  </thead>\n",
       "  <tbody>\n",
       "    <tr>\n",
       "      <th>0</th>\n",
       "      <td>0.012518</td>\n",
       "      <td>0.015124</td>\n",
       "    </tr>\n",
       "    <tr>\n",
       "      <th>1</th>\n",
       "      <td>0.003659</td>\n",
       "      <td>0.003154</td>\n",
       "    </tr>\n",
       "    <tr>\n",
       "      <th>2</th>\n",
       "      <td>0.005239</td>\n",
       "      <td>0.021918</td>\n",
       "    </tr>\n",
       "    <tr>\n",
       "      <th>3</th>\n",
       "      <td>0.001512</td>\n",
       "      <td>0.003154</td>\n",
       "    </tr>\n",
       "    <tr>\n",
       "      <th>4</th>\n",
       "      <td>0.328598</td>\n",
       "      <td>0.010669</td>\n",
       "    </tr>\n",
       "  </tbody>\n",
       "</table>\n",
       "</div>"
      ],
      "text/plain": [
       "      ytest  ytesthat\n",
       "0  0.012518  0.015124\n",
       "1  0.003659  0.003154\n",
       "2  0.005239  0.021918\n",
       "3  0.001512  0.003154\n",
       "4  0.328598  0.010669"
      ]
     },
     "execution_count": 112,
     "metadata": {},
     "output_type": "execute_result"
    }
   ],
   "source": [
    "#view head of testing dataset\n",
    "print('RLR Testing Dataset: \\n')\n",
    "pd.DataFrame(list(zip(y_test, RLR_ytest_pred)), columns=['ytest','ytesthat']).head(5)"
   ]
  },
  {
   "cell_type": "code",
   "execution_count": 113,
   "metadata": {},
   "outputs": [
    {
     "name": "stdout",
     "output_type": "stream",
     "text": [
      "RFR train vs test R^2: 0.605206 -2.795803\n"
     ]
    }
   ],
   "source": [
    "#R-squared - % of variability explained in model\n",
    "\n",
    "RFR_testr2 = metrics.r2_score(y_test, RFR_ytest_pred).round(6)\n",
    "RFR_trainr2 = metrics.r2_score(y_train, RFR_ytrain_pred).round(6)\n",
    "print(\"RFR train vs test R^2:\",RFR_trainr2, RFR_testr2)"
   ]
  },
  {
   "cell_type": "code",
   "execution_count": 114,
   "metadata": {},
   "outputs": [
    {
     "name": "stdout",
     "output_type": "stream",
     "text": [
      "RFR train vs test RMSE: 0.05519 0.026064\n"
     ]
    }
   ],
   "source": [
    "# RMSE - want close to zero - standard deviation of unexplained variable\n",
    "RFR_testMSE = metrics.mean_squared_error(y_test, RFR_ytest_pred, squared=False).round(6)\n",
    "RFR_trainMSE = metrics.mean_squared_error(y_train, RFR_ytrain_pred, squared=False).round(6)\n",
    "print(\"RFR train vs test RMSE:\",RFR_testMSE, RFR_trainMSE)"
   ]
  },
  {
   "cell_type": "code",
   "execution_count": 115,
   "metadata": {},
   "outputs": [
    {
     "name": "stdout",
     "output_type": "stream",
     "text": [
      "5-Fold CV scores: [ 0.11434  -0.698975 -3.474777 -1.669558  0.265813]\n",
      "Average from 5 fold CV: -1.092631\n"
     ]
    }
   ],
   "source": [
    "# K-fold Cross validation - r-squared\n",
    "\n",
    "scores_RF = cross_val_score(RFR, x_train, y_train, cv = 5).round(6)\n",
    "\n",
    "# Print the accuracy for each fold:\n",
    "print(\"5-Fold CV scores:\", scores_RF)\n",
    "\n",
    "avg_scores_RF = scores_RF.mean().round(6)\n",
    "\n",
    "# And the mean accuracy of all 5 folds:\n",
    "print(\"Average from 5 fold CV:\", avg_scores_RF)"
   ]
  },
  {
   "cell_type": "code",
   "execution_count": 116,
   "metadata": {},
   "outputs": [
    {
     "name": "stdout",
     "output_type": "stream",
     "text": [
      "5-Fold CV RMSE scores: [0.076024 0.025564 0.057605 0.031633 0.019829]\n",
      "Average from 5 fold CV RMSEs: 0.042131\n"
     ]
    }
   ],
   "source": [
    "# K-fold Cross validation - RMSE\n",
    "\n",
    "scores_RF_RMSE = cross_val_score(RFR, x_train, y_train, scoring='neg_root_mean_squared_error', cv= 5).round(6)\n",
    "\n",
    "avg_scores_RF_RMSE = - scores_RF_RMSE.mean().round(6)\n",
    "\n",
    "# Print the accuracy for each fold:\n",
    "print(\"5-Fold CV RMSE scores:\", - scores_RF_RMSE)\n",
    "# mean accuracy of all 5 folds:\n",
    "print(\"Average from 5 fold CV RMSEs:\", avg_scores_RF_RMSE)"
   ]
  },
  {
   "cell_type": "code",
   "execution_count": null,
   "metadata": {},
   "outputs": [],
   "source": []
  },
  {
   "cell_type": "code",
   "execution_count": null,
   "metadata": {},
   "outputs": [],
   "source": []
  },
  {
   "cell_type": "code",
   "execution_count": null,
   "metadata": {},
   "outputs": [],
   "source": []
  },
  {
   "cell_type": "code",
   "execution_count": null,
   "metadata": {},
   "outputs": [],
   "source": []
  },
  {
   "cell_type": "code",
   "execution_count": null,
   "metadata": {},
   "outputs": [],
   "source": []
  },
  {
   "cell_type": "code",
   "execution_count": null,
   "metadata": {},
   "outputs": [],
   "source": [
    "#genre and age"
   ]
  },
  {
   "cell_type": "code",
   "execution_count": null,
   "metadata": {},
   "outputs": [],
   "source": [
    "#regression modeling for genre & Age"
   ]
  },
  {
   "cell_type": "code",
   "execution_count": null,
   "metadata": {},
   "outputs": [],
   "source": [
    "#Linear Regression"
   ]
  },
  {
   "cell_type": "code",
   "execution_count": 117,
   "metadata": {},
   "outputs": [
    {
     "data": {
      "text/plain": [
       "Index(['id', 'title', 'description', 'runtime', 'production_countries',\n",
       "       'seasons', 'tmdb_popularity', 'tmdb_score', 'director', 'action',\n",
       "       'animation', 'comedy', 'crime', 'documentation', 'drama', 'european',\n",
       "       'family', 'fantasy', 'history', 'horror', 'music', 'reality', 'romance',\n",
       "       'scifi', 'sport', 'thriller', 'war', 'western', 'G', 'PG', 'PG-13', 'R',\n",
       "       'TV-14', 'TV-G', 'TV-MA', 'TV-PG', 'TV-Y', 'TV-Y7', 'TV-Y7-FV',\n",
       "       'unrated', 'MOVIE', 'SHOW', '1920', '1930', '1940', '1950', '1960',\n",
       "       '1970', '1980', '1990', '2000', '2010', '2020'],\n",
       "      dtype='object')"
      ]
     },
     "execution_count": 117,
     "metadata": {},
     "output_type": "execute_result"
    }
   ],
   "source": [
    "genre_age_mlr = normalized2\n",
    "genre_age_mlr.columns"
   ]
  },
  {
   "cell_type": "code",
   "execution_count": 118,
   "metadata": {
    "tags": []
   },
   "outputs": [],
   "source": [
    "#Divide the data set training and testing with a (70, 30) rule. \n",
    "\n",
    "from sklearn.model_selection import train_test_split\n",
    "\n",
    "x = genre_age_mlr[['action', 'animation', 'comedy', 'crime', 'documentation',\n",
    "       'drama', 'european', 'family', 'fantasy', 'history', 'horror', 'music',\n",
    "       'reality', 'romance', 'scifi', 'sport', 'thriller', 'war', 'western','G', 'PG', 'PG-13', 'R', 'TV-14',\n",
    "       'TV-G', 'TV-PG', 'TV-Y', 'TV-Y7','unrated']]\n",
    "\n",
    "\n",
    "y = genre_age_mlr.tmdb_popularity\n",
    "\n",
    "x_train, x_test, y_train, y_test = train_test_split(x, y ,test_size=0.30, random_state=50)"
   ]
  },
  {
   "cell_type": "code",
   "execution_count": 119,
   "metadata": {},
   "outputs": [],
   "source": [
    "RLR = LinearRegression().fit(x_train, y_train)\n",
    "RLR_ytrain_pred = RLR.predict(x_train)\n",
    "RLR_ytest_pred = RLR.predict(x_test)"
   ]
  },
  {
   "cell_type": "code",
   "execution_count": 120,
   "metadata": {},
   "outputs": [
    {
     "name": "stdout",
     "output_type": "stream",
     "text": [
      "RLR Training Dataset: \n",
      "\n"
     ]
    },
    {
     "data": {
      "text/html": [
       "<div>\n",
       "<style scoped>\n",
       "    .dataframe tbody tr th:only-of-type {\n",
       "        vertical-align: middle;\n",
       "    }\n",
       "\n",
       "    .dataframe tbody tr th {\n",
       "        vertical-align: top;\n",
       "    }\n",
       "\n",
       "    .dataframe thead th {\n",
       "        text-align: right;\n",
       "    }\n",
       "</style>\n",
       "<table border=\"1\" class=\"dataframe\">\n",
       "  <thead>\n",
       "    <tr style=\"text-align: right;\">\n",
       "      <th></th>\n",
       "      <th>ytrain</th>\n",
       "      <th>ytrainhat</th>\n",
       "    </tr>\n",
       "  </thead>\n",
       "  <tbody>\n",
       "    <tr>\n",
       "      <th>0</th>\n",
       "      <td>0.000805</td>\n",
       "      <td>0.014569</td>\n",
       "    </tr>\n",
       "    <tr>\n",
       "      <th>1</th>\n",
       "      <td>0.044321</td>\n",
       "      <td>0.024111</td>\n",
       "    </tr>\n",
       "    <tr>\n",
       "      <th>2</th>\n",
       "      <td>0.000755</td>\n",
       "      <td>0.007008</td>\n",
       "    </tr>\n",
       "    <tr>\n",
       "      <th>3</th>\n",
       "      <td>0.002020</td>\n",
       "      <td>0.009092</td>\n",
       "    </tr>\n",
       "    <tr>\n",
       "      <th>4</th>\n",
       "      <td>0.018750</td>\n",
       "      <td>0.021816</td>\n",
       "    </tr>\n",
       "  </tbody>\n",
       "</table>\n",
       "</div>"
      ],
      "text/plain": [
       "     ytrain  ytrainhat\n",
       "0  0.000805   0.014569\n",
       "1  0.044321   0.024111\n",
       "2  0.000755   0.007008\n",
       "3  0.002020   0.009092\n",
       "4  0.018750   0.021816"
      ]
     },
     "execution_count": 120,
     "metadata": {},
     "output_type": "execute_result"
    }
   ],
   "source": [
    "#view head of training dataset\n",
    "print('RLR Training Dataset: \\n')\n",
    "pd.DataFrame(list(zip(y_train, RLR_ytrain_pred)), columns=['ytrain','ytrainhat']).head(5)"
   ]
  },
  {
   "cell_type": "code",
   "execution_count": 121,
   "metadata": {},
   "outputs": [
    {
     "name": "stdout",
     "output_type": "stream",
     "text": [
      "RLR train vs test R^2: 0.122893 0.035718\n"
     ]
    }
   ],
   "source": [
    "#R-squared - % of variability explained in model\n",
    "\n",
    "import sklearn.metrics as metrics\n",
    "\n",
    "\n",
    "RLR_testr2_age_genre = metrics.r2_score(y_test, RLR_ytest_pred).round(6)\n",
    "RLR_trainr2_age_genre = metrics.r2_score(y_train, RLR_ytrain_pred).round(6)\n",
    "print(\"RLR train vs test R^2:\",RLR_trainr2_age_genre, RLR_testr2_age_genre)"
   ]
  },
  {
   "cell_type": "code",
   "execution_count": 122,
   "metadata": {},
   "outputs": [
    {
     "name": "stdout",
     "output_type": "stream",
     "text": [
      "RLR train vs test RMSE: 0.039078923678411516 0.026969226896938668\n"
     ]
    }
   ],
   "source": [
    "#RMSE - want lower\n",
    "\n",
    "from sklearn.metrics import mean_squared_error\n",
    "from math import sqrt\n",
    "\n",
    "rmse_test_age_genre = sqrt(mean_squared_error(y_test, RLR_ytest_pred))\n",
    "rmse_train_age_genre = sqrt(mean_squared_error(y_train, RLR_ytrain_pred))\n",
    "print(\"RLR train vs test RMSE:\",rmse_train_age_genre, rmse_test_age_genre)"
   ]
  },
  {
   "cell_type": "code",
   "execution_count": null,
   "metadata": {},
   "outputs": [],
   "source": []
  },
  {
   "cell_type": "code",
   "execution_count": 123,
   "metadata": {},
   "outputs": [],
   "source": [
    "#Regression Modeling for Rating"
   ]
  },
  {
   "cell_type": "code",
   "execution_count": null,
   "metadata": {},
   "outputs": [],
   "source": []
  },
  {
   "cell_type": "code",
   "execution_count": null,
   "metadata": {},
   "outputs": [],
   "source": []
  },
  {
   "cell_type": "code",
   "execution_count": null,
   "metadata": {},
   "outputs": [],
   "source": [
    "#recommender/predictor - can we determine if a new movie added to the platform will \n",
    "#be popular based on similar movies. Use discription, director and actors"
   ]
  },
  {
   "cell_type": "code",
   "execution_count": 124,
   "metadata": {},
   "outputs": [],
   "source": [
    "actors = credits[credits['role'] == 'ACTOR']"
   ]
  },
  {
   "cell_type": "code",
   "execution_count": 125,
   "metadata": {},
   "outputs": [
    {
     "data": {
      "text/html": [
       "<div>\n",
       "<style scoped>\n",
       "    .dataframe tbody tr th:only-of-type {\n",
       "        vertical-align: middle;\n",
       "    }\n",
       "\n",
       "    .dataframe tbody tr th {\n",
       "        vertical-align: top;\n",
       "    }\n",
       "\n",
       "    .dataframe thead th {\n",
       "        text-align: right;\n",
       "    }\n",
       "</style>\n",
       "<table border=\"1\" class=\"dataframe\">\n",
       "  <thead>\n",
       "    <tr style=\"text-align: right;\">\n",
       "      <th></th>\n",
       "      <th>person_id</th>\n",
       "      <th>id</th>\n",
       "      <th>name</th>\n",
       "      <th>character</th>\n",
       "      <th>role</th>\n",
       "    </tr>\n",
       "  </thead>\n",
       "  <tbody>\n",
       "    <tr>\n",
       "      <th>0</th>\n",
       "      <td>35549</td>\n",
       "      <td>tm89464</td>\n",
       "      <td>Maureen O'Hara</td>\n",
       "      <td>Doris Walker</td>\n",
       "      <td>ACTOR</td>\n",
       "    </tr>\n",
       "    <tr>\n",
       "      <th>1</th>\n",
       "      <td>57832</td>\n",
       "      <td>tm89464</td>\n",
       "      <td>John Payne</td>\n",
       "      <td>Fred Gailey</td>\n",
       "      <td>ACTOR</td>\n",
       "    </tr>\n",
       "    <tr>\n",
       "      <th>2</th>\n",
       "      <td>57833</td>\n",
       "      <td>tm89464</td>\n",
       "      <td>Edmund Gwenn</td>\n",
       "      <td>Kris Kringle</td>\n",
       "      <td>ACTOR</td>\n",
       "    </tr>\n",
       "    <tr>\n",
       "      <th>3</th>\n",
       "      <td>25096</td>\n",
       "      <td>tm89464</td>\n",
       "      <td>Natalie Wood</td>\n",
       "      <td>Susan Walker</td>\n",
       "      <td>ACTOR</td>\n",
       "    </tr>\n",
       "    <tr>\n",
       "      <th>4</th>\n",
       "      <td>27185</td>\n",
       "      <td>tm89464</td>\n",
       "      <td>Porter Hall</td>\n",
       "      <td>Granville Sawyer</td>\n",
       "      <td>ACTOR</td>\n",
       "    </tr>\n",
       "  </tbody>\n",
       "</table>\n",
       "</div>"
      ],
      "text/plain": [
       "   person_id       id            name         character   role\n",
       "0      35549  tm89464  Maureen O'Hara      Doris Walker  ACTOR\n",
       "1      57832  tm89464      John Payne       Fred Gailey  ACTOR\n",
       "2      57833  tm89464    Edmund Gwenn      Kris Kringle  ACTOR\n",
       "3      25096  tm89464    Natalie Wood      Susan Walker  ACTOR\n",
       "4      27185  tm89464     Porter Hall  Granville Sawyer  ACTOR"
      ]
     },
     "execution_count": 125,
     "metadata": {},
     "output_type": "execute_result"
    }
   ],
   "source": [
    "actors.head(5)"
   ]
  },
  {
   "cell_type": "code",
   "execution_count": 126,
   "metadata": {},
   "outputs": [
    {
     "data": {
      "text/html": [
       "<div>\n",
       "<style scoped>\n",
       "    .dataframe tbody tr th:only-of-type {\n",
       "        vertical-align: middle;\n",
       "    }\n",
       "\n",
       "    .dataframe tbody tr th {\n",
       "        vertical-align: top;\n",
       "    }\n",
       "\n",
       "    .dataframe thead th {\n",
       "        text-align: right;\n",
       "    }\n",
       "</style>\n",
       "<table border=\"1\" class=\"dataframe\">\n",
       "  <thead>\n",
       "    <tr style=\"text-align: right;\">\n",
       "      <th></th>\n",
       "      <th>id</th>\n",
       "      <th>name</th>\n",
       "    </tr>\n",
       "  </thead>\n",
       "  <tbody>\n",
       "    <tr>\n",
       "      <th>0</th>\n",
       "      <td>tm89464</td>\n",
       "      <td>Maureen O'Hara</td>\n",
       "    </tr>\n",
       "    <tr>\n",
       "      <th>1</th>\n",
       "      <td>tm89464</td>\n",
       "      <td>John Payne</td>\n",
       "    </tr>\n",
       "    <tr>\n",
       "      <th>2</th>\n",
       "      <td>tm89464</td>\n",
       "      <td>Edmund Gwenn</td>\n",
       "    </tr>\n",
       "    <tr>\n",
       "      <th>3</th>\n",
       "      <td>tm89464</td>\n",
       "      <td>Natalie Wood</td>\n",
       "    </tr>\n",
       "    <tr>\n",
       "      <th>4</th>\n",
       "      <td>tm89464</td>\n",
       "      <td>Porter Hall</td>\n",
       "    </tr>\n",
       "  </tbody>\n",
       "</table>\n",
       "</div>"
      ],
      "text/plain": [
       "        id            name\n",
       "0  tm89464  Maureen O'Hara\n",
       "1  tm89464      John Payne\n",
       "2  tm89464    Edmund Gwenn\n",
       "3  tm89464    Natalie Wood\n",
       "4  tm89464     Porter Hall"
      ]
     },
     "execution_count": 126,
     "metadata": {},
     "output_type": "execute_result"
    }
   ],
   "source": [
    "#take just id & name\n",
    "\n",
    "actors2 = actors[['id', 'name']]\n",
    "actors2.head()"
   ]
  },
  {
   "cell_type": "code",
   "execution_count": 127,
   "metadata": {},
   "outputs": [],
   "source": [
    "#create colume of all actors in each movie id\n",
    "\n",
    "actors3 = actors2.groupby('id').agg({'name':lambda x: list(x)})"
   ]
  },
  {
   "cell_type": "code",
   "execution_count": 128,
   "metadata": {},
   "outputs": [
    {
     "data": {
      "text/html": [
       "<div>\n",
       "<style scoped>\n",
       "    .dataframe tbody tr th:only-of-type {\n",
       "        vertical-align: middle;\n",
       "    }\n",
       "\n",
       "    .dataframe tbody tr th {\n",
       "        vertical-align: top;\n",
       "    }\n",
       "\n",
       "    .dataframe thead th {\n",
       "        text-align: right;\n",
       "    }\n",
       "</style>\n",
       "<table border=\"1\" class=\"dataframe\">\n",
       "  <thead>\n",
       "    <tr style=\"text-align: right;\">\n",
       "      <th></th>\n",
       "      <th>name</th>\n",
       "    </tr>\n",
       "    <tr>\n",
       "      <th>id</th>\n",
       "      <th></th>\n",
       "    </tr>\n",
       "  </thead>\n",
       "  <tbody>\n",
       "    <tr>\n",
       "      <th>tm1</th>\n",
       "      <td>[Mark Hamill, Harrison Ford, Carrie Fisher, Pe...</td>\n",
       "    </tr>\n",
       "    <tr>\n",
       "      <th>tm100013</th>\n",
       "      <td>[Kaitlyn Maher, Madison Pettis, Zachary Gordon...</td>\n",
       "    </tr>\n",
       "    <tr>\n",
       "      <th>tm1001876</th>\n",
       "      <td>[Corey Johnson, Donald Trump, Barack Obama, Ge...</td>\n",
       "    </tr>\n",
       "    <tr>\n",
       "      <th>tm1002567</th>\n",
       "      <td>[Chosen Jacobs, Lexi Underwood, Kolton Stewart...</td>\n",
       "    </tr>\n",
       "    <tr>\n",
       "      <th>tm1002614</th>\n",
       "      <td>[Steve French]</td>\n",
       "    </tr>\n",
       "  </tbody>\n",
       "</table>\n",
       "</div>"
      ],
      "text/plain": [
       "                                                        name\n",
       "id                                                          \n",
       "tm1        [Mark Hamill, Harrison Ford, Carrie Fisher, Pe...\n",
       "tm100013   [Kaitlyn Maher, Madison Pettis, Zachary Gordon...\n",
       "tm1001876  [Corey Johnson, Donald Trump, Barack Obama, Ge...\n",
       "tm1002567  [Chosen Jacobs, Lexi Underwood, Kolton Stewart...\n",
       "tm1002614                                     [Steve French]"
      ]
     },
     "execution_count": 128,
     "metadata": {},
     "output_type": "execute_result"
    }
   ],
   "source": [
    "actors3.head()"
   ]
  },
  {
   "cell_type": "code",
   "execution_count": 129,
   "metadata": {
    "tags": []
   },
   "outputs": [
    {
     "name": "stdout",
     "output_type": "stream",
     "text": [
      "actors shape: (29122, 5)\n",
      "actors shape: (29122, 2)\n",
      "actors shape: (1666, 1)\n"
     ]
    }
   ],
   "source": [
    "print('actors shape:',actors.shape)\n",
    "print('actors shape:',actors2.shape)\n",
    "print('actors shape:',actors3.shape)"
   ]
  },
  {
   "cell_type": "code",
   "execution_count": 130,
   "metadata": {},
   "outputs": [
    {
     "data": {
      "text/html": [
       "<div>\n",
       "<style scoped>\n",
       "    .dataframe tbody tr th:only-of-type {\n",
       "        vertical-align: middle;\n",
       "    }\n",
       "\n",
       "    .dataframe tbody tr th {\n",
       "        vertical-align: top;\n",
       "    }\n",
       "\n",
       "    .dataframe thead th {\n",
       "        text-align: right;\n",
       "    }\n",
       "</style>\n",
       "<table border=\"1\" class=\"dataframe\">\n",
       "  <thead>\n",
       "    <tr style=\"text-align: right;\">\n",
       "      <th></th>\n",
       "      <th>id</th>\n",
       "      <th>title</th>\n",
       "      <th>type</th>\n",
       "      <th>description</th>\n",
       "      <th>release_year</th>\n",
       "      <th>age_certification</th>\n",
       "      <th>runtime</th>\n",
       "      <th>genres</th>\n",
       "      <th>production_countries</th>\n",
       "      <th>seasons</th>\n",
       "      <th>tmdb_popularity</th>\n",
       "      <th>tmdb_score</th>\n",
       "      <th>director</th>\n",
       "      <th>name</th>\n",
       "    </tr>\n",
       "  </thead>\n",
       "  <tbody>\n",
       "    <tr>\n",
       "      <th>0</th>\n",
       "      <td>tm89464</td>\n",
       "      <td>Miracle on 34th Street</td>\n",
       "      <td>MOVIE</td>\n",
       "      <td>Kris Kringle, seemingly the embodiment of Sant...</td>\n",
       "      <td>1947</td>\n",
       "      <td>G</td>\n",
       "      <td>96</td>\n",
       "      <td>family,comedy,drama</td>\n",
       "      <td>['US']</td>\n",
       "      <td>0.0</td>\n",
       "      <td>23.515</td>\n",
       "      <td>7.388</td>\n",
       "      <td>[George Seaton]</td>\n",
       "      <td>[Maureen O'Hara, John Payne, Edmund Gwenn, Nat...</td>\n",
       "    </tr>\n",
       "    <tr>\n",
       "      <th>1</th>\n",
       "      <td>tm61729</td>\n",
       "      <td>The Adventures of Ichabod and Mr. Toad</td>\n",
       "      <td>MOVIE</td>\n",
       "      <td>The Wind in the Willows: Concise version of Ke...</td>\n",
       "      <td>1950</td>\n",
       "      <td>G</td>\n",
       "      <td>68</td>\n",
       "      <td>horror,fantasy,animation,family,comedy</td>\n",
       "      <td>['US']</td>\n",
       "      <td>0.0</td>\n",
       "      <td>16.194</td>\n",
       "      <td>6.500</td>\n",
       "      <td>[James Algar, Clyde Geronimi, Jack Kinney]</td>\n",
       "      <td>[Bing Crosby, Basil Rathbone, Eric Blore, J. P...</td>\n",
       "    </tr>\n",
       "    <tr>\n",
       "      <th>2</th>\n",
       "      <td>tm61052</td>\n",
       "      <td>Cinderella</td>\n",
       "      <td>MOVIE</td>\n",
       "      <td>Cinderella has faith her dreams of a better li...</td>\n",
       "      <td>1950</td>\n",
       "      <td>G</td>\n",
       "      <td>74</td>\n",
       "      <td>fantasy,animation,family,romance</td>\n",
       "      <td>['US']</td>\n",
       "      <td>0.0</td>\n",
       "      <td>93.547</td>\n",
       "      <td>7.035</td>\n",
       "      <td>[Wilfred Jackson, Hamilton Luske, Clyde Geronimi]</td>\n",
       "      <td>[Ilene Woods, Eleanor Audley, Verna Felton, Cl...</td>\n",
       "    </tr>\n",
       "  </tbody>\n",
       "</table>\n",
       "</div>"
      ],
      "text/plain": [
       "        id                                   title   type  \\\n",
       "0  tm89464                  Miracle on 34th Street  MOVIE   \n",
       "1  tm61729  The Adventures of Ichabod and Mr. Toad  MOVIE   \n",
       "2  tm61052                              Cinderella  MOVIE   \n",
       "\n",
       "                                         description  release_year  \\\n",
       "0  Kris Kringle, seemingly the embodiment of Sant...          1947   \n",
       "1  The Wind in the Willows: Concise version of Ke...          1950   \n",
       "2  Cinderella has faith her dreams of a better li...          1950   \n",
       "\n",
       "  age_certification  runtime                                  genres  \\\n",
       "0                 G       96                     family,comedy,drama   \n",
       "1                 G       68  horror,fantasy,animation,family,comedy   \n",
       "2                 G       74        fantasy,animation,family,romance   \n",
       "\n",
       "  production_countries  seasons  tmdb_popularity  tmdb_score  \\\n",
       "0               ['US']      0.0           23.515       7.388   \n",
       "1               ['US']      0.0           16.194       6.500   \n",
       "2               ['US']      0.0           93.547       7.035   \n",
       "\n",
       "                                            director  \\\n",
       "0                                    [George Seaton]   \n",
       "1         [James Algar, Clyde Geronimi, Jack Kinney]   \n",
       "2  [Wilfred Jackson, Hamilton Luske, Clyde Geronimi]   \n",
       "\n",
       "                                                name  \n",
       "0  [Maureen O'Hara, John Payne, Edmund Gwenn, Nat...  \n",
       "1  [Bing Crosby, Basil Rathbone, Eric Blore, J. P...  \n",
       "2  [Ilene Woods, Eleanor Audley, Verna Felton, Cl...  "
      ]
     },
     "execution_count": 130,
     "metadata": {},
     "output_type": "execute_result"
    }
   ],
   "source": [
    "#concatat with main dataframe\n",
    "\n",
    "actors_merged = pd.merge(merged, actors3, on = 'id')\n",
    "actors_merged.head(3)"
   ]
  },
  {
   "cell_type": "code",
   "execution_count": 131,
   "metadata": {},
   "outputs": [],
   "source": [
    "#rename \"name\" to \"actors\"\n",
    "actors_merged = actors_merged.rename(columns={'name': 'actors'})"
   ]
  },
  {
   "cell_type": "code",
   "execution_count": 132,
   "metadata": {},
   "outputs": [
    {
     "data": {
      "text/plain": [
       "id                       object\n",
       "title                    object\n",
       "type                     object\n",
       "description              object\n",
       "release_year              int64\n",
       "age_certification        object\n",
       "runtime                   int64\n",
       "genres                   object\n",
       "production_countries     object\n",
       "seasons                 float64\n",
       "tmdb_popularity         float64\n",
       "tmdb_score              float64\n",
       "director                 object\n",
       "actors                   object\n",
       "dtype: object"
      ]
     },
     "execution_count": 132,
     "metadata": {},
     "output_type": "execute_result"
    }
   ],
   "source": [
    "actors_merged.dtypes"
   ]
  },
  {
   "cell_type": "code",
   "execution_count": 133,
   "metadata": {},
   "outputs": [
    {
     "data": {
      "text/html": [
       "<div>\n",
       "<style scoped>\n",
       "    .dataframe tbody tr th:only-of-type {\n",
       "        vertical-align: middle;\n",
       "    }\n",
       "\n",
       "    .dataframe tbody tr th {\n",
       "        vertical-align: top;\n",
       "    }\n",
       "\n",
       "    .dataframe thead th {\n",
       "        text-align: right;\n",
       "    }\n",
       "</style>\n",
       "<table border=\"1\" class=\"dataframe\">\n",
       "  <thead>\n",
       "    <tr style=\"text-align: right;\">\n",
       "      <th></th>\n",
       "      <th>id</th>\n",
       "      <th>title</th>\n",
       "      <th>type</th>\n",
       "      <th>description</th>\n",
       "      <th>release_year</th>\n",
       "      <th>age_certification</th>\n",
       "      <th>runtime</th>\n",
       "      <th>genres</th>\n",
       "      <th>production_countries</th>\n",
       "      <th>seasons</th>\n",
       "      <th>tmdb_popularity</th>\n",
       "      <th>tmdb_score</th>\n",
       "      <th>director</th>\n",
       "      <th>actors</th>\n",
       "    </tr>\n",
       "  </thead>\n",
       "  <tbody>\n",
       "    <tr>\n",
       "      <th>0</th>\n",
       "      <td>tm89464</td>\n",
       "      <td>Miracle on 34th Street</td>\n",
       "      <td>MOVIE</td>\n",
       "      <td>Kris Kringle, seemingly the embodiment of Sant...</td>\n",
       "      <td>1947</td>\n",
       "      <td>G</td>\n",
       "      <td>96</td>\n",
       "      <td>family,comedy,drama</td>\n",
       "      <td>['US']</td>\n",
       "      <td>0.0</td>\n",
       "      <td>23.515</td>\n",
       "      <td>7.388</td>\n",
       "      <td>[George Seaton]</td>\n",
       "      <td>Maureen OHara, John Payne, Edmund Gwenn, Natal...</td>\n",
       "    </tr>\n",
       "    <tr>\n",
       "      <th>1</th>\n",
       "      <td>tm61729</td>\n",
       "      <td>The Adventures of Ichabod and Mr. Toad</td>\n",
       "      <td>MOVIE</td>\n",
       "      <td>The Wind in the Willows: Concise version of Ke...</td>\n",
       "      <td>1950</td>\n",
       "      <td>G</td>\n",
       "      <td>68</td>\n",
       "      <td>horror,fantasy,animation,family,comedy</td>\n",
       "      <td>['US']</td>\n",
       "      <td>0.0</td>\n",
       "      <td>16.194</td>\n",
       "      <td>6.500</td>\n",
       "      <td>[James Algar, Clyde Geronimi, Jack Kinney]</td>\n",
       "      <td>Bing Crosby, Basil Rathbone, Eric Blore, J. Pa...</td>\n",
       "    </tr>\n",
       "  </tbody>\n",
       "</table>\n",
       "</div>"
      ],
      "text/plain": [
       "        id                                   title   type  \\\n",
       "0  tm89464                  Miracle on 34th Street  MOVIE   \n",
       "1  tm61729  The Adventures of Ichabod and Mr. Toad  MOVIE   \n",
       "\n",
       "                                         description  release_year  \\\n",
       "0  Kris Kringle, seemingly the embodiment of Sant...          1947   \n",
       "1  The Wind in the Willows: Concise version of Ke...          1950   \n",
       "\n",
       "  age_certification  runtime                                  genres  \\\n",
       "0                 G       96                     family,comedy,drama   \n",
       "1                 G       68  horror,fantasy,animation,family,comedy   \n",
       "\n",
       "  production_countries  seasons  tmdb_popularity  tmdb_score  \\\n",
       "0               ['US']      0.0           23.515       7.388   \n",
       "1               ['US']      0.0           16.194       6.500   \n",
       "\n",
       "                                     director  \\\n",
       "0                             [George Seaton]   \n",
       "1  [James Algar, Clyde Geronimi, Jack Kinney]   \n",
       "\n",
       "                                              actors  \n",
       "0  Maureen OHara, John Payne, Edmund Gwenn, Natal...  \n",
       "1  Bing Crosby, Basil Rathbone, Eric Blore, J. Pa...  "
      ]
     },
     "execution_count": 133,
     "metadata": {},
     "output_type": "execute_result"
    }
   ],
   "source": [
    "#remove square brackets, commas and quotes from actors\n",
    "\n",
    "actors_merged['actors'] = pd.DataFrame([str(line).strip('[').strip(']') for line in actors_merged['actors']])\n",
    "actors_merged['actors'] = actors_merged['actors'].str.replace(r\"'\", r\"\")\n",
    "actors_merged['actors'] = actors_merged['actors'].str.replace(r'\"', r\"\")\n",
    "actors_merged.head(2)"
   ]
  },
  {
   "cell_type": "code",
   "execution_count": 134,
   "metadata": {},
   "outputs": [
    {
     "data": {
      "text/html": [
       "<div>\n",
       "<style scoped>\n",
       "    .dataframe tbody tr th:only-of-type {\n",
       "        vertical-align: middle;\n",
       "    }\n",
       "\n",
       "    .dataframe tbody tr th {\n",
       "        vertical-align: top;\n",
       "    }\n",
       "\n",
       "    .dataframe thead th {\n",
       "        text-align: right;\n",
       "    }\n",
       "</style>\n",
       "<table border=\"1\" class=\"dataframe\">\n",
       "  <thead>\n",
       "    <tr style=\"text-align: right;\">\n",
       "      <th></th>\n",
       "      <th>id</th>\n",
       "      <th>title</th>\n",
       "      <th>type</th>\n",
       "      <th>description</th>\n",
       "      <th>release_year</th>\n",
       "      <th>age_certification</th>\n",
       "      <th>runtime</th>\n",
       "      <th>genres</th>\n",
       "      <th>production_countries</th>\n",
       "      <th>seasons</th>\n",
       "      <th>tmdb_popularity</th>\n",
       "      <th>tmdb_score</th>\n",
       "      <th>director</th>\n",
       "      <th>actors</th>\n",
       "    </tr>\n",
       "  </thead>\n",
       "  <tbody>\n",
       "    <tr>\n",
       "      <th>0</th>\n",
       "      <td>tm89464</td>\n",
       "      <td>Miracle on 34th Street</td>\n",
       "      <td>MOVIE</td>\n",
       "      <td>Kris Kringle, seemingly the embodiment of Sant...</td>\n",
       "      <td>1947</td>\n",
       "      <td>G</td>\n",
       "      <td>96</td>\n",
       "      <td>family,comedy,drama</td>\n",
       "      <td>['US']</td>\n",
       "      <td>0.0</td>\n",
       "      <td>23.515</td>\n",
       "      <td>7.388</td>\n",
       "      <td>George Seaton</td>\n",
       "      <td>Maureen OHara, John Payne, Edmund Gwenn, Natal...</td>\n",
       "    </tr>\n",
       "    <tr>\n",
       "      <th>1</th>\n",
       "      <td>tm61729</td>\n",
       "      <td>The Adventures of Ichabod and Mr. Toad</td>\n",
       "      <td>MOVIE</td>\n",
       "      <td>The Wind in the Willows: Concise version of Ke...</td>\n",
       "      <td>1950</td>\n",
       "      <td>G</td>\n",
       "      <td>68</td>\n",
       "      <td>horror,fantasy,animation,family,comedy</td>\n",
       "      <td>['US']</td>\n",
       "      <td>0.0</td>\n",
       "      <td>16.194</td>\n",
       "      <td>6.500</td>\n",
       "      <td>James Algar, Clyde Geronimi, Jack Kinney</td>\n",
       "      <td>Bing Crosby, Basil Rathbone, Eric Blore, J. Pa...</td>\n",
       "    </tr>\n",
       "  </tbody>\n",
       "</table>\n",
       "</div>"
      ],
      "text/plain": [
       "        id                                   title   type  \\\n",
       "0  tm89464                  Miracle on 34th Street  MOVIE   \n",
       "1  tm61729  The Adventures of Ichabod and Mr. Toad  MOVIE   \n",
       "\n",
       "                                         description  release_year  \\\n",
       "0  Kris Kringle, seemingly the embodiment of Sant...          1947   \n",
       "1  The Wind in the Willows: Concise version of Ke...          1950   \n",
       "\n",
       "  age_certification  runtime                                  genres  \\\n",
       "0                 G       96                     family,comedy,drama   \n",
       "1                 G       68  horror,fantasy,animation,family,comedy   \n",
       "\n",
       "  production_countries  seasons  tmdb_popularity  tmdb_score  \\\n",
       "0               ['US']      0.0           23.515       7.388   \n",
       "1               ['US']      0.0           16.194       6.500   \n",
       "\n",
       "                                   director  \\\n",
       "0                             George Seaton   \n",
       "1  James Algar, Clyde Geronimi, Jack Kinney   \n",
       "\n",
       "                                              actors  \n",
       "0  Maureen OHara, John Payne, Edmund Gwenn, Natal...  \n",
       "1  Bing Crosby, Basil Rathbone, Eric Blore, J. Pa...  "
      ]
     },
     "execution_count": 134,
     "metadata": {},
     "output_type": "execute_result"
    }
   ],
   "source": [
    "#remove square brackets, commas and quotes from director\n",
    "\n",
    "actors_merged['director'] = pd.DataFrame([str(line).strip('[').strip(']') for line in actors_merged['director']])\n",
    "actors_merged['director'] = actors_merged['director'].str.replace(r\"'\", r\"\")\n",
    "actors_merged['director'] = actors_merged['director'].str.replace(r'\"', r\"\")\n",
    "actors_merged.head(2)"
   ]
  },
  {
   "cell_type": "code",
   "execution_count": 135,
   "metadata": {},
   "outputs": [
    {
     "data": {
      "text/plain": [
       "id                       0\n",
       "title                    0\n",
       "type                     0\n",
       "description              1\n",
       "release_year             0\n",
       "age_certification        0\n",
       "runtime                  0\n",
       "genres                   0\n",
       "production_countries     0\n",
       "seasons                  0\n",
       "tmdb_popularity          0\n",
       "tmdb_score              89\n",
       "director                 0\n",
       "actors                   0\n",
       "dtype: int64"
      ]
     },
     "execution_count": 135,
     "metadata": {},
     "output_type": "execute_result"
    }
   ],
   "source": [
    "#look for na\n",
    "actors_merged.isna().sum()"
   ]
  },
  {
   "cell_type": "code",
   "execution_count": 136,
   "metadata": {},
   "outputs": [
    {
     "data": {
      "text/html": [
       "<div>\n",
       "<style scoped>\n",
       "    .dataframe tbody tr th:only-of-type {\n",
       "        vertical-align: middle;\n",
       "    }\n",
       "\n",
       "    .dataframe tbody tr th {\n",
       "        vertical-align: top;\n",
       "    }\n",
       "\n",
       "    .dataframe thead th {\n",
       "        text-align: right;\n",
       "    }\n",
       "</style>\n",
       "<table border=\"1\" class=\"dataframe\">\n",
       "  <thead>\n",
       "    <tr style=\"text-align: right;\">\n",
       "      <th></th>\n",
       "      <th>id</th>\n",
       "      <th>title</th>\n",
       "      <th>type</th>\n",
       "      <th>description</th>\n",
       "      <th>release_year</th>\n",
       "      <th>age_certification</th>\n",
       "      <th>runtime</th>\n",
       "      <th>genres</th>\n",
       "      <th>production_countries</th>\n",
       "      <th>seasons</th>\n",
       "      <th>tmdb_popularity</th>\n",
       "      <th>tmdb_score</th>\n",
       "      <th>director</th>\n",
       "      <th>actors</th>\n",
       "    </tr>\n",
       "  </thead>\n",
       "  <tbody>\n",
       "    <tr>\n",
       "      <th>0</th>\n",
       "      <td>tm89464</td>\n",
       "      <td>Miracle on 34th Street</td>\n",
       "      <td>MOVIE</td>\n",
       "      <td>Kris Kringle, seemingly the embodiment of Sant...</td>\n",
       "      <td>1947</td>\n",
       "      <td>G</td>\n",
       "      <td>96</td>\n",
       "      <td>family,comedy,drama</td>\n",
       "      <td>['US']</td>\n",
       "      <td>0.0</td>\n",
       "      <td>23.515</td>\n",
       "      <td>7.388</td>\n",
       "      <td>George Seaton</td>\n",
       "      <td>Maureen OHara, John Payne, Edmund Gwenn, Natal...</td>\n",
       "    </tr>\n",
       "    <tr>\n",
       "      <th>1</th>\n",
       "      <td>tm61729</td>\n",
       "      <td>The Adventures of Ichabod and Mr. Toad</td>\n",
       "      <td>MOVIE</td>\n",
       "      <td>The Wind in the Willows: Concise version of Ke...</td>\n",
       "      <td>1950</td>\n",
       "      <td>G</td>\n",
       "      <td>68</td>\n",
       "      <td>horror,fantasy,animation,family,comedy</td>\n",
       "      <td>['US']</td>\n",
       "      <td>0.0</td>\n",
       "      <td>16.194</td>\n",
       "      <td>6.500</td>\n",
       "      <td>James Algar, Clyde Geronimi, Jack Kinney</td>\n",
       "      <td>Bing Crosby, Basil Rathbone, Eric Blore, J. Pa...</td>\n",
       "    </tr>\n",
       "  </tbody>\n",
       "</table>\n",
       "</div>"
      ],
      "text/plain": [
       "        id                                   title   type  \\\n",
       "0  tm89464                  Miracle on 34th Street  MOVIE   \n",
       "1  tm61729  The Adventures of Ichabod and Mr. Toad  MOVIE   \n",
       "\n",
       "                                         description  release_year  \\\n",
       "0  Kris Kringle, seemingly the embodiment of Sant...          1947   \n",
       "1  The Wind in the Willows: Concise version of Ke...          1950   \n",
       "\n",
       "  age_certification  runtime                                  genres  \\\n",
       "0                 G       96                     family,comedy,drama   \n",
       "1                 G       68  horror,fantasy,animation,family,comedy   \n",
       "\n",
       "  production_countries  seasons  tmdb_popularity  tmdb_score  \\\n",
       "0               ['US']      0.0           23.515       7.388   \n",
       "1               ['US']      0.0           16.194       6.500   \n",
       "\n",
       "                                   director  \\\n",
       "0                             George Seaton   \n",
       "1  James Algar, Clyde Geronimi, Jack Kinney   \n",
       "\n",
       "                                              actors  \n",
       "0  Maureen OHara, John Payne, Edmund Gwenn, Natal...  \n",
       "1  Bing Crosby, Basil Rathbone, Eric Blore, J. Pa...  "
      ]
     },
     "execution_count": 136,
     "metadata": {},
     "output_type": "execute_result"
    }
   ],
   "source": [
    "#drop NA for tmdb score - drop whole row\n",
    "\n",
    "actors_df = actors_merged.dropna(subset = ['tmdb_score'])\n",
    "actors_df.head(2)"
   ]
  },
  {
   "cell_type": "code",
   "execution_count": 137,
   "metadata": {},
   "outputs": [
    {
     "data": {
      "text/plain": [
       "True"
      ]
     },
     "execution_count": 137,
     "metadata": {},
     "output_type": "execute_result"
    }
   ],
   "source": [
    "#verify all id are unique\n",
    "actors_df['id'].is_unique"
   ]
  },
  {
   "cell_type": "code",
   "execution_count": 138,
   "metadata": {},
   "outputs": [],
   "source": [
    "#Create Recommendation System Based on Movie User LIkes in Database"
   ]
  },
  {
   "cell_type": "code",
   "execution_count": 139,
   "metadata": {},
   "outputs": [],
   "source": [
    "#create combined field that has genre, director, actors, and description"
   ]
  },
  {
   "cell_type": "code",
   "execution_count": 140,
   "metadata": {
    "tags": []
   },
   "outputs": [],
   "source": [
    "recommend_user=actors_df"
   ]
  },
  {
   "cell_type": "code",
   "execution_count": 141,
   "metadata": {},
   "outputs": [
    {
     "name": "stderr",
     "output_type": "stream",
     "text": [
      "/var/folders/f2/stt9zllj1j9_yljvzr6gpdv80000gn/T/ipykernel_7554/202918191.py:4: SettingWithCopyWarning: \n",
      "A value is trying to be set on a copy of a slice from a DataFrame.\n",
      "Try using .loc[row_indexer,col_indexer] = value instead\n",
      "\n",
      "See the caveats in the documentation: https://pandas.pydata.org/pandas-docs/stable/user_guide/indexing.html#returning-a-view-versus-a-copy\n",
      "  recommend_user[\"combined\"] = recommend_user.apply(combined, axis =1)\n"
     ]
    }
   ],
   "source": [
    "def combined(row):\n",
    "    return row['genres']+\" \"+row['description']+\" \"+row['director']+\" \"+row['actors']\n",
    "\n",
    "recommend_user[\"combined\"] = recommend_user.apply(combined, axis =1)"
   ]
  },
  {
   "cell_type": "code",
   "execution_count": 142,
   "metadata": {},
   "outputs": [
    {
     "data": {
      "text/html": [
       "<div>\n",
       "<style scoped>\n",
       "    .dataframe tbody tr th:only-of-type {\n",
       "        vertical-align: middle;\n",
       "    }\n",
       "\n",
       "    .dataframe tbody tr th {\n",
       "        vertical-align: top;\n",
       "    }\n",
       "\n",
       "    .dataframe thead th {\n",
       "        text-align: right;\n",
       "    }\n",
       "</style>\n",
       "<table border=\"1\" class=\"dataframe\">\n",
       "  <thead>\n",
       "    <tr style=\"text-align: right;\">\n",
       "      <th></th>\n",
       "      <th>id</th>\n",
       "      <th>title</th>\n",
       "      <th>type</th>\n",
       "      <th>description</th>\n",
       "      <th>release_year</th>\n",
       "      <th>age_certification</th>\n",
       "      <th>runtime</th>\n",
       "      <th>genres</th>\n",
       "      <th>production_countries</th>\n",
       "      <th>seasons</th>\n",
       "      <th>tmdb_popularity</th>\n",
       "      <th>tmdb_score</th>\n",
       "      <th>director</th>\n",
       "      <th>actors</th>\n",
       "      <th>combined</th>\n",
       "    </tr>\n",
       "  </thead>\n",
       "  <tbody>\n",
       "    <tr>\n",
       "      <th>0</th>\n",
       "      <td>tm89464</td>\n",
       "      <td>Miracle on 34th Street</td>\n",
       "      <td>MOVIE</td>\n",
       "      <td>Kris Kringle, seemingly the embodiment of Sant...</td>\n",
       "      <td>1947</td>\n",
       "      <td>G</td>\n",
       "      <td>96</td>\n",
       "      <td>family,comedy,drama</td>\n",
       "      <td>['US']</td>\n",
       "      <td>0.0</td>\n",
       "      <td>23.515</td>\n",
       "      <td>7.388</td>\n",
       "      <td>George Seaton</td>\n",
       "      <td>Maureen OHara, John Payne, Edmund Gwenn, Natal...</td>\n",
       "      <td>family,comedy,drama Kris Kringle, seemingly th...</td>\n",
       "    </tr>\n",
       "    <tr>\n",
       "      <th>1</th>\n",
       "      <td>tm61729</td>\n",
       "      <td>The Adventures of Ichabod and Mr. Toad</td>\n",
       "      <td>MOVIE</td>\n",
       "      <td>The Wind in the Willows: Concise version of Ke...</td>\n",
       "      <td>1950</td>\n",
       "      <td>G</td>\n",
       "      <td>68</td>\n",
       "      <td>horror,fantasy,animation,family,comedy</td>\n",
       "      <td>['US']</td>\n",
       "      <td>0.0</td>\n",
       "      <td>16.194</td>\n",
       "      <td>6.500</td>\n",
       "      <td>James Algar, Clyde Geronimi, Jack Kinney</td>\n",
       "      <td>Bing Crosby, Basil Rathbone, Eric Blore, J. Pa...</td>\n",
       "      <td>horror,fantasy,animation,family,comedy The Win...</td>\n",
       "    </tr>\n",
       "  </tbody>\n",
       "</table>\n",
       "</div>"
      ],
      "text/plain": [
       "        id                                   title   type  \\\n",
       "0  tm89464                  Miracle on 34th Street  MOVIE   \n",
       "1  tm61729  The Adventures of Ichabod and Mr. Toad  MOVIE   \n",
       "\n",
       "                                         description  release_year  \\\n",
       "0  Kris Kringle, seemingly the embodiment of Sant...          1947   \n",
       "1  The Wind in the Willows: Concise version of Ke...          1950   \n",
       "\n",
       "  age_certification  runtime                                  genres  \\\n",
       "0                 G       96                     family,comedy,drama   \n",
       "1                 G       68  horror,fantasy,animation,family,comedy   \n",
       "\n",
       "  production_countries  seasons  tmdb_popularity  tmdb_score  \\\n",
       "0               ['US']      0.0           23.515       7.388   \n",
       "1               ['US']      0.0           16.194       6.500   \n",
       "\n",
       "                                   director  \\\n",
       "0                             George Seaton   \n",
       "1  James Algar, Clyde Geronimi, Jack Kinney   \n",
       "\n",
       "                                              actors  \\\n",
       "0  Maureen OHara, John Payne, Edmund Gwenn, Natal...   \n",
       "1  Bing Crosby, Basil Rathbone, Eric Blore, J. Pa...   \n",
       "\n",
       "                                            combined  \n",
       "0  family,comedy,drama Kris Kringle, seemingly th...  \n",
       "1  horror,fantasy,animation,family,comedy The Win...  "
      ]
     },
     "execution_count": 142,
     "metadata": {},
     "output_type": "execute_result"
    }
   ],
   "source": [
    "#view\n",
    "recommend_user.head(2)"
   ]
  },
  {
   "cell_type": "code",
   "execution_count": 143,
   "metadata": {},
   "outputs": [
    {
     "name": "stderr",
     "output_type": "stream",
     "text": [
      "/var/folders/f2/stt9zllj1j9_yljvzr6gpdv80000gn/T/ipykernel_7554/3876750943.py:2: SettingWithCopyWarning: \n",
      "A value is trying to be set on a copy of a slice from a DataFrame.\n",
      "Try using .loc[row_indexer,col_indexer] = value instead\n",
      "\n",
      "See the caveats in the documentation: https://pandas.pydata.org/pandas-docs/stable/user_guide/indexing.html#returning-a-view-versus-a-copy\n",
      "  recommend_user['combined'] = recommend_user['combined'].fillna('')\n"
     ]
    }
   ],
   "source": [
    "#to prevent errors later\n",
    "recommend_user['combined'] = recommend_user['combined'].fillna('')"
   ]
  },
  {
   "cell_type": "code",
   "execution_count": 144,
   "metadata": {},
   "outputs": [],
   "source": [
    "recommend_user = recommend_user.reset_index()"
   ]
  },
  {
   "cell_type": "code",
   "execution_count": 145,
   "metadata": {},
   "outputs": [],
   "source": [
    "#reduce data frame to columns wanted\n",
    "\n",
    "recommender_df = recommend_user[['id', 'title', 'description', 'genres', 'tmdb_popularity', \n",
    "                                'tmdb_score', 'director', 'actors', 'combined']]"
   ]
  },
  {
   "cell_type": "code",
   "execution_count": 146,
   "metadata": {},
   "outputs": [
    {
     "data": {
      "text/html": [
       "<div>\n",
       "<style scoped>\n",
       "    .dataframe tbody tr th:only-of-type {\n",
       "        vertical-align: middle;\n",
       "    }\n",
       "\n",
       "    .dataframe tbody tr th {\n",
       "        vertical-align: top;\n",
       "    }\n",
       "\n",
       "    .dataframe thead th {\n",
       "        text-align: right;\n",
       "    }\n",
       "</style>\n",
       "<table border=\"1\" class=\"dataframe\">\n",
       "  <thead>\n",
       "    <tr style=\"text-align: right;\">\n",
       "      <th></th>\n",
       "      <th>id</th>\n",
       "      <th>title</th>\n",
       "      <th>description</th>\n",
       "      <th>genres</th>\n",
       "      <th>tmdb_popularity</th>\n",
       "      <th>tmdb_score</th>\n",
       "      <th>director</th>\n",
       "      <th>actors</th>\n",
       "      <th>combined</th>\n",
       "    </tr>\n",
       "  </thead>\n",
       "  <tbody>\n",
       "    <tr>\n",
       "      <th>0</th>\n",
       "      <td>tm89464</td>\n",
       "      <td>Miracle on 34th Street</td>\n",
       "      <td>Kris Kringle, seemingly the embodiment of Sant...</td>\n",
       "      <td>family,comedy,drama</td>\n",
       "      <td>23.515</td>\n",
       "      <td>7.388</td>\n",
       "      <td>George Seaton</td>\n",
       "      <td>Maureen OHara, John Payne, Edmund Gwenn, Natal...</td>\n",
       "      <td>family,comedy,drama Kris Kringle, seemingly th...</td>\n",
       "    </tr>\n",
       "    <tr>\n",
       "      <th>1</th>\n",
       "      <td>tm61729</td>\n",
       "      <td>The Adventures of Ichabod and Mr. Toad</td>\n",
       "      <td>The Wind in the Willows: Concise version of Ke...</td>\n",
       "      <td>horror,fantasy,animation,family,comedy</td>\n",
       "      <td>16.194</td>\n",
       "      <td>6.500</td>\n",
       "      <td>James Algar, Clyde Geronimi, Jack Kinney</td>\n",
       "      <td>Bing Crosby, Basil Rathbone, Eric Blore, J. Pa...</td>\n",
       "      <td>horror,fantasy,animation,family,comedy The Win...</td>\n",
       "    </tr>\n",
       "  </tbody>\n",
       "</table>\n",
       "</div>"
      ],
      "text/plain": [
       "        id                                   title  \\\n",
       "0  tm89464                  Miracle on 34th Street   \n",
       "1  tm61729  The Adventures of Ichabod and Mr. Toad   \n",
       "\n",
       "                                         description  \\\n",
       "0  Kris Kringle, seemingly the embodiment of Sant...   \n",
       "1  The Wind in the Willows: Concise version of Ke...   \n",
       "\n",
       "                                   genres  tmdb_popularity  tmdb_score  \\\n",
       "0                     family,comedy,drama           23.515       7.388   \n",
       "1  horror,fantasy,animation,family,comedy           16.194       6.500   \n",
       "\n",
       "                                   director  \\\n",
       "0                             George Seaton   \n",
       "1  James Algar, Clyde Geronimi, Jack Kinney   \n",
       "\n",
       "                                              actors  \\\n",
       "0  Maureen OHara, John Payne, Edmund Gwenn, Natal...   \n",
       "1  Bing Crosby, Basil Rathbone, Eric Blore, J. Pa...   \n",
       "\n",
       "                                            combined  \n",
       "0  family,comedy,drama Kris Kringle, seemingly th...  \n",
       "1  horror,fantasy,animation,family,comedy The Win...  "
      ]
     },
     "execution_count": 146,
     "metadata": {},
     "output_type": "execute_result"
    }
   ],
   "source": [
    "recommender_df.head(2)"
   ]
  },
  {
   "cell_type": "code",
   "execution_count": 147,
   "metadata": {},
   "outputs": [],
   "source": [
    "recommend_df = recommend_user.reset_index()"
   ]
  },
  {
   "cell_type": "code",
   "execution_count": 148,
   "metadata": {},
   "outputs": [],
   "source": [
    "from sklearn.feature_extraction.text import CountVectorizer\n",
    "from sklearn.metrics.pairwise import cosine_similarity"
   ]
  },
  {
   "cell_type": "code",
   "execution_count": 149,
   "metadata": {},
   "outputs": [
    {
     "name": "stdout",
     "output_type": "stream",
     "text": [
      "Count Matrix: [[0 0 0 ... 0 0 0]\n",
      " [0 0 0 ... 0 0 0]\n",
      " [0 0 0 ... 0 0 0]\n",
      " ...\n",
      " [0 0 0 ... 0 0 0]\n",
      " [0 0 0 ... 0 0 0]\n",
      " [0 0 0 ... 0 0 0]]\n"
     ]
    }
   ],
   "source": [
    "cv = CountVectorizer()\n",
    "count_matrix = cv.fit_transform(recommender_df[\"combined\"])\n",
    "print(\"Count Matrix:\", count_matrix.toarray())"
   ]
  },
  {
   "cell_type": "code",
   "execution_count": 150,
   "metadata": {
    "tags": []
   },
   "outputs": [],
   "source": [
    "cosine_sim = cosine_similarity(count_matrix)"
   ]
  },
  {
   "cell_type": "code",
   "execution_count": 151,
   "metadata": {},
   "outputs": [
    {
     "data": {
      "text/plain": [
       "array([[1.        , 0.25848492, 0.18166533, ..., 0.12095432, 0.08303653,\n",
       "        0.21437323],\n",
       "       [0.25848492, 1.        , 0.38374191, ..., 0.35259825, 0.29266638,\n",
       "        0.45530397],\n",
       "       [0.18166533, 0.38374191, 1.        , ..., 0.29053463, 0.21192132,\n",
       "        0.28688882],\n",
       "       ...,\n",
       "       [0.12095432, 0.35259825, 0.29053463, ..., 1.        , 0.15818713,\n",
       "        0.26966544],\n",
       "       [0.08303653, 0.29266638, 0.21192132, ..., 0.15818713, 1.        ,\n",
       "        0.22696032],\n",
       "       [0.21437323, 0.45530397, 0.28688882, ..., 0.26966544, 0.22696032,\n",
       "        1.        ]])"
      ]
     },
     "execution_count": 151,
     "metadata": {},
     "output_type": "execute_result"
    }
   ],
   "source": [
    "cosine_sim"
   ]
  },
  {
   "cell_type": "code",
   "execution_count": 152,
   "metadata": {},
   "outputs": [],
   "source": [
    "movie_user_likes = \"Toy Story\""
   ]
  },
  {
   "cell_type": "code",
   "execution_count": 153,
   "metadata": {},
   "outputs": [],
   "source": [
    "#function for titles - only works for movies in df - how to make work for other - would need\n",
    "#to add row to df\n",
    "def get_index_from_title(title):\n",
    "    return recommend_df[recommend_df.title == title]['index'].values[0]\n"
   ]
  },
  {
   "cell_type": "code",
   "execution_count": 154,
   "metadata": {},
   "outputs": [],
   "source": [
    "movie_index = get_index_from_title(movie_user_likes)\n",
    "similar_movies = list(enumerate(cosine_sim[movie_index]))\n",
    "sorted_similar_movies = sorted(similar_movies, key=lambda x:x[1], reverse=True)"
   ]
  },
  {
   "cell_type": "code",
   "execution_count": 155,
   "metadata": {},
   "outputs": [],
   "source": [
    "movie_index = get_index_from_title(movie_user_likes)"
   ]
  },
  {
   "cell_type": "code",
   "execution_count": 156,
   "metadata": {
    "tags": []
   },
   "outputs": [],
   "source": [
    "similar_movies = list(enumerate(cosine_sim[movie_index]))"
   ]
  },
  {
   "cell_type": "code",
   "execution_count": 157,
   "metadata": {},
   "outputs": [],
   "source": [
    "sorted_similar_movies = sorted(similar_movies, key=lambda x:x[1], reverse=True)"
   ]
  },
  {
   "cell_type": "code",
   "execution_count": 158,
   "metadata": {},
   "outputs": [],
   "source": [
    "#get 10 most similar titles\n",
    "\n",
    "def get_title_from_index(index):\n",
    "    return recommend_df[recommend_df.index == index][\"title\"].values[0]\n",
    "\n",
    "i=0\n",
    "similar_movie =[] \n",
    "\n",
    "for movie in sorted_similar_movies:\n",
    "    movie = get_title_from_index(movie[0])\n",
    "    similar_movie.append(movie)\n",
    "    i=i+1\n",
    "    if i>10:\n",
    "        break"
   ]
  },
  {
   "cell_type": "code",
   "execution_count": 159,
   "metadata": {},
   "outputs": [],
   "source": [
    "#get 10 most similar id\n",
    "\n",
    "def get_id_from_index(index):\n",
    "    return recommend_df[recommend_df.index == index][\"id\"].values[0]     \n",
    "i=0\n",
    "similar_id =[] \n",
    "for movie in sorted_similar_movies:\n",
    "    movie_id = get_id_from_index(movie[0])\n",
    "    similar_id.append(movie_id)\n",
    "    #print(get_title_from_index(movie[0]))\n",
    "    i=i+1\n",
    "    if i>10:\n",
    "        break"
   ]
  },
  {
   "cell_type": "code",
   "execution_count": 160,
   "metadata": {},
   "outputs": [
    {
     "name": "stdout",
     "output_type": "stream",
     "text": [
      "11\n",
      "11\n"
     ]
    }
   ],
   "source": [
    "#verify length\n",
    "print(len(similar_movie))\n",
    "print(len(similar_id))"
   ]
  },
  {
   "cell_type": "code",
   "execution_count": 161,
   "metadata": {},
   "outputs": [],
   "source": [
    "similar_df = pd.DataFrame(\n",
    "    {'id': similar_id,\n",
    "     'movie': similar_movie\n",
    "    })"
   ]
  },
  {
   "cell_type": "code",
   "execution_count": 162,
   "metadata": {},
   "outputs": [],
   "source": [
    "#put into dataframe and pull in score and rating"
   ]
  },
  {
   "cell_type": "code",
   "execution_count": 163,
   "metadata": {},
   "outputs": [
    {
     "name": "stdout",
     "output_type": "stream",
     "text": [
      "Ten recommended movies/shows based on what user likes with popularity and score:\n",
      "\n"
     ]
    },
    {
     "data": {
      "text/html": [
       "<div>\n",
       "<style scoped>\n",
       "    .dataframe tbody tr th:only-of-type {\n",
       "        vertical-align: middle;\n",
       "    }\n",
       "\n",
       "    .dataframe tbody tr th {\n",
       "        vertical-align: top;\n",
       "    }\n",
       "\n",
       "    .dataframe thead th {\n",
       "        text-align: right;\n",
       "    }\n",
       "</style>\n",
       "<table border=\"1\" class=\"dataframe\">\n",
       "  <thead>\n",
       "    <tr style=\"text-align: right;\">\n",
       "      <th></th>\n",
       "      <th>id</th>\n",
       "      <th>movie</th>\n",
       "      <th>tmdb_popularity</th>\n",
       "      <th>tmdb_score</th>\n",
       "    </tr>\n",
       "  </thead>\n",
       "  <tbody>\n",
       "    <tr>\n",
       "      <th>0</th>\n",
       "      <td>tm14765</td>\n",
       "      <td>Toy Story</td>\n",
       "      <td>118.084</td>\n",
       "      <td>7.966</td>\n",
       "    </tr>\n",
       "    <tr>\n",
       "      <th>1</th>\n",
       "      <td>tm40070</td>\n",
       "      <td>Toy Story 2</td>\n",
       "      <td>95.388</td>\n",
       "      <td>7.583</td>\n",
       "    </tr>\n",
       "    <tr>\n",
       "      <th>2</th>\n",
       "      <td>tm101226</td>\n",
       "      <td>Toy Story 3</td>\n",
       "      <td>75.159</td>\n",
       "      <td>7.800</td>\n",
       "    </tr>\n",
       "    <tr>\n",
       "      <th>3</th>\n",
       "      <td>tm84279</td>\n",
       "      <td>The Pixar Story</td>\n",
       "      <td>8.330</td>\n",
       "      <td>7.600</td>\n",
       "    </tr>\n",
       "    <tr>\n",
       "      <th>4</th>\n",
       "      <td>tm62982</td>\n",
       "      <td>A Bug's Life</td>\n",
       "      <td>69.991</td>\n",
       "      <td>6.964</td>\n",
       "    </tr>\n",
       "    <tr>\n",
       "      <th>5</th>\n",
       "      <td>tm11948</td>\n",
       "      <td>Toy Story 4</td>\n",
       "      <td>72.285</td>\n",
       "      <td>7.500</td>\n",
       "    </tr>\n",
       "    <tr>\n",
       "      <th>6</th>\n",
       "      <td>tm1216953</td>\n",
       "      <td>Beyond Infinity: Buzz and the Journey to Light...</td>\n",
       "      <td>29.080</td>\n",
       "      <td>7.100</td>\n",
       "    </tr>\n",
       "    <tr>\n",
       "      <th>7</th>\n",
       "      <td>tm171776</td>\n",
       "      <td>Cars 2</td>\n",
       "      <td>109.501</td>\n",
       "      <td>6.047</td>\n",
       "    </tr>\n",
       "    <tr>\n",
       "      <th>8</th>\n",
       "      <td>tm37560</td>\n",
       "      <td>Monsters, Inc.</td>\n",
       "      <td>133.758</td>\n",
       "      <td>7.827</td>\n",
       "    </tr>\n",
       "    <tr>\n",
       "      <th>9</th>\n",
       "      <td>tm31341</td>\n",
       "      <td>Cars</td>\n",
       "      <td>70.655</td>\n",
       "      <td>6.907</td>\n",
       "    </tr>\n",
       "  </tbody>\n",
       "</table>\n",
       "</div>"
      ],
      "text/plain": [
       "          id                                              movie  \\\n",
       "0    tm14765                                          Toy Story   \n",
       "1    tm40070                                        Toy Story 2   \n",
       "2   tm101226                                        Toy Story 3   \n",
       "3    tm84279                                    The Pixar Story   \n",
       "4    tm62982                                       A Bug's Life   \n",
       "5    tm11948                                        Toy Story 4   \n",
       "6  tm1216953  Beyond Infinity: Buzz and the Journey to Light...   \n",
       "7   tm171776                                             Cars 2   \n",
       "8    tm37560                                     Monsters, Inc.   \n",
       "9    tm31341                                               Cars   \n",
       "\n",
       "   tmdb_popularity  tmdb_score  \n",
       "0          118.084       7.966  \n",
       "1           95.388       7.583  \n",
       "2           75.159       7.800  \n",
       "3            8.330       7.600  \n",
       "4           69.991       6.964  \n",
       "5           72.285       7.500  \n",
       "6           29.080       7.100  \n",
       "7          109.501       6.047  \n",
       "8          133.758       7.827  \n",
       "9           70.655       6.907  "
      ]
     },
     "execution_count": 163,
     "metadata": {},
     "output_type": "execute_result"
    }
   ],
   "source": [
    "combine = pd.merge(similar_df, recommend_df, on=\"id\")\n",
    "final_sim = combine[['id','movie','tmdb_popularity', 'tmdb_score']]\n",
    "print(\"Ten recommended movies/shows based on what user likes with popularity and score:\\n\")\n",
    "final_sim.head(10)"
   ]
  },
  {
   "cell_type": "code",
   "execution_count": 164,
   "metadata": {},
   "outputs": [
    {
     "data": {
      "text/html": [
       "<div>\n",
       "<style scoped>\n",
       "    .dataframe tbody tr th:only-of-type {\n",
       "        vertical-align: middle;\n",
       "    }\n",
       "\n",
       "    .dataframe tbody tr th {\n",
       "        vertical-align: top;\n",
       "    }\n",
       "\n",
       "    .dataframe thead th {\n",
       "        text-align: right;\n",
       "    }\n",
       "</style>\n",
       "<table border=\"1\" class=\"dataframe\">\n",
       "  <thead>\n",
       "    <tr style=\"text-align: right;\">\n",
       "      <th></th>\n",
       "      <th>id</th>\n",
       "      <th>title</th>\n",
       "      <th>description</th>\n",
       "      <th>genres</th>\n",
       "      <th>tmdb_popularity</th>\n",
       "      <th>tmdb_score</th>\n",
       "      <th>director</th>\n",
       "      <th>actors</th>\n",
       "      <th>combined</th>\n",
       "    </tr>\n",
       "  </thead>\n",
       "  <tbody>\n",
       "  </tbody>\n",
       "</table>\n",
       "</div>"
      ],
      "text/plain": [
       "Empty DataFrame\n",
       "Columns: [id, title, description, genres, tmdb_popularity, tmdb_score, director, actors, combined]\n",
       "Index: []"
      ]
     },
     "execution_count": 164,
     "metadata": {},
     "output_type": "execute_result"
    }
   ],
   "source": [
    "#make sure new movie not in df\n",
    "\n",
    "recommender_df\n",
    "check = recommender_df[recommender_df['title'] == \"The Land Before Time\"] \n",
    "check"
   ]
  },
  {
   "cell_type": "code",
   "execution_count": 165,
   "metadata": {},
   "outputs": [],
   "source": [
    "#add new line to dataframe to test - obtained information from tmdb.com"
   ]
  },
  {
   "cell_type": "code",
   "execution_count": 166,
   "metadata": {},
   "outputs": [],
   "source": [
    "new_movie = \"The Land Before Time\""
   ]
  },
  {
   "cell_type": "code",
   "execution_count": 167,
   "metadata": {
    "tags": []
   },
   "outputs": [],
   "source": [
    "description = \"\"\"An orphaned brontosaurus named Littlefoot sets off in search of the legendary Great Valley.\n",
    "A land of lush vegetation where the dinosaurs can thrive and live in peace. Along the way he meets four other\n",
    "young dinosaurs, each one a different species, and they encounter several obstacles as they learn to work \n",
    "together in order to survive.\"\"\""
   ]
  },
  {
   "cell_type": "code",
   "execution_count": 168,
   "metadata": {},
   "outputs": [],
   "source": [
    "genres_new = 'animation, family'"
   ]
  },
  {
   "cell_type": "code",
   "execution_count": 169,
   "metadata": {},
   "outputs": [],
   "source": [
    "tmdb_pop_new = \"\""
   ]
  },
  {
   "cell_type": "code",
   "execution_count": 170,
   "metadata": {
    "tags": []
   },
   "outputs": [],
   "source": [
    "tmdb_score_new = \"\""
   ]
  },
  {
   "cell_type": "code",
   "execution_count": 171,
   "metadata": {},
   "outputs": [],
   "source": [
    "director_new = 'Don Bluth'"
   ]
  },
  {
   "cell_type": "code",
   "execution_count": 172,
   "metadata": {},
   "outputs": [],
   "source": [
    "actor_new = \"\""
   ]
  },
  {
   "cell_type": "code",
   "execution_count": 173,
   "metadata": {},
   "outputs": [],
   "source": [
    "id_new = 'new'"
   ]
  },
  {
   "cell_type": "code",
   "execution_count": 174,
   "metadata": {},
   "outputs": [],
   "source": [
    "rec=actors_df"
   ]
  },
  {
   "cell_type": "code",
   "execution_count": 175,
   "metadata": {},
   "outputs": [],
   "source": [
    "#reduce data frame to columns wanted\n",
    "\n",
    "rec_df = rec[['id', 'title', 'description', 'genres', 'tmdb_popularity', \n",
    "                                'tmdb_score', 'director', 'actors']]"
   ]
  },
  {
   "cell_type": "code",
   "execution_count": 176,
   "metadata": {},
   "outputs": [
    {
     "data": {
      "text/plain": [
       "True"
      ]
     },
     "execution_count": 176,
     "metadata": {},
     "output_type": "execute_result"
    }
   ],
   "source": [
    "rec_df['id'].is_unique"
   ]
  },
  {
   "cell_type": "code",
   "execution_count": 177,
   "metadata": {},
   "outputs": [
    {
     "name": "stderr",
     "output_type": "stream",
     "text": [
      "/var/folders/f2/stt9zllj1j9_yljvzr6gpdv80000gn/T/ipykernel_7554/84460305.py:4: FutureWarning: The frame.append method is deprecated and will be removed from pandas in a future version. Use pandas.concat instead.\n",
      "  rec_new = rec_df.append(newmovie, ignore_index=True)\n"
     ]
    }
   ],
   "source": [
    "newmovie = {'id':id_new, 'title': new_movie, 'description': description, \n",
    "            'genres': genres_new, 'tmdb_popularity': tmdb_pop_new, \n",
    "             'tmdb_score': tmdb_score_new, 'director': \"director_new\", 'actors': actor_new}\n",
    "rec_new = rec_df.append(newmovie, ignore_index=True)"
   ]
  },
  {
   "cell_type": "code",
   "execution_count": 178,
   "metadata": {},
   "outputs": [
    {
     "data": {
      "text/html": [
       "<div>\n",
       "<style scoped>\n",
       "    .dataframe tbody tr th:only-of-type {\n",
       "        vertical-align: middle;\n",
       "    }\n",
       "\n",
       "    .dataframe tbody tr th {\n",
       "        vertical-align: top;\n",
       "    }\n",
       "\n",
       "    .dataframe thead th {\n",
       "        text-align: right;\n",
       "    }\n",
       "</style>\n",
       "<table border=\"1\" class=\"dataframe\">\n",
       "  <thead>\n",
       "    <tr style=\"text-align: right;\">\n",
       "      <th></th>\n",
       "      <th>id</th>\n",
       "      <th>title</th>\n",
       "      <th>description</th>\n",
       "      <th>genres</th>\n",
       "      <th>tmdb_popularity</th>\n",
       "      <th>tmdb_score</th>\n",
       "      <th>director</th>\n",
       "      <th>actors</th>\n",
       "    </tr>\n",
       "  </thead>\n",
       "  <tbody>\n",
       "    <tr>\n",
       "      <th>1575</th>\n",
       "      <td>ts350456</td>\n",
       "      <td>Superkitties</td>\n",
       "      <td>It tells the story of four fierce and furry su...</td>\n",
       "      <td>family,animation,action,scifi,comedy,fantasy</td>\n",
       "      <td>3.755</td>\n",
       "      <td>6.0</td>\n",
       "      <td></td>\n",
       "      <td>Cruz Flateau, Emma Berman, JeCobi Swain, Pyper...</td>\n",
       "    </tr>\n",
       "    <tr>\n",
       "      <th>1576</th>\n",
       "      <td>ts305794</td>\n",
       "      <td>7 Toughest Days</td>\n",
       "      <td>Dwayne Fields grew up around violent gangs and...</td>\n",
       "      <td>reality,documentation,action</td>\n",
       "      <td>3.733</td>\n",
       "      <td>2.0</td>\n",
       "      <td></td>\n",
       "      <td>Dwayne Fields</td>\n",
       "    </tr>\n",
       "    <tr>\n",
       "      <th>1577</th>\n",
       "      <td>new</td>\n",
       "      <td>The Land Before Time</td>\n",
       "      <td>An orphaned brontosaurus named Littlefoot sets...</td>\n",
       "      <td>animation, family</td>\n",
       "      <td></td>\n",
       "      <td></td>\n",
       "      <td>director_new</td>\n",
       "      <td></td>\n",
       "    </tr>\n",
       "  </tbody>\n",
       "</table>\n",
       "</div>"
      ],
      "text/plain": [
       "            id                 title  \\\n",
       "1575  ts350456          Superkitties   \n",
       "1576  ts305794       7 Toughest Days   \n",
       "1577       new  The Land Before Time   \n",
       "\n",
       "                                            description  \\\n",
       "1575  It tells the story of four fierce and furry su...   \n",
       "1576  Dwayne Fields grew up around violent gangs and...   \n",
       "1577  An orphaned brontosaurus named Littlefoot sets...   \n",
       "\n",
       "                                            genres tmdb_popularity tmdb_score  \\\n",
       "1575  family,animation,action,scifi,comedy,fantasy           3.755        6.0   \n",
       "1576                  reality,documentation,action           3.733        2.0   \n",
       "1577                             animation, family                              \n",
       "\n",
       "          director                                             actors  \n",
       "1575                Cruz Flateau, Emma Berman, JeCobi Swain, Pyper...  \n",
       "1576                                                    Dwayne Fields  \n",
       "1577  director_new                                                     "
      ]
     },
     "execution_count": 178,
     "metadata": {},
     "output_type": "execute_result"
    }
   ],
   "source": [
    "#check new row\n",
    "rec_new.tail(3)"
   ]
  },
  {
   "cell_type": "code",
   "execution_count": 179,
   "metadata": {},
   "outputs": [],
   "source": [
    "def combined(row):\n",
    "    return row['genres']+\" \"+row['description']+\" \"+row['director']+\" \"+row['actors']\n",
    "\n",
    "rec_new[\"combined\"] = rec_new.apply(combined, axis =1)"
   ]
  },
  {
   "cell_type": "code",
   "execution_count": 180,
   "metadata": {},
   "outputs": [],
   "source": [
    "rec_new['combined'] = rec_new['combined'].fillna('')"
   ]
  },
  {
   "cell_type": "code",
   "execution_count": 181,
   "metadata": {},
   "outputs": [],
   "source": [
    "rec_new = rec_new.reset_index()"
   ]
  },
  {
   "cell_type": "code",
   "execution_count": 182,
   "metadata": {},
   "outputs": [
    {
     "data": {
      "text/html": [
       "<div>\n",
       "<style scoped>\n",
       "    .dataframe tbody tr th:only-of-type {\n",
       "        vertical-align: middle;\n",
       "    }\n",
       "\n",
       "    .dataframe tbody tr th {\n",
       "        vertical-align: top;\n",
       "    }\n",
       "\n",
       "    .dataframe thead th {\n",
       "        text-align: right;\n",
       "    }\n",
       "</style>\n",
       "<table border=\"1\" class=\"dataframe\">\n",
       "  <thead>\n",
       "    <tr style=\"text-align: right;\">\n",
       "      <th></th>\n",
       "      <th>index</th>\n",
       "      <th>id</th>\n",
       "      <th>title</th>\n",
       "      <th>description</th>\n",
       "      <th>genres</th>\n",
       "      <th>tmdb_popularity</th>\n",
       "      <th>tmdb_score</th>\n",
       "      <th>director</th>\n",
       "      <th>actors</th>\n",
       "      <th>combined</th>\n",
       "    </tr>\n",
       "  </thead>\n",
       "  <tbody>\n",
       "    <tr>\n",
       "      <th>1576</th>\n",
       "      <td>1576</td>\n",
       "      <td>ts305794</td>\n",
       "      <td>7 Toughest Days</td>\n",
       "      <td>Dwayne Fields grew up around violent gangs and...</td>\n",
       "      <td>reality,documentation,action</td>\n",
       "      <td>3.733</td>\n",
       "      <td>2.0</td>\n",
       "      <td></td>\n",
       "      <td>Dwayne Fields</td>\n",
       "      <td>reality,documentation,action Dwayne Fields gre...</td>\n",
       "    </tr>\n",
       "    <tr>\n",
       "      <th>1577</th>\n",
       "      <td>1577</td>\n",
       "      <td>new</td>\n",
       "      <td>The Land Before Time</td>\n",
       "      <td>An orphaned brontosaurus named Littlefoot sets...</td>\n",
       "      <td>animation, family</td>\n",
       "      <td></td>\n",
       "      <td></td>\n",
       "      <td>director_new</td>\n",
       "      <td></td>\n",
       "      <td>animation, family An orphaned brontosaurus nam...</td>\n",
       "    </tr>\n",
       "  </tbody>\n",
       "</table>\n",
       "</div>"
      ],
      "text/plain": [
       "      index        id                 title  \\\n",
       "1576   1576  ts305794       7 Toughest Days   \n",
       "1577   1577       new  The Land Before Time   \n",
       "\n",
       "                                            description  \\\n",
       "1576  Dwayne Fields grew up around violent gangs and...   \n",
       "1577  An orphaned brontosaurus named Littlefoot sets...   \n",
       "\n",
       "                            genres tmdb_popularity tmdb_score      director  \\\n",
       "1576  reality,documentation,action           3.733        2.0                 \n",
       "1577             animation, family                             director_new   \n",
       "\n",
       "             actors                                           combined  \n",
       "1576  Dwayne Fields  reality,documentation,action Dwayne Fields gre...  \n",
       "1577                 animation, family An orphaned brontosaurus nam...  "
      ]
     },
     "execution_count": 182,
     "metadata": {},
     "output_type": "execute_result"
    }
   ],
   "source": [
    "rec_new.tail(2)"
   ]
  },
  {
   "cell_type": "code",
   "execution_count": 183,
   "metadata": {},
   "outputs": [],
   "source": [
    "from sklearn.feature_extraction.text import CountVectorizer\n",
    "from sklearn.metrics.pairwise import cosine_similarity"
   ]
  },
  {
   "cell_type": "code",
   "execution_count": 184,
   "metadata": {},
   "outputs": [
    {
     "name": "stdout",
     "output_type": "stream",
     "text": [
      "Count Matrix: [[0 0 0 ... 0 0 0]\n",
      " [0 0 0 ... 0 0 0]\n",
      " [0 0 0 ... 0 0 0]\n",
      " ...\n",
      " [0 0 0 ... 0 0 0]\n",
      " [0 0 0 ... 0 0 0]\n",
      " [0 0 0 ... 0 0 0]]\n"
     ]
    }
   ],
   "source": [
    "cv = CountVectorizer()\n",
    "count_matrix = cv.fit_transform(rec_new[\"combined\"])\n",
    "print(\"Count Matrix:\", count_matrix.toarray())"
   ]
  },
  {
   "cell_type": "code",
   "execution_count": 185,
   "metadata": {},
   "outputs": [],
   "source": [
    "cosine_sim = cosine_similarity(count_matrix)"
   ]
  },
  {
   "cell_type": "code",
   "execution_count": 186,
   "metadata": {},
   "outputs": [
    {
     "data": {
      "text/plain": [
       "array([[1.        , 0.25848492, 0.18166533, ..., 0.08303653, 0.21437323,\n",
       "        0.14494276],\n",
       "       [0.25848492, 1.        , 0.38374191, ..., 0.29266638, 0.45530397,\n",
       "        0.41487858],\n",
       "       [0.18166533, 0.38374191, 1.        , ..., 0.21192132, 0.28688882,\n",
       "        0.26111648],\n",
       "       ...,\n",
       "       [0.08303653, 0.29266638, 0.21192132, ..., 1.        , 0.22696032,\n",
       "        0.25064021],\n",
       "       [0.21437323, 0.45530397, 0.28688882, ..., 0.22696032, 1.        ,\n",
       "        0.35919056],\n",
       "       [0.14494276, 0.41487858, 0.26111648, ..., 0.25064021, 0.35919056,\n",
       "        1.        ]])"
      ]
     },
     "execution_count": 186,
     "metadata": {},
     "output_type": "execute_result"
    }
   ],
   "source": [
    "cosine_sim"
   ]
  },
  {
   "cell_type": "code",
   "execution_count": 187,
   "metadata": {},
   "outputs": [],
   "source": [
    "movie_user_likes = new_movie"
   ]
  },
  {
   "cell_type": "code",
   "execution_count": 188,
   "metadata": {},
   "outputs": [],
   "source": [
    "#function for titles - only works for movies in df - how to make work for other - would need\n",
    "#to add row to df\n",
    "def get_index_from_title(title):\n",
    "    return rec_new[rec_new.title == title]['index'].values[0]"
   ]
  },
  {
   "cell_type": "code",
   "execution_count": 189,
   "metadata": {},
   "outputs": [],
   "source": [
    "movie_index = get_index_from_title(movie_user_likes)\n",
    "similar_movies = list(enumerate(cosine_sim[movie_index]))\n",
    "sorted_similar_movies = sorted(similar_movies, key=lambda x:x[1], reverse=True)"
   ]
  },
  {
   "cell_type": "code",
   "execution_count": 190,
   "metadata": {},
   "outputs": [],
   "source": [
    "#get 10 most similar titles\n",
    "\n",
    "def get_title_from_index(index):\n",
    "    return rec_new[rec_new.index == index][\"title\"].values[0]\n",
    "\n",
    "i=0\n",
    "similar_movie =[] \n",
    "\n",
    "for movie in sorted_similar_movies:\n",
    "    movie = get_title_from_index(movie[0])\n",
    "    similar_movie.append(movie)\n",
    "    i=i+1\n",
    "    if i>10:\n",
    "        break"
   ]
  },
  {
   "cell_type": "code",
   "execution_count": 191,
   "metadata": {},
   "outputs": [],
   "source": [
    "#get 10 most similar id\n",
    "\n",
    "def get_id_from_index(index):\n",
    "    return rec_new[rec_new.index == index][\"id\"].values[0]     \n",
    "i=0\n",
    "similar_id =[] \n",
    "for movie in sorted_similar_movies:\n",
    "    movie_id = get_id_from_index(movie[0])\n",
    "    similar_id.append(movie_id)\n",
    "    #print(get_title_from_index(movie[0]))\n",
    "    i=i+1\n",
    "    if i>10:\n",
    "        break"
   ]
  },
  {
   "cell_type": "code",
   "execution_count": 192,
   "metadata": {},
   "outputs": [
    {
     "name": "stdout",
     "output_type": "stream",
     "text": [
      "11\n",
      "11\n"
     ]
    }
   ],
   "source": [
    "#verify length\n",
    "print(len(similar_movie))\n",
    "print(len(similar_id))"
   ]
  },
  {
   "cell_type": "code",
   "execution_count": 193,
   "metadata": {},
   "outputs": [],
   "source": [
    "similar_df = pd.DataFrame(\n",
    "    {'id': similar_id,\n",
    "     'movie': similar_movie\n",
    "    })"
   ]
  },
  {
   "cell_type": "code",
   "execution_count": 194,
   "metadata": {},
   "outputs": [],
   "source": [
    "#put into dataframe and pull in score and rating"
   ]
  },
  {
   "cell_type": "code",
   "execution_count": 195,
   "metadata": {},
   "outputs": [
    {
     "data": {
      "text/html": [
       "<div>\n",
       "<style scoped>\n",
       "    .dataframe tbody tr th:only-of-type {\n",
       "        vertical-align: middle;\n",
       "    }\n",
       "\n",
       "    .dataframe tbody tr th {\n",
       "        vertical-align: top;\n",
       "    }\n",
       "\n",
       "    .dataframe thead th {\n",
       "        text-align: right;\n",
       "    }\n",
       "</style>\n",
       "<table border=\"1\" class=\"dataframe\">\n",
       "  <thead>\n",
       "    <tr style=\"text-align: right;\">\n",
       "      <th></th>\n",
       "      <th>id</th>\n",
       "      <th>movie</th>\n",
       "      <th>tmdb_popularity</th>\n",
       "    </tr>\n",
       "  </thead>\n",
       "  <tbody>\n",
       "    <tr>\n",
       "      <th>0</th>\n",
       "      <td>new</td>\n",
       "      <td>The Land Before Time</td>\n",
       "      <td></td>\n",
       "    </tr>\n",
       "    <tr>\n",
       "      <th>1</th>\n",
       "      <td>tm164519</td>\n",
       "      <td>La luna</td>\n",
       "      <td>5.772</td>\n",
       "    </tr>\n",
       "    <tr>\n",
       "      <th>2</th>\n",
       "      <td>tm91170</td>\n",
       "      <td>Four Days in October</td>\n",
       "      <td>3.182</td>\n",
       "    </tr>\n",
       "    <tr>\n",
       "      <th>3</th>\n",
       "      <td>ts34060</td>\n",
       "      <td>Secret Life of Predators</td>\n",
       "      <td>0.874</td>\n",
       "    </tr>\n",
       "    <tr>\n",
       "      <th>4</th>\n",
       "      <td>ts35950</td>\n",
       "      <td>Wicked Tuna</td>\n",
       "      <td>13.942</td>\n",
       "    </tr>\n",
       "    <tr>\n",
       "      <th>5</th>\n",
       "      <td>tm449027</td>\n",
       "      <td>42 to 1</td>\n",
       "      <td>1.704</td>\n",
       "    </tr>\n",
       "    <tr>\n",
       "      <th>6</th>\n",
       "      <td>tm29336</td>\n",
       "      <td>Liz &amp; Dick</td>\n",
       "      <td>4.678</td>\n",
       "    </tr>\n",
       "    <tr>\n",
       "      <th>7</th>\n",
       "      <td>ts54096</td>\n",
       "      <td>Ancient X-Files</td>\n",
       "      <td>3.872</td>\n",
       "    </tr>\n",
       "    <tr>\n",
       "      <th>8</th>\n",
       "      <td>ts271431</td>\n",
       "      <td>Into the Unknown: Making Frozen II</td>\n",
       "      <td>11.692</td>\n",
       "    </tr>\n",
       "    <tr>\n",
       "      <th>9</th>\n",
       "      <td>tm97275</td>\n",
       "      <td>Pony Excess</td>\n",
       "      <td>2.543</td>\n",
       "    </tr>\n",
       "  </tbody>\n",
       "</table>\n",
       "</div>"
      ],
      "text/plain": [
       "         id                               movie tmdb_popularity\n",
       "0       new                The Land Before Time                \n",
       "1  tm164519                             La luna           5.772\n",
       "2   tm91170                Four Days in October           3.182\n",
       "3   ts34060            Secret Life of Predators           0.874\n",
       "4   ts35950                         Wicked Tuna          13.942\n",
       "5  tm449027                             42 to 1           1.704\n",
       "6   tm29336                          Liz & Dick           4.678\n",
       "7   ts54096                     Ancient X-Files           3.872\n",
       "8  ts271431  Into the Unknown: Making Frozen II          11.692\n",
       "9   tm97275                         Pony Excess           2.543"
      ]
     },
     "execution_count": 195,
     "metadata": {},
     "output_type": "execute_result"
    }
   ],
   "source": [
    "combine = pd.merge(similar_df, rec_new, on=\"id\")\n",
    "final_sim = combine[['id','movie','tmdb_popularity']]\n",
    "final_sim.head(10)"
   ]
  },
  {
   "cell_type": "code",
   "execution_count": 196,
   "metadata": {},
   "outputs": [],
   "source": [
    "## Create model to predict popularity based on the combined text"
   ]
  },
  {
   "cell_type": "code",
   "execution_count": 197,
   "metadata": {},
   "outputs": [
    {
     "name": "stdout",
     "output_type": "stream",
     "text": [
      "(1577, 24936)\n"
     ]
    },
    {
     "data": {
      "text/html": [
       "<div>\n",
       "<style scoped>\n",
       "    .dataframe tbody tr th:only-of-type {\n",
       "        vertical-align: middle;\n",
       "    }\n",
       "\n",
       "    .dataframe tbody tr th {\n",
       "        vertical-align: top;\n",
       "    }\n",
       "\n",
       "    .dataframe thead th {\n",
       "        text-align: right;\n",
       "    }\n",
       "</style>\n",
       "<table border=\"1\" class=\"dataframe\">\n",
       "  <thead>\n",
       "    <tr style=\"text-align: right;\">\n",
       "      <th></th>\n",
       "      <th>000</th>\n",
       "      <th>000th</th>\n",
       "      <th>029</th>\n",
       "      <th>04</th>\n",
       "      <th>06</th>\n",
       "      <th>10</th>\n",
       "      <th>100</th>\n",
       "      <th>1000</th>\n",
       "      <th>101</th>\n",
       "      <th>10th</th>\n",
       "      <th>...</th>\n",
       "      <th>éric</th>\n",
       "      <th>ólafsson</th>\n",
       "      <th>ólafur</th>\n",
       "      <th>óscar</th>\n",
       "      <th>öhlund</th>\n",
       "      <th>örn</th>\n",
       "      <th>östergren</th>\n",
       "      <th>ōmoto</th>\n",
       "      <th>šerbedžija</th>\n",
       "      <th>ʻohana</th>\n",
       "    </tr>\n",
       "  </thead>\n",
       "  <tbody>\n",
       "    <tr>\n",
       "      <th>0</th>\n",
       "      <td>0</td>\n",
       "      <td>0</td>\n",
       "      <td>0</td>\n",
       "      <td>0</td>\n",
       "      <td>0</td>\n",
       "      <td>0</td>\n",
       "      <td>0</td>\n",
       "      <td>0</td>\n",
       "      <td>0</td>\n",
       "      <td>0</td>\n",
       "      <td>...</td>\n",
       "      <td>0</td>\n",
       "      <td>0</td>\n",
       "      <td>0</td>\n",
       "      <td>0</td>\n",
       "      <td>0</td>\n",
       "      <td>0</td>\n",
       "      <td>0</td>\n",
       "      <td>0</td>\n",
       "      <td>0</td>\n",
       "      <td>0</td>\n",
       "    </tr>\n",
       "    <tr>\n",
       "      <th>1</th>\n",
       "      <td>0</td>\n",
       "      <td>0</td>\n",
       "      <td>0</td>\n",
       "      <td>0</td>\n",
       "      <td>0</td>\n",
       "      <td>0</td>\n",
       "      <td>0</td>\n",
       "      <td>0</td>\n",
       "      <td>0</td>\n",
       "      <td>0</td>\n",
       "      <td>...</td>\n",
       "      <td>0</td>\n",
       "      <td>0</td>\n",
       "      <td>0</td>\n",
       "      <td>0</td>\n",
       "      <td>0</td>\n",
       "      <td>0</td>\n",
       "      <td>0</td>\n",
       "      <td>0</td>\n",
       "      <td>0</td>\n",
       "      <td>0</td>\n",
       "    </tr>\n",
       "  </tbody>\n",
       "</table>\n",
       "<p>2 rows × 24936 columns</p>\n",
       "</div>"
      ],
      "text/plain": [
       "   000  000th  029  04  06  10  100  1000  101  10th  ...  éric  ólafsson  \\\n",
       "0    0      0    0   0   0   0    0     0    0     0  ...     0         0   \n",
       "1    0      0    0   0   0   0    0     0    0     0  ...     0         0   \n",
       "\n",
       "   ólafur  óscar  öhlund  örn  östergren  ōmoto  šerbedžija  ʻohana  \n",
       "0       0      0       0    0          0      0           0       0  \n",
       "1       0      0       0    0          0      0           0       0  \n",
       "\n",
       "[2 rows x 24936 columns]"
      ]
     },
     "execution_count": 197,
     "metadata": {},
     "output_type": "execute_result"
    }
   ],
   "source": [
    "vect = CountVectorizer(stop_words='english').fit(list(recommend_user.combined))\n",
    "trainedtext1 = vect.transform(list(recommend_user.combined))\n",
    "colnames1 = vect.get_feature_names_out()\n",
    "nparray1 = trainedtext1.toarray()\n",
    "df1 = pd.DataFrame(nparray1, columns = colnames1)\n",
    "print(df1.shape)\n",
    "df1.head(2)"
   ]
  },
  {
   "cell_type": "code",
   "execution_count": 198,
   "metadata": {},
   "outputs": [
    {
     "data": {
      "text/plain": [
       "(1577, 16)"
      ]
     },
     "execution_count": 198,
     "metadata": {},
     "output_type": "execute_result"
    }
   ],
   "source": [
    "#verify shape matches - rows\n",
    "recommend_user.shape"
   ]
  },
  {
   "cell_type": "code",
   "execution_count": 199,
   "metadata": {},
   "outputs": [
    {
     "name": "stdout",
     "output_type": "stream",
     "text": [
      "(1577, 1)\n"
     ]
    },
    {
     "data": {
      "text/html": [
       "<div>\n",
       "<style scoped>\n",
       "    .dataframe tbody tr th:only-of-type {\n",
       "        vertical-align: middle;\n",
       "    }\n",
       "\n",
       "    .dataframe tbody tr th {\n",
       "        vertical-align: top;\n",
       "    }\n",
       "\n",
       "    .dataframe thead th {\n",
       "        text-align: right;\n",
       "    }\n",
       "</style>\n",
       "<table border=\"1\" class=\"dataframe\">\n",
       "  <thead>\n",
       "    <tr style=\"text-align: right;\">\n",
       "      <th></th>\n",
       "      <th>tmdb_popularity</th>\n",
       "    </tr>\n",
       "  </thead>\n",
       "  <tbody>\n",
       "    <tr>\n",
       "      <th>0</th>\n",
       "      <td>23.515</td>\n",
       "    </tr>\n",
       "    <tr>\n",
       "      <th>1</th>\n",
       "      <td>16.194</td>\n",
       "    </tr>\n",
       "  </tbody>\n",
       "</table>\n",
       "</div>"
      ],
      "text/plain": [
       "   tmdb_popularity\n",
       "0           23.515\n",
       "1           16.194"
      ]
     },
     "execution_count": 199,
     "metadata": {},
     "output_type": "execute_result"
    }
   ],
   "source": [
    "#create dataframe for popular\n",
    "recommend_user2 = recommend_user[['tmdb_popularity']]\n",
    "print(recommend_user2.shape)\n",
    "recommend_user2.head(2)"
   ]
  },
  {
   "cell_type": "code",
   "execution_count": 227,
   "metadata": {},
   "outputs": [
    {
     "name": "stdout",
     "output_type": "stream",
     "text": [
      "(1577, 24937)\n",
      "number of columns should be 24937\n",
      "number of rows should be 1577\n"
     ]
    },
    {
     "data": {
      "text/html": [
       "<div>\n",
       "<style scoped>\n",
       "    .dataframe tbody tr th:only-of-type {\n",
       "        vertical-align: middle;\n",
       "    }\n",
       "\n",
       "    .dataframe tbody tr th {\n",
       "        vertical-align: top;\n",
       "    }\n",
       "\n",
       "    .dataframe thead th {\n",
       "        text-align: right;\n",
       "    }\n",
       "</style>\n",
       "<table border=\"1\" class=\"dataframe\">\n",
       "  <thead>\n",
       "    <tr style=\"text-align: right;\">\n",
       "      <th></th>\n",
       "      <th>tmdb_popularity</th>\n",
       "      <th>000</th>\n",
       "      <th>000th</th>\n",
       "      <th>029</th>\n",
       "      <th>04</th>\n",
       "      <th>06</th>\n",
       "      <th>10</th>\n",
       "      <th>100</th>\n",
       "      <th>1000</th>\n",
       "      <th>101</th>\n",
       "      <th>...</th>\n",
       "      <th>éric</th>\n",
       "      <th>ólafsson</th>\n",
       "      <th>ólafur</th>\n",
       "      <th>óscar</th>\n",
       "      <th>öhlund</th>\n",
       "      <th>örn</th>\n",
       "      <th>östergren</th>\n",
       "      <th>ōmoto</th>\n",
       "      <th>šerbedžija</th>\n",
       "      <th>ʻohana</th>\n",
       "    </tr>\n",
       "  </thead>\n",
       "  <tbody>\n",
       "    <tr>\n",
       "      <th>0</th>\n",
       "      <td>23.515</td>\n",
       "      <td>0</td>\n",
       "      <td>0</td>\n",
       "      <td>0</td>\n",
       "      <td>0</td>\n",
       "      <td>0</td>\n",
       "      <td>0</td>\n",
       "      <td>0</td>\n",
       "      <td>0</td>\n",
       "      <td>0</td>\n",
       "      <td>...</td>\n",
       "      <td>0</td>\n",
       "      <td>0</td>\n",
       "      <td>0</td>\n",
       "      <td>0</td>\n",
       "      <td>0</td>\n",
       "      <td>0</td>\n",
       "      <td>0</td>\n",
       "      <td>0</td>\n",
       "      <td>0</td>\n",
       "      <td>0</td>\n",
       "    </tr>\n",
       "    <tr>\n",
       "      <th>1</th>\n",
       "      <td>16.194</td>\n",
       "      <td>0</td>\n",
       "      <td>0</td>\n",
       "      <td>0</td>\n",
       "      <td>0</td>\n",
       "      <td>0</td>\n",
       "      <td>0</td>\n",
       "      <td>0</td>\n",
       "      <td>0</td>\n",
       "      <td>0</td>\n",
       "      <td>...</td>\n",
       "      <td>0</td>\n",
       "      <td>0</td>\n",
       "      <td>0</td>\n",
       "      <td>0</td>\n",
       "      <td>0</td>\n",
       "      <td>0</td>\n",
       "      <td>0</td>\n",
       "      <td>0</td>\n",
       "      <td>0</td>\n",
       "      <td>0</td>\n",
       "    </tr>\n",
       "  </tbody>\n",
       "</table>\n",
       "<p>2 rows × 24937 columns</p>\n",
       "</div>"
      ],
      "text/plain": [
       "   tmdb_popularity  000  000th  029  04  06  10  100  1000  101  ...  éric  \\\n",
       "0           23.515    0      0    0   0   0   0    0     0    0  ...     0   \n",
       "1           16.194    0      0    0   0   0   0    0     0    0  ...     0   \n",
       "\n",
       "   ólafsson  ólafur  óscar  öhlund  örn  östergren  ōmoto  šerbedžija  ʻohana  \n",
       "0         0       0      0       0    0          0      0           0       0  \n",
       "1         0       0      0       0    0          0      0           0       0  \n",
       "\n",
       "[2 rows x 24937 columns]"
      ]
     },
     "execution_count": 227,
     "metadata": {},
     "output_type": "execute_result"
    }
   ],
   "source": [
    "#concatenate two dataframes\n",
    "recommend_user3 = pd.concat([recommend_user2.reset_index(drop=True), df1.reset_index(drop=True)], axis=1)\n",
    "print(recommend_user3.shape)\n",
    "\n",
    "print(\"number of columns should be\", 1 + 24936)\n",
    "print(\"number of rows should be\", 1577)\n",
    "recommend_user3.head(2)"
   ]
  },
  {
   "cell_type": "code",
   "execution_count": 218,
   "metadata": {},
   "outputs": [
    {
     "name": "stdout",
     "output_type": "stream",
     "text": [
      "(1577, 24936)\n",
      "(1577,)\n"
     ]
    }
   ],
   "source": [
    "x = recommend_user3.drop(['tmdb_popularity'], axis = 1)\n",
    "y = recommend_user3.tmdb_popularity\n",
    "print(x.shape)\n",
    "print(y.shape)"
   ]
  },
  {
   "cell_type": "code",
   "execution_count": 219,
   "metadata": {},
   "outputs": [],
   "source": [
    "xtrain, xtest, ytrain, ytest = train_test_split(x,y, test_size=0.25, random_state= 26)"
   ]
  },
  {
   "cell_type": "code",
   "execution_count": 220,
   "metadata": {},
   "outputs": [],
   "source": [
    "RLR = LinearRegression().fit(xtrain, ytrain)\n",
    "ytrainpred = RLR.predict(xtrain)\n",
    "ytestpred = RLR.predict(xtest)"
   ]
  },
  {
   "cell_type": "code",
   "execution_count": 221,
   "metadata": {},
   "outputs": [
    {
     "name": "stdout",
     "output_type": "stream",
     "text": [
      "Test R2: 0.06542433483268983\n",
      "Test RMSE: 143.27486188742188\n"
     ]
    }
   ],
   "source": [
    "testr2 = metrics.r2_score(ytest, ytestpred)\n",
    "testrmse = sqrt(mean_squared_error(ytest, ytestpred))\n",
    "print(\"Test R2:\",testr2)\n",
    "print(\"Test RMSE:\",testrmse)"
   ]
  },
  {
   "cell_type": "code",
   "execution_count": 222,
   "metadata": {},
   "outputs": [],
   "source": [
    "## Create model to predict score based on the combined text"
   ]
  },
  {
   "cell_type": "code",
   "execution_count": 223,
   "metadata": {},
   "outputs": [
    {
     "name": "stdout",
     "output_type": "stream",
     "text": [
      "(1577, 1)\n"
     ]
    },
    {
     "data": {
      "text/html": [
       "<div>\n",
       "<style scoped>\n",
       "    .dataframe tbody tr th:only-of-type {\n",
       "        vertical-align: middle;\n",
       "    }\n",
       "\n",
       "    .dataframe tbody tr th {\n",
       "        vertical-align: top;\n",
       "    }\n",
       "\n",
       "    .dataframe thead th {\n",
       "        text-align: right;\n",
       "    }\n",
       "</style>\n",
       "<table border=\"1\" class=\"dataframe\">\n",
       "  <thead>\n",
       "    <tr style=\"text-align: right;\">\n",
       "      <th></th>\n",
       "      <th>tmdb_score</th>\n",
       "    </tr>\n",
       "  </thead>\n",
       "  <tbody>\n",
       "    <tr>\n",
       "      <th>0</th>\n",
       "      <td>7.388</td>\n",
       "    </tr>\n",
       "    <tr>\n",
       "      <th>1</th>\n",
       "      <td>6.500</td>\n",
       "    </tr>\n",
       "  </tbody>\n",
       "</table>\n",
       "</div>"
      ],
      "text/plain": [
       "   tmdb_score\n",
       "0       7.388\n",
       "1       6.500"
      ]
     },
     "execution_count": 223,
     "metadata": {},
     "output_type": "execute_result"
    }
   ],
   "source": [
    "#create dataframe for popular\n",
    "score = recommend_user[['tmdb_score']]\n",
    "print(score.shape)\n",
    "score.head(2)"
   ]
  },
  {
   "cell_type": "code",
   "execution_count": 228,
   "metadata": {},
   "outputs": [
    {
     "name": "stdout",
     "output_type": "stream",
     "text": [
      "(1577, 24937)\n",
      "number of columns should be 24937\n",
      "number of rows should be 1577\n"
     ]
    },
    {
     "data": {
      "text/html": [
       "<div>\n",
       "<style scoped>\n",
       "    .dataframe tbody tr th:only-of-type {\n",
       "        vertical-align: middle;\n",
       "    }\n",
       "\n",
       "    .dataframe tbody tr th {\n",
       "        vertical-align: top;\n",
       "    }\n",
       "\n",
       "    .dataframe thead th {\n",
       "        text-align: right;\n",
       "    }\n",
       "</style>\n",
       "<table border=\"1\" class=\"dataframe\">\n",
       "  <thead>\n",
       "    <tr style=\"text-align: right;\">\n",
       "      <th></th>\n",
       "      <th>tmdb_score</th>\n",
       "      <th>000</th>\n",
       "      <th>000th</th>\n",
       "      <th>029</th>\n",
       "      <th>04</th>\n",
       "      <th>06</th>\n",
       "      <th>10</th>\n",
       "      <th>100</th>\n",
       "      <th>1000</th>\n",
       "      <th>101</th>\n",
       "      <th>...</th>\n",
       "      <th>éric</th>\n",
       "      <th>ólafsson</th>\n",
       "      <th>ólafur</th>\n",
       "      <th>óscar</th>\n",
       "      <th>öhlund</th>\n",
       "      <th>örn</th>\n",
       "      <th>östergren</th>\n",
       "      <th>ōmoto</th>\n",
       "      <th>šerbedžija</th>\n",
       "      <th>ʻohana</th>\n",
       "    </tr>\n",
       "  </thead>\n",
       "  <tbody>\n",
       "    <tr>\n",
       "      <th>0</th>\n",
       "      <td>7.388</td>\n",
       "      <td>0</td>\n",
       "      <td>0</td>\n",
       "      <td>0</td>\n",
       "      <td>0</td>\n",
       "      <td>0</td>\n",
       "      <td>0</td>\n",
       "      <td>0</td>\n",
       "      <td>0</td>\n",
       "      <td>0</td>\n",
       "      <td>...</td>\n",
       "      <td>0</td>\n",
       "      <td>0</td>\n",
       "      <td>0</td>\n",
       "      <td>0</td>\n",
       "      <td>0</td>\n",
       "      <td>0</td>\n",
       "      <td>0</td>\n",
       "      <td>0</td>\n",
       "      <td>0</td>\n",
       "      <td>0</td>\n",
       "    </tr>\n",
       "    <tr>\n",
       "      <th>1</th>\n",
       "      <td>6.500</td>\n",
       "      <td>0</td>\n",
       "      <td>0</td>\n",
       "      <td>0</td>\n",
       "      <td>0</td>\n",
       "      <td>0</td>\n",
       "      <td>0</td>\n",
       "      <td>0</td>\n",
       "      <td>0</td>\n",
       "      <td>0</td>\n",
       "      <td>...</td>\n",
       "      <td>0</td>\n",
       "      <td>0</td>\n",
       "      <td>0</td>\n",
       "      <td>0</td>\n",
       "      <td>0</td>\n",
       "      <td>0</td>\n",
       "      <td>0</td>\n",
       "      <td>0</td>\n",
       "      <td>0</td>\n",
       "      <td>0</td>\n",
       "    </tr>\n",
       "  </tbody>\n",
       "</table>\n",
       "<p>2 rows × 24937 columns</p>\n",
       "</div>"
      ],
      "text/plain": [
       "   tmdb_score  000  000th  029  04  06  10  100  1000  101  ...  éric  \\\n",
       "0       7.388    0      0    0   0   0   0    0     0    0  ...     0   \n",
       "1       6.500    0      0    0   0   0   0    0     0    0  ...     0   \n",
       "\n",
       "   ólafsson  ólafur  óscar  öhlund  örn  östergren  ōmoto  šerbedžija  ʻohana  \n",
       "0         0       0      0       0    0          0      0           0       0  \n",
       "1         0       0      0       0    0          0      0           0       0  \n",
       "\n",
       "[2 rows x 24937 columns]"
      ]
     },
     "execution_count": 228,
     "metadata": {},
     "output_type": "execute_result"
    }
   ],
   "source": [
    "#concatenate two dataframes\n",
    "score2 = pd.concat([score.reset_index(drop=True), df1.reset_index(drop=True)], axis=1)\n",
    "print(recommend_user3.shape)\n",
    "\n",
    "print(\"number of columns should be\", 1 + 24936)\n",
    "print(\"number of rows should be\", 1577)\n",
    "score2.head(2)"
   ]
  },
  {
   "cell_type": "code",
   "execution_count": 225,
   "metadata": {},
   "outputs": [
    {
     "name": "stdout",
     "output_type": "stream",
     "text": [
      "(1577, 24936)\n",
      "(1577,)\n"
     ]
    }
   ],
   "source": [
    "x = score2.drop(['tmdb_score'], axis = 1)\n",
    "y = score2.tmdb_score\n",
    "print(x.shape)\n",
    "print(y.shape)"
   ]
  },
  {
   "cell_type": "code",
   "execution_count": 209,
   "metadata": {},
   "outputs": [],
   "source": [
    "xtrain, xtest, ytrain, ytest = train_test_split(x,y, test_size=0.25, random_state= 34)"
   ]
  },
  {
   "cell_type": "code",
   "execution_count": 210,
   "metadata": {},
   "outputs": [],
   "source": [
    "RLR = LinearRegression().fit(xtrain, ytrain)\n",
    "ytrainpred = RLR.predict(xtrain)\n",
    "ytestpred = RLR.predict(xtest)"
   ]
  },
  {
   "cell_type": "code",
   "execution_count": 211,
   "metadata": {},
   "outputs": [
    {
     "name": "stdout",
     "output_type": "stream",
     "text": [
      "Test R2: -0.3051044348553842\n",
      "Test RMSE: 1.1981463626461326\n"
     ]
    }
   ],
   "source": [
    "testr2 = metrics.r2_score(ytest, ytestpred)\n",
    "testrmse = sqrt(mean_squared_error(ytest, ytestpred))\n",
    "print(\"Test R2:\",testr2)\n",
    "print(\"Test RMSE:\",testrmse)"
   ]
  },
  {
   "cell_type": "code",
   "execution_count": null,
   "metadata": {},
   "outputs": [],
   "source": []
  },
  {
   "cell_type": "code",
   "execution_count": null,
   "metadata": {},
   "outputs": [],
   "source": []
  },
  {
   "cell_type": "code",
   "execution_count": null,
   "metadata": {},
   "outputs": [],
   "source": [
    "#general graphs and plots"
   ]
  },
  {
   "cell_type": "code",
   "execution_count": null,
   "metadata": {},
   "outputs": [],
   "source": [
    "#create dataframe with decade"
   ]
  },
  {
   "cell_type": "code",
   "execution_count": 261,
   "metadata": {
    "tags": []
   },
   "outputs": [],
   "source": [
    "graphs_df = merged"
   ]
  },
  {
   "cell_type": "code",
   "execution_count": 262,
   "metadata": {},
   "outputs": [
    {
     "data": {
      "text/html": [
       "<div>\n",
       "<style scoped>\n",
       "    .dataframe tbody tr th:only-of-type {\n",
       "        vertical-align: middle;\n",
       "    }\n",
       "\n",
       "    .dataframe tbody tr th {\n",
       "        vertical-align: top;\n",
       "    }\n",
       "\n",
       "    .dataframe thead th {\n",
       "        text-align: right;\n",
       "    }\n",
       "</style>\n",
       "<table border=\"1\" class=\"dataframe\">\n",
       "  <thead>\n",
       "    <tr style=\"text-align: right;\">\n",
       "      <th></th>\n",
       "      <th>id</th>\n",
       "      <th>title</th>\n",
       "      <th>type</th>\n",
       "      <th>description</th>\n",
       "      <th>release_year</th>\n",
       "      <th>age_certification</th>\n",
       "      <th>runtime</th>\n",
       "      <th>genres</th>\n",
       "      <th>production_countries</th>\n",
       "      <th>seasons</th>\n",
       "      <th>tmdb_popularity</th>\n",
       "      <th>tmdb_score</th>\n",
       "      <th>director</th>\n",
       "      <th>decade</th>\n",
       "    </tr>\n",
       "  </thead>\n",
       "  <tbody>\n",
       "    <tr>\n",
       "      <th>0</th>\n",
       "      <td>tm89464</td>\n",
       "      <td>Miracle on 34th Street</td>\n",
       "      <td>MOVIE</td>\n",
       "      <td>Kris Kringle, seemingly the embodiment of Sant...</td>\n",
       "      <td>1947</td>\n",
       "      <td>G</td>\n",
       "      <td>96</td>\n",
       "      <td>family,comedy,drama</td>\n",
       "      <td>['US']</td>\n",
       "      <td>0.0</td>\n",
       "      <td>23.515</td>\n",
       "      <td>7.388</td>\n",
       "      <td>[George Seaton]</td>\n",
       "      <td>1940</td>\n",
       "    </tr>\n",
       "    <tr>\n",
       "      <th>1</th>\n",
       "      <td>tm61729</td>\n",
       "      <td>The Adventures of Ichabod and Mr. Toad</td>\n",
       "      <td>MOVIE</td>\n",
       "      <td>The Wind in the Willows: Concise version of Ke...</td>\n",
       "      <td>1950</td>\n",
       "      <td>G</td>\n",
       "      <td>68</td>\n",
       "      <td>horror,fantasy,animation,family,comedy</td>\n",
       "      <td>['US']</td>\n",
       "      <td>0.0</td>\n",
       "      <td>16.194</td>\n",
       "      <td>6.500</td>\n",
       "      <td>[James Algar, Clyde Geronimi, Jack Kinney]</td>\n",
       "      <td>1950</td>\n",
       "    </tr>\n",
       "  </tbody>\n",
       "</table>\n",
       "</div>"
      ],
      "text/plain": [
       "        id                                   title   type  \\\n",
       "0  tm89464                  Miracle on 34th Street  MOVIE   \n",
       "1  tm61729  The Adventures of Ichabod and Mr. Toad  MOVIE   \n",
       "\n",
       "                                         description  release_year  \\\n",
       "0  Kris Kringle, seemingly the embodiment of Sant...          1947   \n",
       "1  The Wind in the Willows: Concise version of Ke...          1950   \n",
       "\n",
       "  age_certification  runtime                                  genres  \\\n",
       "0                 G       96                     family,comedy,drama   \n",
       "1                 G       68  horror,fantasy,animation,family,comedy   \n",
       "\n",
       "  production_countries  seasons  tmdb_popularity  tmdb_score  \\\n",
       "0               ['US']      0.0           23.515       7.388   \n",
       "1               ['US']      0.0           16.194       6.500   \n",
       "\n",
       "                                     director  decade  \n",
       "0                             [George Seaton]    1940  \n",
       "1  [James Algar, Clyde Geronimi, Jack Kinney]    1950  "
      ]
     },
     "execution_count": 262,
     "metadata": {},
     "output_type": "execute_result"
    }
   ],
   "source": [
    "graphs_df['decade'] = graphs_df['release_year']//10*10 \n",
    "graphs_df.head(2)"
   ]
  },
  {
   "cell_type": "code",
   "execution_count": 263,
   "metadata": {
    "tags": []
   },
   "outputs": [
    {
     "data": {
      "text/plain": [
       "Index(['id', 'title', 'type', 'description', 'release_year',\n",
       "       'age_certification', 'runtime', 'genres', 'production_countries',\n",
       "       'seasons', 'tmdb_popularity', 'tmdb_score', 'director', 'decade'],\n",
       "      dtype='object')"
      ]
     },
     "execution_count": 263,
     "metadata": {},
     "output_type": "execute_result"
    }
   ],
   "source": [
    "graphs_df.columns"
   ]
  },
  {
   "cell_type": "code",
   "execution_count": 264,
   "metadata": {},
   "outputs": [
    {
     "data": {
      "text/plain": [
       "(1854, 14)"
      ]
     },
     "execution_count": 264,
     "metadata": {},
     "output_type": "execute_result"
    }
   ],
   "source": [
    "graphs_df.shape"
   ]
  },
  {
   "cell_type": "code",
   "execution_count": null,
   "metadata": {},
   "outputs": [],
   "source": [
    "#Genre df"
   ]
  },
  {
   "cell_type": "code",
   "execution_count": 265,
   "metadata": {},
   "outputs": [],
   "source": [
    "genre_df = graphs_df"
   ]
  },
  {
   "cell_type": "code",
   "execution_count": 266,
   "metadata": {},
   "outputs": [
    {
     "data": {
      "text/html": [
       "<div>\n",
       "<style scoped>\n",
       "    .dataframe tbody tr th:only-of-type {\n",
       "        vertical-align: middle;\n",
       "    }\n",
       "\n",
       "    .dataframe tbody tr th {\n",
       "        vertical-align: top;\n",
       "    }\n",
       "\n",
       "    .dataframe thead th {\n",
       "        text-align: right;\n",
       "    }\n",
       "</style>\n",
       "<table border=\"1\" class=\"dataframe\">\n",
       "  <thead>\n",
       "    <tr style=\"text-align: right;\">\n",
       "      <th></th>\n",
       "      <th>id</th>\n",
       "      <th>title</th>\n",
       "      <th>type</th>\n",
       "      <th>description</th>\n",
       "      <th>release_year</th>\n",
       "      <th>age_certification</th>\n",
       "      <th>runtime</th>\n",
       "      <th>genres</th>\n",
       "      <th>production_countries</th>\n",
       "      <th>seasons</th>\n",
       "      <th>tmdb_popularity</th>\n",
       "      <th>tmdb_score</th>\n",
       "      <th>director</th>\n",
       "      <th>decade</th>\n",
       "    </tr>\n",
       "  </thead>\n",
       "  <tbody>\n",
       "    <tr>\n",
       "      <th>0</th>\n",
       "      <td>tm89464</td>\n",
       "      <td>Miracle on 34th Street</td>\n",
       "      <td>MOVIE</td>\n",
       "      <td>Kris Kringle, seemingly the embodiment of Sant...</td>\n",
       "      <td>1947</td>\n",
       "      <td>G</td>\n",
       "      <td>96</td>\n",
       "      <td>family,comedy,drama</td>\n",
       "      <td>['US']</td>\n",
       "      <td>0.0</td>\n",
       "      <td>23.515</td>\n",
       "      <td>7.388</td>\n",
       "      <td>[George Seaton]</td>\n",
       "      <td>1940</td>\n",
       "    </tr>\n",
       "  </tbody>\n",
       "</table>\n",
       "</div>"
      ],
      "text/plain": [
       "        id                   title   type  \\\n",
       "0  tm89464  Miracle on 34th Street  MOVIE   \n",
       "\n",
       "                                         description  release_year  \\\n",
       "0  Kris Kringle, seemingly the embodiment of Sant...          1947   \n",
       "\n",
       "  age_certification  runtime               genres production_countries  \\\n",
       "0                 G       96  family,comedy,drama               ['US']   \n",
       "\n",
       "   seasons  tmdb_popularity  tmdb_score         director  decade  \n",
       "0      0.0           23.515       7.388  [George Seaton]    1940  "
      ]
     },
     "execution_count": 266,
     "metadata": {},
     "output_type": "execute_result"
    }
   ],
   "source": [
    "genre_df.head(1)"
   ]
  },
  {
   "cell_type": "code",
   "execution_count": 267,
   "metadata": {},
   "outputs": [
    {
     "data": {
      "text/plain": [
       "(1854, 15)"
      ]
     },
     "execution_count": 267,
     "metadata": {},
     "output_type": "execute_result"
    }
   ],
   "source": [
    "titles.shape"
   ]
  },
  {
   "cell_type": "code",
   "execution_count": 268,
   "metadata": {
    "tags": []
   },
   "outputs": [],
   "source": [
    "titles2 = titles[['id', 'genres']]"
   ]
  },
  {
   "cell_type": "code",
   "execution_count": 269,
   "metadata": {},
   "outputs": [
    {
     "data": {
      "text/plain": [
       "(1854, 15)"
      ]
     },
     "execution_count": 269,
     "metadata": {},
     "output_type": "execute_result"
    }
   ],
   "source": [
    "genre_df2 = pd.merge(genre_df, titles2, on =['id'])\n",
    "genre_df2.shape"
   ]
  },
  {
   "cell_type": "code",
   "execution_count": 270,
   "metadata": {},
   "outputs": [
    {
     "data": {
      "text/html": [
       "<div>\n",
       "<style scoped>\n",
       "    .dataframe tbody tr th:only-of-type {\n",
       "        vertical-align: middle;\n",
       "    }\n",
       "\n",
       "    .dataframe tbody tr th {\n",
       "        vertical-align: top;\n",
       "    }\n",
       "\n",
       "    .dataframe thead th {\n",
       "        text-align: right;\n",
       "    }\n",
       "</style>\n",
       "<table border=\"1\" class=\"dataframe\">\n",
       "  <thead>\n",
       "    <tr style=\"text-align: right;\">\n",
       "      <th></th>\n",
       "      <th>id</th>\n",
       "      <th>title</th>\n",
       "      <th>type</th>\n",
       "      <th>description</th>\n",
       "      <th>release_year</th>\n",
       "      <th>age_certification</th>\n",
       "      <th>runtime</th>\n",
       "      <th>genres_x</th>\n",
       "      <th>production_countries</th>\n",
       "      <th>seasons</th>\n",
       "      <th>tmdb_popularity</th>\n",
       "      <th>tmdb_score</th>\n",
       "      <th>director</th>\n",
       "      <th>decade</th>\n",
       "      <th>genres_y</th>\n",
       "    </tr>\n",
       "  </thead>\n",
       "  <tbody>\n",
       "    <tr>\n",
       "      <th>0</th>\n",
       "      <td>tm89464</td>\n",
       "      <td>Miracle on 34th Street</td>\n",
       "      <td>MOVIE</td>\n",
       "      <td>Kris Kringle, seemingly the embodiment of Sant...</td>\n",
       "      <td>1947</td>\n",
       "      <td>G</td>\n",
       "      <td>96</td>\n",
       "      <td>family,comedy,drama</td>\n",
       "      <td>['US']</td>\n",
       "      <td>0.0</td>\n",
       "      <td>23.515</td>\n",
       "      <td>7.388</td>\n",
       "      <td>[George Seaton]</td>\n",
       "      <td>1940</td>\n",
       "      <td>['family', 'comedy', 'drama']</td>\n",
       "    </tr>\n",
       "  </tbody>\n",
       "</table>\n",
       "</div>"
      ],
      "text/plain": [
       "        id                   title   type  \\\n",
       "0  tm89464  Miracle on 34th Street  MOVIE   \n",
       "\n",
       "                                         description  release_year  \\\n",
       "0  Kris Kringle, seemingly the embodiment of Sant...          1947   \n",
       "\n",
       "  age_certification  runtime             genres_x production_countries  \\\n",
       "0                 G       96  family,comedy,drama               ['US']   \n",
       "\n",
       "   seasons  tmdb_popularity  tmdb_score         director  decade  \\\n",
       "0      0.0           23.515       7.388  [George Seaton]    1940   \n",
       "\n",
       "                        genres_y  \n",
       "0  ['family', 'comedy', 'drama']  "
      ]
     },
     "execution_count": 270,
     "metadata": {},
     "output_type": "execute_result"
    }
   ],
   "source": [
    "genre_df2.head(1)"
   ]
  },
  {
   "cell_type": "code",
   "execution_count": 271,
   "metadata": {},
   "outputs": [
    {
     "data": {
      "text/plain": [
       "Index(['id', 'title', 'type', 'description', 'release_year',\n",
       "       'age_certification', 'runtime', 'genres_x', 'production_countries',\n",
       "       'seasons', 'tmdb_popularity', 'tmdb_score', 'director', 'decade',\n",
       "       'genres_y'],\n",
       "      dtype='object')"
      ]
     },
     "execution_count": 271,
     "metadata": {},
     "output_type": "execute_result"
    }
   ],
   "source": [
    "genre_df2.columns"
   ]
  },
  {
   "cell_type": "code",
   "execution_count": 272,
   "metadata": {},
   "outputs": [],
   "source": [
    "genre_df3 = genre_df2.drop('genres_x', axis=1)\n",
    "genre_df3 = genre_df3.rename(columns={'genres_y': 'genres'})"
   ]
  },
  {
   "cell_type": "code",
   "execution_count": 273,
   "metadata": {},
   "outputs": [
    {
     "data": {
      "text/plain": [
       "(1854, 14)"
      ]
     },
     "execution_count": 273,
     "metadata": {},
     "output_type": "execute_result"
    }
   ],
   "source": [
    "genre_df3.shape"
   ]
  },
  {
   "cell_type": "code",
   "execution_count": 256,
   "metadata": {},
   "outputs": [],
   "source": [
    "#genre_df3['genres'] = genre_df['genres'].astype(str)"
   ]
  },
  {
   "cell_type": "code",
   "execution_count": 274,
   "metadata": {},
   "outputs": [
    {
     "data": {
      "text/html": [
       "<div>\n",
       "<style scoped>\n",
       "    .dataframe tbody tr th:only-of-type {\n",
       "        vertical-align: middle;\n",
       "    }\n",
       "\n",
       "    .dataframe tbody tr th {\n",
       "        vertical-align: top;\n",
       "    }\n",
       "\n",
       "    .dataframe thead th {\n",
       "        text-align: right;\n",
       "    }\n",
       "</style>\n",
       "<table border=\"1\" class=\"dataframe\">\n",
       "  <thead>\n",
       "    <tr style=\"text-align: right;\">\n",
       "      <th></th>\n",
       "      <th>id</th>\n",
       "      <th>title</th>\n",
       "      <th>type</th>\n",
       "      <th>description</th>\n",
       "      <th>release_year</th>\n",
       "      <th>age_certification</th>\n",
       "      <th>runtime</th>\n",
       "      <th>production_countries</th>\n",
       "      <th>seasons</th>\n",
       "      <th>tmdb_popularity</th>\n",
       "      <th>tmdb_score</th>\n",
       "      <th>director</th>\n",
       "      <th>decade</th>\n",
       "      <th>genres</th>\n",
       "    </tr>\n",
       "  </thead>\n",
       "  <tbody>\n",
       "    <tr>\n",
       "      <th>0</th>\n",
       "      <td>tm89464</td>\n",
       "      <td>Miracle on 34th Street</td>\n",
       "      <td>MOVIE</td>\n",
       "      <td>Kris Kringle, seemingly the embodiment of Sant...</td>\n",
       "      <td>1947</td>\n",
       "      <td>G</td>\n",
       "      <td>96</td>\n",
       "      <td>['US']</td>\n",
       "      <td>0.0</td>\n",
       "      <td>23.515</td>\n",
       "      <td>7.388</td>\n",
       "      <td>[George Seaton]</td>\n",
       "      <td>1940</td>\n",
       "      <td>['family', 'comedy', 'drama']</td>\n",
       "    </tr>\n",
       "  </tbody>\n",
       "</table>\n",
       "</div>"
      ],
      "text/plain": [
       "        id                   title   type  \\\n",
       "0  tm89464  Miracle on 34th Street  MOVIE   \n",
       "\n",
       "                                         description  release_year  \\\n",
       "0  Kris Kringle, seemingly the embodiment of Sant...          1947   \n",
       "\n",
       "  age_certification  runtime production_countries  seasons  tmdb_popularity  \\\n",
       "0                 G       96               ['US']      0.0           23.515   \n",
       "\n",
       "   tmdb_score         director  decade                         genres  \n",
       "0       7.388  [George Seaton]    1940  ['family', 'comedy', 'drama']  "
      ]
     },
     "execution_count": 274,
     "metadata": {},
     "output_type": "execute_result"
    }
   ],
   "source": [
    "genre_df3.head(1)"
   ]
  },
  {
   "cell_type": "code",
   "execution_count": null,
   "metadata": {},
   "outputs": [],
   "source": []
  },
  {
   "cell_type": "code",
   "execution_count": null,
   "metadata": {},
   "outputs": [],
   "source": []
  },
  {
   "cell_type": "code",
   "execution_count": 280,
   "metadata": {},
   "outputs": [],
   "source": [
    "#turn object into list\n",
    "from ast import literal_eval\n",
    "genre_df3['genres'] = genre_df3['genres'].apply(literal_eval)\n"
   ]
  },
  {
   "cell_type": "code",
   "execution_count": 281,
   "metadata": {},
   "outputs": [
    {
     "data": {
      "text/html": [
       "<div>\n",
       "<style scoped>\n",
       "    .dataframe tbody tr th:only-of-type {\n",
       "        vertical-align: middle;\n",
       "    }\n",
       "\n",
       "    .dataframe tbody tr th {\n",
       "        vertical-align: top;\n",
       "    }\n",
       "\n",
       "    .dataframe thead th {\n",
       "        text-align: right;\n",
       "    }\n",
       "</style>\n",
       "<table border=\"1\" class=\"dataframe\">\n",
       "  <thead>\n",
       "    <tr style=\"text-align: right;\">\n",
       "      <th></th>\n",
       "      <th>id</th>\n",
       "      <th>title</th>\n",
       "      <th>type</th>\n",
       "      <th>description</th>\n",
       "      <th>release_year</th>\n",
       "      <th>age_certification</th>\n",
       "      <th>runtime</th>\n",
       "      <th>production_countries</th>\n",
       "      <th>seasons</th>\n",
       "      <th>tmdb_popularity</th>\n",
       "      <th>tmdb_score</th>\n",
       "      <th>director</th>\n",
       "      <th>decade</th>\n",
       "      <th>genres</th>\n",
       "    </tr>\n",
       "  </thead>\n",
       "  <tbody>\n",
       "    <tr>\n",
       "      <th>0</th>\n",
       "      <td>tm89464</td>\n",
       "      <td>Miracle on 34th Street</td>\n",
       "      <td>MOVIE</td>\n",
       "      <td>Kris Kringle, seemingly the embodiment of Sant...</td>\n",
       "      <td>1947</td>\n",
       "      <td>G</td>\n",
       "      <td>96</td>\n",
       "      <td>['US']</td>\n",
       "      <td>0.0</td>\n",
       "      <td>23.515</td>\n",
       "      <td>7.388</td>\n",
       "      <td>[George Seaton]</td>\n",
       "      <td>1940</td>\n",
       "      <td>[family, comedy, drama]</td>\n",
       "    </tr>\n",
       "  </tbody>\n",
       "</table>\n",
       "</div>"
      ],
      "text/plain": [
       "        id                   title   type  \\\n",
       "0  tm89464  Miracle on 34th Street  MOVIE   \n",
       "\n",
       "                                         description  release_year  \\\n",
       "0  Kris Kringle, seemingly the embodiment of Sant...          1947   \n",
       "\n",
       "  age_certification  runtime production_countries  seasons  tmdb_popularity  \\\n",
       "0                 G       96               ['US']      0.0           23.515   \n",
       "\n",
       "   tmdb_score         director  decade                   genres  \n",
       "0       7.388  [George Seaton]    1940  [family, comedy, drama]  "
      ]
     },
     "execution_count": 281,
     "metadata": {},
     "output_type": "execute_result"
    }
   ],
   "source": [
    "genre_df3.head(1)"
   ]
  },
  {
   "cell_type": "code",
   "execution_count": 285,
   "metadata": {},
   "outputs": [],
   "source": [
    "genre_df4 = genre_df3.explode('genres', ignore_index=True)"
   ]
  },
  {
   "cell_type": "code",
   "execution_count": 286,
   "metadata": {},
   "outputs": [
    {
     "data": {
      "text/html": [
       "<div>\n",
       "<style scoped>\n",
       "    .dataframe tbody tr th:only-of-type {\n",
       "        vertical-align: middle;\n",
       "    }\n",
       "\n",
       "    .dataframe tbody tr th {\n",
       "        vertical-align: top;\n",
       "    }\n",
       "\n",
       "    .dataframe thead th {\n",
       "        text-align: right;\n",
       "    }\n",
       "</style>\n",
       "<table border=\"1\" class=\"dataframe\">\n",
       "  <thead>\n",
       "    <tr style=\"text-align: right;\">\n",
       "      <th></th>\n",
       "      <th>id</th>\n",
       "      <th>title</th>\n",
       "      <th>type</th>\n",
       "      <th>description</th>\n",
       "      <th>release_year</th>\n",
       "      <th>age_certification</th>\n",
       "      <th>runtime</th>\n",
       "      <th>production_countries</th>\n",
       "      <th>seasons</th>\n",
       "      <th>tmdb_popularity</th>\n",
       "      <th>tmdb_score</th>\n",
       "      <th>director</th>\n",
       "      <th>decade</th>\n",
       "      <th>genres</th>\n",
       "    </tr>\n",
       "  </thead>\n",
       "  <tbody>\n",
       "    <tr>\n",
       "      <th>0</th>\n",
       "      <td>tm89464</td>\n",
       "      <td>Miracle on 34th Street</td>\n",
       "      <td>MOVIE</td>\n",
       "      <td>Kris Kringle, seemingly the embodiment of Sant...</td>\n",
       "      <td>1947</td>\n",
       "      <td>G</td>\n",
       "      <td>96</td>\n",
       "      <td>['US']</td>\n",
       "      <td>0.0</td>\n",
       "      <td>23.515</td>\n",
       "      <td>7.388</td>\n",
       "      <td>[George Seaton]</td>\n",
       "      <td>1940</td>\n",
       "      <td>family</td>\n",
       "    </tr>\n",
       "    <tr>\n",
       "      <th>1</th>\n",
       "      <td>tm89464</td>\n",
       "      <td>Miracle on 34th Street</td>\n",
       "      <td>MOVIE</td>\n",
       "      <td>Kris Kringle, seemingly the embodiment of Sant...</td>\n",
       "      <td>1947</td>\n",
       "      <td>G</td>\n",
       "      <td>96</td>\n",
       "      <td>['US']</td>\n",
       "      <td>0.0</td>\n",
       "      <td>23.515</td>\n",
       "      <td>7.388</td>\n",
       "      <td>[George Seaton]</td>\n",
       "      <td>1940</td>\n",
       "      <td>comedy</td>\n",
       "    </tr>\n",
       "  </tbody>\n",
       "</table>\n",
       "</div>"
      ],
      "text/plain": [
       "        id                   title   type  \\\n",
       "0  tm89464  Miracle on 34th Street  MOVIE   \n",
       "1  tm89464  Miracle on 34th Street  MOVIE   \n",
       "\n",
       "                                         description  release_year  \\\n",
       "0  Kris Kringle, seemingly the embodiment of Sant...          1947   \n",
       "1  Kris Kringle, seemingly the embodiment of Sant...          1947   \n",
       "\n",
       "  age_certification  runtime production_countries  seasons  tmdb_popularity  \\\n",
       "0                 G       96               ['US']      0.0           23.515   \n",
       "1                 G       96               ['US']      0.0           23.515   \n",
       "\n",
       "   tmdb_score         director  decade  genres  \n",
       "0       7.388  [George Seaton]    1940  family  \n",
       "1       7.388  [George Seaton]    1940  comedy  "
      ]
     },
     "execution_count": 286,
     "metadata": {},
     "output_type": "execute_result"
    }
   ],
   "source": [
    "genre_df4.head(2)"
   ]
  },
  {
   "cell_type": "code",
   "execution_count": null,
   "metadata": {},
   "outputs": [],
   "source": []
  },
  {
   "cell_type": "code",
   "execution_count": 287,
   "metadata": {},
   "outputs": [],
   "source": [
    "import pandas as pd\n",
    "import numpy as np\n",
    "import random\n",
    "\n",
    "  \n",
    "from matplotlib import pyplot as plt\n",
    "\n",
    "import bokeh \n",
    "\n",
    "import seaborn as sns "
   ]
  },
  {
   "cell_type": "code",
   "execution_count": null,
   "metadata": {},
   "outputs": [],
   "source": [
    "#genre graphs"
   ]
  },
  {
   "cell_type": "code",
   "execution_count": 294,
   "metadata": {},
   "outputs": [
    {
     "data": {
      "image/png": "[encoded data removed]",
      "text/plain": [
       "<Figure size 640x480 with 1 Axes>"
      ]
     },
     "metadata": {},
     "output_type": "display_data"
    }
   ],
   "source": [
    "a = sns.boxplot(y = 'tmdb_score', x='genres',data=genre_df4)\n",
    "a.set_xticklabels(a.get_xticklabels(), rotation=40, ha=\"right\")\n",
    "plt.show()"
   ]
  },
  {
   "cell_type": "code",
   "execution_count": 295,
   "metadata": {},
   "outputs": [
    {
     "data": {
      "image/png": "[encoded data removed]",
      "text/plain": [
       "<Figure size 640x480 with 1 Axes>"
      ]
     },
     "metadata": {},
     "output_type": "display_data"
    }
   ],
   "source": [
    "b = sns.boxplot(y = 'tmdb_popularity', x='genres',data=genre_df4)\n",
    "b.set_xticklabels(b.get_xticklabels(), rotation=40, ha=\"right\")\n",
    "plt.show()"
   ]
  },
  {
   "cell_type": "code",
   "execution_count": 296,
   "metadata": {},
   "outputs": [
    {
     "data": {
      "image/png": "[encoded data removed]",
      "text/plain": [
       "<Figure size 640x480 with 1 Axes>"
      ]
     },
     "metadata": {},
     "output_type": "display_data"
    }
   ],
   "source": [
    "c = sns.boxplot(y = 'tmdb_popularity', x='genres',data=genre_df4)\n",
    "c.set_xticklabels(c.get_xticklabels(), rotation=40, ha=\"right\")\n",
    "plt.ylim(0, 500)\n",
    "plt.show()"
   ]
  },
  {
   "cell_type": "code",
   "execution_count": 297,
   "metadata": {},
   "outputs": [
    {
     "data": {
      "image/png": "[encoded data removed]",
      "text/plain": [
       "<Figure size 640x480 with 1 Axes>"
      ]
     },
     "metadata": {},
     "output_type": "display_data"
    }
   ],
   "source": [
    "d = sns.boxplot(y = 'tmdb_popularity', x='genres',data=genre_df4)\n",
    "d.set_xticklabels(d.get_xticklabels(), rotation=40, ha=\"right\")\n",
    "plt.ylim(0, 100)\n",
    "plt.show()"
   ]
  },
  {
   "cell_type": "code",
   "execution_count": null,
   "metadata": {},
   "outputs": [],
   "source": []
  },
  {
   "cell_type": "code",
   "execution_count": null,
   "metadata": {},
   "outputs": [],
   "source": [
    "#rating hist"
   ]
  },
  {
   "cell_type": "markdown",
   "metadata": {},
   "source": []
  },
  {
   "cell_type": "code",
   "execution_count": 288,
   "metadata": {},
   "outputs": [
    {
     "data": {
      "text/plain": [
       "Text(0.5, 1.0, 'Score Distribution')"
      ]
     },
     "execution_count": 288,
     "metadata": {},
     "output_type": "execute_result"
    },
    {
     "data": {
      "image/png": "[encoded data removed]",
      "text/plain": [
       "<Figure size 640x480 with 1 Axes>"
      ]
     },
     "metadata": {},
     "output_type": "display_data"
    }
   ],
   "source": [
    "graphs_df['tmdb_score'].hist(bins=10)\n",
    "\n",
    "# Set title & labels\n",
    "plt.xlabel(\"tmdb score\")\n",
    "plt.ylabel(\"Count\")\n",
    "plt.title(\"Score Distribution\")"
   ]
  },
  {
   "cell_type": "code",
   "execution_count": 289,
   "metadata": {},
   "outputs": [
    {
     "data": {
      "text/plain": [
       "Text(0.5, 1.0, 'Popularity Distribution')"
      ]
     },
     "execution_count": 289,
     "metadata": {},
     "output_type": "execute_result"
    },
    {
     "data": {
      "image/png": "[encoded data removed]",
      "text/plain": [
       "<Figure size 640x480 with 1 Axes>"
      ]
     },
     "metadata": {},
     "output_type": "display_data"
    }
   ],
   "source": [
    "graphs_df['tmdb_popularity'].hist(bins=200)\n",
    "# Set title & labels\n",
    "plt.xlabel(\"tmdb popularity\")\n",
    "plt.ylabel(\"Count\")\n",
    "plt.title(\"Popularity Distribution\")"
   ]
  },
  {
   "cell_type": "code",
   "execution_count": null,
   "metadata": {},
   "outputs": [],
   "source": [
    "#genre gr"
   ]
  },
  {
   "cell_type": "code",
   "execution_count": null,
   "metadata": {},
   "outputs": [],
   "source": []
  },
  {
   "cell_type": "code",
   "execution_count": null,
   "metadata": {},
   "outputs": [],
   "source": []
  },
  {
   "cell_type": "code",
   "execution_count": null,
   "metadata": {},
   "outputs": [],
   "source": [
    "#pairwise with type"
   ]
  },
  {
   "cell_type": "code",
   "execution_count": null,
   "metadata": {},
   "outputs": [],
   "source": [
    "columns = [\"type\", 'tmdb_popularity','tmdb_score']\n",
    "sns.pairplot(graphs_df[columns] , hue=\"type\")"
   ]
  },
  {
   "cell_type": "code",
   "execution_count": null,
   "metadata": {},
   "outputs": [],
   "source": [
    "#noramlize popularity"
   ]
  },
  {
   "cell_type": "code",
   "execution_count": null,
   "metadata": {},
   "outputs": [],
   "source": [
    "#normalize runtime\n",
    "\n",
    "import numpy as np\n",
    "from sklearn.preprocessing import MinMaxScaler\n",
    "#import numpy as np\n",
    "  \n",
    "# copy the data\n",
    "pop_normal = graphs_df.copy()\n",
    "  \n",
    "# apply normalization techniques\n",
    "column = 'tmdb_popularity'\n",
    "pop_normal[column] = MinMaxScaler().fit_transform(np.array(pop_normal[column]).reshape(-1,1))\n",
    "  \n",
    "# view normalized data  \n",
    "pop_normal.head(2)"
   ]
  },
  {
   "cell_type": "code",
   "execution_count": null,
   "metadata": {},
   "outputs": [],
   "source": [
    "columns = [\"type\", 'tmdb_popularity','tmdb_score']\n",
    "sns.pairplot(pop_normal[columns] , hue=\"type\")"
   ]
  },
  {
   "cell_type": "code",
   "execution_count": null,
   "metadata": {},
   "outputs": [],
   "source": []
  },
  {
   "cell_type": "code",
   "execution_count": null,
   "metadata": {},
   "outputs": [],
   "source": []
  },
  {
   "cell_type": "code",
   "execution_count": null,
   "metadata": {},
   "outputs": [],
   "source": []
  },
  {
   "cell_type": "code",
   "execution_count": null,
   "metadata": {},
   "outputs": [],
   "source": []
  },
  {
   "cell_type": "code",
   "execution_count": null,
   "metadata": {},
   "outputs": [],
   "source": [
    "########################################### SANDBOX #######################"
   ]
  },
  {
   "cell_type": "code",
   "execution_count": null,
   "metadata": {},
   "outputs": [],
   "source": []
  },
  {
   "cell_type": "code",
   "execution_count": null,
   "metadata": {},
   "outputs": [],
   "source": []
  },
  {
   "cell_type": "code",
   "execution_count": null,
   "metadata": {},
   "outputs": [],
   "source": [
    "def recommend(title):\n",
    "    movie_id=data[data.Name==title][\"ids\"].values[0]\n",
    "    scores=list(enumerate(sim[movie_id]))\n",
    "    sorted_scores=sorted(scores,key=lambda x:x[1],reverse=True)\n",
    "    sorted_scores=sorted_scores[1:]\n",
    "    movies=[data[movies[0]==data[\"ids\"]][\"Name\"].values[0] for movies in sorted_scores]\n",
    "    return movies"
   ]
  },
  {
   "cell_type": "code",
   "execution_count": null,
   "metadata": {},
   "outputs": [],
   "source": []
  },
  {
   "cell_type": "code",
   "execution_count": null,
   "metadata": {},
   "outputs": [],
   "source": []
  },
  {
   "cell_type": "code",
   "execution_count": null,
   "metadata": {},
   "outputs": [],
   "source": [
    "#get similar titles in ordered list\n",
    "def recommend(title):\n",
    "    movie_id=actors_merged[actors_merged.title == title]['index'].values[0]\n",
    "    similar_movies = list(enumerate(cosine_sim[movie_index]))\n",
    "    sorted_similar_movies = sorted(similar_movies, key=lambda x:x[1], reverse=True)\n",
    "    movies=[actors_merged[movies[0]==actors_merged[\"index\"]][\"title\"].values[0] for movies in sorted_similar_movies]\n",
    "    return movies\n",
    "    return id_list\n",
    "\n",
    "#get 10 most similar titles\n",
    "def recommend_ten(movie_list):\n",
    "    first_ten=[]\n",
    "    count=0\n",
    "    for movie in movie_list:\n",
    "        if count > 9:\n",
    "            break\n",
    "        count+=1\n",
    "        first_ten.append(movie)\n",
    "    return first_ten\n",
    "\n",
    "\n",
    "  \n",
    "        \n"
   ]
  },
  {
   "cell_type": "code",
   "execution_count": null,
   "metadata": {},
   "outputs": [],
   "source": [
    "#get 10 most similar id\n",
    "def recommend_ten_id(movie_list):\n",
    "    first_ten=[]\n",
    "    count=0\n",
    "    for movie in movie_list:\n",
    "        if count > 9:\n",
    "            break\n",
    "        count+=1\n",
    "        first_ten.append(movie)\n",
    "    return first_ten\n"
   ]
  },
  {
   "cell_type": "code",
   "execution_count": null,
   "metadata": {},
   "outputs": [],
   "source": [
    "#get 15 most similar titles\n",
    "\n",
    "def get_title_from_index(index):\n",
    "    return actors_merged[actors_merged.index == index][\"title\"].values[0]\n",
    "\n",
    "t=0\n",
    "similar_movie =[] \n",
    "similar_id =[] \n",
    "for movie in sorted_similar_movies:\n",
    "    movie = get_title_from_index(movie[0])\n",
    "    similar_movie.append(movie)\n",
    "    t=t+1\n",
    "    if t>15:\n",
    "        break\n"
   ]
  },
  {
   "cell_type": "code",
   "execution_count": null,
   "metadata": {},
   "outputs": [],
   "source": [
    "def recommend_ten(movie_list):\n",
    "    first_ten=[]\n",
    "    count=0\n",
    "    for movie in movie_list:\n",
    "        if count > 9:\n",
    "            break\n",
    "        count+=1\n",
    "        first_ten.append(movie)\n",
    "    return first_ten"
   ]
  },
  {
   "cell_type": "code",
   "execution_count": null,
   "metadata": {
    "tags": []
   },
   "outputs": [],
   "source": [
    "recommend('Toy Story')"
   ]
  },
  {
   "cell_type": "code",
   "execution_count": null,
   "metadata": {},
   "outputs": [],
   "source": []
  }
 ],
 "metadata": {
  "kernelspec": {
   "display_name": "Python 3 (ipykernel)",
   "language": "python",
   "name": "python3"
  },
  "language_info": {
   "codemirror_mode": {
    "name": "ipython",
    "version": 3
   },
   "file_extension": ".py",
   "mimetype": "text/x-python",
   "name": "python",
   "nbconvert_exporter": "python",
   "pygments_lexer": "ipython3",
   "version": "3.10.9"
  }
 },
 "nbformat": 4,
 "nbformat_minor": 4
}
