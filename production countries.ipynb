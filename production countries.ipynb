{
 "cells": [
  {
   "cell_type": "code",
   "execution_count": 2,
   "metadata": {},
   "outputs": [],
   "source": [
    "import pandas as pd\n",
    "credits = pd.read_csv('credits.csv')\n",
    "titles = pd.read_csv('titles.csv')"
   ]
  },
  {
   "cell_type": "code",
   "execution_count": 3,
   "metadata": {},
   "outputs": [
    {
     "data": {
      "text/plain": [
       "(1854, 15)"
      ]
     },
     "execution_count": 3,
     "metadata": {},
     "output_type": "execute_result"
    }
   ],
   "source": [
    "titles.shape"
   ]
  },
  {
   "cell_type": "code",
   "execution_count": 4,
   "metadata": {},
   "outputs": [
    {
     "data": {
      "text/plain": [
       "(30689, 5)"
      ]
     },
     "execution_count": 4,
     "metadata": {},
     "output_type": "execute_result"
    }
   ],
   "source": [
    "credits.shape"
   ]
  },
  {
   "cell_type": "code",
   "execution_count": 5,
   "metadata": {},
   "outputs": [],
   "source": [
    "director = credits[credits['role'] == 'DIRECTOR']"
   ]
  },
  {
   "cell_type": "code",
   "execution_count": 6,
   "metadata": {},
   "outputs": [
    {
     "data": {
      "text/plain": [
       "(1567, 5)"
      ]
     },
     "execution_count": 6,
     "metadata": {},
     "output_type": "execute_result"
    }
   ],
   "source": [
    "director.shape"
   ]
  },
  {
   "cell_type": "code",
   "execution_count": 7,
   "metadata": {},
   "outputs": [],
   "source": [
    "director_grouped = director.groupby('id').agg({'name': 'unique'}).reset_index()"
   ]
  },
  {
   "cell_type": "code",
   "execution_count": 8,
   "metadata": {},
   "outputs": [
    {
     "data": {
      "text/plain": [
       "(1291, 2)"
      ]
     },
     "execution_count": 8,
     "metadata": {},
     "output_type": "execute_result"
    }
   ],
   "source": [
    "director_grouped.shape"
   ]
  },
  {
   "cell_type": "code",
   "execution_count": 9,
   "metadata": {},
   "outputs": [
    {
     "data": {
      "text/html": [
       "<div>\n",
       "<style scoped>\n",
       "    .dataframe tbody tr th:only-of-type {\n",
       "        vertical-align: middle;\n",
       "    }\n",
       "\n",
       "    .dataframe tbody tr th {\n",
       "        vertical-align: top;\n",
       "    }\n",
       "\n",
       "    .dataframe thead th {\n",
       "        text-align: right;\n",
       "    }\n",
       "</style>\n",
       "<table border=\"1\" class=\"dataframe\">\n",
       "  <thead>\n",
       "    <tr style=\"text-align: right;\">\n",
       "      <th></th>\n",
       "      <th>id</th>\n",
       "      <th>name</th>\n",
       "    </tr>\n",
       "  </thead>\n",
       "  <tbody>\n",
       "    <tr>\n",
       "      <th>934</th>\n",
       "      <td>tm61729</td>\n",
       "      <td>[James Algar, Clyde Geronimi, Jack Kinney]</td>\n",
       "    </tr>\n",
       "  </tbody>\n",
       "</table>\n",
       "</div>"
      ],
      "text/plain": [
       "          id                                        name\n",
       "934  tm61729  [James Algar, Clyde Geronimi, Jack Kinney]"
      ]
     },
     "execution_count": 9,
     "metadata": {},
     "output_type": "execute_result"
    }
   ],
   "source": [
    "director_grouped[director_grouped['id'] == 'tm61729']"
   ]
  },
  {
   "cell_type": "code",
   "execution_count": 10,
   "metadata": {},
   "outputs": [],
   "source": [
    "merged = pd.merge(titles, director_grouped, on = 'id', how='outer')\n",
    "merged = merged.rename(columns={'name': 'director'})"
   ]
  },
  {
   "cell_type": "code",
   "execution_count": 11,
   "metadata": {},
   "outputs": [
    {
     "data": {
      "text/plain": [
       "(1854, 16)"
      ]
     },
     "execution_count": 11,
     "metadata": {},
     "output_type": "execute_result"
    }
   ],
   "source": [
    "merged.shape"
   ]
  },
  {
   "cell_type": "code",
   "execution_count": 12,
   "metadata": {},
   "outputs": [
    {
     "data": {
      "text/plain": [
       "id                         0\n",
       "title                      0\n",
       "type                       0\n",
       "description                9\n",
       "release_year               0\n",
       "age_certification        451\n",
       "runtime                    0\n",
       "genres                     0\n",
       "production_countries       0\n",
       "seasons                 1314\n",
       "imdb_id                  478\n",
       "imdb_score               515\n",
       "imdb_votes               526\n",
       "tmdb_popularity           15\n",
       "tmdb_score               146\n",
       "director                 563\n",
       "dtype: int64"
      ]
     },
     "execution_count": 12,
     "metadata": {},
     "output_type": "execute_result"
    }
   ],
   "source": [
    "merged.isna().sum()"
   ]
  },
  {
   "cell_type": "code",
   "execution_count": 13,
   "metadata": {},
   "outputs": [],
   "source": [
    "merged.loc[merged['seasons'].isnull(), 'seasons'] = 0\n",
    "merged.loc[merged['age_certification'].isnull(), 'age_certification'] = 'UNRATED'"
   ]
  },
  {
   "cell_type": "code",
   "execution_count": 14,
   "metadata": {},
   "outputs": [],
   "source": [
    "def rate(x):\n",
    "    if x == 'UNRATED':\n",
    "        return 0\n",
    "    elif x == 'G':\n",
    "        return 1\n",
    "    elif x == 'PG':\n",
    "        return 2\n",
    "    elif x == 'PG-13':\n",
    "        return 3\n",
    "    elif x == 'R':\n",
    "        return 4\n",
    "    elif x == 'TV-G':\n",
    "        return 5\n",
    "    elif x == 'TV-Y7':\n",
    "        return 6\n",
    "    elif x == 'TV-Y':\n",
    "        return 7\n",
    "    elif x == 'TV-PG':\n",
    "        return 8\n",
    "    return 9\n",
    "\n",
    "\n",
    "merged['age_rating'] = merged['age_certification'].apply(rate)"
   ]
  },
  {
   "cell_type": "code",
   "execution_count": 15,
   "metadata": {},
   "outputs": [
    {
     "data": {
      "text/html": [
       "<div>\n",
       "<style scoped>\n",
       "    .dataframe tbody tr th:only-of-type {\n",
       "        vertical-align: middle;\n",
       "    }\n",
       "\n",
       "    .dataframe tbody tr th {\n",
       "        vertical-align: top;\n",
       "    }\n",
       "\n",
       "    .dataframe thead th {\n",
       "        text-align: right;\n",
       "    }\n",
       "</style>\n",
       "<table border=\"1\" class=\"dataframe\">\n",
       "  <thead>\n",
       "    <tr style=\"text-align: right;\">\n",
       "      <th></th>\n",
       "      <th>id</th>\n",
       "      <th>title</th>\n",
       "      <th>type</th>\n",
       "      <th>description</th>\n",
       "      <th>release_year</th>\n",
       "      <th>age_certification</th>\n",
       "      <th>runtime</th>\n",
       "      <th>genres</th>\n",
       "      <th>production_countries</th>\n",
       "      <th>seasons</th>\n",
       "      <th>imdb_id</th>\n",
       "      <th>imdb_score</th>\n",
       "      <th>imdb_votes</th>\n",
       "      <th>tmdb_popularity</th>\n",
       "      <th>tmdb_score</th>\n",
       "      <th>director</th>\n",
       "      <th>age_rating</th>\n",
       "    </tr>\n",
       "  </thead>\n",
       "  <tbody>\n",
       "    <tr>\n",
       "      <th>0</th>\n",
       "      <td>tm89464</td>\n",
       "      <td>Miracle on 34th Street</td>\n",
       "      <td>MOVIE</td>\n",
       "      <td>Kris Kringle, seemingly the embodiment of Sant...</td>\n",
       "      <td>1947</td>\n",
       "      <td>G</td>\n",
       "      <td>96</td>\n",
       "      <td>['family', 'comedy', 'drama']</td>\n",
       "      <td>['US']</td>\n",
       "      <td>0.0</td>\n",
       "      <td>tt0039628</td>\n",
       "      <td>7.9</td>\n",
       "      <td>50969.0</td>\n",
       "      <td>23.515</td>\n",
       "      <td>7.388</td>\n",
       "      <td>[George Seaton]</td>\n",
       "      <td>1</td>\n",
       "    </tr>\n",
       "    <tr>\n",
       "      <th>1</th>\n",
       "      <td>tm61729</td>\n",
       "      <td>The Adventures of Ichabod and Mr. Toad</td>\n",
       "      <td>MOVIE</td>\n",
       "      <td>The Wind in the Willows: Concise version of Ke...</td>\n",
       "      <td>1950</td>\n",
       "      <td>G</td>\n",
       "      <td>68</td>\n",
       "      <td>['horror', 'fantasy', 'animation', 'family', '...</td>\n",
       "      <td>['US']</td>\n",
       "      <td>0.0</td>\n",
       "      <td>tt0041094</td>\n",
       "      <td>6.9</td>\n",
       "      <td>16502.0</td>\n",
       "      <td>16.194</td>\n",
       "      <td>6.500</td>\n",
       "      <td>[James Algar, Clyde Geronimi, Jack Kinney]</td>\n",
       "      <td>1</td>\n",
       "    </tr>\n",
       "    <tr>\n",
       "      <th>2</th>\n",
       "      <td>tm61052</td>\n",
       "      <td>Cinderella</td>\n",
       "      <td>MOVIE</td>\n",
       "      <td>Cinderella has faith her dreams of a better li...</td>\n",
       "      <td>1950</td>\n",
       "      <td>G</td>\n",
       "      <td>74</td>\n",
       "      <td>['fantasy', 'animation', 'family', 'romance']</td>\n",
       "      <td>['US']</td>\n",
       "      <td>0.0</td>\n",
       "      <td>tt0042332</td>\n",
       "      <td>7.3</td>\n",
       "      <td>164292.0</td>\n",
       "      <td>93.547</td>\n",
       "      <td>7.035</td>\n",
       "      <td>[Wilfred Jackson, Hamilton Luske, Clyde Geronimi]</td>\n",
       "      <td>1</td>\n",
       "    </tr>\n",
       "    <tr>\n",
       "      <th>3</th>\n",
       "      <td>tm87946</td>\n",
       "      <td>Dumbo</td>\n",
       "      <td>MOVIE</td>\n",
       "      <td>Dumbo is a baby elephant born with over-sized ...</td>\n",
       "      <td>1941</td>\n",
       "      <td>G</td>\n",
       "      <td>64</td>\n",
       "      <td>['animation', 'drama', 'family', 'fantasy']</td>\n",
       "      <td>['US']</td>\n",
       "      <td>0.0</td>\n",
       "      <td>tt0033563</td>\n",
       "      <td>7.2</td>\n",
       "      <td>135045.0</td>\n",
       "      <td>54.265</td>\n",
       "      <td>6.999</td>\n",
       "      <td>[Ben Sharpsteen, Jack Kinney, William Roberts,...</td>\n",
       "      <td>1</td>\n",
       "    </tr>\n",
       "    <tr>\n",
       "      <th>4</th>\n",
       "      <td>tm74391</td>\n",
       "      <td>Fantasia</td>\n",
       "      <td>MOVIE</td>\n",
       "      <td>Walt Disney's timeless masterpiece is an extra...</td>\n",
       "      <td>1941</td>\n",
       "      <td>G</td>\n",
       "      <td>119</td>\n",
       "      <td>['animation', 'family', 'fantasy', 'music']</td>\n",
       "      <td>['US']</td>\n",
       "      <td>0.0</td>\n",
       "      <td>tt0032455</td>\n",
       "      <td>7.7</td>\n",
       "      <td>98764.0</td>\n",
       "      <td>43.609</td>\n",
       "      <td>7.382</td>\n",
       "      <td>[Paul Satterfield, Hamilton Luske, Jim Handley...</td>\n",
       "      <td>1</td>\n",
       "    </tr>\n",
       "  </tbody>\n",
       "</table>\n",
       "</div>"
      ],
      "text/plain": [
       "        id                                   title   type  \\\n",
       "0  tm89464                  Miracle on 34th Street  MOVIE   \n",
       "1  tm61729  The Adventures of Ichabod and Mr. Toad  MOVIE   \n",
       "2  tm61052                              Cinderella  MOVIE   \n",
       "3  tm87946                                   Dumbo  MOVIE   \n",
       "4  tm74391                                Fantasia  MOVIE   \n",
       "\n",
       "                                         description  release_year  \\\n",
       "0  Kris Kringle, seemingly the embodiment of Sant...          1947   \n",
       "1  The Wind in the Willows: Concise version of Ke...          1950   \n",
       "2  Cinderella has faith her dreams of a better li...          1950   \n",
       "3  Dumbo is a baby elephant born with over-sized ...          1941   \n",
       "4  Walt Disney's timeless masterpiece is an extra...          1941   \n",
       "\n",
       "  age_certification  runtime  \\\n",
       "0                 G       96   \n",
       "1                 G       68   \n",
       "2                 G       74   \n",
       "3                 G       64   \n",
       "4                 G      119   \n",
       "\n",
       "                                              genres production_countries  \\\n",
       "0                      ['family', 'comedy', 'drama']               ['US']   \n",
       "1  ['horror', 'fantasy', 'animation', 'family', '...               ['US']   \n",
       "2      ['fantasy', 'animation', 'family', 'romance']               ['US']   \n",
       "3        ['animation', 'drama', 'family', 'fantasy']               ['US']   \n",
       "4        ['animation', 'family', 'fantasy', 'music']               ['US']   \n",
       "\n",
       "   seasons    imdb_id  imdb_score  imdb_votes  tmdb_popularity  tmdb_score  \\\n",
       "0      0.0  tt0039628         7.9     50969.0           23.515       7.388   \n",
       "1      0.0  tt0041094         6.9     16502.0           16.194       6.500   \n",
       "2      0.0  tt0042332         7.3    164292.0           93.547       7.035   \n",
       "3      0.0  tt0033563         7.2    135045.0           54.265       6.999   \n",
       "4      0.0  tt0032455         7.7     98764.0           43.609       7.382   \n",
       "\n",
       "                                            director  age_rating  \n",
       "0                                    [George Seaton]           1  \n",
       "1         [James Algar, Clyde Geronimi, Jack Kinney]           1  \n",
       "2  [Wilfred Jackson, Hamilton Luske, Clyde Geronimi]           1  \n",
       "3  [Ben Sharpsteen, Jack Kinney, William Roberts,...           1  \n",
       "4  [Paul Satterfield, Hamilton Luske, Jim Handley...           1  "
      ]
     },
     "execution_count": 15,
     "metadata": {},
     "output_type": "execute_result"
    }
   ],
   "source": [
    "merged.head()"
   ]
  },
  {
   "cell_type": "code",
   "execution_count": 16,
   "metadata": {},
   "outputs": [],
   "source": [
    "disney = merged.dropna(subset=['tmdb_score'])"
   ]
  },
  {
   "cell_type": "code",
   "execution_count": 17,
   "metadata": {},
   "outputs": [
    {
     "data": {
      "text/plain": [
       "(1708, 17)"
      ]
     },
     "execution_count": 17,
     "metadata": {},
     "output_type": "execute_result"
    }
   ],
   "source": [
    "disney.shape"
   ]
  },
  {
   "cell_type": "code",
   "execution_count": 18,
   "metadata": {},
   "outputs": [],
   "source": [
    "df1 = disney.copy(deep=True)"
   ]
  },
  {
   "cell_type": "code",
   "execution_count": 19,
   "metadata": {},
   "outputs": [],
   "source": [
    "df1['production_countries'] = df1['production_countries'].apply(lambda x: eval(x))"
   ]
  },
  {
   "cell_type": "code",
   "execution_count": 20,
   "metadata": {},
   "outputs": [
    {
     "data": {
      "text/plain": [
       "6.8010359666024405"
      ]
     },
     "execution_count": 20,
     "metadata": {},
     "output_type": "execute_result"
    }
   ],
   "source": [
    "#average score if us is the production countries\n",
    "df1[df1['production_countries'].apply(lambda x: 'US' in x)]['tmdb_score'].mean()"
   ]
  },
  {
   "cell_type": "code",
   "execution_count": 21,
   "metadata": {},
   "outputs": [
    {
     "data": {
      "text/plain": [
       "6.987192052980133"
      ]
     },
     "execution_count": 21,
     "metadata": {},
     "output_type": "execute_result"
    }
   ],
   "source": [
    "#average score if us is not the production countries\n",
    "df1[df1['production_countries'].apply(lambda x: 'US' not in x)]['tmdb_score'].mean()"
   ]
  },
  {
   "cell_type": "code",
   "execution_count": 22,
   "metadata": {},
   "outputs": [
    {
     "data": {
      "text/plain": [
       "6.814694699646643"
      ]
     },
     "execution_count": 22,
     "metadata": {},
     "output_type": "execute_result"
    }
   ],
   "source": [
    "#us is the only production country\n",
    "df1[df1['production_countries'].apply(lambda x: x == ['US'])]['tmdb_score'].mean()"
   ]
  },
  {
   "cell_type": "code",
   "execution_count": 23,
   "metadata": {},
   "outputs": [
    {
     "data": {
      "text/plain": [
       "(1895, 17)"
      ]
     },
     "execution_count": 23,
     "metadata": {},
     "output_type": "execute_result"
    }
   ],
   "source": [
    "df1 = df1.explode('production_countries')\n",
    "df1.shape"
   ]
  },
  {
   "cell_type": "code",
   "execution_count": 24,
   "metadata": {},
   "outputs": [
    {
     "data": {
      "text/plain": [
       "production_countries\n",
       "AE    8.000000\n",
       "AR    7.901800\n",
       "AT    7.050000\n",
       "AU    6.527211\n",
       "BE    6.552000\n",
       "BR    6.722167\n",
       "BW    7.000000\n",
       "CA    6.462375\n",
       "CH    7.400000\n",
       "CI    7.000000\n",
       "CL    7.500000\n",
       "CN    6.886750\n",
       "CO    8.053333\n",
       "CZ    6.600000\n",
       "DE    6.576091\n",
       "DK    6.677750\n",
       "ES    7.240000\n",
       "FR    6.905852\n",
       "GB    6.934372\n",
       "GT    9.000000\n",
       "HK    7.400000\n",
       "IE    5.900000\n",
       "IN    7.051143\n",
       "IT    7.681400\n",
       "JP    6.877300\n",
       "KI    7.200000\n",
       "KR    7.892714\n",
       "MC    7.400000\n",
       "MX    7.708333\n",
       "NL    6.500000\n",
       "NO    6.500000\n",
       "NZ    6.573800\n",
       "PH    8.300000\n",
       "PL    6.600000\n",
       "PR    7.000000\n",
       "SE    6.500000\n",
       "SI    6.600000\n",
       "SK    6.381000\n",
       "TR    5.700000\n",
       "TW    4.500000\n",
       "UG    7.000000\n",
       "US    6.801036\n",
       "ZA    8.100000\n",
       "Name: tmdb_score, dtype: float64"
      ]
     },
     "execution_count": 24,
     "metadata": {},
     "output_type": "execute_result"
    }
   ],
   "source": [
    "df1.groupby('production_countries')['tmdb_score'].mean()"
   ]
  },
  {
   "cell_type": "code",
   "execution_count": 25,
   "metadata": {},
   "outputs": [],
   "source": [
    "counts = df1['production_countries'].value_counts()"
   ]
  },
  {
   "cell_type": "code",
   "execution_count": 26,
   "metadata": {},
   "outputs": [
    {
     "data": {
      "text/plain": [
       "US    1557\n",
       "GB      86\n",
       "CA      64\n",
       "FR      27\n",
       "AU      19\n",
       "DE      11\n",
       "AR      10\n",
       "JP      10\n",
       "CN       8\n",
       "KR       7\n",
       "IN       7\n",
       "BR       6\n",
       "NZ       5\n",
       "IT       5\n",
       "ES       5\n",
       "DK       4\n",
       "CO       3\n",
       "MX       3\n",
       "BE       2\n",
       "AT       2\n",
       "PH       2\n",
       "BW       1\n",
       "GT       1\n",
       "TW       1\n",
       "KI       1\n",
       "TR       1\n",
       "ZA       1\n",
       "CL       1\n",
       "UG       1\n",
       "AE       1\n",
       "NL       1\n",
       "CI       1\n",
       "SE       1\n",
       "HK       1\n",
       "NO       1\n",
       "IE       1\n",
       "CZ       1\n",
       "SI       1\n",
       "PL       1\n",
       "SK       1\n",
       "MC       1\n",
       "CH       1\n",
       "PR       1\n",
       "Name: production_countries, dtype: int64"
      ]
     },
     "execution_count": 26,
     "metadata": {},
     "output_type": "execute_result"
    }
   ],
   "source": [
    "counts"
   ]
  },
  {
   "cell_type": "code",
   "execution_count": 27,
   "metadata": {},
   "outputs": [
    {
     "data": {
      "text/plain": [
       "Index(['US', 'GB', 'CA', 'FR', 'AU', 'DE', 'AR', 'JP', 'CN', 'KR', 'IN', 'BR',\n",
       "       'NZ', 'IT', 'ES'],\n",
       "      dtype='object')"
      ]
     },
     "execution_count": 27,
     "metadata": {},
     "output_type": "execute_result"
    }
   ],
   "source": [
    "counts[counts >= 5].index"
   ]
  },
  {
   "cell_type": "code",
   "execution_count": 28,
   "metadata": {},
   "outputs": [],
   "source": [
    "filtered = df1[df1['production_countries'].isin(counts[counts > 5].index)]"
   ]
  },
  {
   "cell_type": "code",
   "execution_count": 90,
   "metadata": {},
   "outputs": [
    {
     "data": {
      "text/plain": [
       "production_countries\n",
       "AR    7.901800\n",
       "KR    7.892714\n",
       "IN    7.051143\n",
       "GB    6.934372\n",
       "FR    6.905852\n",
       "Name: tmdb_score, dtype: float64"
      ]
     },
     "execution_count": 90,
     "metadata": {},
     "output_type": "execute_result"
    }
   ],
   "source": [
    "country_scores = filtered.groupby('production_countries')['tmdb_score'].mean()\n",
    "sorted_scores = country_scores.sort_values(ascending=False)\n",
    "\n",
    "#the top 5 countries from the sorted Series\n",
    "top5= sorted_scores.head(5)\n",
    "top5"
   ]
  },
  {
   "cell_type": "code",
   "execution_count": 115,
   "metadata": {},
   "outputs": [
    {
     "data": {
      "image/png": "[encoded data removed]",
      "text/plain": [
       "<Figure size 1200x800 with 1 Axes>"
      ]
     },
     "metadata": {},
     "output_type": "display_data"
    }
   ],
   "source": [
    "import seaborn as sns\n",
    "import matplotlib.pyplot as plt\n",
    "\n",
    "sns.set_style(\"whitegrid\")\n",
    "plt.figure(figsize=(12,8))\n",
    "sns.barplot(y=sorted_scores[:5].values, x=sorted_scores[:5].index, color='lightblue')\n",
    "plt.title('Mean TMDB Score by Production Country')\n",
    "plt.xlabel('Production Countries')\n",
    "plt.ylabel('Mean TMDB Score')\n",
    "\n",
    "plt.show()"
   ]
  },
  {
   "cell_type": "code",
   "execution_count": 116,
   "metadata": {},
   "outputs": [
    {
     "data": {
      "text/plain": [
       "production_countries\n",
       "BR    82.004000\n",
       "AR    66.304700\n",
       "FR    34.733074\n",
       "IN    30.508714\n",
       "CN    30.119875\n",
       "Name: tmdb_popularity, dtype: float64"
      ]
     },
     "execution_count": 116,
     "metadata": {},
     "output_type": "execute_result"
    }
   ],
   "source": [
    "#popularity\n",
    "country_scores = filtered.groupby('production_countries')['tmdb_popularity'].mean()\n",
    "sorted_scores = country_scores.sort_values(ascending=False)\n",
    "\n",
    "#the top 5 countries from the sorted Series\n",
    "top5= sorted_scores.head(5)\n",
    "top5"
   ]
  },
  {
   "cell_type": "code",
   "execution_count": 117,
   "metadata": {},
   "outputs": [
    {
     "data": {
      "image/png": "[encoded data removed]",
      "text/plain": [
       "<Figure size 1200x800 with 1 Axes>"
      ]
     },
     "metadata": {},
     "output_type": "display_data"
    }
   ],
   "source": [
    "import seaborn as sns\n",
    "import matplotlib.pyplot as plt\n",
    "\n",
    "sns.set_style(\"whitegrid\")\n",
    "plt.figure(figsize=(12,8))\n",
    "sns.barplot(x=sorted_scores[:5].index, y=sorted_scores[:5].values, color='lightsalmon')\n",
    "plt.title('Mean TMDB Popularity Score by Production Country (Top 5)')\n",
    "plt.xlabel('Production Countries')\n",
    "plt.ylabel('Mean TMDB Popularity Score')\n",
    "\n",
    "plt.show()"
   ]
  },
  {
   "cell_type": "code",
   "execution_count": 31,
   "metadata": {},
   "outputs": [
    {
     "data": {
      "text/plain": [
       "(27, 17)"
      ]
     },
     "execution_count": 31,
     "metadata": {},
     "output_type": "execute_result"
    }
   ],
   "source": [
    "df1[df1['production_countries'] == 'FR'].shape"
   ]
  },
  {
   "cell_type": "code",
   "execution_count": 32,
   "metadata": {},
   "outputs": [
    {
     "data": {
      "text/plain": [
       "array(['US', 'GB', 'CA', 'FR', 'AU', 'DE', 'JP', 'IN', 'CN', 'BR', 'AR',\n",
       "       'KR'], dtype=object)"
      ]
     },
     "execution_count": 32,
     "metadata": {},
     "output_type": "execute_result"
    }
   ],
   "source": [
    "filtered['production_countries'].unique()"
   ]
  },
  {
   "cell_type": "code",
   "execution_count": 33,
   "metadata": {},
   "outputs": [
    {
     "data": {
      "text/plain": [
       "Index(['id', 'title', 'type', 'description', 'release_year',\n",
       "       'age_certification', 'runtime', 'genres', 'production_countries',\n",
       "       'seasons', 'imdb_id', 'imdb_score', 'imdb_votes', 'tmdb_popularity',\n",
       "       'tmdb_score', 'director', 'age_rating'],\n",
       "      dtype='object')"
      ]
     },
     "execution_count": 33,
     "metadata": {},
     "output_type": "execute_result"
    }
   ],
   "source": [
    "disney.columns"
   ]
  },
  {
   "cell_type": "code",
   "execution_count": 34,
   "metadata": {},
   "outputs": [
    {
     "name": "stdout",
     "output_type": "stream",
     "text": [
      "Root Mean Squared Error: 1.1500334097240918\n",
      "R-squared: 0.048114140354475254\n"
     ]
    }
   ],
   "source": [
    "from sklearn.linear_model import LinearRegression\n",
    "import math\n",
    "from sklearn.model_selection import train_test_split\n",
    "from sklearn.metrics import mean_squared_error, r2_score\n",
    "\n",
    "x = disney[['release_year', 'runtime', 'tmdb_popularity', 'seasons', 'age_rating']]\n",
    "y = disney[\"tmdb_score\"]\n",
    "\n",
    "x_train, x_test, y_train, y_test = train_test_split(x, y, test_size=0.2, random_state=42)\n",
    "\n",
    "model = LinearRegression().fit(x_train, y_train)\n",
    "y_pred = model.predict(x_test)\n",
    "rmse = math.sqrt(mean_squared_error(y_test, y_pred))\n",
    "r2 = r2_score(y_test, y_pred)\n",
    "\n",
    "print(\"Root Mean Squared Error:\", rmse)\n",
    "print(\"R-squared:\", r2)\n",
    "\n"
   ]
  },
  {
   "cell_type": "code",
   "execution_count": 35,
   "metadata": {},
   "outputs": [
    {
     "data": {
      "text/html": [
       "<div>\n",
       "<style scoped>\n",
       "    .dataframe tbody tr th:only-of-type {\n",
       "        vertical-align: middle;\n",
       "    }\n",
       "\n",
       "    .dataframe tbody tr th {\n",
       "        vertical-align: top;\n",
       "    }\n",
       "\n",
       "    .dataframe thead th {\n",
       "        text-align: right;\n",
       "    }\n",
       "</style>\n",
       "<table border=\"1\" class=\"dataframe\">\n",
       "  <thead>\n",
       "    <tr style=\"text-align: right;\">\n",
       "      <th></th>\n",
       "      <th>real score</th>\n",
       "      <th>predict score</th>\n",
       "    </tr>\n",
       "  </thead>\n",
       "  <tbody>\n",
       "    <tr>\n",
       "      <th>0</th>\n",
       "      <td>6.700</td>\n",
       "      <td>6.654016</td>\n",
       "    </tr>\n",
       "    <tr>\n",
       "      <th>1</th>\n",
       "      <td>6.951</td>\n",
       "      <td>6.650189</td>\n",
       "    </tr>\n",
       "    <tr>\n",
       "      <th>2</th>\n",
       "      <td>6.600</td>\n",
       "      <td>7.403610</td>\n",
       "    </tr>\n",
       "    <tr>\n",
       "      <th>3</th>\n",
       "      <td>5.300</td>\n",
       "      <td>6.691383</td>\n",
       "    </tr>\n",
       "    <tr>\n",
       "      <th>4</th>\n",
       "      <td>7.400</td>\n",
       "      <td>6.594606</td>\n",
       "    </tr>\n",
       "    <tr>\n",
       "      <th>5</th>\n",
       "      <td>6.300</td>\n",
       "      <td>6.769163</td>\n",
       "    </tr>\n",
       "    <tr>\n",
       "      <th>6</th>\n",
       "      <td>7.000</td>\n",
       "      <td>6.626628</td>\n",
       "    </tr>\n",
       "    <tr>\n",
       "      <th>7</th>\n",
       "      <td>7.000</td>\n",
       "      <td>7.259532</td>\n",
       "    </tr>\n",
       "    <tr>\n",
       "      <th>8</th>\n",
       "      <td>8.019</td>\n",
       "      <td>7.931054</td>\n",
       "    </tr>\n",
       "    <tr>\n",
       "      <th>9</th>\n",
       "      <td>6.600</td>\n",
       "      <td>6.624721</td>\n",
       "    </tr>\n",
       "    <tr>\n",
       "      <th>10</th>\n",
       "      <td>8.000</td>\n",
       "      <td>7.266246</td>\n",
       "    </tr>\n",
       "    <tr>\n",
       "      <th>11</th>\n",
       "      <td>6.300</td>\n",
       "      <td>6.520504</td>\n",
       "    </tr>\n",
       "    <tr>\n",
       "      <th>12</th>\n",
       "      <td>6.300</td>\n",
       "      <td>6.831174</td>\n",
       "    </tr>\n",
       "    <tr>\n",
       "      <th>13</th>\n",
       "      <td>7.000</td>\n",
       "      <td>6.625022</td>\n",
       "    </tr>\n",
       "    <tr>\n",
       "      <th>14</th>\n",
       "      <td>7.700</td>\n",
       "      <td>6.622166</td>\n",
       "    </tr>\n",
       "    <tr>\n",
       "      <th>15</th>\n",
       "      <td>8.100</td>\n",
       "      <td>6.665143</td>\n",
       "    </tr>\n",
       "    <tr>\n",
       "      <th>16</th>\n",
       "      <td>7.000</td>\n",
       "      <td>7.149682</td>\n",
       "    </tr>\n",
       "    <tr>\n",
       "      <th>17</th>\n",
       "      <td>7.200</td>\n",
       "      <td>6.869517</td>\n",
       "    </tr>\n",
       "    <tr>\n",
       "      <th>18</th>\n",
       "      <td>6.300</td>\n",
       "      <td>6.589570</td>\n",
       "    </tr>\n",
       "    <tr>\n",
       "      <th>19</th>\n",
       "      <td>8.000</td>\n",
       "      <td>6.586792</td>\n",
       "    </tr>\n",
       "    <tr>\n",
       "      <th>20</th>\n",
       "      <td>6.000</td>\n",
       "      <td>6.587359</td>\n",
       "    </tr>\n",
       "    <tr>\n",
       "      <th>21</th>\n",
       "      <td>7.700</td>\n",
       "      <td>7.407693</td>\n",
       "    </tr>\n",
       "    <tr>\n",
       "      <th>22</th>\n",
       "      <td>7.876</td>\n",
       "      <td>6.684864</td>\n",
       "    </tr>\n",
       "    <tr>\n",
       "      <th>23</th>\n",
       "      <td>5.400</td>\n",
       "      <td>7.290073</td>\n",
       "    </tr>\n",
       "    <tr>\n",
       "      <th>24</th>\n",
       "      <td>6.600</td>\n",
       "      <td>7.096164</td>\n",
       "    </tr>\n",
       "    <tr>\n",
       "      <th>25</th>\n",
       "      <td>7.512</td>\n",
       "      <td>6.714375</td>\n",
       "    </tr>\n",
       "    <tr>\n",
       "      <th>26</th>\n",
       "      <td>5.600</td>\n",
       "      <td>6.613472</td>\n",
       "    </tr>\n",
       "  </tbody>\n",
       "</table>\n",
       "</div>"
      ],
      "text/plain": [
       "    real score  predict score\n",
       "0        6.700       6.654016\n",
       "1        6.951       6.650189\n",
       "2        6.600       7.403610\n",
       "3        5.300       6.691383\n",
       "4        7.400       6.594606\n",
       "5        6.300       6.769163\n",
       "6        7.000       6.626628\n",
       "7        7.000       7.259532\n",
       "8        8.019       7.931054\n",
       "9        6.600       6.624721\n",
       "10       8.000       7.266246\n",
       "11       6.300       6.520504\n",
       "12       6.300       6.831174\n",
       "13       7.000       6.625022\n",
       "14       7.700       6.622166\n",
       "15       8.100       6.665143\n",
       "16       7.000       7.149682\n",
       "17       7.200       6.869517\n",
       "18       6.300       6.589570\n",
       "19       8.000       6.586792\n",
       "20       6.000       6.587359\n",
       "21       7.700       7.407693\n",
       "22       7.876       6.684864\n",
       "23       5.400       7.290073\n",
       "24       6.600       7.096164\n",
       "25       7.512       6.714375\n",
       "26       5.600       6.613472"
      ]
     },
     "execution_count": 35,
     "metadata": {},
     "output_type": "execute_result"
    }
   ],
   "source": [
    "#check the prediction of the movies produced by france\n",
    "country = disney[disney['production_countries'].str.contains('FR')]\n",
    "feature = country[['release_year', 'runtime', 'tmdb_popularity', 'seasons', 'age_rating']]\n",
    "pred = model.predict(feature)\n",
    "\n",
    "pd.DataFrame(list(zip(country['tmdb_score'], pred)), columns=['real score', 'predict score'])"
   ]
  },
  {
   "cell_type": "code",
   "execution_count": 36,
   "metadata": {},
   "outputs": [],
   "source": [
    "#select different feature and make another model\n",
    "select = df1[['release_year', 'runtime','production_countries', \n",
    "            'tmdb_popularity', 'seasons', 'age_rating','tmdb_score']]\n",
    "select = pd.get_dummies(select, columns=['production_countries'])"
   ]
  },
  {
   "cell_type": "code",
   "execution_count": 37,
   "metadata": {},
   "outputs": [
    {
     "data": {
      "text/html": [
       "<div>\n",
       "<style scoped>\n",
       "    .dataframe tbody tr th:only-of-type {\n",
       "        vertical-align: middle;\n",
       "    }\n",
       "\n",
       "    .dataframe tbody tr th {\n",
       "        vertical-align: top;\n",
       "    }\n",
       "\n",
       "    .dataframe thead th {\n",
       "        text-align: right;\n",
       "    }\n",
       "</style>\n",
       "<table border=\"1\" class=\"dataframe\">\n",
       "  <thead>\n",
       "    <tr style=\"text-align: right;\">\n",
       "      <th></th>\n",
       "      <th>release_year</th>\n",
       "      <th>runtime</th>\n",
       "      <th>tmdb_popularity</th>\n",
       "      <th>seasons</th>\n",
       "      <th>age_rating</th>\n",
       "      <th>tmdb_score</th>\n",
       "      <th>production_countries_AE</th>\n",
       "      <th>production_countries_AR</th>\n",
       "      <th>production_countries_AT</th>\n",
       "      <th>production_countries_AU</th>\n",
       "      <th>...</th>\n",
       "      <th>production_countries_PL</th>\n",
       "      <th>production_countries_PR</th>\n",
       "      <th>production_countries_SE</th>\n",
       "      <th>production_countries_SI</th>\n",
       "      <th>production_countries_SK</th>\n",
       "      <th>production_countries_TR</th>\n",
       "      <th>production_countries_TW</th>\n",
       "      <th>production_countries_UG</th>\n",
       "      <th>production_countries_US</th>\n",
       "      <th>production_countries_ZA</th>\n",
       "    </tr>\n",
       "  </thead>\n",
       "  <tbody>\n",
       "    <tr>\n",
       "      <th>0</th>\n",
       "      <td>1947</td>\n",
       "      <td>96</td>\n",
       "      <td>23.515</td>\n",
       "      <td>0.0</td>\n",
       "      <td>1</td>\n",
       "      <td>7.388</td>\n",
       "      <td>0</td>\n",
       "      <td>0</td>\n",
       "      <td>0</td>\n",
       "      <td>0</td>\n",
       "      <td>...</td>\n",
       "      <td>0</td>\n",
       "      <td>0</td>\n",
       "      <td>0</td>\n",
       "      <td>0</td>\n",
       "      <td>0</td>\n",
       "      <td>0</td>\n",
       "      <td>0</td>\n",
       "      <td>0</td>\n",
       "      <td>1</td>\n",
       "      <td>0</td>\n",
       "    </tr>\n",
       "    <tr>\n",
       "      <th>1</th>\n",
       "      <td>1950</td>\n",
       "      <td>68</td>\n",
       "      <td>16.194</td>\n",
       "      <td>0.0</td>\n",
       "      <td>1</td>\n",
       "      <td>6.500</td>\n",
       "      <td>0</td>\n",
       "      <td>0</td>\n",
       "      <td>0</td>\n",
       "      <td>0</td>\n",
       "      <td>...</td>\n",
       "      <td>0</td>\n",
       "      <td>0</td>\n",
       "      <td>0</td>\n",
       "      <td>0</td>\n",
       "      <td>0</td>\n",
       "      <td>0</td>\n",
       "      <td>0</td>\n",
       "      <td>0</td>\n",
       "      <td>1</td>\n",
       "      <td>0</td>\n",
       "    </tr>\n",
       "    <tr>\n",
       "      <th>2</th>\n",
       "      <td>1950</td>\n",
       "      <td>74</td>\n",
       "      <td>93.547</td>\n",
       "      <td>0.0</td>\n",
       "      <td>1</td>\n",
       "      <td>7.035</td>\n",
       "      <td>0</td>\n",
       "      <td>0</td>\n",
       "      <td>0</td>\n",
       "      <td>0</td>\n",
       "      <td>...</td>\n",
       "      <td>0</td>\n",
       "      <td>0</td>\n",
       "      <td>0</td>\n",
       "      <td>0</td>\n",
       "      <td>0</td>\n",
       "      <td>0</td>\n",
       "      <td>0</td>\n",
       "      <td>0</td>\n",
       "      <td>1</td>\n",
       "      <td>0</td>\n",
       "    </tr>\n",
       "    <tr>\n",
       "      <th>3</th>\n",
       "      <td>1941</td>\n",
       "      <td>64</td>\n",
       "      <td>54.265</td>\n",
       "      <td>0.0</td>\n",
       "      <td>1</td>\n",
       "      <td>6.999</td>\n",
       "      <td>0</td>\n",
       "      <td>0</td>\n",
       "      <td>0</td>\n",
       "      <td>0</td>\n",
       "      <td>...</td>\n",
       "      <td>0</td>\n",
       "      <td>0</td>\n",
       "      <td>0</td>\n",
       "      <td>0</td>\n",
       "      <td>0</td>\n",
       "      <td>0</td>\n",
       "      <td>0</td>\n",
       "      <td>0</td>\n",
       "      <td>1</td>\n",
       "      <td>0</td>\n",
       "    </tr>\n",
       "    <tr>\n",
       "      <th>4</th>\n",
       "      <td>1941</td>\n",
       "      <td>119</td>\n",
       "      <td>43.609</td>\n",
       "      <td>0.0</td>\n",
       "      <td>1</td>\n",
       "      <td>7.382</td>\n",
       "      <td>0</td>\n",
       "      <td>0</td>\n",
       "      <td>0</td>\n",
       "      <td>0</td>\n",
       "      <td>...</td>\n",
       "      <td>0</td>\n",
       "      <td>0</td>\n",
       "      <td>0</td>\n",
       "      <td>0</td>\n",
       "      <td>0</td>\n",
       "      <td>0</td>\n",
       "      <td>0</td>\n",
       "      <td>0</td>\n",
       "      <td>1</td>\n",
       "      <td>0</td>\n",
       "    </tr>\n",
       "    <tr>\n",
       "      <th>...</th>\n",
       "      <td>...</td>\n",
       "      <td>...</td>\n",
       "      <td>...</td>\n",
       "      <td>...</td>\n",
       "      <td>...</td>\n",
       "      <td>...</td>\n",
       "      <td>...</td>\n",
       "      <td>...</td>\n",
       "      <td>...</td>\n",
       "      <td>...</td>\n",
       "      <td>...</td>\n",
       "      <td>...</td>\n",
       "      <td>...</td>\n",
       "      <td>...</td>\n",
       "      <td>...</td>\n",
       "      <td>...</td>\n",
       "      <td>...</td>\n",
       "      <td>...</td>\n",
       "      <td>...</td>\n",
       "      <td>...</td>\n",
       "      <td>...</td>\n",
       "    </tr>\n",
       "    <tr>\n",
       "      <th>1844</th>\n",
       "      <td>2023</td>\n",
       "      <td>43</td>\n",
       "      <td>40.633</td>\n",
       "      <td>1.0</td>\n",
       "      <td>0</td>\n",
       "      <td>7.000</td>\n",
       "      <td>0</td>\n",
       "      <td>0</td>\n",
       "      <td>0</td>\n",
       "      <td>0</td>\n",
       "      <td>...</td>\n",
       "      <td>0</td>\n",
       "      <td>1</td>\n",
       "      <td>0</td>\n",
       "      <td>0</td>\n",
       "      <td>0</td>\n",
       "      <td>0</td>\n",
       "      <td>0</td>\n",
       "      <td>0</td>\n",
       "      <td>0</td>\n",
       "      <td>0</td>\n",
       "    </tr>\n",
       "    <tr>\n",
       "      <th>1845</th>\n",
       "      <td>2023</td>\n",
       "      <td>42</td>\n",
       "      <td>10.543</td>\n",
       "      <td>0.0</td>\n",
       "      <td>3</td>\n",
       "      <td>10.000</td>\n",
       "      <td>0</td>\n",
       "      <td>0</td>\n",
       "      <td>0</td>\n",
       "      <td>0</td>\n",
       "      <td>...</td>\n",
       "      <td>0</td>\n",
       "      <td>0</td>\n",
       "      <td>0</td>\n",
       "      <td>0</td>\n",
       "      <td>0</td>\n",
       "      <td>0</td>\n",
       "      <td>0</td>\n",
       "      <td>0</td>\n",
       "      <td>1</td>\n",
       "      <td>0</td>\n",
       "    </tr>\n",
       "    <tr>\n",
       "      <th>1848</th>\n",
       "      <td>2023</td>\n",
       "      <td>23</td>\n",
       "      <td>3.755</td>\n",
       "      <td>2.0</td>\n",
       "      <td>7</td>\n",
       "      <td>6.000</td>\n",
       "      <td>0</td>\n",
       "      <td>0</td>\n",
       "      <td>0</td>\n",
       "      <td>0</td>\n",
       "      <td>...</td>\n",
       "      <td>0</td>\n",
       "      <td>0</td>\n",
       "      <td>0</td>\n",
       "      <td>0</td>\n",
       "      <td>0</td>\n",
       "      <td>0</td>\n",
       "      <td>0</td>\n",
       "      <td>0</td>\n",
       "      <td>1</td>\n",
       "      <td>0</td>\n",
       "    </tr>\n",
       "    <tr>\n",
       "      <th>1849</th>\n",
       "      <td>2023</td>\n",
       "      <td>49</td>\n",
       "      <td>3.733</td>\n",
       "      <td>1.0</td>\n",
       "      <td>8</td>\n",
       "      <td>2.000</td>\n",
       "      <td>0</td>\n",
       "      <td>0</td>\n",
       "      <td>0</td>\n",
       "      <td>0</td>\n",
       "      <td>...</td>\n",
       "      <td>0</td>\n",
       "      <td>0</td>\n",
       "      <td>0</td>\n",
       "      <td>0</td>\n",
       "      <td>0</td>\n",
       "      <td>0</td>\n",
       "      <td>0</td>\n",
       "      <td>0</td>\n",
       "      <td>1</td>\n",
       "      <td>0</td>\n",
       "    </tr>\n",
       "    <tr>\n",
       "      <th>1852</th>\n",
       "      <td>2023</td>\n",
       "      <td>45</td>\n",
       "      <td>1.501</td>\n",
       "      <td>0.0</td>\n",
       "      <td>2</td>\n",
       "      <td>2.000</td>\n",
       "      <td>0</td>\n",
       "      <td>0</td>\n",
       "      <td>0</td>\n",
       "      <td>0</td>\n",
       "      <td>...</td>\n",
       "      <td>0</td>\n",
       "      <td>0</td>\n",
       "      <td>0</td>\n",
       "      <td>0</td>\n",
       "      <td>0</td>\n",
       "      <td>0</td>\n",
       "      <td>0</td>\n",
       "      <td>0</td>\n",
       "      <td>1</td>\n",
       "      <td>0</td>\n",
       "    </tr>\n",
       "  </tbody>\n",
       "</table>\n",
       "<p>1895 rows × 49 columns</p>\n",
       "</div>"
      ],
      "text/plain": [
       "      release_year  runtime  tmdb_popularity  seasons  age_rating  tmdb_score  \\\n",
       "0             1947       96           23.515      0.0           1       7.388   \n",
       "1             1950       68           16.194      0.0           1       6.500   \n",
       "2             1950       74           93.547      0.0           1       7.035   \n",
       "3             1941       64           54.265      0.0           1       6.999   \n",
       "4             1941      119           43.609      0.0           1       7.382   \n",
       "...            ...      ...              ...      ...         ...         ...   \n",
       "1844          2023       43           40.633      1.0           0       7.000   \n",
       "1845          2023       42           10.543      0.0           3      10.000   \n",
       "1848          2023       23            3.755      2.0           7       6.000   \n",
       "1849          2023       49            3.733      1.0           8       2.000   \n",
       "1852          2023       45            1.501      0.0           2       2.000   \n",
       "\n",
       "      production_countries_AE  production_countries_AR  \\\n",
       "0                           0                        0   \n",
       "1                           0                        0   \n",
       "2                           0                        0   \n",
       "3                           0                        0   \n",
       "4                           0                        0   \n",
       "...                       ...                      ...   \n",
       "1844                        0                        0   \n",
       "1845                        0                        0   \n",
       "1848                        0                        0   \n",
       "1849                        0                        0   \n",
       "1852                        0                        0   \n",
       "\n",
       "      production_countries_AT  production_countries_AU  ...  \\\n",
       "0                           0                        0  ...   \n",
       "1                           0                        0  ...   \n",
       "2                           0                        0  ...   \n",
       "3                           0                        0  ...   \n",
       "4                           0                        0  ...   \n",
       "...                       ...                      ...  ...   \n",
       "1844                        0                        0  ...   \n",
       "1845                        0                        0  ...   \n",
       "1848                        0                        0  ...   \n",
       "1849                        0                        0  ...   \n",
       "1852                        0                        0  ...   \n",
       "\n",
       "      production_countries_PL  production_countries_PR  \\\n",
       "0                           0                        0   \n",
       "1                           0                        0   \n",
       "2                           0                        0   \n",
       "3                           0                        0   \n",
       "4                           0                        0   \n",
       "...                       ...                      ...   \n",
       "1844                        0                        1   \n",
       "1845                        0                        0   \n",
       "1848                        0                        0   \n",
       "1849                        0                        0   \n",
       "1852                        0                        0   \n",
       "\n",
       "      production_countries_SE  production_countries_SI  \\\n",
       "0                           0                        0   \n",
       "1                           0                        0   \n",
       "2                           0                        0   \n",
       "3                           0                        0   \n",
       "4                           0                        0   \n",
       "...                       ...                      ...   \n",
       "1844                        0                        0   \n",
       "1845                        0                        0   \n",
       "1848                        0                        0   \n",
       "1849                        0                        0   \n",
       "1852                        0                        0   \n",
       "\n",
       "      production_countries_SK  production_countries_TR  \\\n",
       "0                           0                        0   \n",
       "1                           0                        0   \n",
       "2                           0                        0   \n",
       "3                           0                        0   \n",
       "4                           0                        0   \n",
       "...                       ...                      ...   \n",
       "1844                        0                        0   \n",
       "1845                        0                        0   \n",
       "1848                        0                        0   \n",
       "1849                        0                        0   \n",
       "1852                        0                        0   \n",
       "\n",
       "      production_countries_TW  production_countries_UG  \\\n",
       "0                           0                        0   \n",
       "1                           0                        0   \n",
       "2                           0                        0   \n",
       "3                           0                        0   \n",
       "4                           0                        0   \n",
       "...                       ...                      ...   \n",
       "1844                        0                        0   \n",
       "1845                        0                        0   \n",
       "1848                        0                        0   \n",
       "1849                        0                        0   \n",
       "1852                        0                        0   \n",
       "\n",
       "      production_countries_US  production_countries_ZA  \n",
       "0                           1                        0  \n",
       "1                           1                        0  \n",
       "2                           1                        0  \n",
       "3                           1                        0  \n",
       "4                           1                        0  \n",
       "...                       ...                      ...  \n",
       "1844                        0                        0  \n",
       "1845                        1                        0  \n",
       "1848                        1                        0  \n",
       "1849                        1                        0  \n",
       "1852                        1                        0  \n",
       "\n",
       "[1895 rows x 49 columns]"
      ]
     },
     "execution_count": 37,
     "metadata": {},
     "output_type": "execute_result"
    }
   ],
   "source": [
    "select"
   ]
  },
  {
   "cell_type": "code",
   "execution_count": 38,
   "metadata": {},
   "outputs": [
    {
     "data": {
      "text/plain": [
       "production_countries_GT    1.720928\n",
       "production_countries_ZA    1.490921\n",
       "production_countries_AE    1.337935\n",
       "production_countries_PH    1.180384\n",
       "production_countries_CO    1.179258\n",
       "production_countries_CH    0.860580\n",
       "production_countries_MC    0.860580\n",
       "production_countries_AR    0.852764\n",
       "production_countries_ES    0.838287\n",
       "production_countries_IT    0.814990\n",
       "Name: Coefficient, dtype: float64"
      ]
     },
     "execution_count": 38,
     "metadata": {},
     "output_type": "execute_result"
    }
   ],
   "source": [
    "x = select.drop(['tmdb_score'], axis = 1)\n",
    "y = select[\"tmdb_score\"]\n",
    "\n",
    "x_train, x_test, y_train, y_test = train_test_split(x, y, test_size=0.2, random_state=42)\n",
    "\n",
    "#fit a linear regression model to the training data\n",
    "model = LinearRegression().fit(x_train, y_train)\n",
    "\n",
    "#Get the coefficients of the model\n",
    "coefficients = pd.DataFrame(model.coef_, x.columns, columns=[\"Coefficient\"])\n",
    "coefficients.sort_values(\"Coefficient\", ascending=False)['Coefficient'].head(10)\n"
   ]
  },
  {
   "cell_type": "code",
   "execution_count": 39,
   "metadata": {},
   "outputs": [
    {
     "name": "stdout",
     "output_type": "stream",
     "text": [
      "Root Mean Squared Error: 1.1186822829306167\n",
      "R-squared: 0.027296987582568488\n"
     ]
    }
   ],
   "source": [
    "y_pred = model.predict(x_test)\n",
    "rmse = math.sqrt(mean_squared_error(y_test, y_pred))\n",
    "r2 = r2_score(y_test, y_pred)\n",
    "\n",
    "print(\"Root Mean Squared Error:\", rmse)\n",
    "print(\"R-squared:\", r2)"
   ]
  },
  {
   "cell_type": "code",
   "execution_count": 40,
   "metadata": {},
   "outputs": [
    {
     "name": "stdout",
     "output_type": "stream",
     "text": [
      "Root Mean Squared Error: 1.4792634487734742\n",
      "R-squared: -0.5749073636472708\n"
     ]
    }
   ],
   "source": [
    "from sklearn.tree import DecisionTreeRegressor\n",
    "x = disney[['release_year', 'runtime', 'tmdb_popularity', 'seasons', 'age_rating']]\n",
    "y = disney[\"tmdb_score\"]\n",
    "\n",
    "x_train, x_test, y_train, y_test = train_test_split(x, y, test_size=0.2, random_state=42)\n",
    "\n",
    "model = DecisionTreeRegressor().fit(x_train, y_train)\n",
    "y_pred = model.predict(x_test)\n",
    "rmse = math.sqrt(mean_squared_error(y_test, y_pred))\n",
    "r2 = r2_score(y_test, y_pred)\n",
    "\n",
    "print(\"Root Mean Squared Error:\", rmse)\n",
    "print(\"R-squared:\", r2)\n"
   ]
  },
  {
   "cell_type": "code",
   "execution_count": 41,
   "metadata": {},
   "outputs": [
    {
     "name": "stdout",
     "output_type": "stream",
     "text": [
      "Root Mean Squared Error: 1.1481832102247904\n",
      "R-squared: 0.051174507147531245\n"
     ]
    }
   ],
   "source": [
    "from sklearn.ensemble import RandomForestRegressor\n",
    "x = disney[['release_year', 'runtime', 'tmdb_popularity', 'seasons', 'age_rating']]\n",
    "y = disney[\"tmdb_score\"]\n",
    "\n",
    "x_train, x_test, y_train, y_test = train_test_split(x, y, test_size=0.2, random_state=42)\n",
    "\n",
    "model = RandomForestRegressor().fit(x_train, y_train)\n",
    "y_pred = model.predict(x_test)\n",
    "rmse = math.sqrt(mean_squared_error(y_test, y_pred))\n",
    "r2 = r2_score(y_test, y_pred)\n",
    "\n",
    "print(\"Root Mean Squared Error:\", rmse)\n",
    "print(\"R-squared:\", r2)"
   ]
  },
  {
   "cell_type": "code",
   "execution_count": 42,
   "metadata": {},
   "outputs": [
    {
     "name": "stdout",
     "output_type": "stream",
     "text": [
      "Root Mean Squared Error: 0.9252412278818404\n",
      "R-squared: 0.3346093507937824\n"
     ]
    }
   ],
   "source": [
    "from sklearn.ensemble import RandomForestRegressor\n",
    "x = select.drop(['tmdb_score'], axis = 1)\n",
    "y = select[\"tmdb_score\"]\n",
    "\n",
    "x_train, x_test, y_train, y_test = train_test_split(x, y, test_size=0.2, random_state=42)\n",
    "\n",
    "model = RandomForestRegressor().fit(x_train, y_train)\n",
    "y_pred = model.predict(x_test)\n",
    "rmse = math.sqrt(mean_squared_error(y_test, y_pred))\n",
    "r2 = r2_score(y_test, y_pred)\n",
    "\n",
    "print(\"Root Mean Squared Error:\", rmse)\n",
    "print(\"R-squared:\", r2)"
   ]
  },
  {
   "cell_type": "code",
   "execution_count": 43,
   "metadata": {},
   "outputs": [],
   "source": [
    "# which genre is more popular in US\n"
   ]
  },
  {
   "cell_type": "code",
   "execution_count": 63,
   "metadata": {},
   "outputs": [],
   "source": [
    "df2 = filtered.copy(deep=True)"
   ]
  },
  {
   "cell_type": "code",
   "execution_count": 64,
   "metadata": {},
   "outputs": [],
   "source": [
    "df2['genres'] = df2['genres'].apply(lambda x: eval(x))"
   ]
  },
  {
   "cell_type": "code",
   "execution_count": 65,
   "metadata": {},
   "outputs": [],
   "source": [
    "df2 = df2.explode(column='genres')"
   ]
  },
  {
   "cell_type": "code",
   "execution_count": 66,
   "metadata": {},
   "outputs": [
    {
     "data": {
      "text/html": [
       "<div>\n",
       "<style scoped>\n",
       "    .dataframe tbody tr th:only-of-type {\n",
       "        vertical-align: middle;\n",
       "    }\n",
       "\n",
       "    .dataframe tbody tr th {\n",
       "        vertical-align: top;\n",
       "    }\n",
       "\n",
       "    .dataframe thead th {\n",
       "        text-align: right;\n",
       "    }\n",
       "</style>\n",
       "<table border=\"1\" class=\"dataframe\">\n",
       "  <thead>\n",
       "    <tr style=\"text-align: right;\">\n",
       "      <th></th>\n",
       "      <th>id</th>\n",
       "      <th>title</th>\n",
       "      <th>type</th>\n",
       "      <th>description</th>\n",
       "      <th>release_year</th>\n",
       "      <th>age_certification</th>\n",
       "      <th>runtime</th>\n",
       "      <th>genres</th>\n",
       "      <th>production_countries</th>\n",
       "      <th>seasons</th>\n",
       "      <th>imdb_id</th>\n",
       "      <th>imdb_score</th>\n",
       "      <th>imdb_votes</th>\n",
       "      <th>tmdb_popularity</th>\n",
       "      <th>tmdb_score</th>\n",
       "      <th>director</th>\n",
       "      <th>age_rating</th>\n",
       "    </tr>\n",
       "  </thead>\n",
       "  <tbody>\n",
       "    <tr>\n",
       "      <th>0</th>\n",
       "      <td>tm89464</td>\n",
       "      <td>Miracle on 34th Street</td>\n",
       "      <td>MOVIE</td>\n",
       "      <td>Kris Kringle, seemingly the embodiment of Sant...</td>\n",
       "      <td>1947</td>\n",
       "      <td>G</td>\n",
       "      <td>96</td>\n",
       "      <td>family</td>\n",
       "      <td>US</td>\n",
       "      <td>0.0</td>\n",
       "      <td>tt0039628</td>\n",
       "      <td>7.9</td>\n",
       "      <td>50969.0</td>\n",
       "      <td>23.515</td>\n",
       "      <td>7.388</td>\n",
       "      <td>[George Seaton]</td>\n",
       "      <td>1</td>\n",
       "    </tr>\n",
       "    <tr>\n",
       "      <th>0</th>\n",
       "      <td>tm89464</td>\n",
       "      <td>Miracle on 34th Street</td>\n",
       "      <td>MOVIE</td>\n",
       "      <td>Kris Kringle, seemingly the embodiment of Sant...</td>\n",
       "      <td>1947</td>\n",
       "      <td>G</td>\n",
       "      <td>96</td>\n",
       "      <td>comedy</td>\n",
       "      <td>US</td>\n",
       "      <td>0.0</td>\n",
       "      <td>tt0039628</td>\n",
       "      <td>7.9</td>\n",
       "      <td>50969.0</td>\n",
       "      <td>23.515</td>\n",
       "      <td>7.388</td>\n",
       "      <td>[George Seaton]</td>\n",
       "      <td>1</td>\n",
       "    </tr>\n",
       "    <tr>\n",
       "      <th>0</th>\n",
       "      <td>tm89464</td>\n",
       "      <td>Miracle on 34th Street</td>\n",
       "      <td>MOVIE</td>\n",
       "      <td>Kris Kringle, seemingly the embodiment of Sant...</td>\n",
       "      <td>1947</td>\n",
       "      <td>G</td>\n",
       "      <td>96</td>\n",
       "      <td>drama</td>\n",
       "      <td>US</td>\n",
       "      <td>0.0</td>\n",
       "      <td>tt0039628</td>\n",
       "      <td>7.9</td>\n",
       "      <td>50969.0</td>\n",
       "      <td>23.515</td>\n",
       "      <td>7.388</td>\n",
       "      <td>[George Seaton]</td>\n",
       "      <td>1</td>\n",
       "    </tr>\n",
       "    <tr>\n",
       "      <th>1</th>\n",
       "      <td>tm61729</td>\n",
       "      <td>The Adventures of Ichabod and Mr. Toad</td>\n",
       "      <td>MOVIE</td>\n",
       "      <td>The Wind in the Willows: Concise version of Ke...</td>\n",
       "      <td>1950</td>\n",
       "      <td>G</td>\n",
       "      <td>68</td>\n",
       "      <td>horror</td>\n",
       "      <td>US</td>\n",
       "      <td>0.0</td>\n",
       "      <td>tt0041094</td>\n",
       "      <td>6.9</td>\n",
       "      <td>16502.0</td>\n",
       "      <td>16.194</td>\n",
       "      <td>6.500</td>\n",
       "      <td>[James Algar, Clyde Geronimi, Jack Kinney]</td>\n",
       "      <td>1</td>\n",
       "    </tr>\n",
       "    <tr>\n",
       "      <th>1</th>\n",
       "      <td>tm61729</td>\n",
       "      <td>The Adventures of Ichabod and Mr. Toad</td>\n",
       "      <td>MOVIE</td>\n",
       "      <td>The Wind in the Willows: Concise version of Ke...</td>\n",
       "      <td>1950</td>\n",
       "      <td>G</td>\n",
       "      <td>68</td>\n",
       "      <td>fantasy</td>\n",
       "      <td>US</td>\n",
       "      <td>0.0</td>\n",
       "      <td>tt0041094</td>\n",
       "      <td>6.9</td>\n",
       "      <td>16502.0</td>\n",
       "      <td>16.194</td>\n",
       "      <td>6.500</td>\n",
       "      <td>[James Algar, Clyde Geronimi, Jack Kinney]</td>\n",
       "      <td>1</td>\n",
       "    </tr>\n",
       "    <tr>\n",
       "      <th>...</th>\n",
       "      <td>...</td>\n",
       "      <td>...</td>\n",
       "      <td>...</td>\n",
       "      <td>...</td>\n",
       "      <td>...</td>\n",
       "      <td>...</td>\n",
       "      <td>...</td>\n",
       "      <td>...</td>\n",
       "      <td>...</td>\n",
       "      <td>...</td>\n",
       "      <td>...</td>\n",
       "      <td>...</td>\n",
       "      <td>...</td>\n",
       "      <td>...</td>\n",
       "      <td>...</td>\n",
       "      <td>...</td>\n",
       "      <td>...</td>\n",
       "    </tr>\n",
       "    <tr>\n",
       "      <th>1848</th>\n",
       "      <td>ts350456</td>\n",
       "      <td>Superkitties</td>\n",
       "      <td>SHOW</td>\n",
       "      <td>It tells the story of four fierce and furry su...</td>\n",
       "      <td>2023</td>\n",
       "      <td>TV-Y</td>\n",
       "      <td>23</td>\n",
       "      <td>fantasy</td>\n",
       "      <td>US</td>\n",
       "      <td>2.0</td>\n",
       "      <td>tt19872934</td>\n",
       "      <td>7.3</td>\n",
       "      <td>85.0</td>\n",
       "      <td>3.755</td>\n",
       "      <td>6.000</td>\n",
       "      <td>NaN</td>\n",
       "      <td>7</td>\n",
       "    </tr>\n",
       "    <tr>\n",
       "      <th>1849</th>\n",
       "      <td>ts305794</td>\n",
       "      <td>7 Toughest Days</td>\n",
       "      <td>SHOW</td>\n",
       "      <td>Dwayne Fields grew up around violent gangs and...</td>\n",
       "      <td>2023</td>\n",
       "      <td>TV-PG</td>\n",
       "      <td>49</td>\n",
       "      <td>reality</td>\n",
       "      <td>US</td>\n",
       "      <td>1.0</td>\n",
       "      <td>tt15257974</td>\n",
       "      <td>7.8</td>\n",
       "      <td>23.0</td>\n",
       "      <td>3.733</td>\n",
       "      <td>2.000</td>\n",
       "      <td>NaN</td>\n",
       "      <td>8</td>\n",
       "    </tr>\n",
       "    <tr>\n",
       "      <th>1849</th>\n",
       "      <td>ts305794</td>\n",
       "      <td>7 Toughest Days</td>\n",
       "      <td>SHOW</td>\n",
       "      <td>Dwayne Fields grew up around violent gangs and...</td>\n",
       "      <td>2023</td>\n",
       "      <td>TV-PG</td>\n",
       "      <td>49</td>\n",
       "      <td>documentation</td>\n",
       "      <td>US</td>\n",
       "      <td>1.0</td>\n",
       "      <td>tt15257974</td>\n",
       "      <td>7.8</td>\n",
       "      <td>23.0</td>\n",
       "      <td>3.733</td>\n",
       "      <td>2.000</td>\n",
       "      <td>NaN</td>\n",
       "      <td>8</td>\n",
       "    </tr>\n",
       "    <tr>\n",
       "      <th>1849</th>\n",
       "      <td>ts305794</td>\n",
       "      <td>7 Toughest Days</td>\n",
       "      <td>SHOW</td>\n",
       "      <td>Dwayne Fields grew up around violent gangs and...</td>\n",
       "      <td>2023</td>\n",
       "      <td>TV-PG</td>\n",
       "      <td>49</td>\n",
       "      <td>action</td>\n",
       "      <td>US</td>\n",
       "      <td>1.0</td>\n",
       "      <td>tt15257974</td>\n",
       "      <td>7.8</td>\n",
       "      <td>23.0</td>\n",
       "      <td>3.733</td>\n",
       "      <td>2.000</td>\n",
       "      <td>NaN</td>\n",
       "      <td>8</td>\n",
       "    </tr>\n",
       "    <tr>\n",
       "      <th>1852</th>\n",
       "      <td>tm1227149</td>\n",
       "      <td>Baby Sharks</td>\n",
       "      <td>MOVIE</td>\n",
       "      <td>Even the biggest, fastest and fiercest predato...</td>\n",
       "      <td>2023</td>\n",
       "      <td>PG</td>\n",
       "      <td>45</td>\n",
       "      <td>documentation</td>\n",
       "      <td>US</td>\n",
       "      <td>0.0</td>\n",
       "      <td>tt21271008</td>\n",
       "      <td>6.3</td>\n",
       "      <td>19.0</td>\n",
       "      <td>1.501</td>\n",
       "      <td>2.000</td>\n",
       "      <td>[Adam Geiger]</td>\n",
       "      <td>2</td>\n",
       "    </tr>\n",
       "  </tbody>\n",
       "</table>\n",
       "<p>5162 rows × 17 columns</p>\n",
       "</div>"
      ],
      "text/plain": [
       "             id                                   title   type  \\\n",
       "0       tm89464                  Miracle on 34th Street  MOVIE   \n",
       "0       tm89464                  Miracle on 34th Street  MOVIE   \n",
       "0       tm89464                  Miracle on 34th Street  MOVIE   \n",
       "1       tm61729  The Adventures of Ichabod and Mr. Toad  MOVIE   \n",
       "1       tm61729  The Adventures of Ichabod and Mr. Toad  MOVIE   \n",
       "...         ...                                     ...    ...   \n",
       "1848   ts350456                            Superkitties   SHOW   \n",
       "1849   ts305794                         7 Toughest Days   SHOW   \n",
       "1849   ts305794                         7 Toughest Days   SHOW   \n",
       "1849   ts305794                         7 Toughest Days   SHOW   \n",
       "1852  tm1227149                             Baby Sharks  MOVIE   \n",
       "\n",
       "                                            description  release_year  \\\n",
       "0     Kris Kringle, seemingly the embodiment of Sant...          1947   \n",
       "0     Kris Kringle, seemingly the embodiment of Sant...          1947   \n",
       "0     Kris Kringle, seemingly the embodiment of Sant...          1947   \n",
       "1     The Wind in the Willows: Concise version of Ke...          1950   \n",
       "1     The Wind in the Willows: Concise version of Ke...          1950   \n",
       "...                                                 ...           ...   \n",
       "1848  It tells the story of four fierce and furry su...          2023   \n",
       "1849  Dwayne Fields grew up around violent gangs and...          2023   \n",
       "1849  Dwayne Fields grew up around violent gangs and...          2023   \n",
       "1849  Dwayne Fields grew up around violent gangs and...          2023   \n",
       "1852  Even the biggest, fastest and fiercest predato...          2023   \n",
       "\n",
       "     age_certification  runtime         genres production_countries  seasons  \\\n",
       "0                    G       96         family                   US      0.0   \n",
       "0                    G       96         comedy                   US      0.0   \n",
       "0                    G       96          drama                   US      0.0   \n",
       "1                    G       68         horror                   US      0.0   \n",
       "1                    G       68        fantasy                   US      0.0   \n",
       "...                ...      ...            ...                  ...      ...   \n",
       "1848              TV-Y       23        fantasy                   US      2.0   \n",
       "1849             TV-PG       49        reality                   US      1.0   \n",
       "1849             TV-PG       49  documentation                   US      1.0   \n",
       "1849             TV-PG       49         action                   US      1.0   \n",
       "1852                PG       45  documentation                   US      0.0   \n",
       "\n",
       "         imdb_id  imdb_score  imdb_votes  tmdb_popularity  tmdb_score  \\\n",
       "0      tt0039628         7.9     50969.0           23.515       7.388   \n",
       "0      tt0039628         7.9     50969.0           23.515       7.388   \n",
       "0      tt0039628         7.9     50969.0           23.515       7.388   \n",
       "1      tt0041094         6.9     16502.0           16.194       6.500   \n",
       "1      tt0041094         6.9     16502.0           16.194       6.500   \n",
       "...          ...         ...         ...              ...         ...   \n",
       "1848  tt19872934         7.3        85.0            3.755       6.000   \n",
       "1849  tt15257974         7.8        23.0            3.733       2.000   \n",
       "1849  tt15257974         7.8        23.0            3.733       2.000   \n",
       "1849  tt15257974         7.8        23.0            3.733       2.000   \n",
       "1852  tt21271008         6.3        19.0            1.501       2.000   \n",
       "\n",
       "                                        director  age_rating  \n",
       "0                                [George Seaton]           1  \n",
       "0                                [George Seaton]           1  \n",
       "0                                [George Seaton]           1  \n",
       "1     [James Algar, Clyde Geronimi, Jack Kinney]           1  \n",
       "1     [James Algar, Clyde Geronimi, Jack Kinney]           1  \n",
       "...                                          ...         ...  \n",
       "1848                                         NaN           7  \n",
       "1849                                         NaN           8  \n",
       "1849                                         NaN           8  \n",
       "1849                                         NaN           8  \n",
       "1852                               [Adam Geiger]           2  \n",
       "\n",
       "[5162 rows x 17 columns]"
      ]
     },
     "execution_count": 66,
     "metadata": {},
     "output_type": "execute_result"
    }
   ],
   "source": [
    "df2"
   ]
  },
  {
   "cell_type": "code",
   "execution_count": 70,
   "metadata": {},
   "outputs": [
    {
     "data": {
      "text/plain": [
       "production_countries  genres       \n",
       "AR                    comedy            6\n",
       "                      drama             5\n",
       "                      family            5\n",
       "                      music             5\n",
       "                      documentation     3\n",
       "                                       ..\n",
       "US                    history          38\n",
       "                      horror           35\n",
       "                      european         29\n",
       "                      western          26\n",
       "                      war               7\n",
       "Name: genres, Length: 154, dtype: int64"
      ]
     },
     "execution_count": 70,
     "metadata": {},
     "output_type": "execute_result"
    }
   ],
   "source": [
    "genre_count = df2.groupby('production_countries')['genres'].value_counts()\n",
    "genre_count"
   ]
  },
  {
   "cell_type": "code",
   "execution_count": 81,
   "metadata": {},
   "outputs": [
    {
     "data": {
      "text/html": [
       "<div>\n",
       "<style scoped>\n",
       "    .dataframe tbody tr th:only-of-type {\n",
       "        vertical-align: middle;\n",
       "    }\n",
       "\n",
       "    .dataframe tbody tr th {\n",
       "        vertical-align: top;\n",
       "    }\n",
       "\n",
       "    .dataframe thead th {\n",
       "        text-align: right;\n",
       "    }\n",
       "</style>\n",
       "<table border=\"1\" class=\"dataframe\">\n",
       "  <thead>\n",
       "    <tr style=\"text-align: right;\">\n",
       "      <th></th>\n",
       "      <th>production_countries</th>\n",
       "      <th>genres</th>\n",
       "      <th>counts</th>\n",
       "    </tr>\n",
       "  </thead>\n",
       "  <tbody>\n",
       "    <tr>\n",
       "      <th>135</th>\n",
       "      <td>US</td>\n",
       "      <td>family</td>\n",
       "      <td>785</td>\n",
       "    </tr>\n",
       "    <tr>\n",
       "      <th>136</th>\n",
       "      <td>US</td>\n",
       "      <td>comedy</td>\n",
       "      <td>701</td>\n",
       "    </tr>\n",
       "    <tr>\n",
       "      <th>137</th>\n",
       "      <td>US</td>\n",
       "      <td>animation</td>\n",
       "      <td>507</td>\n",
       "    </tr>\n",
       "    <tr>\n",
       "      <th>138</th>\n",
       "      <td>US</td>\n",
       "      <td>fantasy</td>\n",
       "      <td>400</td>\n",
       "    </tr>\n",
       "    <tr>\n",
       "      <th>139</th>\n",
       "      <td>US</td>\n",
       "      <td>drama</td>\n",
       "      <td>387</td>\n",
       "    </tr>\n",
       "    <tr>\n",
       "      <th>...</th>\n",
       "      <td>...</td>\n",
       "      <td>...</td>\n",
       "      <td>...</td>\n",
       "    </tr>\n",
       "    <tr>\n",
       "      <th>127</th>\n",
       "      <td>KR</td>\n",
       "      <td>comedy</td>\n",
       "      <td>1</td>\n",
       "    </tr>\n",
       "    <tr>\n",
       "      <th>103</th>\n",
       "      <td>GB</td>\n",
       "      <td>western</td>\n",
       "      <td>1</td>\n",
       "    </tr>\n",
       "    <tr>\n",
       "      <th>129</th>\n",
       "      <td>KR</td>\n",
       "      <td>family</td>\n",
       "      <td>1</td>\n",
       "    </tr>\n",
       "    <tr>\n",
       "      <th>130</th>\n",
       "      <td>KR</td>\n",
       "      <td>history</td>\n",
       "      <td>1</td>\n",
       "    </tr>\n",
       "    <tr>\n",
       "      <th>128</th>\n",
       "      <td>KR</td>\n",
       "      <td>crime</td>\n",
       "      <td>1</td>\n",
       "    </tr>\n",
       "  </tbody>\n",
       "</table>\n",
       "<p>154 rows × 3 columns</p>\n",
       "</div>"
      ],
      "text/plain": [
       "    production_countries     genres  counts\n",
       "135                   US     family     785\n",
       "136                   US     comedy     701\n",
       "137                   US  animation     507\n",
       "138                   US    fantasy     400\n",
       "139                   US      drama     387\n",
       "..                   ...        ...     ...\n",
       "127                   KR     comedy       1\n",
       "103                   GB    western       1\n",
       "129                   KR     family       1\n",
       "130                   KR    history       1\n",
       "128                   KR      crime       1\n",
       "\n",
       "[154 rows x 3 columns]"
      ]
     },
     "execution_count": 81,
     "metadata": {},
     "output_type": "execute_result"
    }
   ],
   "source": [
    "df_gen = genre_count.reset_index(name='counts')\n",
    "df_gen = df_gen.sort_values(by='counts', ascending=False)\n",
    "df_gen"
   ]
  },
  {
   "cell_type": "code",
   "execution_count": 118,
   "metadata": {},
   "outputs": [
    {
     "data": {
      "image/png": "[encoded data removed]",
      "text/plain": [
       "<Figure size 1200x800 with 1 Axes>"
      ]
     },
     "metadata": {},
     "output_type": "display_data"
    }
   ],
   "source": [
    "import seaborn as sns\n",
    "import matplotlib.pyplot as plt\n",
    "\n",
    "palette = sns.color_palette('husl', len(df_gen['genres'].unique()))\n",
    "\n",
    "sns.set_style(\"whitegrid\")\n",
    "plt.figure(figsize=(12,8))\n",
    "sns.barplot(x='production_countries', y='counts', hue='genres', \n",
    "            data= df_gen, dodge=False, palette='husl')\n",
    "plt.title('Genre Count by Production Country')\n",
    "plt.xlabel('Production Countries')\n",
    "plt.ylabel('Genre Count')\n",
    "plt.legend(loc='upper right')\n",
    "plt.xticks(rotation=90)\n",
    "plt.show()"
   ]
  },
  {
   "cell_type": "code",
   "execution_count": 80,
   "metadata": {},
   "outputs": [],
   "source": [
    "us_gen = df_gen[df_gen['production_countries'] == 'US']"
   ]
  },
  {
   "cell_type": "code",
   "execution_count": 85,
   "metadata": {},
   "outputs": [
    {
     "data": {
      "image/png": "[encoded data removed]",
      "text/plain": [
       "<Figure size 1200x800 with 1 Axes>"
      ]
     },
     "metadata": {},
     "output_type": "display_data"
    }
   ],
   "source": [
    "sns.set_style(\"whitegrid\")\n",
    "plt.figure(figsize=(12,8))\n",
    "sns.barplot(x='counts', y='genres', data=us_gen, color='skyblue')\n",
    "plt.title('Genre Count in the United States')\n",
    "plt.xlabel('Genre Count')\n",
    "plt.ylabel('Genres')\n",
    "plt.show()"
   ]
  }
 ],
 "metadata": {
  "kernelspec": {
   "display_name": "Python 3",
   "language": "python",
   "name": "python3"
  },
  "language_info": {
   "codemirror_mode": {
    "name": "ipython",
    "version": 3
   },
   "file_extension": ".py",
   "mimetype": "text/x-python",
   "name": "python",
   "nbconvert_exporter": "python",
   "pygments_lexer": "ipython3",
   "version": "3.10.9"
  },
  "orig_nbformat": 4
 },
 "nbformat": 4,
 "nbformat_minor": 2
}
